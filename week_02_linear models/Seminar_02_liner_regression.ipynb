{
  "nbformat": 4,
  "nbformat_minor": 0,
  "metadata": {
    "kernelspec": {
      "display_name": "Python 3",
      "language": "python",
      "name": "python3"
    },
    "language_info": {
      "codemirror_mode": {
        "name": "ipython",
        "version": 3
      },
      "file_extension": ".py",
      "mimetype": "text/x-python",
      "name": "python",
      "nbconvert_exporter": "python",
      "pygments_lexer": "ipython3",
      "version": "3.7.4"
    },
    "colab": {
      "name": "Seminar 02 - liner regression_solved.ipynb",
      "provenance": [],
      "toc_visible": true
    }
  },
  "cells": [
    {
      "cell_type": "markdown",
      "metadata": {
        "id": "9qzz8VxBmcCP"
      },
      "source": [
        "# Семинар 2 – Линейные модели"
      ]
    },
    {
      "cell_type": "code",
      "metadata": {
        "id": "OHIDwk_omcCQ"
      },
      "source": [
        "import pandas as pd\n",
        "import numpy as np\n",
        "%matplotlib inline\n",
        "import matplotlib.pyplot as plt\n",
        "import scipy.stats as st\n",
        "import warnings\n",
        "warnings.simplefilter('ignore')"
      ],
      "execution_count": null,
      "outputs": []
    },
    {
      "cell_type": "markdown",
      "metadata": {
        "id": "LIZnmyhM622x"
      },
      "source": [
        "# 1. Постановка задачи"
      ]
    },
    {
      "cell_type": "markdown",
      "metadata": {
        "id": "n0s4kCH5Jfga"
      },
      "source": [
        "![picture](https://drive.google.com/uc?export=view&id=1pNRo9-N2Udjv3AK0uTJ0qCWkk9Ko_9TA)"
      ]
    },
    {
      "cell_type": "markdown",
      "metadata": {
        "id": "2nIJ87Z3K9GI"
      },
      "source": [
        "Где линейная модель - это: $$ \\hat{y} = f(x) = \\theta_0*1 + \\theta_1*x_1 + ... + \\theta_n*x_n = \\theta^T*X$$"
      ]
    },
    {
      "cell_type": "markdown",
      "metadata": {
        "id": "hf_S9ZcpmcCV"
      },
      "source": [
        "Сгенерируем исскуственные данные, на основе функции:\n",
        "$$f(x) = 4x+5$$"
      ]
    },
    {
      "cell_type": "code",
      "metadata": {
        "id": "acxSQ_I3mcCV"
      },
      "source": [
        "def lin_function(x):\n",
        "    return 4*x+5\n",
        "\n",
        "x_true = np.array([-2,2])\n",
        "y_true = lin_function(x_true)\n"
      ],
      "execution_count": null,
      "outputs": []
    },
    {
      "cell_type": "code",
      "metadata": {
        "id": "_hON0uHxmcCY",
        "outputId": "76857a8b-6c52-4d50-9e49-e807a3cadca6",
        "colab": {
          "base_uri": "https://localhost:8080/",
          "height": 265
        }
      },
      "source": [
        "plt.plot(x_true, y_true, linewidth=1)\n",
        "plt.show()"
      ],
      "execution_count": null,
      "outputs": [
        {
          "output_type": "display_data",
          "data": {
            "image/png": "[encoded data removed]",
            "text/plain": [
              "<Figure size 432x288 with 1 Axes>"
            ]
          },
          "metadata": {
            "tags": [],
            "needs_background": "light"
          }
        }
      ]
    },
    {
      "cell_type": "code",
      "metadata": {
        "id": "cyJnzIL-mcCc"
      },
      "source": [
        "n = 100000\n",
        "x = np.random.rand(n,1)*4-2\n",
        "e = np.random.rand(n,1)*4-2\n",
        "y = lin_function(x) + e\n"
      ],
      "execution_count": null,
      "outputs": []
    },
    {
      "cell_type": "code",
      "metadata": {
        "id": "kyuP8fdjmcCh",
        "outputId": "6174d540-349f-40ae-b511-d6d5bec1da5c",
        "colab": {
          "base_uri": "https://localhost:8080/",
          "height": 265
        }
      },
      "source": [
        "plt.scatter(x, y, color='g')\n",
        "plt.plot(x_true, y_true, linewidth=1)\n",
        "plt.show()"
      ],
      "execution_count": null,
      "outputs": [
        {
          "output_type": "display_data",
          "data": {
            "image/png": "[encoded data removed]",
            "text/plain": [
              "<Figure size 432x288 with 1 Axes>"
            ]
          },
          "metadata": {
            "tags": [],
            "needs_background": "light"
          }
        }
      ]
    },
    {
      "cell_type": "markdown",
      "metadata": {
        "id": "B0RU2rp7660u"
      },
      "source": [
        "# 2. Метрики"
      ]
    },
    {
      "cell_type": "markdown",
      "metadata": {
        "id": "0AyXrS8NuU7s"
      },
      "source": [
        "Mean Absoulte Error:\n",
        "$$MAE = \\frac1N \\sum_{i = 1}^N|f(x_i) - y_i| = \\frac1N \\sum_{i = 1}^N|\\hat y_i - y_i| = \\frac1N || \\hat Y - Y||_1$$\n",
        "\n",
        "Mean Sqared Error:\n",
        "$$MSE = \\frac1N \\sum_{i = 1}^N(f(x_i) - y_i)^2 = \\frac1N \\sum_{i = 1}^N(\\hat y_i - y_i)^2 = \\frac1N ||\\hat Y - Y||_2$$\n"
      ]
    },
    {
      "cell_type": "markdown",
      "metadata": {
        "id": "diTgxQhTk7p5"
      },
      "source": [
        "Почему работаем с MSE?"
      ]
    },
    {
      "cell_type": "markdown",
      "metadata": {
        "id": "jlZoGsHumcCj"
      },
      "source": [
        "# 3. Аналитический метод поиска минимума по MCE\n",
        "\n",
        "$$MSE -> min $$\n",
        "\n",
        "$$MSE = \\frac1N \\sum_{i = 1}^N(\\hat y_i - y_i)^2 = \\frac1N \\sum_{i = 1}^N(\\theta_i * x_i - y_i)^2 = \\frac1N ||X \\theta - Y||_2 = \\frac1N (X\\theta - Y)^T*(X\\theta - Y) $$\n",
        "\n",
        "\n",
        "\n",
        "$$ \\frac{d}{d\\theta}[\\frac1N (X\\theta - Y)^T*(X\\theta - Y)] =  \\frac1N \\frac{d}{d\\theta}[Y^TY - 2Y^TX\\theta+\\theta^TX^TX\\theta]  $$\n",
        "\n",
        "$$\\hat \\theta = \\bigl(X^T \\cdot X  \\bigr)^{-1} \\cdot X^T \\cdot y $$"
      ]
    },
    {
      "cell_type": "code",
      "metadata": {
        "id": "DpPN_x3LmcCk"
      },
      "source": [
        "x_matrix = np.c_[np.ones((n,1)),x]"
      ],
      "execution_count": null,
      "outputs": []
    },
    {
      "cell_type": "code",
      "metadata": {
        "id": "Xyl_DlNxmcCm",
        "outputId": "ab36096a-8fc5-44af-dfb8-aab0b46772a0",
        "colab": {
          "base_uri": "https://localhost:8080/",
          "height": 51
        }
      },
      "source": [
        "%%time\n",
        "thetha_matrix = np.linalg.inv(x_matrix.T.dot(x_matrix)).dot(x_matrix.T).dot(y)  #"
      ],
      "execution_count": null,
      "outputs": [
        {
          "output_type": "stream",
          "text": [
            "CPU times: user 3.77 ms, sys: 3.96 ms, total: 7.73 ms\n",
            "Wall time: 5.71 ms\n"
          ],
          "name": "stdout"
        }
      ]
    },
    {
      "cell_type": "markdown",
      "metadata": {
        "id": "nXOGL_565vuT"
      },
      "source": [
        "Обратите внимание на время работы"
      ]
    },
    {
      "cell_type": "code",
      "metadata": {
        "id": "_KdJY9u3mcCp",
        "outputId": "c7cb257d-bc69-43f6-e17e-f97f8bd856fd",
        "colab": {
          "base_uri": "https://localhost:8080/",
          "height": 34
        }
      },
      "source": [
        "thetha_matrix.T[0].tolist()"
      ],
      "execution_count": null,
      "outputs": [
        {
          "output_type": "execute_result",
          "data": {
            "text/plain": [
              "[5.014856854853925, 3.991781569069331]"
            ]
          },
          "metadata": {
            "tags": []
          },
          "execution_count": 18
        }
      ]
    },
    {
      "cell_type": "code",
      "metadata": {
        "id": "ttSXH751mcCs",
        "outputId": "7ff90f58-074c-4b08-c6af-d86489d171fe",
        "colab": {
          "base_uri": "https://localhost:8080/",
          "height": 51
        }
      },
      "source": [
        "print(\"Свободный член: {[0][0]:.7}\".format(thetha_matrix.T))\n",
        "print(\"Коэфициент: {[0][1]:.7}\".format(thetha_matrix.T))"
      ],
      "execution_count": null,
      "outputs": [
        {
          "output_type": "stream",
          "text": [
            "Свободный член: 5.165885\n",
            "Коэфициент: 4.148497\n"
          ],
          "name": "stdout"
        }
      ]
    },
    {
      "cell_type": "code",
      "metadata": {
        "id": "TnTy0lWrmcCu"
      },
      "source": [
        "from sklearn.metrics import mean_squared_error\n",
        "from sklearn.linear_model import LinearRegression"
      ],
      "execution_count": null,
      "outputs": []
    },
    {
      "cell_type": "markdown",
      "metadata": {
        "id": "y9ZdhyYWBoHn"
      },
      "source": [
        "параметры"
      ]
    },
    {
      "cell_type": "code",
      "metadata": {
        "id": "NXCSCMOkmcCw",
        "outputId": "9419e3e1-e436-42c3-881b-b6b0ed90f271",
        "colab": {
          "base_uri": "https://localhost:8080/",
          "height": 51
        }
      },
      "source": [
        "%%time\n",
        "lr = LinearRegression()\n",
        "lr.fit(x,y);"
      ],
      "execution_count": null,
      "outputs": [
        {
          "output_type": "stream",
          "text": [
            "CPU times: user 6.33 ms, sys: 372 µs, total: 6.7 ms\n",
            "Wall time: 25 ms\n"
          ],
          "name": "stdout"
        }
      ]
    },
    {
      "cell_type": "code",
      "metadata": {
        "id": "p0NPdTrqmcCz",
        "outputId": "d05a5cb2-065b-4f5b-847b-65ed8bb87669",
        "colab": {
          "base_uri": "https://localhost:8080/",
          "height": 51
        }
      },
      "source": [
        "print(\"Свободный член: {:.7}\".format(lr.intercept_[0]))\n",
        "print(\"Коэфициент: {:.7}\".format(lr.coef_[0][0]))"
      ],
      "execution_count": null,
      "outputs": [
        {
          "output_type": "stream",
          "text": [
            "Свободный член: 5.165885\n",
            "Коэфициент: 4.148497\n"
          ],
          "name": "stdout"
        }
      ]
    },
    {
      "cell_type": "code",
      "metadata": {
        "id": "w1jyDLd8mcC1",
        "outputId": "25b45242-81a8-45b5-e58c-bd59497433dd",
        "colab": {
          "base_uri": "https://localhost:8080/",
          "height": 267
        }
      },
      "source": [
        "plt.scatter(x, y, color='g')\n",
        "plt.scatter(x, lr.predict(x), color='r')\n",
        "plt.plot(x_true, y_true, linewidth=1)\n",
        "plt.show()"
      ],
      "execution_count": null,
      "outputs": [
        {
          "output_type": "display_data",
          "data": {
            "image/png": "[encoded data removed]",
            "text/plain": [
              "<Figure size 432x288 with 1 Axes>"
            ]
          },
          "metadata": {
            "tags": [],
            "needs_background": "light"
          }
        }
      ]
    },
    {
      "cell_type": "markdown",
      "metadata": {
        "id": "8FnBwOCBmcC4"
      },
      "source": [
        " # 4. Градиентный спуск\n",
        "\n",
        "$$\\theta^{(t+1)} = \\theta^{(t)} - lr\\cdot \\nabla MSE(\\theta^{(t)}),$$\n",
        "где $lr$ — длина шага градиентного спуска (learning rate).\n",
        "\n",
        "$$\\nabla MSE(\\theta)= \\frac{2}{N} X^T \\cdot \\bigl(X \\cdot \\theta - Y \\bigr) $$"
      ]
    },
    {
      "cell_type": "code",
      "metadata": {
        "id": "Tc-2s7b1mcC5",
        "outputId": "d34c2b5a-e604-47e8-82c2-b48c4c39151d",
        "colab": {
          "base_uri": "https://localhost:8080/",
          "height": 333
        }
      },
      "source": [
        "%%time\n",
        "lr = 0.1  # learning rate\n",
        "n_iterations = 100\n",
        "\n",
        "\n",
        "theta = np.random.randn(2,1)  # random initialization\n",
        "\n",
        "plt.scatter(x, y, color='g')\n",
        "\n",
        "for iteration in range(n_iterations):\n",
        "    if iteration < 10:\n",
        "        plt.plot(x_true, x_true*theta[1]+theta[0], linewidth=1, color='r')\n",
        "    gradients = 2/n * x_matrix.T.dot(x_matrix.dot(theta) - y) #\n",
        "    theta = theta - lr * gradients  #\n",
        "\n",
        "plt.plot(x_true, y_true, linewidth=1)\n",
        "plt.show()\n",
        "\n",
        "print(theta)"
      ],
      "execution_count": null,
      "outputs": [
        {
          "output_type": "display_data",
          "data": {
            "image/png": "[encoded data removed]",
            "text/plain": [
              "<Figure size 432x288 with 1 Axes>"
            ]
          },
          "metadata": {
            "tags": [],
            "needs_background": "light"
          }
        },
        {
          "output_type": "stream",
          "text": [
            "[[5.15860585]\n",
            " [3.89037025]]\n",
            "CPU times: user 160 ms, sys: 0 ns, total: 160 ms\n",
            "Wall time: 159 ms\n"
          ],
          "name": "stdout"
        }
      ]
    },
    {
      "cell_type": "markdown",
      "metadata": {
        "id": "ePexWV3YmcC7"
      },
      "source": [
        "## Слишком маленький шаг обучения (learning rate)"
      ]
    },
    {
      "cell_type": "code",
      "metadata": {
        "id": "dtjoXyJpmcC8",
        "outputId": "f7cc8630-c8c8-4bc4-f28b-92a0fe31254e",
        "colab": {
          "base_uri": "https://localhost:8080/",
          "height": 267
        }
      },
      "source": [
        "lr = 0.01  # learning rate\n",
        "n_iterations = 100\n",
        "\n",
        "\n",
        "theta = np.random.randn(2,1)  # random initialization\n",
        "\n",
        "plt.scatter(x, y, color='g')\n",
        "\n",
        "for iteration in range(n_iterations):\n",
        "    if iteration < 10:\n",
        "        plt.plot(x_true, x_true*theta[1]+theta[0], linewidth=1, color='r')\n",
        "    gradients = 2/n * x_matrix.T.dot(x_matrix.dot(theta) - y)\n",
        "    theta = theta - lr * gradients\n",
        "\n",
        "plt.plot(x_true, y_true, linewidth=1)\n",
        "plt.show()"
      ],
      "execution_count": null,
      "outputs": [
        {
          "output_type": "display_data",
          "data": {
            "image/png": "[encoded data removed]",
            "text/plain": [
              "<Figure size 432x288 with 1 Axes>"
            ]
          },
          "metadata": {
            "tags": [],
            "needs_background": "light"
          }
        }
      ]
    },
    {
      "cell_type": "markdown",
      "metadata": {
        "id": "snN6fStEmcC-"
      },
      "source": [
        "## Слишком большой шаг обучения (learning rate)"
      ]
    },
    {
      "cell_type": "code",
      "metadata": {
        "id": "4FZczKPTmcC-",
        "outputId": "b1ef00b7-e39d-485a-fe59-c4bcc9643ca6",
        "colab": {
          "base_uri": "https://localhost:8080/",
          "height": 265
        }
      },
      "source": [
        "lr = 1.01  # learning rate\n",
        "n_iterations = 100\n",
        "\n",
        "\n",
        "theta = np.random.randn(2,1)  # random initialization\n",
        "\n",
        "plt.scatter(x, y, color='g')\n",
        "\n",
        "for iteration in range(n_iterations):\n",
        "    if iteration < 10:\n",
        "        plt.plot(x_true, x_true*theta[1]+theta[0], linewidth=1, color='r')\n",
        "    gradients = 2/n * x_matrix.T.dot(x_matrix.dot(theta) - y)\n",
        "    theta = theta - lr * gradients\n",
        "\n",
        "plt.plot(x_true, y_true, linewidth=1)\n",
        "plt.show()"
      ],
      "execution_count": null,
      "outputs": [
        {
          "output_type": "display_data",
          "data": {
            "image/png": "[encoded data removed]",
            "text/plain": [
              "<Figure size 432x288 with 1 Axes>"
            ]
          },
          "metadata": {
            "tags": [],
            "needs_background": "light"
          }
        }
      ]
    },
    {
      "cell_type": "markdown",
      "metadata": {
        "id": "oXNYyy0omcDA"
      },
      "source": [
        "## Уменьшение шага на каждой итерации"
      ]
    },
    {
      "cell_type": "code",
      "metadata": {
        "id": "msDjl-z7mcDA",
        "outputId": "d6b91157-234f-41a3-cf5f-abc21251d671",
        "colab": {
          "base_uri": "https://localhost:8080/",
          "height": 51
        }
      },
      "source": [
        "lr = 1  # learning rate\n",
        "n_iterations = 1000\n",
        "\n",
        "theta = np.random.randn(2,1)  # random initialization\n",
        "\n",
        "for iteration in range(n_iterations):\n",
        "    gradients = 2/n * x_matrix.T.dot(x_matrix.dot(theta) - y)\n",
        "    theta = theta - (lr/(iteration+1)) * gradients  #\n",
        "\n",
        "\n",
        "print(theta)"
      ],
      "execution_count": null,
      "outputs": [
        {
          "output_type": "stream",
          "text": [
            "[[5.16588465]\n",
            " [4.14849683]]\n"
          ],
          "name": "stdout"
        }
      ]
    },
    {
      "cell_type": "markdown",
      "metadata": {
        "id": "u6mMSXaamcDD"
      },
      "source": [
        "\n",
        "\n",
        "Learning rate - гипперпараметр, и можно воспользоваться GridSearchCV, однако чтобы не учить каждый раз такое кол-во итераций, мы можем измерять норму градиента, и прекращать спуск, когда он \"затух\""
      ]
    },
    {
      "cell_type": "code",
      "metadata": {
        "id": "dSlYo4-dmcDE",
        "outputId": "99176253-b935-49f5-cdfc-3f83bc49b725",
        "colab": {
          "base_uri": "https://localhost:8080/",
          "height": 68
        }
      },
      "source": [
        "lr = 1  # learning rate\n",
        "n_iterations = 1000\n",
        "tol = 0.00001\n",
        "\n",
        "theta = np.random.randn(2,1)  # random initialization\n",
        "\n",
        "for iteration in range(n_iterations):\n",
        "    gradients = 2/n * x_matrix.T.dot(x_matrix.dot(theta) - y)\n",
        "    if np.linalg.norm(gradients) < tol:\n",
        "        break\n",
        "    theta = theta - (lr/(iteration+1)) * gradients\n",
        "\n",
        "print('Градиент затух на {} итерации '.format(iteration))\n",
        "print(theta)"
      ],
      "execution_count": null,
      "outputs": [
        {
          "output_type": "stream",
          "text": [
            "Градиент затух на 172 итерации \n",
            "[[5.16588547]\n",
            " [4.14849302]]\n"
          ],
          "name": "stdout"
        }
      ]
    },
    {
      "cell_type": "markdown",
      "metadata": {
        "id": "sT8I2oHY_3FY"
      },
      "source": [
        "__Реализация в Scikit-Learn отсутствует__\n",
        "  \n",
        "  "
      ]
    },
    {
      "cell_type": "markdown",
      "metadata": {
        "id": "MYNgYyaAmcDG"
      },
      "source": [
        "# 5. Cтохастический градиентный спуск  "
      ]
    },
    {
      "cell_type": "markdown",
      "metadata": {
        "id": "JQkKpCQpFH5t"
      },
      "source": [
        "у среднего случайных подвыборок то же что и у всех данных"
      ]
    },
    {
      "cell_type": "code",
      "metadata": {
        "id": "jxVa6nfSmcDG",
        "outputId": "0780bbfa-78a7-49b8-91f0-a2eb349d7c91",
        "colab": {
          "base_uri": "https://localhost:8080/",
          "height": 51
        }
      },
      "source": [
        "n_epochs = 100\n",
        "\n",
        "def learning_schedule(t):\n",
        "    return t0 / (t + t1)\n",
        "\n",
        "t0, t1 = 5, 100  # learning schedule hyperparameters\n",
        "\n",
        "\n",
        "theta = np.random.randn(2,1)  # random initialization\n",
        "\n",
        "for epoch in range(n_epochs):\n",
        "    for i in range(n):\n",
        "        random_index = np.random.randint(n)\n",
        "        xi = x_matrix[random_index:random_index+1]\n",
        "        yi = y[random_index:random_index+1]\n",
        "        gradients = 2 * xi.T.dot(xi.dot(theta) - yi)\n",
        "        eta = learning_schedule(epoch * n + i)\n",
        "        theta = theta - lr * gradients\n",
        "print(theta)"
      ],
      "execution_count": null,
      "outputs": [
        {
          "output_type": "stream",
          "text": [
            "[[5.17039667]\n",
            " [4.15116695]]\n"
          ],
          "name": "stdout"
        }
      ]
    },
    {
      "cell_type": "markdown",
      "metadata": {
        "id": "2bitNLOsPF9f"
      },
      "source": [
        "# 6. Пакетный градиентный спуск  "
      ]
    },
    {
      "cell_type": "code",
      "metadata": {
        "id": "kW5gIJ5-GBwM",
        "outputId": "ac6bc9ae-777c-4bd8-90e1-08c1e791af0a",
        "colab": {
          "base_uri": "https://localhost:8080/",
          "height": 51
        }
      },
      "source": [
        "n_epochs = 100\n",
        "\n",
        "def learning_schedule(t):\n",
        "    return t0 / (t + t1)\n",
        "\n",
        "t0, t1 = 5, 100  # learning schedule hyperparameters\n",
        "\n",
        "\n",
        "theta = np.random.randn(2,1)  # random initialization\n",
        "\n",
        "for epoch in range(n_epochs):\n",
        "    for i in range(n):\n",
        "        random_index = np.random.randint(n)\n",
        "        xi = x_matrix[random_index:random_index+10]\n",
        "        yi = y[random_index:random_index+10]\n",
        "        gradients = 2 * xi.T.dot(xi.dot(theta) - yi)\n",
        "        lr = learning_schedule(epoch * n + i)\n",
        "        theta = theta - lr * gradients\n",
        "print(theta)"
      ],
      "execution_count": null,
      "outputs": [
        {
          "output_type": "stream",
          "text": [
            "[[5.15661728]\n",
            " [4.17774024]]\n"
          ],
          "name": "stdout"
        }
      ]
    },
    {
      "cell_type": "code",
      "metadata": {
        "id": "LESfaXdDmcDJ"
      },
      "source": [
        "from sklearn.linear_model import SGDRegressor"
      ],
      "execution_count": null,
      "outputs": []
    },
    {
      "cell_type": "code",
      "metadata": {
        "id": "ZW7K_6sTmcDL",
        "outputId": "832b913f-0da9-4cb7-e2b6-99559bcc9321",
        "colab": {
          "base_uri": "https://localhost:8080/",
          "height": 34
        }
      },
      "source": [
        "sgd = SGDRegressor(tol=0.0001)\n",
        "#The stopping criterion. If it is not None, the iterations will stop when (loss > previous_loss - tol).\n",
        "sgd.fit(x,y)\n",
        "sgd.intercept_, sgd.coef_"
      ],
      "execution_count": null,
      "outputs": [
        {
          "output_type": "execute_result",
          "data": {
            "text/plain": [
              "(array([5.15634056]), array([4.14339689]))"
            ]
          },
          "metadata": {
            "tags": []
          },
          "execution_count": 27
        }
      ]
    },
    {
      "cell_type": "markdown",
      "metadata": {
        "id": "pU1iVEANmcDN"
      },
      "source": [
        "# 7. Функции потерь в регрессии"
      ]
    },
    {
      "cell_type": "code",
      "metadata": {
        "id": "BwP8qYZFHpku",
        "outputId": "eca0813e-1c95-4029-da23-624da6933ec5",
        "colab": {
          "base_uri": "https://localhost:8080/",
          "height": 34
        }
      },
      "source": [
        "from google.colab import drive\n",
        "drive.mount('/content/gdrive/')"
      ],
      "execution_count": null,
      "outputs": [
        {
          "output_type": "stream",
          "text": [
            "Mounted at /content/gdrive/\n"
          ],
          "name": "stdout"
        }
      ]
    },
    {
      "cell_type": "code",
      "metadata": {
        "id": "Ub-buTZOmcDN"
      },
      "source": [
        "with open('./gdrive/My Drive/Colab Notebooks/Семинар 3/data_preprocessed.json') as file:\n",
        "    X = pd.read_json(file)"
      ],
      "execution_count": null,
      "outputs": []
    },
    {
      "cell_type": "code",
      "metadata": {
        "id": "u4L6rangmcDQ"
      },
      "source": [
        "X_subset = X[[7, 15]].values\n",
        "# add two outliers\n",
        "X_subset_modified = np.vstack((X_subset, [[1, 90], [2, 50]]))"
      ],
      "execution_count": null,
      "outputs": []
    },
    {
      "cell_type": "code",
      "metadata": {
        "id": "8wKTaFX3mcDV"
      },
      "source": [
        "def scatter_points_and_plot_line_MSE(X_subset):\n",
        "    plt.scatter(X_subset[:, 0], X_subset[:, 1])\n",
        "    lr = LinearRegression()\n",
        "    lr.fit(X_subset[:, 0][:, None], X_subset[:, 1])\n",
        "    grid = np.linspace(0, 2, 100)\n",
        "    line = lr.predict(grid[:, None])\n",
        "    plt.plot(grid, line)"
      ],
      "execution_count": null,
      "outputs": []
    },
    {
      "cell_type": "code",
      "metadata": {
        "id": "HOpKg5uqmcDY",
        "outputId": "8158f346-2ba1-4a0a-9111-f2ad6ba7d4ef",
        "colab": {
          "base_uri": "https://localhost:8080/",
          "height": 355
        }
      },
      "source": [
        "plt.figure(figsize=(20, 5))\n",
        "plt.subplot(1, 2, 1)\n",
        "scatter_points_and_plot_line_MSE(X_subset)\n",
        "plt.ylim(-20, 100)\n",
        "plt.xlabel(\"x\")\n",
        "plt.ylabel(\"y\")\n",
        "plt.subplot(1, 2, 2)\n",
        "scatter_points_and_plot_line_MSE(X_subset_modified)\n",
        "plt.ylim(-20, 100)\n",
        "plt.xlabel(\"x\")"
      ],
      "execution_count": null,
      "outputs": [
        {
          "output_type": "execute_result",
          "data": {
            "text/plain": [
              "Text(0.5, 0, 'x')"
            ]
          },
          "metadata": {
            "tags": []
          },
          "execution_count": 35
        },
        {
          "output_type": "display_data",
          "data": {
            "image/png": "[encoded data removed]",
            "text/plain": [
              "<Figure size 1440x360 with 2 Axes>"
            ]
          },
          "metadata": {
            "tags": [],
            "needs_background": "light"
          }
        }
      ]
    },
    {
      "cell_type": "markdown",
      "metadata": {
        "id": "MMDn4-x3mcDa"
      },
      "source": [
        "Из-за шумовых объектов прямая достаточно сильно изменила наклон. Поэтому вместо MSE часто используют Mean Absoulte Error:\n",
        "$$L(y_i, a(x_i)) = |y_i - a(x_i)|$$\n",
        "\n",
        "Теперь обучим регрессию, оптимизируя MAE. В sklearn такая регрессия не реализована, но можно использовать модуль statsmodels"
      ]
    },
    {
      "cell_type": "code",
      "metadata": {
        "id": "0eiecX9zmcDb",
        "outputId": "b8862893-6ac2-4b60-bebd-2e1a50dd372d",
        "colab": {
          "base_uri": "https://localhost:8080/",
          "height": 292
        }
      },
      "source": [
        "!pip install statsmodels==0.11.1\n",
        "import statsmodels.api as sm\n",
        "import statsmodels.formula.api as smf"
      ],
      "execution_count": null,
      "outputs": [
        {
          "output_type": "stream",
          "text": [
            "Collecting statsmodels==0.11.1\n",
            "\u001b[?25l  Downloading https://files.pythonhosted.org/packages/cb/83/540fd83238a18abe6c2d280fa8e489ac5fcefa1f370f0ca1acd16ae1b860/statsmodels-0.11.1-cp36-cp36m-manylinux1_x86_64.whl (8.7MB)\n",
            "\u001b[K     |████████████████████████████████| 8.7MB 2.6MB/s \n",
            "\u001b[?25hRequirement already satisfied: scipy>=1.0 in /usr/local/lib/python3.6/dist-packages (from statsmodels==0.11.1) (1.4.1)\n",
            "Requirement already satisfied: patsy>=0.5 in /usr/local/lib/python3.6/dist-packages (from statsmodels==0.11.1) (0.5.1)\n",
            "Requirement already satisfied: pandas>=0.21 in /usr/local/lib/python3.6/dist-packages (from statsmodels==0.11.1) (1.1.2)\n",
            "Requirement already satisfied: numpy>=1.14 in /usr/local/lib/python3.6/dist-packages (from statsmodels==0.11.1) (1.18.5)\n",
            "Requirement already satisfied: six in /usr/local/lib/python3.6/dist-packages (from patsy>=0.5->statsmodels==0.11.1) (1.15.0)\n",
            "Requirement already satisfied: pytz>=2017.2 in /usr/local/lib/python3.6/dist-packages (from pandas>=0.21->statsmodels==0.11.1) (2018.9)\n",
            "Requirement already satisfied: python-dateutil>=2.7.3 in /usr/local/lib/python3.6/dist-packages (from pandas>=0.21->statsmodels==0.11.1) (2.8.1)\n",
            "Installing collected packages: statsmodels\n",
            "  Found existing installation: statsmodels 0.10.2\n",
            "    Uninstalling statsmodels-0.10.2:\n",
            "      Successfully uninstalled statsmodels-0.10.2\n",
            "Successfully installed statsmodels-0.11.1\n"
          ],
          "name": "stdout"
        }
      ]
    },
    {
      "cell_type": "code",
      "metadata": {
        "id": "4d86JGdjmcDd",
        "outputId": "61067b20-b303-461a-e24f-c71cfdd9bd97",
        "colab": {
          "base_uri": "https://localhost:8080/",
          "height": 355
        }
      },
      "source": [
        "plt.figure(figsize=(20, 5))\n",
        "plt.ylabel(\"y\")\n",
        "mod = smf.quantreg('f15 ~ f7', pd.DataFrame(data=X_subset_modified, columns=[\"f7\", \"f15\"])) # задаеем зависимость и передаем данные\n",
        "res = mod.fit(q=0.5)\n",
        "plt.scatter(X_subset_modified[:, 0], X_subset_modified[:, 1])   # визуализируем точки\n",
        "grid = np.linspace(0, 2, 100)\n",
        "plt.plot(grid, grid * res.params[\"f7\"] + res.params[\"Intercept\"])   # визуализируем прямую\n",
        "plt.ylim(-20, 100)\n",
        "plt.xlabel(\"x\")"
      ],
      "execution_count": null,
      "outputs": [
        {
          "output_type": "execute_result",
          "data": {
            "text/plain": [
              "Text(0.5, 0, 'x')"
            ]
          },
          "metadata": {
            "tags": []
          },
          "execution_count": 37
        },
        {
          "output_type": "display_data",
          "data": {
            "image/png": "[encoded data removed]",
            "text/plain": [
              "<Figure size 1440x360 with 1 Axes>"
            ]
          },
          "metadata": {
            "tags": [],
            "needs_background": "light"
          }
        }
      ]
    },
    {
      "cell_type": "markdown",
      "metadata": {
        "id": "8vSAFMCamcDf"
      },
      "source": [
        "Прямая не изменила направление из-за выбросов."
      ]
    },
    {
      "cell_type": "markdown",
      "metadata": {
        "id": "3NKHNfifmcDf"
      },
      "source": [
        "Попробуем добавить больше шумовых объектов:"
      ]
    },
    {
      "cell_type": "code",
      "metadata": {
        "id": "7Ewc1EcqmcDg"
      },
      "source": [
        "X_subset_modified_twice = np.vstack((\n",
        "    X_subset_modified, \n",
        "    np.random.randint(5, size=60).reshape(-1, 2) * [1, 30],\n",
        "))"
      ],
      "execution_count": null,
      "outputs": []
    },
    {
      "cell_type": "code",
      "metadata": {
        "id": "_la16mvJmcDi",
        "outputId": "42f21efa-30f0-4a42-9518-acc560040133",
        "colab": {
          "base_uri": "https://localhost:8080/",
          "height": 355
        }
      },
      "source": [
        "plt.figure(figsize=(20, 5))\n",
        "plt.ylabel(\"y\")\n",
        "mod = smf.quantreg('f15 ~ f7', pd.DataFrame(data=X_subset_modified_twice, columns=[\"f7\", \"f15\"])) # задаеем зависимость и передаем данные\n",
        "res = mod.fit(q=0.5)\n",
        "plt.scatter(X_subset_modified_twice[:, 0], X_subset_modified_twice[:, 1])   # визуализируем точки\n",
        "grid = np.linspace(0, 4, 200)\n",
        "plt.plot(grid, grid * res.params[\"f7\"] + res.params[\"Intercept\"])   # визуализируем прямую\n",
        "plt.ylim(-20, 100)\n",
        "plt.xlabel(\"x\")"
      ],
      "execution_count": null,
      "outputs": [
        {
          "output_type": "execute_result",
          "data": {
            "text/plain": [
              "Text(0.5, 0, 'x')"
            ]
          },
          "metadata": {
            "tags": []
          },
          "execution_count": 39
        },
        {
          "output_type": "display_data",
          "data": {
            "image/png": "[encoded data removed]",
            "text/plain": [
              "<Figure size 1440x360 with 1 Axes>"
            ]
          },
          "metadata": {
            "tags": [],
            "needs_background": "light"
          }
        }
      ]
    },
    {
      "cell_type": "markdown",
      "metadata": {
        "id": "nZFZxhP_mcDk"
      },
      "source": [
        "Прямая изменила наклон, когда мы добавили 30 (почти 15%) шумовых точек."
      ]
    },
    {
      "cell_type": "markdown",
      "metadata": {
        "id": "vb9PISBSmcDl"
      },
      "source": [
        "# 7. Мультиколлинеарность и регуляризация"
      ]
    },
    {
      "cell_type": "code",
      "metadata": {
        "id": "Ss8hAc3tmcDl"
      },
      "source": [
        "# !pip install seaborn\n",
        "import seaborn as sns\n",
        "\n",
        "from sklearn.model_selection import train_test_split\n",
        "from sklearn.linear_model import LinearRegression\n",
        "from sklearn.metrics import mean_squared_error, r2_score"
      ],
      "execution_count": null,
      "outputs": []
    },
    {
      "cell_type": "markdown",
      "metadata": {
        "id": "W_sH6Fc3mcDn"
      },
      "source": [
        "Для оценка качества работы наших алгоритмов будем использовать коэфициент детерминации:\n",
        "\n",
        "$$R^2 = 1 - \\frac{\\sum_i (y_i - a(x_i))^2}{\\sum_i (y_i - \\overline{y}_i)^2}$$\n"
      ]
    },
    {
      "cell_type": "markdown",
      "metadata": {
        "id": "zA8bkrWvmcDo"
      },
      "source": [
        "## Решение задачи МНК"
      ]
    },
    {
      "cell_type": "code",
      "metadata": {
        "id": "9llkMzDbmcDo"
      },
      "source": [
        "def my_linear_regression(X_train, Y_train):\n",
        "    return np.linalg.inv(X_train.T.dot(X_train)).dot(X_train.T).dot(y_train)"
      ],
      "execution_count": null,
      "outputs": []
    },
    {
      "cell_type": "code",
      "metadata": {
        "id": "MJ-XNEGgmcDq"
      },
      "source": [
        "def predict(X, w):\n",
        "    return np.dot(X, w)"
      ],
      "execution_count": null,
      "outputs": []
    },
    {
      "cell_type": "markdown",
      "metadata": {
        "id": "_doeHNKImcDs"
      },
      "source": [
        "## Загрузим датасет"
      ]
    },
    {
      "cell_type": "markdown",
      "metadata": {
        "id": "skgoT2zPmcDs"
      },
      "source": [
        "https://habrahabr.ru/post/206306/"
      ]
    },
    {
      "cell_type": "code",
      "metadata": {
        "id": "dKXZ4Lf9mcDt",
        "outputId": "02c966de-98d9-4fdd-9d10-7e6e4e8c9d4a",
        "colab": {
          "base_uri": "https://localhost:8080/",
          "height": 375
        }
      },
      "source": [
        "data = pd.read_csv('energy_efficiency.csv')"
      ],
      "execution_count": null,
      "outputs": [
        {
          "output_type": "error",
          "ename": "FileNotFoundError",
          "evalue": "ignored",
          "traceback": [
            "\u001b[0;31m---------------------------------------------------------------------------\u001b[0m",
            "\u001b[0;31mFileNotFoundError\u001b[0m                         Traceback (most recent call last)",
            "\u001b[0;32m<ipython-input-42-669f2bb53ecd>\u001b[0m in \u001b[0;36m<module>\u001b[0;34m()\u001b[0m\n\u001b[0;32m----> 1\u001b[0;31m \u001b[0mdata\u001b[0m \u001b[0;34m=\u001b[0m \u001b[0mpd\u001b[0m\u001b[0;34m.\u001b[0m\u001b[0mread_csv\u001b[0m\u001b[0;34m(\u001b[0m\u001b[0;34m'energy_efficiency.csv'\u001b[0m\u001b[0;34m)\u001b[0m\u001b[0;34m\u001b[0m\u001b[0;34m\u001b[0m\u001b[0m\n\u001b[0m",
            "\u001b[0;32m/usr/local/lib/python3.6/dist-packages/pandas/io/parsers.py\u001b[0m in \u001b[0;36mread_csv\u001b[0;34m(filepath_or_buffer, sep, delimiter, header, names, index_col, usecols, squeeze, prefix, mangle_dupe_cols, dtype, engine, converters, true_values, false_values, skipinitialspace, skiprows, skipfooter, nrows, na_values, keep_default_na, na_filter, verbose, skip_blank_lines, parse_dates, infer_datetime_format, keep_date_col, date_parser, dayfirst, cache_dates, iterator, chunksize, compression, thousands, decimal, lineterminator, quotechar, quoting, doublequote, escapechar, comment, encoding, dialect, error_bad_lines, warn_bad_lines, delim_whitespace, low_memory, memory_map, float_precision)\u001b[0m\n\u001b[1;32m    684\u001b[0m     )\n\u001b[1;32m    685\u001b[0m \u001b[0;34m\u001b[0m\u001b[0m\n\u001b[0;32m--> 686\u001b[0;31m     \u001b[0;32mreturn\u001b[0m \u001b[0m_read\u001b[0m\u001b[0;34m(\u001b[0m\u001b[0mfilepath_or_buffer\u001b[0m\u001b[0;34m,\u001b[0m \u001b[0mkwds\u001b[0m\u001b[0;34m)\u001b[0m\u001b[0;34m\u001b[0m\u001b[0;34m\u001b[0m\u001b[0m\n\u001b[0m\u001b[1;32m    687\u001b[0m \u001b[0;34m\u001b[0m\u001b[0m\n\u001b[1;32m    688\u001b[0m \u001b[0;34m\u001b[0m\u001b[0m\n",
            "\u001b[0;32m/usr/local/lib/python3.6/dist-packages/pandas/io/parsers.py\u001b[0m in \u001b[0;36m_read\u001b[0;34m(filepath_or_buffer, kwds)\u001b[0m\n\u001b[1;32m    450\u001b[0m \u001b[0;34m\u001b[0m\u001b[0m\n\u001b[1;32m    451\u001b[0m     \u001b[0;31m# Create the parser.\u001b[0m\u001b[0;34m\u001b[0m\u001b[0;34m\u001b[0m\u001b[0;34m\u001b[0m\u001b[0m\n\u001b[0;32m--> 452\u001b[0;31m     \u001b[0mparser\u001b[0m \u001b[0;34m=\u001b[0m \u001b[0mTextFileReader\u001b[0m\u001b[0;34m(\u001b[0m\u001b[0mfp_or_buf\u001b[0m\u001b[0;34m,\u001b[0m \u001b[0;34m**\u001b[0m\u001b[0mkwds\u001b[0m\u001b[0;34m)\u001b[0m\u001b[0;34m\u001b[0m\u001b[0;34m\u001b[0m\u001b[0m\n\u001b[0m\u001b[1;32m    453\u001b[0m \u001b[0;34m\u001b[0m\u001b[0m\n\u001b[1;32m    454\u001b[0m     \u001b[0;32mif\u001b[0m \u001b[0mchunksize\u001b[0m \u001b[0;32mor\u001b[0m \u001b[0miterator\u001b[0m\u001b[0;34m:\u001b[0m\u001b[0;34m\u001b[0m\u001b[0;34m\u001b[0m\u001b[0m\n",
            "\u001b[0;32m/usr/local/lib/python3.6/dist-packages/pandas/io/parsers.py\u001b[0m in \u001b[0;36m__init__\u001b[0;34m(self, f, engine, **kwds)\u001b[0m\n\u001b[1;32m    934\u001b[0m             \u001b[0mself\u001b[0m\u001b[0;34m.\u001b[0m\u001b[0moptions\u001b[0m\u001b[0;34m[\u001b[0m\u001b[0;34m\"has_index_names\"\u001b[0m\u001b[0;34m]\u001b[0m \u001b[0;34m=\u001b[0m \u001b[0mkwds\u001b[0m\u001b[0;34m[\u001b[0m\u001b[0;34m\"has_index_names\"\u001b[0m\u001b[0;34m]\u001b[0m\u001b[0;34m\u001b[0m\u001b[0;34m\u001b[0m\u001b[0m\n\u001b[1;32m    935\u001b[0m \u001b[0;34m\u001b[0m\u001b[0m\n\u001b[0;32m--> 936\u001b[0;31m         \u001b[0mself\u001b[0m\u001b[0;34m.\u001b[0m\u001b[0m_make_engine\u001b[0m\u001b[0;34m(\u001b[0m\u001b[0mself\u001b[0m\u001b[0;34m.\u001b[0m\u001b[0mengine\u001b[0m\u001b[0;34m)\u001b[0m\u001b[0;34m\u001b[0m\u001b[0;34m\u001b[0m\u001b[0m\n\u001b[0m\u001b[1;32m    937\u001b[0m \u001b[0;34m\u001b[0m\u001b[0m\n\u001b[1;32m    938\u001b[0m     \u001b[0;32mdef\u001b[0m \u001b[0mclose\u001b[0m\u001b[0;34m(\u001b[0m\u001b[0mself\u001b[0m\u001b[0;34m)\u001b[0m\u001b[0;34m:\u001b[0m\u001b[0;34m\u001b[0m\u001b[0;34m\u001b[0m\u001b[0m\n",
            "\u001b[0;32m/usr/local/lib/python3.6/dist-packages/pandas/io/parsers.py\u001b[0m in \u001b[0;36m_make_engine\u001b[0;34m(self, engine)\u001b[0m\n\u001b[1;32m   1166\u001b[0m     \u001b[0;32mdef\u001b[0m \u001b[0m_make_engine\u001b[0m\u001b[0;34m(\u001b[0m\u001b[0mself\u001b[0m\u001b[0;34m,\u001b[0m \u001b[0mengine\u001b[0m\u001b[0;34m=\u001b[0m\u001b[0;34m\"c\"\u001b[0m\u001b[0;34m)\u001b[0m\u001b[0;34m:\u001b[0m\u001b[0;34m\u001b[0m\u001b[0;34m\u001b[0m\u001b[0m\n\u001b[1;32m   1167\u001b[0m         \u001b[0;32mif\u001b[0m \u001b[0mengine\u001b[0m \u001b[0;34m==\u001b[0m \u001b[0;34m\"c\"\u001b[0m\u001b[0;34m:\u001b[0m\u001b[0;34m\u001b[0m\u001b[0;34m\u001b[0m\u001b[0m\n\u001b[0;32m-> 1168\u001b[0;31m             \u001b[0mself\u001b[0m\u001b[0;34m.\u001b[0m\u001b[0m_engine\u001b[0m \u001b[0;34m=\u001b[0m \u001b[0mCParserWrapper\u001b[0m\u001b[0;34m(\u001b[0m\u001b[0mself\u001b[0m\u001b[0;34m.\u001b[0m\u001b[0mf\u001b[0m\u001b[0;34m,\u001b[0m \u001b[0;34m**\u001b[0m\u001b[0mself\u001b[0m\u001b[0;34m.\u001b[0m\u001b[0moptions\u001b[0m\u001b[0;34m)\u001b[0m\u001b[0;34m\u001b[0m\u001b[0;34m\u001b[0m\u001b[0m\n\u001b[0m\u001b[1;32m   1169\u001b[0m         \u001b[0;32melse\u001b[0m\u001b[0;34m:\u001b[0m\u001b[0;34m\u001b[0m\u001b[0;34m\u001b[0m\u001b[0m\n\u001b[1;32m   1170\u001b[0m             \u001b[0;32mif\u001b[0m \u001b[0mengine\u001b[0m \u001b[0;34m==\u001b[0m \u001b[0;34m\"python\"\u001b[0m\u001b[0;34m:\u001b[0m\u001b[0;34m\u001b[0m\u001b[0;34m\u001b[0m\u001b[0m\n",
            "\u001b[0;32m/usr/local/lib/python3.6/dist-packages/pandas/io/parsers.py\u001b[0m in \u001b[0;36m__init__\u001b[0;34m(self, src, **kwds)\u001b[0m\n\u001b[1;32m   1996\u001b[0m         \u001b[0mkwds\u001b[0m\u001b[0;34m[\u001b[0m\u001b[0;34m\"usecols\"\u001b[0m\u001b[0;34m]\u001b[0m \u001b[0;34m=\u001b[0m \u001b[0mself\u001b[0m\u001b[0;34m.\u001b[0m\u001b[0musecols\u001b[0m\u001b[0;34m\u001b[0m\u001b[0;34m\u001b[0m\u001b[0m\n\u001b[1;32m   1997\u001b[0m \u001b[0;34m\u001b[0m\u001b[0m\n\u001b[0;32m-> 1998\u001b[0;31m         \u001b[0mself\u001b[0m\u001b[0;34m.\u001b[0m\u001b[0m_reader\u001b[0m \u001b[0;34m=\u001b[0m \u001b[0mparsers\u001b[0m\u001b[0;34m.\u001b[0m\u001b[0mTextReader\u001b[0m\u001b[0;34m(\u001b[0m\u001b[0msrc\u001b[0m\u001b[0;34m,\u001b[0m \u001b[0;34m**\u001b[0m\u001b[0mkwds\u001b[0m\u001b[0;34m)\u001b[0m\u001b[0;34m\u001b[0m\u001b[0;34m\u001b[0m\u001b[0m\n\u001b[0m\u001b[1;32m   1999\u001b[0m         \u001b[0mself\u001b[0m\u001b[0;34m.\u001b[0m\u001b[0munnamed_cols\u001b[0m \u001b[0;34m=\u001b[0m \u001b[0mself\u001b[0m\u001b[0;34m.\u001b[0m\u001b[0m_reader\u001b[0m\u001b[0;34m.\u001b[0m\u001b[0munnamed_cols\u001b[0m\u001b[0;34m\u001b[0m\u001b[0;34m\u001b[0m\u001b[0m\n\u001b[1;32m   2000\u001b[0m \u001b[0;34m\u001b[0m\u001b[0m\n",
            "\u001b[0;32mpandas/_libs/parsers.pyx\u001b[0m in \u001b[0;36mpandas._libs.parsers.TextReader.__cinit__\u001b[0;34m()\u001b[0m\n",
            "\u001b[0;32mpandas/_libs/parsers.pyx\u001b[0m in \u001b[0;36mpandas._libs.parsers.TextReader._setup_parser_source\u001b[0;34m()\u001b[0m\n",
            "\u001b[0;31mFileNotFoundError\u001b[0m: [Errno 2] No such file or directory: 'energy_efficiency.csv'"
          ]
        }
      ]
    },
    {
      "cell_type": "markdown",
      "metadata": {
        "id": "EPLZWSw9mcDu"
      },
      "source": [
        "Для примера решения задачи прогнозирования, я взял набор данных Energy efficiency из крупнейшего репозитория UCI.   \n",
        "\n",
        "В нем $X_1 ... X_8$ — характеристики помещения на основании которых будет проводиться анализ, а $y_1,y_2$ — значения нагрузки, которые надо спрогнозировать.\n",
        "- $X_1$\tОтносительная компактность\n",
        "- $X_2$\tПлощадь\n",
        "- $X_3$\tПлощадь стен\n",
        "- $X_4$\tПлощадь потолка\t\n",
        "- $X_5$\tОбщая высота\t\n",
        "- $X_6$\tОриентация\n",
        "- $X_7$\tПлощадь остекления\t\n",
        "- $X_8$\tРаспределенная площадь остекления\t\n",
        "- $y_1$\tНагрузка при обогреве\n",
        "- $y_2$\tНагрузка при охлаждении"
      ]
    },
    {
      "cell_type": "code",
      "metadata": {
        "id": "2LmgTiRfmcDv",
        "outputId": "d4cc7a02-56a4-4fe7-ac2c-30bca0d2eefb"
      },
      "source": [
        "data.head()"
      ],
      "execution_count": null,
      "outputs": [
        {
          "output_type": "execute_result",
          "data": {
            "text/html": [
              "<div>\n",
              "<style scoped>\n",
              "    .dataframe tbody tr th:only-of-type {\n",
              "        vertical-align: middle;\n",
              "    }\n",
              "\n",
              "    .dataframe tbody tr th {\n",
              "        vertical-align: top;\n",
              "    }\n",
              "\n",
              "    .dataframe thead th {\n",
              "        text-align: right;\n",
              "    }\n",
              "</style>\n",
              "<table border=\"1\" class=\"dataframe\">\n",
              "  <thead>\n",
              "    <tr style=\"text-align: right;\">\n",
              "      <th></th>\n",
              "      <th>X1</th>\n",
              "      <th>X2</th>\n",
              "      <th>X3</th>\n",
              "      <th>X4</th>\n",
              "      <th>X5</th>\n",
              "      <th>X6</th>\n",
              "      <th>X7</th>\n",
              "      <th>X8</th>\n",
              "      <th>Y1</th>\n",
              "      <th>Y2</th>\n",
              "    </tr>\n",
              "  </thead>\n",
              "  <tbody>\n",
              "    <tr>\n",
              "      <th>0</th>\n",
              "      <td>0.98</td>\n",
              "      <td>514.5</td>\n",
              "      <td>294.0</td>\n",
              "      <td>110.25</td>\n",
              "      <td>7.0</td>\n",
              "      <td>2</td>\n",
              "      <td>0.0</td>\n",
              "      <td>0</td>\n",
              "      <td>15.55</td>\n",
              "      <td>21.33</td>\n",
              "    </tr>\n",
              "    <tr>\n",
              "      <th>1</th>\n",
              "      <td>0.98</td>\n",
              "      <td>514.5</td>\n",
              "      <td>294.0</td>\n",
              "      <td>110.25</td>\n",
              "      <td>7.0</td>\n",
              "      <td>3</td>\n",
              "      <td>0.0</td>\n",
              "      <td>0</td>\n",
              "      <td>15.55</td>\n",
              "      <td>21.33</td>\n",
              "    </tr>\n",
              "    <tr>\n",
              "      <th>2</th>\n",
              "      <td>0.98</td>\n",
              "      <td>514.5</td>\n",
              "      <td>294.0</td>\n",
              "      <td>110.25</td>\n",
              "      <td>7.0</td>\n",
              "      <td>4</td>\n",
              "      <td>0.0</td>\n",
              "      <td>0</td>\n",
              "      <td>15.55</td>\n",
              "      <td>21.33</td>\n",
              "    </tr>\n",
              "    <tr>\n",
              "      <th>3</th>\n",
              "      <td>0.98</td>\n",
              "      <td>514.5</td>\n",
              "      <td>294.0</td>\n",
              "      <td>110.25</td>\n",
              "      <td>7.0</td>\n",
              "      <td>5</td>\n",
              "      <td>0.0</td>\n",
              "      <td>0</td>\n",
              "      <td>15.55</td>\n",
              "      <td>21.33</td>\n",
              "    </tr>\n",
              "    <tr>\n",
              "      <th>4</th>\n",
              "      <td>0.90</td>\n",
              "      <td>563.5</td>\n",
              "      <td>318.5</td>\n",
              "      <td>122.50</td>\n",
              "      <td>7.0</td>\n",
              "      <td>2</td>\n",
              "      <td>0.0</td>\n",
              "      <td>0</td>\n",
              "      <td>20.84</td>\n",
              "      <td>28.28</td>\n",
              "    </tr>\n",
              "  </tbody>\n",
              "</table>\n",
              "</div>"
            ],
            "text/plain": [
              "     X1     X2     X3      X4   X5  X6   X7  X8     Y1     Y2\n",
              "0  0.98  514.5  294.0  110.25  7.0   2  0.0   0  15.55  21.33\n",
              "1  0.98  514.5  294.0  110.25  7.0   3  0.0   0  15.55  21.33\n",
              "2  0.98  514.5  294.0  110.25  7.0   4  0.0   0  15.55  21.33\n",
              "3  0.98  514.5  294.0  110.25  7.0   5  0.0   0  15.55  21.33\n",
              "4  0.90  563.5  318.5  122.50  7.0   2  0.0   0  20.84  28.28"
            ]
          },
          "metadata": {
            "tags": []
          },
          "execution_count": 34
        }
      ]
    },
    {
      "cell_type": "markdown",
      "metadata": {
        "id": "pBefL4-MmcDx"
      },
      "source": [
        "## Посмотрим на скоррелированность данных"
      ]
    },
    {
      "cell_type": "code",
      "metadata": {
        "id": "P5qtYUP1mcDx",
        "outputId": "823257a9-4abb-4437-eae1-93f44a22aa46"
      },
      "source": [
        "data.corr()"
      ],
      "execution_count": null,
      "outputs": [
        {
          "output_type": "execute_result",
          "data": {
            "text/html": [
              "<div>\n",
              "<style scoped>\n",
              "    .dataframe tbody tr th:only-of-type {\n",
              "        vertical-align: middle;\n",
              "    }\n",
              "\n",
              "    .dataframe tbody tr th {\n",
              "        vertical-align: top;\n",
              "    }\n",
              "\n",
              "    .dataframe thead th {\n",
              "        text-align: right;\n",
              "    }\n",
              "</style>\n",
              "<table border=\"1\" class=\"dataframe\">\n",
              "  <thead>\n",
              "    <tr style=\"text-align: right;\">\n",
              "      <th></th>\n",
              "      <th>X1</th>\n",
              "      <th>X2</th>\n",
              "      <th>X3</th>\n",
              "      <th>X4</th>\n",
              "      <th>X5</th>\n",
              "      <th>X6</th>\n",
              "      <th>X7</th>\n",
              "      <th>X8</th>\n",
              "      <th>Y1</th>\n",
              "      <th>Y2</th>\n",
              "    </tr>\n",
              "  </thead>\n",
              "  <tbody>\n",
              "    <tr>\n",
              "      <th>X1</th>\n",
              "      <td>1.000000e+00</td>\n",
              "      <td>-9.919015e-01</td>\n",
              "      <td>-2.037817e-01</td>\n",
              "      <td>-8.688234e-01</td>\n",
              "      <td>8.277473e-01</td>\n",
              "      <td>0.000000</td>\n",
              "      <td>1.283986e-17</td>\n",
              "      <td>1.764620e-17</td>\n",
              "      <td>0.622272</td>\n",
              "      <td>0.634339</td>\n",
              "    </tr>\n",
              "    <tr>\n",
              "      <th>X2</th>\n",
              "      <td>-9.919015e-01</td>\n",
              "      <td>1.000000e+00</td>\n",
              "      <td>1.955016e-01</td>\n",
              "      <td>8.807195e-01</td>\n",
              "      <td>-8.581477e-01</td>\n",
              "      <td>0.000000</td>\n",
              "      <td>1.318356e-16</td>\n",
              "      <td>-3.558613e-16</td>\n",
              "      <td>-0.658120</td>\n",
              "      <td>-0.672999</td>\n",
              "    </tr>\n",
              "    <tr>\n",
              "      <th>X3</th>\n",
              "      <td>-2.037817e-01</td>\n",
              "      <td>1.955016e-01</td>\n",
              "      <td>1.000000e+00</td>\n",
              "      <td>-2.923165e-01</td>\n",
              "      <td>2.809757e-01</td>\n",
              "      <td>0.000000</td>\n",
              "      <td>-7.969726e-19</td>\n",
              "      <td>0.000000e+00</td>\n",
              "      <td>0.455671</td>\n",
              "      <td>0.427117</td>\n",
              "    </tr>\n",
              "    <tr>\n",
              "      <th>X4</th>\n",
              "      <td>-8.688234e-01</td>\n",
              "      <td>8.807195e-01</td>\n",
              "      <td>-2.923165e-01</td>\n",
              "      <td>1.000000e+00</td>\n",
              "      <td>-9.725122e-01</td>\n",
              "      <td>0.000000</td>\n",
              "      <td>-1.381805e-16</td>\n",
              "      <td>-1.079129e-16</td>\n",
              "      <td>-0.861828</td>\n",
              "      <td>-0.862547</td>\n",
              "    </tr>\n",
              "    <tr>\n",
              "      <th>X5</th>\n",
              "      <td>8.277473e-01</td>\n",
              "      <td>-8.581477e-01</td>\n",
              "      <td>2.809757e-01</td>\n",
              "      <td>-9.725122e-01</td>\n",
              "      <td>1.000000e+00</td>\n",
              "      <td>0.000000</td>\n",
              "      <td>1.861418e-18</td>\n",
              "      <td>0.000000e+00</td>\n",
              "      <td>0.889430</td>\n",
              "      <td>0.895785</td>\n",
              "    </tr>\n",
              "    <tr>\n",
              "      <th>X6</th>\n",
              "      <td>0.000000e+00</td>\n",
              "      <td>0.000000e+00</td>\n",
              "      <td>0.000000e+00</td>\n",
              "      <td>0.000000e+00</td>\n",
              "      <td>0.000000e+00</td>\n",
              "      <td>1.000000</td>\n",
              "      <td>0.000000e+00</td>\n",
              "      <td>0.000000e+00</td>\n",
              "      <td>-0.002587</td>\n",
              "      <td>0.014290</td>\n",
              "    </tr>\n",
              "    <tr>\n",
              "      <th>X7</th>\n",
              "      <td>1.283986e-17</td>\n",
              "      <td>1.318356e-16</td>\n",
              "      <td>-7.969726e-19</td>\n",
              "      <td>-1.381805e-16</td>\n",
              "      <td>1.861418e-18</td>\n",
              "      <td>0.000000</td>\n",
              "      <td>1.000000e+00</td>\n",
              "      <td>2.129642e-01</td>\n",
              "      <td>0.269842</td>\n",
              "      <td>0.207505</td>\n",
              "    </tr>\n",
              "    <tr>\n",
              "      <th>X8</th>\n",
              "      <td>1.764620e-17</td>\n",
              "      <td>-3.558613e-16</td>\n",
              "      <td>0.000000e+00</td>\n",
              "      <td>-1.079129e-16</td>\n",
              "      <td>0.000000e+00</td>\n",
              "      <td>0.000000</td>\n",
              "      <td>2.129642e-01</td>\n",
              "      <td>1.000000e+00</td>\n",
              "      <td>0.087368</td>\n",
              "      <td>0.050525</td>\n",
              "    </tr>\n",
              "    <tr>\n",
              "      <th>Y1</th>\n",
              "      <td>6.222719e-01</td>\n",
              "      <td>-6.581199e-01</td>\n",
              "      <td>4.556714e-01</td>\n",
              "      <td>-8.618281e-01</td>\n",
              "      <td>8.894305e-01</td>\n",
              "      <td>-0.002587</td>\n",
              "      <td>2.698417e-01</td>\n",
              "      <td>8.736846e-02</td>\n",
              "      <td>1.000000</td>\n",
              "      <td>0.975862</td>\n",
              "    </tr>\n",
              "    <tr>\n",
              "      <th>Y2</th>\n",
              "      <td>6.343391e-01</td>\n",
              "      <td>-6.729989e-01</td>\n",
              "      <td>4.271170e-01</td>\n",
              "      <td>-8.625466e-01</td>\n",
              "      <td>8.957852e-01</td>\n",
              "      <td>0.014290</td>\n",
              "      <td>2.075050e-01</td>\n",
              "      <td>5.052512e-02</td>\n",
              "      <td>0.975862</td>\n",
              "      <td>1.000000</td>\n",
              "    </tr>\n",
              "  </tbody>\n",
              "</table>\n",
              "</div>"
            ],
            "text/plain": [
              "              X1            X2            X3            X4            X5  \\\n",
              "X1  1.000000e+00 -9.919015e-01 -2.037817e-01 -8.688234e-01  8.277473e-01   \n",
              "X2 -9.919015e-01  1.000000e+00  1.955016e-01  8.807195e-01 -8.581477e-01   \n",
              "X3 -2.037817e-01  1.955016e-01  1.000000e+00 -2.923165e-01  2.809757e-01   \n",
              "X4 -8.688234e-01  8.807195e-01 -2.923165e-01  1.000000e+00 -9.725122e-01   \n",
              "X5  8.277473e-01 -8.581477e-01  2.809757e-01 -9.725122e-01  1.000000e+00   \n",
              "X6  0.000000e+00  0.000000e+00  0.000000e+00  0.000000e+00  0.000000e+00   \n",
              "X7  1.283986e-17  1.318356e-16 -7.969726e-19 -1.381805e-16  1.861418e-18   \n",
              "X8  1.764620e-17 -3.558613e-16  0.000000e+00 -1.079129e-16  0.000000e+00   \n",
              "Y1  6.222719e-01 -6.581199e-01  4.556714e-01 -8.618281e-01  8.894305e-01   \n",
              "Y2  6.343391e-01 -6.729989e-01  4.271170e-01 -8.625466e-01  8.957852e-01   \n",
              "\n",
              "          X6            X7            X8        Y1        Y2  \n",
              "X1  0.000000  1.283986e-17  1.764620e-17  0.622272  0.634339  \n",
              "X2  0.000000  1.318356e-16 -3.558613e-16 -0.658120 -0.672999  \n",
              "X3  0.000000 -7.969726e-19  0.000000e+00  0.455671  0.427117  \n",
              "X4  0.000000 -1.381805e-16 -1.079129e-16 -0.861828 -0.862547  \n",
              "X5  0.000000  1.861418e-18  0.000000e+00  0.889430  0.895785  \n",
              "X6  1.000000  0.000000e+00  0.000000e+00 -0.002587  0.014290  \n",
              "X7  0.000000  1.000000e+00  2.129642e-01  0.269842  0.207505  \n",
              "X8  0.000000  2.129642e-01  1.000000e+00  0.087368  0.050525  \n",
              "Y1 -0.002587  2.698417e-01  8.736846e-02  1.000000  0.975862  \n",
              "Y2  0.014290  2.075050e-01  5.052512e-02  0.975862  1.000000  "
            ]
          },
          "metadata": {
            "tags": []
          },
          "execution_count": 35
        }
      ]
    },
    {
      "cell_type": "code",
      "metadata": {
        "id": "NIrdPbwxmcDz",
        "outputId": "a9655e1e-f7e4-4ed5-ddfd-b3176ab615d7"
      },
      "source": [
        "f, ax = plt.subplots(figsize=(10, 8))\n",
        "corr = data.drop(['Y1','Y2'], axis=1).corr()\n",
        "sns.heatmap(corr, square=True, ax=ax, cmap=sns.diverging_palette(220, 10, as_cmap=True))"
      ],
      "execution_count": null,
      "outputs": [
        {
          "output_type": "execute_result",
          "data": {
            "text/plain": [
              "<matplotlib.axes._subplots.AxesSubplot at 0x1c28da0ed0>"
            ]
          },
          "metadata": {
            "tags": []
          },
          "execution_count": 36
        },
        {
          "output_type": "display_data",
          "data": {
            "image/png": "[encoded data removed]",
            "text/plain": [
              "<Figure size 720x576 with 2 Axes>"
            ]
          },
          "metadata": {
            "tags": [],
            "needs_background": "light"
          }
        }
      ]
    },
    {
      "cell_type": "code",
      "metadata": {
        "id": "1WC_SiGDmcD1",
        "outputId": "c27cc7d8-1063-4d3f-8a9a-361c228d0569"
      },
      "source": [
        "f, ax = plt.subplots(figsize=(10, 8))\n",
        "corr = data.corr()\n",
        "sns.heatmap(corr, square=True, ax=ax, cmap=sns.diverging_palette(220, 10, as_cmap=True))"
      ],
      "execution_count": null,
      "outputs": [
        {
          "output_type": "execute_result",
          "data": {
            "text/plain": [
              "<matplotlib.axes._subplots.AxesSubplot at 0x1c28bcd8d0>"
            ]
          },
          "metadata": {
            "tags": []
          },
          "execution_count": 37
        },
        {
          "output_type": "display_data",
          "data": {
            "image/png": "[encoded data removed]",
            "text/plain": [
              "<Figure size 720x576 with 2 Axes>"
            ]
          },
          "metadata": {
            "tags": [],
            "needs_background": "light"
          }
        }
      ]
    },
    {
      "cell_type": "markdown",
      "metadata": {
        "id": "Mf-nnYl1mcD3"
      },
      "source": [
        "Видим, что x1 скоррелирован с x2, а x4 с x5. Из-за этого матрица $X^{T}*X$ необратима."
      ]
    },
    {
      "cell_type": "markdown",
      "metadata": {
        "id": "g_V5HBvzmcD4"
      },
      "source": [
        "## Посмотрим как на таких данных отработает наша линейная регрессия"
      ]
    },
    {
      "cell_type": "markdown",
      "metadata": {
        "id": "uU66h-GOmcD4"
      },
      "source": [
        "Разобьем выборку на train и test"
      ]
    },
    {
      "cell_type": "code",
      "metadata": {
        "id": "FMAzy_tRmcD4"
      },
      "source": [
        "X = data.drop(['Y1','Y2'], axis=1)\n",
        "y = data['Y1']"
      ],
      "execution_count": null,
      "outputs": []
    },
    {
      "cell_type": "code",
      "metadata": {
        "id": "ZEJLUsaCmcD6",
        "outputId": "164f9424-32a9-4451-a3f2-a2e9175814b2"
      },
      "source": [
        "X.shape, y.shape"
      ],
      "execution_count": null,
      "outputs": [
        {
          "output_type": "execute_result",
          "data": {
            "text/plain": [
              "((768, 8), (768,))"
            ]
          },
          "metadata": {
            "tags": []
          },
          "execution_count": 39
        }
      ]
    },
    {
      "cell_type": "code",
      "metadata": {
        "id": "4AODeOLGmcD-"
      },
      "source": [
        "X_train, X_test, y_train, y_test = train_test_split(X, y, test_size=0.2, random_state=42)"
      ],
      "execution_count": null,
      "outputs": []
    },
    {
      "cell_type": "markdown",
      "metadata": {
        "id": "BIJ_9dv8mcEA"
      },
      "source": [
        "Обучим регрессию и посмотрим на качество"
      ]
    },
    {
      "cell_type": "code",
      "metadata": {
        "id": "TWuPDZO0mcEB"
      },
      "source": [
        "w = my_linear_regression(X_train, y_train)"
      ],
      "execution_count": null,
      "outputs": []
    },
    {
      "cell_type": "code",
      "metadata": {
        "id": "c5fOBt4JmcED",
        "outputId": "1b026d01-25bb-4910-9a26-23def6839acd"
      },
      "source": [
        "y_train_pred = predict(X_train, w)\n",
        "print(\"Train MSE: \", mean_squared_error(y_train, y_train_pred))\n",
        "print(\"Train R2: \", r2_score(y_train, y_train_pred))"
      ],
      "execution_count": null,
      "outputs": [
        {
          "output_type": "stream",
          "text": [
            "Train MSE:  417168.2213821891\n",
            "Train R2:  -4132.492369591635\n"
          ],
          "name": "stdout"
        }
      ]
    },
    {
      "cell_type": "code",
      "metadata": {
        "id": "tPuDT7gwmcEF",
        "outputId": "1976c61d-3ec7-42ef-9325-ff4783e7a216"
      },
      "source": [
        "y_test_pred = predict(X_test, w)\n",
        "print(\"Test MSE: \", mean_squared_error(y_test, y_test_pred))\n",
        "print(\"Test R2: \", r2_score(y_test, y_test_pred))"
      ],
      "execution_count": null,
      "outputs": [
        {
          "output_type": "stream",
          "text": [
            "Test MSE:  460128.72662043874\n",
            "Test R2:  -4413.449687872916\n"
          ],
          "name": "stdout"
        }
      ]
    },
    {
      "cell_type": "markdown",
      "metadata": {
        "id": "ZGYKheWamcEH"
      },
      "source": [
        "Как-то не очень"
      ]
    },
    {
      "cell_type": "markdown",
      "metadata": {
        "id": "HRGnZVMRmcEI"
      },
      "source": [
        "## Попробуем убрать скоррелированные признаки"
      ]
    },
    {
      "cell_type": "code",
      "metadata": {
        "id": "IKdDSFhXmcEI"
      },
      "source": [
        "X = data.drop(['X1','X4', 'Y1','Y2'], axis=1)\n",
        "y = data['Y1']"
      ],
      "execution_count": null,
      "outputs": []
    },
    {
      "cell_type": "code",
      "metadata": {
        "id": "C25zr2oomcEL",
        "outputId": "ea61c491-0e2b-4b01-dbb4-c30bd9d168d2"
      },
      "source": [
        "X.shape, y.shape"
      ],
      "execution_count": null,
      "outputs": [
        {
          "output_type": "execute_result",
          "data": {
            "text/plain": [
              "((768, 6), (768,))"
            ]
          },
          "metadata": {
            "tags": []
          },
          "execution_count": 45
        }
      ]
    },
    {
      "cell_type": "code",
      "metadata": {
        "id": "hMcE_eb8mcEO"
      },
      "source": [
        "X_train, X_test, y_train, y_test = train_test_split(X, y, test_size=0.2, random_state=42)"
      ],
      "execution_count": null,
      "outputs": []
    },
    {
      "cell_type": "markdown",
      "metadata": {
        "id": "U2ZUK52hmcEQ"
      },
      "source": [
        "Обучим регрессию и посмотрим на качество"
      ]
    },
    {
      "cell_type": "code",
      "metadata": {
        "id": "QafmWX14mcEQ"
      },
      "source": [
        "w = my_linear_regression(X_train, y_train)"
      ],
      "execution_count": null,
      "outputs": []
    },
    {
      "cell_type": "code",
      "metadata": {
        "id": "8fopwgjCmcES",
        "outputId": "7cd83899-eac3-4f23-c595-a354e700bad5"
      },
      "source": [
        "y_train_pred = predict(X_train, w)\n",
        "print(\"Train MSE: \", mean_squared_error(y_train, y_train_pred))\n",
        "print(\"Train R2: \", r2_score(y_train, y_train_pred))"
      ],
      "execution_count": null,
      "outputs": [
        {
          "output_type": "stream",
          "text": [
            "Train MSE:  9.851958700759099\n",
            "Train R2:  0.9023823147885197\n"
          ],
          "name": "stdout"
        }
      ]
    },
    {
      "cell_type": "code",
      "metadata": {
        "id": "6yrdCHrOmcEV",
        "outputId": "7e16ec91-562d-4194-c8cf-1071e7b3fe45"
      },
      "source": [
        "y_test_pred = predict(X_test, w)\n",
        "print(\"Test MSE: \", mean_squared_error(y_test, y_test_pred))\n",
        "print(\"Test R2: \", r2_score(y_test, y_test_pred))"
      ],
      "execution_count": null,
      "outputs": [
        {
          "output_type": "stream",
          "text": [
            "Test MSE:  11.387213360639421\n",
            "Test R2:  0.8907517015187721\n"
          ],
          "name": "stdout"
        }
      ]
    },
    {
      "cell_type": "markdown",
      "metadata": {
        "id": "JLCc_XbYmcEX"
      },
      "source": [
        "Юху! Получили алгоритм с хорошим качеством"
      ]
    },
    {
      "cell_type": "markdown",
      "metadata": {
        "id": "vCZ9iwxkmcEX"
      },
      "source": [
        "## Реализуем линейную регрессию с L2 регуляризацией"
      ]
    },
    {
      "cell_type": "code",
      "metadata": {
        "id": "vTfzSTdJmcEX"
      },
      "source": [
        "def my_linear_regression(X_train, Y_train, l2=0):\n",
        "    return np.linalg.inv(X_train.T.dot(X_train) + l2*np.eye(X_train.shape[1])).dot(X_train.T).dot(y_train) #"
      ],
      "execution_count": null,
      "outputs": []
    },
    {
      "cell_type": "markdown",
      "metadata": {
        "id": "g9t4X_HXmcEZ"
      },
      "source": [
        "Обучим регрессию с регуляризацией и посмотрим на качество"
      ]
    },
    {
      "cell_type": "code",
      "metadata": {
        "id": "5Lw7b_GomcEZ"
      },
      "source": [
        "X = data.drop(['Y1','Y2'], axis=1)\n",
        "y = data['Y1']"
      ],
      "execution_count": null,
      "outputs": []
    },
    {
      "cell_type": "code",
      "metadata": {
        "id": "6wokJ1BZmcEc",
        "outputId": "bba2f26b-9690-4129-cff4-836e3cecb9e4"
      },
      "source": [
        "X.shape, y.shape"
      ],
      "execution_count": null,
      "outputs": [
        {
          "output_type": "execute_result",
          "data": {
            "text/plain": [
              "((768, 8), (768,))"
            ]
          },
          "metadata": {
            "tags": []
          },
          "execution_count": 52
        }
      ]
    },
    {
      "cell_type": "code",
      "metadata": {
        "id": "NDTedTRGmcEe"
      },
      "source": [
        "X_train, X_test, y_train, y_test = train_test_split(X, y, test_size=0.2, random_state=42)"
      ],
      "execution_count": null,
      "outputs": []
    },
    {
      "cell_type": "code",
      "metadata": {
        "id": "Th-SECWAmcEg"
      },
      "source": [
        "w = my_linear_regression(X_train, y_train, l2=0.001)"
      ],
      "execution_count": null,
      "outputs": []
    },
    {
      "cell_type": "code",
      "metadata": {
        "id": "bgmUTNbhmcEj",
        "outputId": "e2ebfe97-acb1-45df-a9cc-b70aa41b77e5"
      },
      "source": [
        "y_train_pred = predict(X_train, w)\n",
        "print(\"Train MSE: \", mean_squared_error(y_train, y_train_pred))\n",
        "print(\"Train R2: \", r2_score(y_train, y_train_pred))"
      ],
      "execution_count": null,
      "outputs": [
        {
          "output_type": "stream",
          "text": [
            "Train MSE:  8.566900337804904\n",
            "Train R2:  0.9151152571975837\n"
          ],
          "name": "stdout"
        }
      ]
    },
    {
      "cell_type": "code",
      "metadata": {
        "id": "73tWbOfomcEl",
        "outputId": "784d7ca7-5150-41c5-dc03-749667767dbc"
      },
      "source": [
        "y_test_pred = predict(X_test, w)\n",
        "print(\"Test MSE: \", mean_squared_error(y_test, y_test_pred))\n",
        "print(\"Test R2: \", r2_score(y_test, y_test_pred))"
      ],
      "execution_count": null,
      "outputs": [
        {
          "output_type": "stream",
          "text": [
            "Test MSE:  9.4639612678421\n",
            "Test R2:  0.9092032762837478\n"
          ],
          "name": "stdout"
        }
      ]
    },
    {
      "cell_type": "markdown",
      "metadata": {
        "id": "M_Zs8bUVmcEo"
      },
      "source": [
        "Этого же эффекта(отсутствие переобучения) добились добавив регуляризацию"
      ]
    }
  ]
}