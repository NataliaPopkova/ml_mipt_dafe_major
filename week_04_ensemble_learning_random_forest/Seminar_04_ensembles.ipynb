{
  "nbformat": 4,
  "nbformat_minor": 0,
  "metadata": {
    "kernelspec": {
      "display_name": "Python 3",
      "language": "python",
      "name": "python3"
    },
    "language_info": {
      "codemirror_mode": {
        "name": "ipython",
        "version": 3
      },
      "file_extension": ".py",
      "mimetype": "text/x-python",
      "name": "python",
      "nbconvert_exporter": "python",
      "pygments_lexer": "ipython3",
      "version": "3.7.2"
    },
    "colab": {
      "name": "Seminar_04_ensembles.ipynb",
      "provenance": [],
      "collapsed_sections": [],
      "toc_visible": true
    }
  },
  "cells": [
    {
      "cell_type": "markdown",
      "metadata": {
        "id": "PmZpt5cgDcPw"
      },
      "source": [
        "# Семинар 4 - Композиции алгоритмов"
      ]
    },
    {
      "cell_type": "code",
      "metadata": {
        "id": "JIGKGua4DcPx"
      },
      "source": [
        "import pandas as pd\n",
        "import numpy as np\n",
        "%matplotlib inline\n",
        "import seaborn as sns\n",
        "import matplotlib.pyplot as plt\n",
        "sns.set(palette='deep', style='darkgrid', rc={\"figure.figsize\": (15, 4)})\n",
        "import scipy.stats as st\n",
        "\n",
        "import warnings\n",
        "warnings.simplefilter('ignore')"
      ],
      "execution_count": null,
      "outputs": []
    },
    {
      "cell_type": "code",
      "metadata": {
        "id": "6uwjcjtnFVyj",
        "outputId": "84b00366-90eb-4b0a-db97-0d77802706e1",
        "colab": {
          "base_uri": "https://localhost:8080/",
          "height": 34
        }
      },
      "source": [
        "from google.colab import drive\n",
        "drive.mount('/content/gdrive/')"
      ],
      "execution_count": null,
      "outputs": [
        {
          "output_type": "stream",
          "text": [
            "Mounted at /content/gdrive/\n"
          ],
          "name": "stdout"
        }
      ]
    },
    {
      "cell_type": "code",
      "metadata": {
        "id": "X5Tp-zCMDcP0",
        "outputId": "a7d9ea25-3725-4f42-ea83-dbac9458a567",
        "colab": {
          "base_uri": "https://localhost:8080/",
          "height": 204
        }
      },
      "source": [
        "# Загрузим данные и проведем предобработки: \n",
        "data = pd.read_csv('./gdrive/My Drive/Colab Notebooks/Семинар 4/data/flight_delays_train.csv')\n",
        "data['dep_delayed_15min'] = data['dep_delayed_15min'].apply(lambda x: 1 if x == 'Y' else 0)\n",
        "data['Month'] = data['Month'].str.replace('c-', '').astype('int16')\n",
        "data['DayofMonth'] = data['DayofMonth'].str.replace('c-', '').astype('int16')\n",
        "data['DayOfWeek'] = data['DayOfWeek'].str.replace('c-', '').astype('int16')\n",
        "\n",
        "data['UniqueCarrier'] = pd.factorize(data['UniqueCarrier'])[0]\n",
        "data['Origin'] = pd.factorize(data['Origin'])[0]\n",
        "data['Dest'] = pd.factorize(data['Dest'])[0]\n",
        "\n",
        "# DepTime пусть бдет более вещественным числом (так как 60 минут в часах)\n",
        "data['DepTime_real'] = data['DepTime'].apply(lambda x: int(x/100)+((x/100-int(x/100))*100)/59)\n",
        "data.drop('DepTime', axis=1, inplace=True)\n",
        "\n",
        "\n",
        "x = data.drop('dep_delayed_15min', axis=1)\n",
        "y = data['dep_delayed_15min'].values\n",
        "\n",
        "\n",
        "data.head()"
      ],
      "execution_count": null,
      "outputs": [
        {
          "output_type": "execute_result",
          "data": {
            "text/html": [
              "<div>\n",
              "<style scoped>\n",
              "    .dataframe tbody tr th:only-of-type {\n",
              "        vertical-align: middle;\n",
              "    }\n",
              "\n",
              "    .dataframe tbody tr th {\n",
              "        vertical-align: top;\n",
              "    }\n",
              "\n",
              "    .dataframe thead th {\n",
              "        text-align: right;\n",
              "    }\n",
              "</style>\n",
              "<table border=\"1\" class=\"dataframe\">\n",
              "  <thead>\n",
              "    <tr style=\"text-align: right;\">\n",
              "      <th></th>\n",
              "      <th>Month</th>\n",
              "      <th>DayofMonth</th>\n",
              "      <th>DayOfWeek</th>\n",
              "      <th>UniqueCarrier</th>\n",
              "      <th>Origin</th>\n",
              "      <th>Dest</th>\n",
              "      <th>Distance</th>\n",
              "      <th>dep_delayed_15min</th>\n",
              "      <th>DepTime_real</th>\n",
              "    </tr>\n",
              "  </thead>\n",
              "  <tbody>\n",
              "    <tr>\n",
              "      <th>0</th>\n",
              "      <td>8</td>\n",
              "      <td>21</td>\n",
              "      <td>7</td>\n",
              "      <td>0</td>\n",
              "      <td>0</td>\n",
              "      <td>0</td>\n",
              "      <td>732</td>\n",
              "      <td>0</td>\n",
              "      <td>19.576271</td>\n",
              "    </tr>\n",
              "    <tr>\n",
              "      <th>1</th>\n",
              "      <td>4</td>\n",
              "      <td>20</td>\n",
              "      <td>3</td>\n",
              "      <td>1</td>\n",
              "      <td>1</td>\n",
              "      <td>1</td>\n",
              "      <td>834</td>\n",
              "      <td>0</td>\n",
              "      <td>15.813559</td>\n",
              "    </tr>\n",
              "    <tr>\n",
              "      <th>2</th>\n",
              "      <td>9</td>\n",
              "      <td>2</td>\n",
              "      <td>5</td>\n",
              "      <td>2</td>\n",
              "      <td>2</td>\n",
              "      <td>2</td>\n",
              "      <td>416</td>\n",
              "      <td>0</td>\n",
              "      <td>14.372881</td>\n",
              "    </tr>\n",
              "    <tr>\n",
              "      <th>3</th>\n",
              "      <td>11</td>\n",
              "      <td>25</td>\n",
              "      <td>6</td>\n",
              "      <td>3</td>\n",
              "      <td>3</td>\n",
              "      <td>3</td>\n",
              "      <td>872</td>\n",
              "      <td>0</td>\n",
              "      <td>10.254237</td>\n",
              "    </tr>\n",
              "    <tr>\n",
              "      <th>4</th>\n",
              "      <td>10</td>\n",
              "      <td>7</td>\n",
              "      <td>6</td>\n",
              "      <td>4</td>\n",
              "      <td>4</td>\n",
              "      <td>4</td>\n",
              "      <td>423</td>\n",
              "      <td>1</td>\n",
              "      <td>18.474576</td>\n",
              "    </tr>\n",
              "  </tbody>\n",
              "</table>\n",
              "</div>"
            ],
            "text/plain": [
              "   Month  DayofMonth  DayOfWeek  ...  Distance  dep_delayed_15min  DepTime_real\n",
              "0      8          21          7  ...       732                  0     19.576271\n",
              "1      4          20          3  ...       834                  0     15.813559\n",
              "2      9           2          5  ...       416                  0     14.372881\n",
              "3     11          25          6  ...       872                  0     10.254237\n",
              "4     10           7          6  ...       423                  1     18.474576\n",
              "\n",
              "[5 rows x 9 columns]"
            ]
          },
          "metadata": {
            "tags": []
          },
          "execution_count": 4
        }
      ]
    },
    {
      "cell_type": "markdown",
      "metadata": {
        "id": "uhY0kvEEDcP4"
      },
      "source": [
        "# Bootstrap\n",
        "Посмотрим плотности распредления переменной \"Время Вылета\" для задержки менее 15 минут и более"
      ]
    },
    {
      "cell_type": "code",
      "metadata": {
        "id": "8G0iPMgeDcP4",
        "outputId": "54ae74a1-a59c-4794-8dbe-44a41992cbd3",
        "colab": {
          "base_uri": "https://localhost:8080/",
          "height": 285
        }
      },
      "source": [
        "sns.kdeplot(data[data['dep_delayed_15min'] == 0]['DepTime_real'], label='Задержка рейса менее 15 мин')\n",
        "sns.kdeplot(data[data['dep_delayed_15min'] == 1]['DepTime_real'], label='Задержка рейса более 15 мин')\n",
        "plt.legend()\n",
        "plt.show()"
      ],
      "execution_count": null,
      "outputs": [
        {
          "output_type": "display_data",
          "data": {
            "image/png": "[encoded data removed]",
            "text/plain": [
              "<Figure size 432x288 with 1 Axes>"
            ]
          },
          "metadata": {
            "tags": [],
            "needs_background": "light"
          }
        }
      ]
    },
    {
      "cell_type": "code",
      "metadata": {
        "id": "Ni5f8jnUDcP6",
        "outputId": "6b57211f-cf90-4b10-f8f8-22d660653d91",
        "colab": {
          "base_uri": "https://localhost:8080/",
          "height": 51
        }
      },
      "source": [
        "print('Среднее', data[data['dep_delayed_15min'] == 1]['DepTime_real'].mean())\n",
        "print('Среднее', data[data['dep_delayed_15min'] == 0]['DepTime_real'].mean())"
      ],
      "execution_count": null,
      "outputs": [
        {
          "output_type": "stream",
          "text": [
            "Среднее 16.011120545106937\n",
            "Среднее 13.058375924649887\n"
          ],
          "name": "stdout"
        }
      ]
    },
    {
      "cell_type": "code",
      "metadata": {
        "id": "zm1UnOgCDcP9"
      },
      "source": [
        "def get_bootstrap_samples(data, n_samples):\n",
        "    # функция для генерации подвыборок с помощью бутстрэпа\n",
        "    indices = # ваш код здесь\n",
        "    samples = # ваш код здесь\n",
        "    return samples\n",
        "\n",
        "def stat_intervals(stat, alpha):\n",
        "    # функция для интервальной оценки\n",
        "    boundaries = np.percentile(stat, [100 * alpha / 2., 100 * (1 - alpha / 2.)])\n",
        "    return boundaries"
      ],
      "execution_count": null,
      "outputs": []
    },
    {
      "cell_type": "code",
      "metadata": {
        "id": "eQjygPPXDcP_"
      },
      "source": [
        "# сохранение в отдельные numpy массивы данных по вылетам с задержками и без \n",
        "no_delayed = data[data['dep_delayed_15min'] == 0]['DepTime_real'].values\n",
        "delayed = data[data['dep_delayed_15min'] == 1]['DepTime_real'].values\n",
        "\n",
        "# ставим seed для воспроизводимости результатов\n",
        "np.random.seed(0)\n",
        "\n",
        "# генерируем 1000 выборок с помощью бутстрэпа и сразу считаем по каждой из них среднее\n",
        "no_delayed_mean_scores = # ваш код здесь\n",
        "delayed_mean_scores = # ваш код здесь"
      ],
      "execution_count": null,
      "outputs": []
    },
    {
      "cell_type": "code",
      "metadata": {
        "id": "ix2YHFwgDcQB",
        "outputId": "17322609-506f-4cf1-85c7-a48dd5f65ff2",
        "colab": {
          "base_uri": "https://localhost:8080/",
          "height": 51
        }
      },
      "source": [
        "#  выводим интервальную оценку среднего\n",
        "print(\"Среднее время вылета по рейсам без задержек в интервале:\",  stat_intervals(no_delayed_mean_scores, 0.05))\n",
        "print(\"Среднее время вылета по рейсам с задержками в интервале:\",  stat_intervals(delayed_mean_scores, 0.05))"
      ],
      "execution_count": null,
      "outputs": [
        {
          "output_type": "stream",
          "text": [
            "Среднее время вылета по рейсам без задержек в интервале: [13.02623288 13.08874223]\n",
            "Среднее время вылета по рейсам с задержками в интервале: [15.94721421 16.07553438]\n"
          ],
          "name": "stdout"
        }
      ]
    },
    {
      "cell_type": "markdown",
      "metadata": {
        "id": "HGK-uWC8DcQD"
      },
      "source": [
        "Sub-sampling (_pasting_) тоесть выборка без повторений - достойная альтернатива"
      ]
    },
    {
      "cell_type": "markdown",
      "metadata": {
        "id": "c6UZYpmUDcQE"
      },
      "source": [
        "# Bagging (Bootstrap aggregating)"
      ]
    },
    {
      "cell_type": "code",
      "metadata": {
        "id": "OZ0PX9QVDcQE"
      },
      "source": [
        "from sklearn.ensemble import BaggingClassifier, BaggingRegressor, RandomForestClassifier\n",
        "from sklearn.model_selection import train_test_split, cross_val_score\n",
        "from sklearn.tree import DecisionTreeClassifier, DecisionTreeRegressor\n",
        "from sklearn.metrics import roc_auc_score, accuracy_score"
      ],
      "execution_count": null,
      "outputs": []
    },
    {
      "cell_type": "code",
      "metadata": {
        "id": "1u1g9LSoDcQG"
      },
      "source": [
        "tree = DecisionTreeClassifier()\n",
        "bag_of_trees = BaggingClassifier(tree, n_estimators=20)"
      ],
      "execution_count": null,
      "outputs": []
    },
    {
      "cell_type": "code",
      "metadata": {
        "id": "ev8vo4edDcQI",
        "outputId": "296f76d3-8d6e-40fb-ffd0-9a36a7939d97",
        "colab": {
          "base_uri": "https://localhost:8080/",
          "height": 34
        }
      },
      "source": [
        "# Посчитаем значение метрики accuracy на кроссвалидаци для дерева\n",
        "np.mean(cross_val_score(tree, x, y, cv=3, scoring='accuracy'))"
      ],
      "execution_count": null,
      "outputs": [
        {
          "output_type": "execute_result",
          "data": {
            "text/plain": [
              "0.7284900193455045"
            ]
          },
          "metadata": {
            "tags": []
          },
          "execution_count": 16
        }
      ]
    },
    {
      "cell_type": "code",
      "metadata": {
        "id": "KRKBm8swDcQK",
        "outputId": "51ab404f-9e5e-4d90-c706-8caeb7222c82",
        "colab": {
          "base_uri": "https://localhost:8080/",
          "height": 34
        }
      },
      "source": [
        "# Посчитаем значение метрики accuracy на кроссвалидаци для композиции деревьев построенной на бутстрап выборке\n",
        "np.mean(cross_val_score(bag_of_trees, x, y, cv=3, scoring='accuracy'))"
      ],
      "execution_count": null,
      "outputs": [
        {
          "output_type": "execute_result",
          "data": {
            "text/plain": [
              "0.8157599935632165"
            ]
          },
          "metadata": {
            "tags": []
          },
          "execution_count": 17
        }
      ]
    },
    {
      "cell_type": "markdown",
      "metadata": {
        "id": "LsMV5AswDcQN"
      },
      "source": [
        "### Out-of-bag error\n",
        "\n",
        "На каждом шаге все объекты попадают в подвыборку с возвращением равновероятно, значит:  \n",
        "Вероятность, что объект попадет в выборку: $ \\frac {1}{l}$   \n",
        "\n",
        "Вероятность, что объект не попадет в выборку: $ 1-\\frac {1}{l}$    \n",
        "  \n",
        "Так как мы тянем $l$ раз, то  вероятность, что объект не попадет во всю выборку: $ \\bigl( 1-\\frac {1}{l} \\bigr) ^l$ \n",
        "\n",
        "Значит, при  $l \\rightarrow \\infty$ что вероятность, что объект не поппадает в выборку: $ \\frac {1}{e} \\approx 0.37 $      \n",
        "  \n",
        "__Вывод:__ При формировании Bootstrap выборки в нее попадает только __63%__ объектов   \n",
        "__Свойство:__ Можно вычислять Out-of-bag error и не проводить кроссвалидацию"
      ]
    },
    {
      "cell_type": "code",
      "metadata": {
        "id": "HmTAi-OfDcQN"
      },
      "source": [
        "tree = DecisionTreeClassifier()\n",
        "bag_of_trees = BaggingClassifier(tree, n_estimators=20, oob_score=True, n_jobs=-1)"
      ],
      "execution_count": null,
      "outputs": []
    },
    {
      "cell_type": "code",
      "metadata": {
        "id": "U7MoIcp_DcQP",
        "outputId": "d635aeb7-47ea-4ec5-e6f4-39ad2d93aeef",
        "colab": {
          "base_uri": "https://localhost:8080/",
          "height": 34
        }
      },
      "source": [
        "bag_of_trees.fit(x,y)\n",
        "bag_of_trees.oob_score_"
      ],
      "execution_count": null,
      "outputs": [
        {
          "output_type": "execute_result",
          "data": {
            "text/plain": [
              "0.80263"
            ]
          },
          "metadata": {
            "tags": []
          },
          "execution_count": 19
        }
      ]
    },
    {
      "cell_type": "markdown",
      "metadata": {
        "id": "HOni_VeMDcQS"
      },
      "source": [
        "## Как можно добавить случайности? \n",
        "\n",
        "Например: Ограничить кол-во признаков, по которым проводить разбиение"
      ]
    },
    {
      "cell_type": "code",
      "metadata": {
        "id": "uvl_liaaDcQS",
        "outputId": "f10f12ff-e068-4d96-98b4-f2471583d3fb",
        "colab": {
          "base_uri": "https://localhost:8080/",
          "height": 34
        }
      },
      "source": [
        "tree = DecisionTreeClassifier(max_features=4)\n",
        "bag_of_trees = BaggingClassifier(tree, n_estimators=20, oob_score=True, n_jobs=-1)\n",
        "\n",
        "bag_of_trees.fit(x,y)\n",
        "bag_of_trees.oob_score_"
      ],
      "execution_count": null,
      "outputs": [
        {
          "output_type": "execute_result",
          "data": {
            "text/plain": [
              "0.80539"
            ]
          },
          "metadata": {
            "tags": []
          },
          "execution_count": 20
        }
      ]
    },
    {
      "cell_type": "markdown",
      "metadata": {
        "id": "vr3fnFg9DcQU"
      },
      "source": [
        "Почему это работает, и зачем нам нужна случайность?"
      ]
    },
    {
      "cell_type": "markdown",
      "metadata": {
        "id": "fSyQSIEZDcQU"
      },
      "source": [
        "# Случайный лес"
      ]
    },
    {
      "cell_type": "code",
      "metadata": {
        "id": "mlHFTWP0DcQV",
        "outputId": "a6cee6f7-83c7-49a2-f601-3eb223509cc5",
        "colab": {
          "base_uri": "https://localhost:8080/",
          "height": 34
        }
      },
      "source": [
        "forest = RandomForestClassifier(n_estimators=20, n_jobs=-1)\n",
        "np.mean(cross_val_score(forest, x,y, cv=3, n_jobs=-1, scoring='accuracy'))"
      ],
      "execution_count": null,
      "outputs": [
        {
          "output_type": "execute_result",
          "data": {
            "text/plain": [
              "0.8141399950628774"
            ]
          },
          "metadata": {
            "tags": []
          },
          "execution_count": 21
        }
      ]
    },
    {
      "cell_type": "markdown",
      "metadata": {
        "id": "vYDftxrbDcQW"
      },
      "source": [
        "\n",
        "\n",
        "\n",
        "### Что будет, если ограничить глубину построенных деревьев? "
      ]
    },
    {
      "cell_type": "code",
      "metadata": {
        "id": "T7agKAapDcQX"
      },
      "source": [
        "#Разделим выборку на обущающую и тестовую\n",
        "x_train, x_test, y_train, y_test = train_test_split(x, y, train_size=0.7, test_size=0.3, \\\n",
        "                                                    shuffle=True, random_state=21)"
      ],
      "execution_count": null,
      "outputs": []
    },
    {
      "cell_type": "code",
      "metadata": {
        "id": "Po4cBKHADcQZ"
      },
      "source": [
        "train_score = []\n",
        "test_score = []\n",
        "\n",
        "# ваш код здесь\n",
        "for i in range(1,16):\n",
        "    forest = \n",
        "    forest\n",
        "    train_score\n",
        "    test_score"
      ],
      "execution_count": null,
      "outputs": []
    },
    {
      "cell_type": "code",
      "metadata": {
        "id": "gJ4u76bqDcQb",
        "outputId": "18a6bc41-4458-47a2-d2c4-17d6288c3549",
        "colab": {
          "base_uri": "https://localhost:8080/",
          "height": 301
        }
      },
      "source": [
        "plt.title('Зависимость качества алгоритма в зависимости от глубины деревьев')\n",
        "plt.plot(range(1,16), train_score, label=\"Качетство на обучении\")\n",
        "plt.plot(range(1,16), test_score, label=\"Качетство на тесте\")\n",
        "plt.legend()\n",
        "plt.ylabel('Доля правильных ответов')\n",
        "plt.xlabel('Глубина деревьев')\n",
        "plt.show()"
      ],
      "execution_count": null,
      "outputs": [
        {
          "output_type": "display_data",
          "data": {
            "image/png": "[encoded data removed]",
            "text/plain": [
              "<Figure size 432x288 with 1 Axes>"
            ]
          },
          "metadata": {
            "tags": [],
            "needs_background": "light"
          }
        }
      ]
    },
    {
      "cell_type": "markdown",
      "metadata": {
        "id": "aIVY0q9YDcQd"
      },
      "source": [
        "### Важность признкаов\n",
        "Одно из замечательных свойств, что можно посмотреть важность каждого признака, оценив вклад "
      ]
    },
    {
      "cell_type": "code",
      "metadata": {
        "id": "7hM7Gxj6DcQd",
        "outputId": "411807ce-83b8-44d1-d46e-aac707876b6a",
        "colab": {
          "base_uri": "https://localhost:8080/",
          "height": 286
        }
      },
      "source": [
        "feature_importances = pd.DataFrame(forest.feature_importances_, index=x_train.columns, columns=['Importance']\n",
        "            ).sort_values('Importance', ascending=False)\n",
        "\n",
        "sns.barplot(y=feature_importances['Importance'], x=feature_importances.index, palette=\"rocket\")\n",
        "plt.ylabel('Важность')\n",
        "plt.xlabel('Признак')\n",
        "plt.show()"
      ],
      "execution_count": null,
      "outputs": [
        {
          "output_type": "display_data",
          "data": {
            "image/png": "[encoded data removed]",
            "text/plain": [
              "<Figure size 432x288 with 1 Axes>"
            ]
          },
          "metadata": {
            "tags": [],
            "needs_background": "light"
          }
        }
      ]
    }
  ]
}