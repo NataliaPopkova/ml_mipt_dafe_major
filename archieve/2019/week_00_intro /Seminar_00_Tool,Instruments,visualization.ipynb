{
 "cells": [
  {
   "cell_type": "markdown",
   "metadata": {
    "slideshow": {
     "slide_type": "slide"
    }
   },
   "source": [
    "# Семинар 1 - Первичный анализ данных, визуализация, etc. \n",
    "\n",
    "__Источник данных:__ [https://opendata.socrata.com/](https://opendata.socrata.com/Government/Airplane-Crashes-and-Fatalities-Since-1908/q2te-8cvq)\n",
    "\n",
    "__Dataset:__ Airplane Crashes and Fatalities Since 1908\n",
    "\n",
    "Содержит полную историю авиакатастроф по всему миру, с 1908 года-по настоящее время.\n",
    "> `../data/Airplane_Crashes_and_Fatalities_Since_1908.csv`\n",
    "\n",
    "## 0. Импорт библиотек"
   ]
  },
  {
   "cell_type": "code",
   "execution_count": 47,
   "metadata": {
    "slideshow": {
     "slide_type": "subslide"
    }
   },
   "outputs": [],
   "source": [
    "import pandas as pd\n",
    "import numpy as np\n",
    "\n",
    "import scipy.stats as st\n",
    "\n",
    "%matplotlib inline\n",
    "import seaborn as sns\n",
    "import matplotlib.pyplot as plt\n",
    "sns.set(palette='deep', style='darkgrid', rc={\"figure.figsize\": (15, 8)})\n",
    "\n",
    "\n",
    "import warnings\n",
    "warnings.simplefilter('ignore')"
   ]
  },
  {
   "cell_type": "markdown",
   "metadata": {
    "slideshow": {
     "slide_type": "slide"
    }
   },
   "source": [
    "## 1. Чтение данных и просмотр\n",
    "Воспользуйтесь функцией .read_csv()"
   ]
  },
  {
   "cell_type": "code",
   "execution_count": 48,
   "metadata": {
    "slideshow": {
     "slide_type": "subslide"
    }
   },
   "outputs": [],
   "source": [
    "df = pd.read_csv(\"../data/Airplane_Crashes_and_Fatalities_Since_1908.csv\")\n",
    "\n",
    "\n",
    "#Пока не смотрим на этот код: \n",
    "df['Time'] = df['Time'].str.replace('c:','')"
   ]
  },
  {
   "cell_type": "markdown",
   "metadata": {
    "slideshow": {
     "slide_type": "subslide"
    }
   },
   "source": [
    "- __Date__: Дата инцидента\n",
    "- __Time__: Время инцидента\n",
    "- __Location__: Локация инцидента\n",
    "- __Operator__: Авиакомпания\n",
    "- __Flight #__\n",
    "- __Route__\n",
    "- __Type__: Тип разбившегося самолета \n",
    "- __Registration__:\n",
    "- __cn/In__\n",
    "- __Aborad__: Сколько людей было на борту самолета\n",
    "- __Fatalities__: Число погибших (из тех, кто был на борту)\n",
    "- __Ground:__ Число погибших на земле (из тех, кто не был на борту)\n",
    "- __Summary__: Краткое описание инцидента\n",
    "\n"
   ]
  },
  {
   "cell_type": "code",
   "execution_count": 49,
   "metadata": {},
   "outputs": [
    {
     "data": {
      "text/html": [
       "<div>\n",
       "<style scoped>\n",
       "    .dataframe tbody tr th:only-of-type {\n",
       "        vertical-align: middle;\n",
       "    }\n",
       "\n",
       "    .dataframe tbody tr th {\n",
       "        vertical-align: top;\n",
       "    }\n",
       "\n",
       "    .dataframe thead th {\n",
       "        text-align: right;\n",
       "    }\n",
       "</style>\n",
       "<table border=\"1\" class=\"dataframe\">\n",
       "  <thead>\n",
       "    <tr style=\"text-align: right;\">\n",
       "      <th></th>\n",
       "      <th>Date</th>\n",
       "      <th>Time</th>\n",
       "      <th>Location</th>\n",
       "      <th>Operator</th>\n",
       "      <th>Flight #</th>\n",
       "      <th>Route</th>\n",
       "      <th>Type</th>\n",
       "      <th>Registration</th>\n",
       "      <th>cn/In</th>\n",
       "      <th>Aboard</th>\n",
       "      <th>Fatalities</th>\n",
       "      <th>Ground</th>\n",
       "      <th>Summary</th>\n",
       "    </tr>\n",
       "  </thead>\n",
       "  <tbody>\n",
       "    <tr>\n",
       "      <th>0</th>\n",
       "      <td>09/17/1908</td>\n",
       "      <td>17:18</td>\n",
       "      <td>Fort Myer, Virginia</td>\n",
       "      <td>Military - U.S. Army</td>\n",
       "      <td>NaN</td>\n",
       "      <td>Demonstration</td>\n",
       "      <td>Wright Flyer III</td>\n",
       "      <td>NaN</td>\n",
       "      <td>1</td>\n",
       "      <td>2.0</td>\n",
       "      <td>1.0</td>\n",
       "      <td>0.0</td>\n",
       "      <td>During a demonstration flight, a U.S. Army fly...</td>\n",
       "    </tr>\n",
       "    <tr>\n",
       "      <th>1</th>\n",
       "      <td>07/12/1912</td>\n",
       "      <td>06:30</td>\n",
       "      <td>AtlantiCity, New Jersey</td>\n",
       "      <td>Military - U.S. Navy</td>\n",
       "      <td>NaN</td>\n",
       "      <td>Test flight</td>\n",
       "      <td>Dirigible</td>\n",
       "      <td>NaN</td>\n",
       "      <td>NaN</td>\n",
       "      <td>5.0</td>\n",
       "      <td>5.0</td>\n",
       "      <td>0.0</td>\n",
       "      <td>First U.S. dirigible Akron exploded just offsh...</td>\n",
       "    </tr>\n",
       "    <tr>\n",
       "      <th>2</th>\n",
       "      <td>08/06/1913</td>\n",
       "      <td>NaN</td>\n",
       "      <td>Victoria, British Columbia, Canada</td>\n",
       "      <td>Private</td>\n",
       "      <td>-</td>\n",
       "      <td>NaN</td>\n",
       "      <td>Curtiss seaplane</td>\n",
       "      <td>NaN</td>\n",
       "      <td>NaN</td>\n",
       "      <td>1.0</td>\n",
       "      <td>1.0</td>\n",
       "      <td>0.0</td>\n",
       "      <td>The first fatal airplane accident in Canada oc...</td>\n",
       "    </tr>\n",
       "    <tr>\n",
       "      <th>3</th>\n",
       "      <td>09/09/1913</td>\n",
       "      <td>18:30</td>\n",
       "      <td>Over the North Sea</td>\n",
       "      <td>Military - German Navy</td>\n",
       "      <td>NaN</td>\n",
       "      <td>NaN</td>\n",
       "      <td>Zeppelin L-1 (airship)</td>\n",
       "      <td>NaN</td>\n",
       "      <td>NaN</td>\n",
       "      <td>20.0</td>\n",
       "      <td>14.0</td>\n",
       "      <td>0.0</td>\n",
       "      <td>The airship flew into a thunderstorm and encou...</td>\n",
       "    </tr>\n",
       "    <tr>\n",
       "      <th>4</th>\n",
       "      <td>10/17/1913</td>\n",
       "      <td>10:30</td>\n",
       "      <td>Near Johannisthal, Germany</td>\n",
       "      <td>Military - German Navy</td>\n",
       "      <td>NaN</td>\n",
       "      <td>NaN</td>\n",
       "      <td>Zeppelin L-2 (airship)</td>\n",
       "      <td>NaN</td>\n",
       "      <td>NaN</td>\n",
       "      <td>30.0</td>\n",
       "      <td>30.0</td>\n",
       "      <td>0.0</td>\n",
       "      <td>Hydrogen gas which was being vented was sucked...</td>\n",
       "    </tr>\n",
       "  </tbody>\n",
       "</table>\n",
       "</div>"
      ],
      "text/plain": [
       "         Date   Time                            Location  \\\n",
       "0  09/17/1908  17:18                 Fort Myer, Virginia   \n",
       "1  07/12/1912  06:30             AtlantiCity, New Jersey   \n",
       "2  08/06/1913    NaN  Victoria, British Columbia, Canada   \n",
       "3  09/09/1913  18:30                  Over the North Sea   \n",
       "4  10/17/1913  10:30          Near Johannisthal, Germany   \n",
       "\n",
       "                 Operator Flight #          Route                    Type  \\\n",
       "0    Military - U.S. Army      NaN  Demonstration        Wright Flyer III   \n",
       "1    Military - U.S. Navy      NaN    Test flight               Dirigible   \n",
       "2                 Private        -            NaN        Curtiss seaplane   \n",
       "3  Military - German Navy      NaN            NaN  Zeppelin L-1 (airship)   \n",
       "4  Military - German Navy      NaN            NaN  Zeppelin L-2 (airship)   \n",
       "\n",
       "  Registration cn/In  Aboard  Fatalities  Ground  \\\n",
       "0          NaN     1     2.0         1.0     0.0   \n",
       "1          NaN   NaN     5.0         5.0     0.0   \n",
       "2          NaN   NaN     1.0         1.0     0.0   \n",
       "3          NaN   NaN    20.0        14.0     0.0   \n",
       "4          NaN   NaN    30.0        30.0     0.0   \n",
       "\n",
       "                                             Summary  \n",
       "0  During a demonstration flight, a U.S. Army fly...  \n",
       "1  First U.S. dirigible Akron exploded just offsh...  \n",
       "2  The first fatal airplane accident in Canada oc...  \n",
       "3  The airship flew into a thunderstorm and encou...  \n",
       "4  Hydrogen gas which was being vented was sucked...  "
      ]
     },
     "execution_count": 49,
     "metadata": {},
     "output_type": "execute_result"
    }
   ],
   "source": [
    "# Посмотрим на наш датасет, а так же применим поочередно классы .head(), .tail(), .columns\n",
    "df.head()"
   ]
  },
  {
   "cell_type": "markdown",
   "metadata": {},
   "source": [
    "По умолчанию Pandas выводит всего 20 столбцов и 60 строк, поэтому если ваш датафрейм больше, воспользуйтесь функцией set_option:\n",
    "> pd.set_option('display.max_columns', 100)  \n",
    "> pd.set_option('display.max_rows', 100)"
   ]
  },
  {
   "cell_type": "code",
   "execution_count": 50,
   "metadata": {},
   "outputs": [
    {
     "name": "stdout",
     "output_type": "stream",
     "text": [
      "5268 строк\n",
      "13 столбцов\n"
     ]
    }
   ],
   "source": [
    "# .shape позволяет выводить размер датасета.\n",
    "print(df.shape[0], 'строк')\n",
    "print(df.shape[1], 'столбцов')"
   ]
  },
  {
   "cell_type": "code",
   "execution_count": 51,
   "metadata": {},
   "outputs": [
    {
     "data": {
      "text/html": [
       "<div>\n",
       "<style scoped>\n",
       "    .dataframe tbody tr th:only-of-type {\n",
       "        vertical-align: middle;\n",
       "    }\n",
       "\n",
       "    .dataframe tbody tr th {\n",
       "        vertical-align: top;\n",
       "    }\n",
       "\n",
       "    .dataframe thead th {\n",
       "        text-align: right;\n",
       "    }\n",
       "</style>\n",
       "<table border=\"1\" class=\"dataframe\">\n",
       "  <thead>\n",
       "    <tr style=\"text-align: right;\">\n",
       "      <th></th>\n",
       "      <th>Type</th>\n",
       "    </tr>\n",
       "  </thead>\n",
       "  <tbody>\n",
       "    <tr>\n",
       "      <th>Date</th>\n",
       "      <td>object</td>\n",
       "    </tr>\n",
       "    <tr>\n",
       "      <th>Time</th>\n",
       "      <td>object</td>\n",
       "    </tr>\n",
       "    <tr>\n",
       "      <th>Location</th>\n",
       "      <td>object</td>\n",
       "    </tr>\n",
       "    <tr>\n",
       "      <th>Operator</th>\n",
       "      <td>object</td>\n",
       "    </tr>\n",
       "    <tr>\n",
       "      <th>Flight #</th>\n",
       "      <td>object</td>\n",
       "    </tr>\n",
       "    <tr>\n",
       "      <th>Route</th>\n",
       "      <td>object</td>\n",
       "    </tr>\n",
       "    <tr>\n",
       "      <th>Type</th>\n",
       "      <td>object</td>\n",
       "    </tr>\n",
       "    <tr>\n",
       "      <th>Registration</th>\n",
       "      <td>object</td>\n",
       "    </tr>\n",
       "    <tr>\n",
       "      <th>cn/In</th>\n",
       "      <td>object</td>\n",
       "    </tr>\n",
       "    <tr>\n",
       "      <th>Aboard</th>\n",
       "      <td>float64</td>\n",
       "    </tr>\n",
       "    <tr>\n",
       "      <th>Fatalities</th>\n",
       "      <td>float64</td>\n",
       "    </tr>\n",
       "    <tr>\n",
       "      <th>Ground</th>\n",
       "      <td>float64</td>\n",
       "    </tr>\n",
       "    <tr>\n",
       "      <th>Summary</th>\n",
       "      <td>object</td>\n",
       "    </tr>\n",
       "  </tbody>\n",
       "</table>\n",
       "</div>"
      ],
      "text/plain": [
       "                 Type\n",
       "Date           object\n",
       "Time           object\n",
       "Location       object\n",
       "Operator       object\n",
       "Flight #       object\n",
       "Route          object\n",
       "Type           object\n",
       "Registration   object\n",
       "cn/In          object\n",
       "Aboard        float64\n",
       "Fatalities    float64\n",
       "Ground        float64\n",
       "Summary        object"
      ]
     },
     "execution_count": 51,
     "metadata": {},
     "output_type": "execute_result"
    }
   ],
   "source": [
    "#сформируем таблицу с типами данных с помощью класса .dtypes:\n",
    "df_info = pd.DataFrame(df.dtypes,columns=['Type'])\n",
    "df_info"
   ]
  },
  {
   "cell_type": "code",
   "execution_count": 52,
   "metadata": {},
   "outputs": [
    {
     "data": {
      "text/plain": [
       "2476"
      ]
     },
     "execution_count": 52,
     "metadata": {},
     "output_type": "execute_result"
    }
   ],
   "source": [
    "# Посмотрим уникальные значения Авиаоператоров с помощью.unique() и их кол-во .nunique() \n",
    "df['Operator'].nunique()"
   ]
  },
  {
   "cell_type": "code",
   "execution_count": 53,
   "metadata": {},
   "outputs": [
    {
     "name": "stdout",
     "output_type": "stream",
     "text": [
      "<class 'pandas.core.frame.DataFrame'>\n",
      "RangeIndex: 5268 entries, 0 to 5267\n",
      "Data columns (total 13 columns):\n",
      "Date            5268 non-null object\n",
      "Time            3049 non-null object\n",
      "Location        5248 non-null object\n",
      "Operator        5250 non-null object\n",
      "Flight #        1069 non-null object\n",
      "Route           3562 non-null object\n",
      "Type            5241 non-null object\n",
      "Registration    4933 non-null object\n",
      "cn/In           4040 non-null object\n",
      "Aboard          5246 non-null float64\n",
      "Fatalities      5256 non-null float64\n",
      "Ground          5246 non-null float64\n",
      "Summary         4878 non-null object\n",
      "dtypes: float64(3), object(10)\n",
      "memory usage: 535.1+ KB\n"
     ]
    }
   ],
   "source": [
    "#Бывает удобнее воспользоваться классом .info()\n",
    "df.info()"
   ]
  },
  {
   "cell_type": "markdown",
   "metadata": {},
   "source": [
    "## 2. Работа с датой\n",
    "Как мы видим колнка Date иммет тип \"object\", хотя pandas умеет работать с типом данных \"datetime64\""
   ]
  },
  {
   "cell_type": "code",
   "execution_count": 54,
   "metadata": {},
   "outputs": [
    {
     "data": {
      "text/plain": [
       "Date            datetime64[ns]\n",
       "Time            datetime64[ns]\n",
       "Location                object\n",
       "Operator                object\n",
       "Flight #                object\n",
       "Route                   object\n",
       "Type                    object\n",
       "Registration            object\n",
       "cn/In                   object\n",
       "Aboard                 float64\n",
       "Fatalities             float64\n",
       "Ground                 float64\n",
       "Summary                 object\n",
       "dtype: object"
      ]
     },
     "execution_count": 54,
     "metadata": {},
     "output_type": "execute_result"
    }
   ],
   "source": [
    "#смените тип данных для колонки \"Date\" с помощью .to_datetime(), обратите внимание на параметры (dayfirst, yearfirst)\n",
    "#\n",
    "# Ошибки можно проигнорировать параметром errors = 'coerce'\n",
    "\n",
    "df['Date'] = pd.to_datetime(df['Date'])\n",
    "df['Time'] = pd.to_datetime(df['Time'], errors = 'coerce')\n",
    "df.dtypes"
   ]
  },
  {
   "cell_type": "markdown",
   "metadata": {},
   "source": [
    "Что нам дало изменение типа? В частности теперь мы можем доставать значение года (.dt.year), месяца (.dt.month), дня (.dt.day) и даже дня недели(.dt.dayofweek, Понедельник – 0, Воскресенье – 6)\n",
    "\n",
    "Кстати, чтобы добавить колонку, достаточно просто присвоить значения к df['Название новой колонки']"
   ]
  },
  {
   "cell_type": "code",
   "execution_count": 55,
   "metadata": {},
   "outputs": [
    {
     "data": {
      "text/html": [
       "<div>\n",
       "<style scoped>\n",
       "    .dataframe tbody tr th:only-of-type {\n",
       "        vertical-align: middle;\n",
       "    }\n",
       "\n",
       "    .dataframe tbody tr th {\n",
       "        vertical-align: top;\n",
       "    }\n",
       "\n",
       "    .dataframe thead th {\n",
       "        text-align: right;\n",
       "    }\n",
       "</style>\n",
       "<table border=\"1\" class=\"dataframe\">\n",
       "  <thead>\n",
       "    <tr style=\"text-align: right;\">\n",
       "      <th></th>\n",
       "      <th>Date</th>\n",
       "      <th>Time</th>\n",
       "      <th>Location</th>\n",
       "      <th>Operator</th>\n",
       "      <th>Flight #</th>\n",
       "      <th>Route</th>\n",
       "      <th>Type</th>\n",
       "      <th>Registration</th>\n",
       "      <th>cn/In</th>\n",
       "      <th>Aboard</th>\n",
       "      <th>Fatalities</th>\n",
       "      <th>Ground</th>\n",
       "      <th>Summary</th>\n",
       "      <th>year</th>\n",
       "      <th>month</th>\n",
       "      <th>day</th>\n",
       "      <th>day of week</th>\n",
       "      <th>Hours</th>\n",
       "    </tr>\n",
       "  </thead>\n",
       "  <tbody>\n",
       "    <tr>\n",
       "      <th>0</th>\n",
       "      <td>1908-09-17</td>\n",
       "      <td>2019-02-08 17:18:00</td>\n",
       "      <td>Fort Myer, Virginia</td>\n",
       "      <td>Military - U.S. Army</td>\n",
       "      <td>NaN</td>\n",
       "      <td>Demonstration</td>\n",
       "      <td>Wright Flyer III</td>\n",
       "      <td>NaN</td>\n",
       "      <td>1</td>\n",
       "      <td>2.0</td>\n",
       "      <td>1.0</td>\n",
       "      <td>0.0</td>\n",
       "      <td>During a demonstration flight, a U.S. Army fly...</td>\n",
       "      <td>1908</td>\n",
       "      <td>9</td>\n",
       "      <td>17</td>\n",
       "      <td>3</td>\n",
       "      <td>17.0</td>\n",
       "    </tr>\n",
       "    <tr>\n",
       "      <th>1</th>\n",
       "      <td>1912-07-12</td>\n",
       "      <td>2019-02-08 06:30:00</td>\n",
       "      <td>AtlantiCity, New Jersey</td>\n",
       "      <td>Military - U.S. Navy</td>\n",
       "      <td>NaN</td>\n",
       "      <td>Test flight</td>\n",
       "      <td>Dirigible</td>\n",
       "      <td>NaN</td>\n",
       "      <td>NaN</td>\n",
       "      <td>5.0</td>\n",
       "      <td>5.0</td>\n",
       "      <td>0.0</td>\n",
       "      <td>First U.S. dirigible Akron exploded just offsh...</td>\n",
       "      <td>1912</td>\n",
       "      <td>7</td>\n",
       "      <td>12</td>\n",
       "      <td>4</td>\n",
       "      <td>6.0</td>\n",
       "    </tr>\n",
       "    <tr>\n",
       "      <th>2</th>\n",
       "      <td>1913-08-06</td>\n",
       "      <td>NaT</td>\n",
       "      <td>Victoria, British Columbia, Canada</td>\n",
       "      <td>Private</td>\n",
       "      <td>-</td>\n",
       "      <td>NaN</td>\n",
       "      <td>Curtiss seaplane</td>\n",
       "      <td>NaN</td>\n",
       "      <td>NaN</td>\n",
       "      <td>1.0</td>\n",
       "      <td>1.0</td>\n",
       "      <td>0.0</td>\n",
       "      <td>The first fatal airplane accident in Canada oc...</td>\n",
       "      <td>1913</td>\n",
       "      <td>8</td>\n",
       "      <td>6</td>\n",
       "      <td>2</td>\n",
       "      <td>NaN</td>\n",
       "    </tr>\n",
       "  </tbody>\n",
       "</table>\n",
       "</div>"
      ],
      "text/plain": [
       "        Date                Time                            Location  \\\n",
       "0 1908-09-17 2019-02-08 17:18:00                 Fort Myer, Virginia   \n",
       "1 1912-07-12 2019-02-08 06:30:00             AtlantiCity, New Jersey   \n",
       "2 1913-08-06                 NaT  Victoria, British Columbia, Canada   \n",
       "\n",
       "               Operator Flight #          Route              Type  \\\n",
       "0  Military - U.S. Army      NaN  Demonstration  Wright Flyer III   \n",
       "1  Military - U.S. Navy      NaN    Test flight         Dirigible   \n",
       "2               Private        -            NaN  Curtiss seaplane   \n",
       "\n",
       "  Registration cn/In  Aboard  Fatalities  Ground  \\\n",
       "0          NaN     1     2.0         1.0     0.0   \n",
       "1          NaN   NaN     5.0         5.0     0.0   \n",
       "2          NaN   NaN     1.0         1.0     0.0   \n",
       "\n",
       "                                             Summary  year  month  day  \\\n",
       "0  During a demonstration flight, a U.S. Army fly...  1908      9   17   \n",
       "1  First U.S. dirigible Akron exploded just offsh...  1912      7   12   \n",
       "2  The first fatal airplane accident in Canada oc...  1913      8    6   \n",
       "\n",
       "   day of week  Hours  \n",
       "0            3   17.0  \n",
       "1            4    6.0  \n",
       "2            2    NaN  "
      ]
     },
     "execution_count": 55,
     "metadata": {},
     "output_type": "execute_result"
    }
   ],
   "source": [
    "#Достаньте из 'Date' - Год, месяц, день недели. \n",
    "\n",
    "df['year'] = df['Date'].dt.year\n",
    "df['month'] = df['Date'].dt.month\n",
    "df['day'] = df['Date'].dt.day\n",
    "df['day of week'] = df['Date'].dt.dayofweek # Monday = 0, Sunday = 6,\n",
    "\n",
    "df['Hours'] = df['Time'].dt.hour\n",
    "df.head(3)"
   ]
  },
  {
   "cell_type": "markdown",
   "metadata": {},
   "source": [
    "## 3. Обращение к данным, фильтрация и другое"
   ]
  },
  {
   "cell_type": "code",
   "execution_count": 56,
   "metadata": {},
   "outputs": [
    {
     "data": {
      "text/plain": [
       "75"
      ]
     },
     "execution_count": 56,
     "metadata": {},
     "output_type": "execute_result"
    }
   ],
   "source": [
    "#Посмотрите сколько инцидентов было в 2002 году: \n",
    "df[df['year'] == 2002].shape[0]"
   ]
  },
  {
   "cell_type": "code",
   "execution_count": 57,
   "metadata": {},
   "outputs": [
    {
     "data": {
      "text/plain": [
       "30"
      ]
     },
     "execution_count": 57,
     "metadata": {},
     "output_type": "execute_result"
    }
   ],
   "source": [
    "#Посмотрите сколько инцидентов было c кол-вом жертв (суммарно на земле и на борту) больше 200: \n",
    "df[df['Fatalities'] + df['Ground'] > 200].shape[0]"
   ]
  },
  {
   "cell_type": "code",
   "execution_count": 58,
   "metadata": {},
   "outputs": [],
   "source": [
    "# Кроме того мы можем производить любые операции со столбцами складывать/умножать/делить/логарифимировать etc.   \n",
    "df['all_victims'] = df['Fatalities'] + df['Ground']"
   ]
  },
  {
   "cell_type": "code",
   "execution_count": 59,
   "metadata": {},
   "outputs": [
    {
     "data": {
      "text/plain": [
       "1"
      ]
     },
     "execution_count": 59,
     "metadata": {},
     "output_type": "execute_result"
    }
   ],
   "source": [
    "# Посомтрите сколько инцидентов было c кол-вом жертв (суммарно на земле и на борту) больше 200 в 2002 году: \n",
    "df[(df['year'] == 2002) & (df['all_victims'] > 200)].shape[0]"
   ]
  },
  {
   "cell_type": "code",
   "execution_count": 60,
   "metadata": {},
   "outputs": [
    {
     "name": "stdout",
     "output_type": "stream",
     "text": [
      "В 2002 году в  Off Penghu Island, Taiwan разбился Boeing B-747-209B . Общее кол-во жертв 225.0\n"
     ]
    }
   ],
   "source": [
    "# Где произошел инцидент? Какой был самолет? Сколько было жертв? \n",
    "print('В 2002 году в ', df[(df['year'] == 2002) & (df['all_victims'] > 200)]['Location'].values[0],\n",
    "      'разбился', df[(df['year'] == 2002) & (df['all_victims'] > 200)]['Type'].values[0], '. '\n",
    "      'Общее кол-во жертв', df[(df['year'] == 2002) & (df['all_victims'] > 200)]['all_victims'].values[0]\n",
    "     )"
   ]
  },
  {
   "cell_type": "code",
   "execution_count": 61,
   "metadata": {},
   "outputs": [],
   "source": [
    "# Самостоятельно прочитать про .loc / .iloc"
   ]
  },
  {
   "cell_type": "markdown",
   "metadata": {},
   "source": [
    "# 4. Работа с текстом и пропусками, объединение таблиц"
   ]
  },
  {
   "cell_type": "code",
   "execution_count": 62,
   "metadata": {},
   "outputs": [
    {
     "data": {
      "text/plain": [
       "0                   Fort Myer, Virginia\n",
       "1               AtlantiCity, New Jersey\n",
       "2    Victoria, British Columbia, Canada\n",
       "3                    Over the North Sea\n",
       "4            Near Johannisthal, Germany\n",
       "Name: Location, dtype: object"
      ]
     },
     "execution_count": 62,
     "metadata": {},
     "output_type": "execute_result"
    }
   ],
   "source": [
    "# Посмотрим на столбец 'Location'\n",
    "df['Location'].head()"
   ]
  },
  {
   "cell_type": "code",
   "execution_count": 63,
   "metadata": {},
   "outputs": [
    {
     "data": {
      "text/html": [
       "<div>\n",
       "<style scoped>\n",
       "    .dataframe tbody tr th:only-of-type {\n",
       "        vertical-align: middle;\n",
       "    }\n",
       "\n",
       "    .dataframe tbody tr th {\n",
       "        vertical-align: top;\n",
       "    }\n",
       "\n",
       "    .dataframe thead th {\n",
       "        text-align: right;\n",
       "    }\n",
       "</style>\n",
       "<table border=\"1\" class=\"dataframe\">\n",
       "  <thead>\n",
       "    <tr style=\"text-align: right;\">\n",
       "      <th></th>\n",
       "      <th>0</th>\n",
       "      <th>1</th>\n",
       "      <th>2</th>\n",
       "      <th>3</th>\n",
       "    </tr>\n",
       "  </thead>\n",
       "  <tbody>\n",
       "    <tr>\n",
       "      <th>0</th>\n",
       "      <td>Fort Myer</td>\n",
       "      <td>Virginia</td>\n",
       "      <td>None</td>\n",
       "      <td>None</td>\n",
       "    </tr>\n",
       "    <tr>\n",
       "      <th>1</th>\n",
       "      <td>AtlantiCity</td>\n",
       "      <td>New Jersey</td>\n",
       "      <td>None</td>\n",
       "      <td>None</td>\n",
       "    </tr>\n",
       "    <tr>\n",
       "      <th>2</th>\n",
       "      <td>Victoria</td>\n",
       "      <td>British Columbia</td>\n",
       "      <td>Canada</td>\n",
       "      <td>None</td>\n",
       "    </tr>\n",
       "    <tr>\n",
       "      <th>3</th>\n",
       "      <td>Over the North Sea</td>\n",
       "      <td>None</td>\n",
       "      <td>None</td>\n",
       "      <td>None</td>\n",
       "    </tr>\n",
       "    <tr>\n",
       "      <th>4</th>\n",
       "      <td>Near Johannisthal</td>\n",
       "      <td>Germany</td>\n",
       "      <td>None</td>\n",
       "      <td>None</td>\n",
       "    </tr>\n",
       "  </tbody>\n",
       "</table>\n",
       "</div>"
      ],
      "text/plain": [
       "                    0                  1        2     3\n",
       "0           Fort Myer           Virginia     None  None\n",
       "1         AtlantiCity         New Jersey     None  None\n",
       "2            Victoria   British Columbia   Canada  None\n",
       "3  Over the North Sea               None     None  None\n",
       "4   Near Johannisthal            Germany     None  None"
      ]
     },
     "execution_count": 63,
     "metadata": {},
     "output_type": "execute_result"
    }
   ],
   "source": [
    "# Как видим локация расписана через запятую, попробуем разбить название с помощью .str.split\n",
    "loc = df['Location'].str.split(',', expand=True)\n",
    "loc.head()\n",
    "\n",
    "#кстати в .str есть много всего полезного, например используемый ранее .replace()"
   ]
  },
  {
   "cell_type": "markdown",
   "metadata": {},
   "source": [
    "Видно, что у нас появились пропуски, однако чем правее тем более укрупненно можно посмотреть локацию. \n",
    "Пропуски можно удалить с помощью .drop(), однако нам более интересно заполнить их с помощью fillna()\n",
    "Не забывайте, что есть параметр inplace"
   ]
  },
  {
   "cell_type": "code",
   "execution_count": 64,
   "metadata": {},
   "outputs": [
    {
     "data": {
      "text/plain": [
       "567"
      ]
     },
     "execution_count": 64,
     "metadata": {},
     "output_type": "execute_result"
    }
   ],
   "source": [
    "loc[3] = loc[3].fillna(loc[2])\n",
    "loc[3] = loc[3].fillna(loc[1])\n",
    "loc[3] = loc[3].fillna(loc[0])\n",
    "loc[3].nunique()"
   ]
  },
  {
   "cell_type": "code",
   "execution_count": 65,
   "metadata": {},
   "outputs": [
    {
     "data": {
      "text/html": [
       "<div>\n",
       "<style scoped>\n",
       "    .dataframe tbody tr th:only-of-type {\n",
       "        vertical-align: middle;\n",
       "    }\n",
       "\n",
       "    .dataframe tbody tr th {\n",
       "        vertical-align: top;\n",
       "    }\n",
       "\n",
       "    .dataframe thead th {\n",
       "        text-align: right;\n",
       "    }\n",
       "</style>\n",
       "<table border=\"1\" class=\"dataframe\">\n",
       "  <thead>\n",
       "    <tr style=\"text-align: right;\">\n",
       "      <th></th>\n",
       "      <th>Date</th>\n",
       "      <th>Time</th>\n",
       "      <th>Location</th>\n",
       "      <th>Operator</th>\n",
       "      <th>Flight #</th>\n",
       "      <th>Route</th>\n",
       "      <th>Type</th>\n",
       "      <th>Registration</th>\n",
       "      <th>cn/In</th>\n",
       "      <th>Aboard</th>\n",
       "      <th>...</th>\n",
       "      <th>year</th>\n",
       "      <th>month</th>\n",
       "      <th>day</th>\n",
       "      <th>day of week</th>\n",
       "      <th>Hours</th>\n",
       "      <th>all_victims</th>\n",
       "      <th>0</th>\n",
       "      <th>1</th>\n",
       "      <th>2</th>\n",
       "      <th>3</th>\n",
       "    </tr>\n",
       "  </thead>\n",
       "  <tbody>\n",
       "    <tr>\n",
       "      <th>0</th>\n",
       "      <td>1908-09-17</td>\n",
       "      <td>2019-02-08 17:18:00</td>\n",
       "      <td>Fort Myer, Virginia</td>\n",
       "      <td>Military - U.S. Army</td>\n",
       "      <td>NaN</td>\n",
       "      <td>Demonstration</td>\n",
       "      <td>Wright Flyer III</td>\n",
       "      <td>NaN</td>\n",
       "      <td>1</td>\n",
       "      <td>2.0</td>\n",
       "      <td>...</td>\n",
       "      <td>1908</td>\n",
       "      <td>9</td>\n",
       "      <td>17</td>\n",
       "      <td>3</td>\n",
       "      <td>17.0</td>\n",
       "      <td>1.0</td>\n",
       "      <td>Fort Myer</td>\n",
       "      <td>Virginia</td>\n",
       "      <td>None</td>\n",
       "      <td>Virginia</td>\n",
       "    </tr>\n",
       "    <tr>\n",
       "      <th>1</th>\n",
       "      <td>1912-07-12</td>\n",
       "      <td>2019-02-08 06:30:00</td>\n",
       "      <td>AtlantiCity, New Jersey</td>\n",
       "      <td>Military - U.S. Navy</td>\n",
       "      <td>NaN</td>\n",
       "      <td>Test flight</td>\n",
       "      <td>Dirigible</td>\n",
       "      <td>NaN</td>\n",
       "      <td>NaN</td>\n",
       "      <td>5.0</td>\n",
       "      <td>...</td>\n",
       "      <td>1912</td>\n",
       "      <td>7</td>\n",
       "      <td>12</td>\n",
       "      <td>4</td>\n",
       "      <td>6.0</td>\n",
       "      <td>5.0</td>\n",
       "      <td>AtlantiCity</td>\n",
       "      <td>New Jersey</td>\n",
       "      <td>None</td>\n",
       "      <td>New Jersey</td>\n",
       "    </tr>\n",
       "  </tbody>\n",
       "</table>\n",
       "<p>2 rows × 23 columns</p>\n",
       "</div>"
      ],
      "text/plain": [
       "        Date                Time                 Location  \\\n",
       "0 1908-09-17 2019-02-08 17:18:00      Fort Myer, Virginia   \n",
       "1 1912-07-12 2019-02-08 06:30:00  AtlantiCity, New Jersey   \n",
       "\n",
       "               Operator Flight #          Route              Type  \\\n",
       "0  Military - U.S. Army      NaN  Demonstration  Wright Flyer III   \n",
       "1  Military - U.S. Navy      NaN    Test flight         Dirigible   \n",
       "\n",
       "  Registration cn/In  Aboard     ...       year  month day  day of week  \\\n",
       "0          NaN     1     2.0     ...       1908      9  17            3   \n",
       "1          NaN   NaN     5.0     ...       1912      7  12            4   \n",
       "\n",
       "   Hours  all_victims            0            1     2            3  \n",
       "0   17.0          1.0    Fort Myer     Virginia  None     Virginia  \n",
       "1    6.0          5.0  AtlantiCity   New Jersey  None   New Jersey  \n",
       "\n",
       "[2 rows x 23 columns]"
      ]
     },
     "execution_count": 65,
     "metadata": {},
     "output_type": "execute_result"
    }
   ],
   "source": [
    "# объединим таблицы с помощью pd.merge()\n",
    "df_full = pd.merge(df, loc, left_index=True, right_index=True)\n",
    "df_full.head(2)"
   ]
  },
  {
   "cell_type": "code",
   "execution_count": 66,
   "metadata": {},
   "outputs": [
    {
     "data": {
      "text/html": [
       "<div>\n",
       "<style scoped>\n",
       "    .dataframe tbody tr th:only-of-type {\n",
       "        vertical-align: middle;\n",
       "    }\n",
       "\n",
       "    .dataframe tbody tr th {\n",
       "        vertical-align: top;\n",
       "    }\n",
       "\n",
       "    .dataframe thead th {\n",
       "        text-align: right;\n",
       "    }\n",
       "</style>\n",
       "<table border=\"1\" class=\"dataframe\">\n",
       "  <thead>\n",
       "    <tr style=\"text-align: right;\">\n",
       "      <th></th>\n",
       "      <th>Date</th>\n",
       "      <th>Time</th>\n",
       "      <th>Location</th>\n",
       "      <th>Operator</th>\n",
       "      <th>Flight #</th>\n",
       "      <th>Route</th>\n",
       "      <th>Type</th>\n",
       "      <th>Registration</th>\n",
       "      <th>cn/In</th>\n",
       "      <th>Aboard</th>\n",
       "      <th>Fatalities</th>\n",
       "      <th>Ground</th>\n",
       "      <th>Summary</th>\n",
       "      <th>year</th>\n",
       "      <th>month</th>\n",
       "      <th>day</th>\n",
       "      <th>day of week</th>\n",
       "      <th>Hours</th>\n",
       "      <th>all_victims</th>\n",
       "      <th>Country</th>\n",
       "    </tr>\n",
       "  </thead>\n",
       "  <tbody>\n",
       "    <tr>\n",
       "      <th>0</th>\n",
       "      <td>1908-09-17</td>\n",
       "      <td>2019-02-08 17:18:00</td>\n",
       "      <td>Fort Myer, Virginia</td>\n",
       "      <td>Military - U.S. Army</td>\n",
       "      <td>NaN</td>\n",
       "      <td>Demonstration</td>\n",
       "      <td>Wright Flyer III</td>\n",
       "      <td>NaN</td>\n",
       "      <td>1</td>\n",
       "      <td>2.0</td>\n",
       "      <td>1.0</td>\n",
       "      <td>0.0</td>\n",
       "      <td>During a demonstration flight, a U.S. Army fly...</td>\n",
       "      <td>1908</td>\n",
       "      <td>9</td>\n",
       "      <td>17</td>\n",
       "      <td>3</td>\n",
       "      <td>17.0</td>\n",
       "      <td>1.0</td>\n",
       "      <td>Virginia</td>\n",
       "    </tr>\n",
       "    <tr>\n",
       "      <th>1</th>\n",
       "      <td>1912-07-12</td>\n",
       "      <td>2019-02-08 06:30:00</td>\n",
       "      <td>AtlantiCity, New Jersey</td>\n",
       "      <td>Military - U.S. Navy</td>\n",
       "      <td>NaN</td>\n",
       "      <td>Test flight</td>\n",
       "      <td>Dirigible</td>\n",
       "      <td>NaN</td>\n",
       "      <td>NaN</td>\n",
       "      <td>5.0</td>\n",
       "      <td>5.0</td>\n",
       "      <td>0.0</td>\n",
       "      <td>First U.S. dirigible Akron exploded just offsh...</td>\n",
       "      <td>1912</td>\n",
       "      <td>7</td>\n",
       "      <td>12</td>\n",
       "      <td>4</td>\n",
       "      <td>6.0</td>\n",
       "      <td>5.0</td>\n",
       "      <td>New Jersey</td>\n",
       "    </tr>\n",
       "    <tr>\n",
       "      <th>2</th>\n",
       "      <td>1913-08-06</td>\n",
       "      <td>NaT</td>\n",
       "      <td>Victoria, British Columbia, Canada</td>\n",
       "      <td>Private</td>\n",
       "      <td>-</td>\n",
       "      <td>NaN</td>\n",
       "      <td>Curtiss seaplane</td>\n",
       "      <td>NaN</td>\n",
       "      <td>NaN</td>\n",
       "      <td>1.0</td>\n",
       "      <td>1.0</td>\n",
       "      <td>0.0</td>\n",
       "      <td>The first fatal airplane accident in Canada oc...</td>\n",
       "      <td>1913</td>\n",
       "      <td>8</td>\n",
       "      <td>6</td>\n",
       "      <td>2</td>\n",
       "      <td>NaN</td>\n",
       "      <td>1.0</td>\n",
       "      <td>Canada</td>\n",
       "    </tr>\n",
       "  </tbody>\n",
       "</table>\n",
       "</div>"
      ],
      "text/plain": [
       "        Date                Time                            Location  \\\n",
       "0 1908-09-17 2019-02-08 17:18:00                 Fort Myer, Virginia   \n",
       "1 1912-07-12 2019-02-08 06:30:00             AtlantiCity, New Jersey   \n",
       "2 1913-08-06                 NaT  Victoria, British Columbia, Canada   \n",
       "\n",
       "               Operator Flight #          Route              Type  \\\n",
       "0  Military - U.S. Army      NaN  Demonstration  Wright Flyer III   \n",
       "1  Military - U.S. Navy      NaN    Test flight         Dirigible   \n",
       "2               Private        -            NaN  Curtiss seaplane   \n",
       "\n",
       "  Registration cn/In  Aboard  Fatalities  Ground  \\\n",
       "0          NaN     1     2.0         1.0     0.0   \n",
       "1          NaN   NaN     5.0         5.0     0.0   \n",
       "2          NaN   NaN     1.0         1.0     0.0   \n",
       "\n",
       "                                             Summary  year  month  day  \\\n",
       "0  During a demonstration flight, a U.S. Army fly...  1908      9   17   \n",
       "1  First U.S. dirigible Akron exploded just offsh...  1912      7   12   \n",
       "2  The first fatal airplane accident in Canada oc...  1913      8    6   \n",
       "\n",
       "   day of week  Hours  all_victims      Country  \n",
       "0            3   17.0          1.0     Virginia  \n",
       "1            4    6.0          5.0   New Jersey  \n",
       "2            2    NaN          1.0       Canada  "
      ]
     },
     "execution_count": 66,
     "metadata": {},
     "output_type": "execute_result"
    }
   ],
   "source": [
    "# Удалим колонки '0', '1', '2' с помощью .drop() \n",
    "# переименуем колонку '3' в  'Country' (по крайней мере мы надеемся, что там страна)\n",
    "df_full = df_full.drop([0,1,2], axis=1)\n",
    "df_full.columns.values[19] = 'Country'\n",
    "df_full.head(3)"
   ]
  },
  {
   "cell_type": "code",
   "execution_count": 67,
   "metadata": {},
   "outputs": [],
   "source": [
    "# Сделаем признаки: Day_period и Holiday с помощью .apply(lambda x: ...)\n",
    "\n",
    "def get_day_time(hour):\n",
    "    return {\n",
    "          0 <= hour < 6:   'Ночь',\n",
    "          6 <= hour < 11:  'Утро',\n",
    "         11 <= hour < 19:  'День',\n",
    "         19 <= hour < 23:  'Вечер',\n",
    "         23 <= hour < 25:  'Ночь'\n",
    "    }[True]\n",
    "        \n",
    "df_full['Day_period'] = df_full['Hours'].fillna(0).apply(lambda x: get_day_time(x))\n",
    "df_full['Holiday'] = df_full['day of week'].fillna(0).apply(lambda x: 1 if x >= 5 else 0) \n",
    "\n",
    "# .map на самостоятельное изучение"
   ]
  },
  {
   "cell_type": "markdown",
   "metadata": {},
   "source": [
    "## 5. Сводные таблицы, группировка и агрегация данных "
   ]
  },
  {
   "cell_type": "code",
   "execution_count": 68,
   "metadata": {},
   "outputs": [
    {
     "data": {
      "text/html": [
       "<div>\n",
       "<style scoped>\n",
       "    .dataframe tbody tr th:only-of-type {\n",
       "        vertical-align: middle;\n",
       "    }\n",
       "\n",
       "    .dataframe tbody tr th {\n",
       "        vertical-align: top;\n",
       "    }\n",
       "\n",
       "    .dataframe thead th {\n",
       "        text-align: right;\n",
       "    }\n",
       "</style>\n",
       "<table border=\"1\" class=\"dataframe\">\n",
       "  <thead>\n",
       "    <tr style=\"text-align: right;\">\n",
       "      <th></th>\n",
       "      <th>Aboard</th>\n",
       "      <th>Fatalities</th>\n",
       "      <th>Ground</th>\n",
       "      <th>month</th>\n",
       "      <th>day</th>\n",
       "      <th>day of week</th>\n",
       "      <th>Hours</th>\n",
       "      <th>all_victims</th>\n",
       "      <th>Holiday</th>\n",
       "    </tr>\n",
       "    <tr>\n",
       "      <th>year</th>\n",
       "      <th></th>\n",
       "      <th></th>\n",
       "      <th></th>\n",
       "      <th></th>\n",
       "      <th></th>\n",
       "      <th></th>\n",
       "      <th></th>\n",
       "      <th></th>\n",
       "      <th></th>\n",
       "    </tr>\n",
       "  </thead>\n",
       "  <tbody>\n",
       "    <tr>\n",
       "      <th>2001</th>\n",
       "      <td>2111.0</td>\n",
       "      <td>1398.0</td>\n",
       "      <td>5641.0</td>\n",
       "      <td>486</td>\n",
       "      <td>1054</td>\n",
       "      <td>200</td>\n",
       "      <td>773.0</td>\n",
       "      <td>7039.0</td>\n",
       "      <td>18</td>\n",
       "    </tr>\n",
       "    <tr>\n",
       "      <th>1972</th>\n",
       "      <td>3635.0</td>\n",
       "      <td>2937.0</td>\n",
       "      <td>30.0</td>\n",
       "      <td>695</td>\n",
       "      <td>1690</td>\n",
       "      <td>319</td>\n",
       "      <td>810.0</td>\n",
       "      <td>2967.0</td>\n",
       "      <td>28</td>\n",
       "    </tr>\n",
       "    <tr>\n",
       "      <th>1985</th>\n",
       "      <td>3480.0</td>\n",
       "      <td>2670.0</td>\n",
       "      <td>1.0</td>\n",
       "      <td>451</td>\n",
       "      <td>1232</td>\n",
       "      <td>214</td>\n",
       "      <td>587.0</td>\n",
       "      <td>2671.0</td>\n",
       "      <td>15</td>\n",
       "    </tr>\n",
       "    <tr>\n",
       "      <th>1996</th>\n",
       "      <td>3058.0</td>\n",
       "      <td>2386.0</td>\n",
       "      <td>284.0</td>\n",
       "      <td>555</td>\n",
       "      <td>1192</td>\n",
       "      <td>230</td>\n",
       "      <td>894.0</td>\n",
       "      <td>2670.0</td>\n",
       "      <td>22</td>\n",
       "    </tr>\n",
       "    <tr>\n",
       "      <th>1973</th>\n",
       "      <td>3433.0</td>\n",
       "      <td>2485.0</td>\n",
       "      <td>16.0</td>\n",
       "      <td>581</td>\n",
       "      <td>1568</td>\n",
       "      <td>241</td>\n",
       "      <td>699.0</td>\n",
       "      <td>2501.0</td>\n",
       "      <td>23</td>\n",
       "    </tr>\n",
       "    <tr>\n",
       "      <th>1989</th>\n",
       "      <td>3643.0</td>\n",
       "      <td>2293.0</td>\n",
       "      <td>79.0</td>\n",
       "      <td>672</td>\n",
       "      <td>1729</td>\n",
       "      <td>270</td>\n",
       "      <td>763.0</td>\n",
       "      <td>2372.0</td>\n",
       "      <td>20</td>\n",
       "    </tr>\n",
       "    <tr>\n",
       "      <th>1974</th>\n",
       "      <td>3064.0</td>\n",
       "      <td>2318.0</td>\n",
       "      <td>0.0</td>\n",
       "      <td>543</td>\n",
       "      <td>1306</td>\n",
       "      <td>288</td>\n",
       "      <td>677.0</td>\n",
       "      <td>2318.0</td>\n",
       "      <td>29</td>\n",
       "    </tr>\n",
       "    <tr>\n",
       "      <th>1976</th>\n",
       "      <td>2629.0</td>\n",
       "      <td>2059.0</td>\n",
       "      <td>143.0</td>\n",
       "      <td>536</td>\n",
       "      <td>1224</td>\n",
       "      <td>271</td>\n",
       "      <td>567.0</td>\n",
       "      <td>2202.0</td>\n",
       "      <td>26</td>\n",
       "    </tr>\n",
       "    <tr>\n",
       "      <th>1992</th>\n",
       "      <td>2965.0</td>\n",
       "      <td>2122.0</td>\n",
       "      <td>69.0</td>\n",
       "      <td>593</td>\n",
       "      <td>1537</td>\n",
       "      <td>236</td>\n",
       "      <td>594.0</td>\n",
       "      <td>2191.0</td>\n",
       "      <td>20</td>\n",
       "    </tr>\n",
       "    <tr>\n",
       "      <th>1968</th>\n",
       "      <td>2928.0</td>\n",
       "      <td>2156.0</td>\n",
       "      <td>16.0</td>\n",
       "      <td>630</td>\n",
       "      <td>1501</td>\n",
       "      <td>261</td>\n",
       "      <td>812.0</td>\n",
       "      <td>2172.0</td>\n",
       "      <td>23</td>\n",
       "    </tr>\n",
       "  </tbody>\n",
       "</table>\n",
       "</div>"
      ],
      "text/plain": [
       "      Aboard  Fatalities  Ground  month   day  day of week  Hours  \\\n",
       "year                                                                \n",
       "2001  2111.0      1398.0  5641.0    486  1054          200  773.0   \n",
       "1972  3635.0      2937.0    30.0    695  1690          319  810.0   \n",
       "1985  3480.0      2670.0     1.0    451  1232          214  587.0   \n",
       "1996  3058.0      2386.0   284.0    555  1192          230  894.0   \n",
       "1973  3433.0      2485.0    16.0    581  1568          241  699.0   \n",
       "1989  3643.0      2293.0    79.0    672  1729          270  763.0   \n",
       "1974  3064.0      2318.0     0.0    543  1306          288  677.0   \n",
       "1976  2629.0      2059.0   143.0    536  1224          271  567.0   \n",
       "1992  2965.0      2122.0    69.0    593  1537          236  594.0   \n",
       "1968  2928.0      2156.0    16.0    630  1501          261  812.0   \n",
       "\n",
       "      all_victims  Holiday  \n",
       "year                        \n",
       "2001       7039.0       18  \n",
       "1972       2967.0       28  \n",
       "1985       2671.0       15  \n",
       "1996       2670.0       22  \n",
       "1973       2501.0       23  \n",
       "1989       2372.0       20  \n",
       "1974       2318.0       29  \n",
       "1976       2202.0       26  \n",
       "1992       2191.0       20  \n",
       "1968       2172.0       23  "
      ]
     },
     "execution_count": 68,
     "metadata": {},
     "output_type": "execute_result"
    }
   ],
   "source": [
    "# C помощью .groupby посчитайте сумму жертв по годам. Затем отсортируйте их по убыванию и сделайте топ-10 \n",
    "df_full.groupby('year').sum().sort_values('all_victims', ascending=False).head(10)"
   ]
  },
  {
   "cell_type": "code",
   "execution_count": 69,
   "metadata": {},
   "outputs": [
    {
     "data": {
      "image/png": "[encoded data removed]",
      "text/plain": [
       "<Figure size 1080x576 with 1 Axes>"
      ]
     },
     "metadata": {},
     "output_type": "display_data"
    }
   ],
   "source": [
    "# Нарисуйте график all_victims, Aboard, Fatalities для каждого года\n",
    "df.groupby('year').sum()[['all_victims', 'Ground', 'Fatalities']].plot(rot=45) #kind='bar'\n",
    "plt.title('Количество жерт по годам')\n",
    "plt.show()"
   ]
  },
  {
   "cell_type": "code",
   "execution_count": 70,
   "metadata": {},
   "outputs": [
    {
     "data": {
      "text/html": [
       "<div>\n",
       "<style scoped>\n",
       "    .dataframe tbody tr th:only-of-type {\n",
       "        vertical-align: middle;\n",
       "    }\n",
       "\n",
       "    .dataframe tbody tr th {\n",
       "        vertical-align: top;\n",
       "    }\n",
       "\n",
       "    .dataframe thead th {\n",
       "        text-align: right;\n",
       "    }\n",
       "</style>\n",
       "<table border=\"1\" class=\"dataframe\">\n",
       "  <thead>\n",
       "    <tr style=\"text-align: right;\">\n",
       "      <th></th>\n",
       "      <th>Aboard</th>\n",
       "      <th>Fatalities</th>\n",
       "      <th>Ground</th>\n",
       "      <th>all_victims</th>\n",
       "      <th>count</th>\n",
       "    </tr>\n",
       "    <tr>\n",
       "      <th>year</th>\n",
       "      <th></th>\n",
       "      <th></th>\n",
       "      <th></th>\n",
       "      <th></th>\n",
       "      <th></th>\n",
       "    </tr>\n",
       "  </thead>\n",
       "  <tbody>\n",
       "    <tr>\n",
       "      <th>2005</th>\n",
       "      <td>2164.0</td>\n",
       "      <td>1306.0</td>\n",
       "      <td>59.0</td>\n",
       "      <td>1365.0</td>\n",
       "      <td>51</td>\n",
       "    </tr>\n",
       "    <tr>\n",
       "      <th>2006</th>\n",
       "      <td>1413.0</td>\n",
       "      <td>1136.0</td>\n",
       "      <td>4.0</td>\n",
       "      <td>1140.0</td>\n",
       "      <td>49</td>\n",
       "    </tr>\n",
       "    <tr>\n",
       "      <th>2007</th>\n",
       "      <td>1364.0</td>\n",
       "      <td>931.0</td>\n",
       "      <td>57.0</td>\n",
       "      <td>988.0</td>\n",
       "      <td>54</td>\n",
       "    </tr>\n",
       "    <tr>\n",
       "      <th>2008</th>\n",
       "      <td>1463.0</td>\n",
       "      <td>820.0</td>\n",
       "      <td>60.0</td>\n",
       "      <td>880.0</td>\n",
       "      <td>62</td>\n",
       "    </tr>\n",
       "    <tr>\n",
       "      <th>2009</th>\n",
       "      <td>891.0</td>\n",
       "      <td>581.0</td>\n",
       "      <td>3.0</td>\n",
       "      <td>580.0</td>\n",
       "      <td>23</td>\n",
       "    </tr>\n",
       "  </tbody>\n",
       "</table>\n",
       "</div>"
      ],
      "text/plain": [
       "      Aboard  Fatalities  Ground  all_victims  count\n",
       "year                                                \n",
       "2005  2164.0      1306.0    59.0       1365.0     51\n",
       "2006  1413.0      1136.0     4.0       1140.0     49\n",
       "2007  1364.0       931.0    57.0        988.0     54\n",
       "2008  1463.0       820.0    60.0        880.0     62\n",
       "2009   891.0       581.0     3.0        580.0     23"
      ]
     },
     "execution_count": 70,
     "metadata": {},
     "output_type": "execute_result"
    }
   ],
   "source": [
    "# Посчитайте кол-во Инцидентов и жертв по годам. На этот раз используйте .pivot_table()\n",
    "\n",
    "crashes_by_year = pd.pivot_table(df_full, index='year', values=['Aboard','Fatalities','Ground','all_victims'], aggfunc='sum')\n",
    "crashes_by_year['count'] =  pd.pivot_table(df_full, index='year', values=['all_victims'], aggfunc='count').values.T[0]\n",
    "crashes_by_year.tail()"
   ]
  },
  {
   "cell_type": "code",
   "execution_count": 71,
   "metadata": {},
   "outputs": [],
   "source": [
    "# Сколько жертв на инцидент? \n",
    "crashes_by_year['victims_on_incident'] = crashes_by_year['all_victims']/crashes_by_year['count']"
   ]
  },
  {
   "cell_type": "code",
   "execution_count": 72,
   "metadata": {},
   "outputs": [
    {
     "data": {
      "text/html": [
       "<div>\n",
       "<style scoped>\n",
       "    .dataframe tbody tr th:only-of-type {\n",
       "        vertical-align: middle;\n",
       "    }\n",
       "\n",
       "    .dataframe tbody tr th {\n",
       "        vertical-align: top;\n",
       "    }\n",
       "\n",
       "    .dataframe thead th {\n",
       "        text-align: right;\n",
       "    }\n",
       "</style>\n",
       "<table border=\"1\" class=\"dataframe\">\n",
       "  <thead>\n",
       "    <tr style=\"text-align: right;\">\n",
       "      <th></th>\n",
       "      <th>Aboard</th>\n",
       "      <th>Fatalities</th>\n",
       "      <th>Ground</th>\n",
       "      <th>all_victims</th>\n",
       "      <th>count</th>\n",
       "      <th>victims_on_incident</th>\n",
       "    </tr>\n",
       "  </thead>\n",
       "  <tbody>\n",
       "    <tr>\n",
       "      <th>Aboard</th>\n",
       "      <td>1.000000</td>\n",
       "      <td>0.971557</td>\n",
       "      <td>0.088475</td>\n",
       "      <td>0.809457</td>\n",
       "      <td>0.911233</td>\n",
       "      <td>0.638954</td>\n",
       "    </tr>\n",
       "    <tr>\n",
       "      <th>Fatalities</th>\n",
       "      <td>0.971557</td>\n",
       "      <td>1.000000</td>\n",
       "      <td>0.073032</td>\n",
       "      <td>0.822771</td>\n",
       "      <td>0.921589</td>\n",
       "      <td>0.649083</td>\n",
       "    </tr>\n",
       "    <tr>\n",
       "      <th>Ground</th>\n",
       "      <td>0.088475</td>\n",
       "      <td>0.073032</td>\n",
       "      <td>1.000000</td>\n",
       "      <td>0.626929</td>\n",
       "      <td>0.092734</td>\n",
       "      <td>0.722433</td>\n",
       "    </tr>\n",
       "    <tr>\n",
       "      <th>all_victims</th>\n",
       "      <td>0.809457</td>\n",
       "      <td>0.822771</td>\n",
       "      <td>0.626929</td>\n",
       "      <td>1.000000</td>\n",
       "      <td>0.772748</td>\n",
       "      <td>0.918634</td>\n",
       "    </tr>\n",
       "    <tr>\n",
       "      <th>count</th>\n",
       "      <td>0.911233</td>\n",
       "      <td>0.921589</td>\n",
       "      <td>0.092734</td>\n",
       "      <td>0.772748</td>\n",
       "      <td>1.000000</td>\n",
       "      <td>0.550019</td>\n",
       "    </tr>\n",
       "    <tr>\n",
       "      <th>victims_on_incident</th>\n",
       "      <td>0.638954</td>\n",
       "      <td>0.649083</td>\n",
       "      <td>0.722433</td>\n",
       "      <td>0.918634</td>\n",
       "      <td>0.550019</td>\n",
       "      <td>1.000000</td>\n",
       "    </tr>\n",
       "  </tbody>\n",
       "</table>\n",
       "</div>"
      ],
      "text/plain": [
       "                       Aboard  Fatalities    Ground  all_victims     count  \\\n",
       "Aboard               1.000000    0.971557  0.088475     0.809457  0.911233   \n",
       "Fatalities           0.971557    1.000000  0.073032     0.822771  0.921589   \n",
       "Ground               0.088475    0.073032  1.000000     0.626929  0.092734   \n",
       "all_victims          0.809457    0.822771  0.626929     1.000000  0.772748   \n",
       "count                0.911233    0.921589  0.092734     0.772748  1.000000   \n",
       "victims_on_incident  0.638954    0.649083  0.722433     0.918634  0.550019   \n",
       "\n",
       "                     victims_on_incident  \n",
       "Aboard                          0.638954  \n",
       "Fatalities                      0.649083  \n",
       "Ground                          0.722433  \n",
       "all_victims                     0.918634  \n",
       "count                           0.550019  \n",
       "victims_on_incident             1.000000  "
      ]
     },
     "execution_count": 72,
     "metadata": {},
     "output_type": "execute_result"
    }
   ],
   "source": [
    "# существует ли корреляция между всеми праметрами? \n",
    "crashes_by_year.corr()"
   ]
  },
  {
   "cell_type": "code",
   "execution_count": 73,
   "metadata": {},
   "outputs": [
    {
     "data": {
      "image/png": "[encoded data removed]",
      "text/plain": [
       "<Figure size 1080x576 with 2 Axes>"
      ]
     },
     "metadata": {},
     "output_type": "display_data"
    }
   ],
   "source": [
    "#Отрисуйте heatmap корреляции для более хорошего визульного представления - используйте sns.heatmap() \n",
    "\n",
    "sns.heatmap(crashes_by_year.corr(), \n",
    "         vmin=-1, vmax=1,annot=True, cmap='RdBu',)\n",
    "plt.show()"
   ]
  },
  {
   "cell_type": "markdown",
   "metadata": {},
   "source": [
    "# Бонус! Давайте порисуем еще! "
   ]
  },
  {
   "cell_type": "code",
   "execution_count": 74,
   "metadata": {},
   "outputs": [
    {
     "data": {
      "image/png": "[encoded data removed]",
      "text/plain": [
       "<Figure size 1152x432 with 2 Axes>"
      ]
     },
     "metadata": {},
     "output_type": "display_data"
    }
   ],
   "source": [
    "_, axes = plt.subplots(1, 2, sharey=True, figsize=(16,6))\n",
    "\n",
    "sns.boxplot(x=\"Day_period\", y=\"Fatalities\", data=df_full[df_full['Fatalities'] < 100],  ax=axes[0]);\n",
    "sns.violinplot(x=\"Day_period\", y=\"Fatalities\", data=df_full[df_full['Fatalities'] < 100], ax=axes[1],\n",
    "              hue='Holiday');"
   ]
  },
  {
   "cell_type": "markdown",
   "metadata": {},
   "source": [
    "### Разберём части Boxplot ###\n",
    "\n",
    "__Черта__ – Медиана  \n",
    "__Коробка__ – Интерквартильный размах (IQR или разница 25% (Q1) и 75% (Q3) перцентили)   \n",
    "__Усы__ – Это интервал $\\bigl[ Q_1 - 1.5 \\times IQR$, $Q_3 + 1.5 \\times IQR \\bigr]$  \n",
    "__Точки__ – Выбросы\n",
    "\n",
    "<img src=\"../pic/Boxplot.png\" width=\"500\">\n",
    "Подообнее на [Wikipedia]('https://en.wikipedia.org/wiki/Box_plot')"
   ]
  },
  {
   "cell_type": "code",
   "execution_count": 78,
   "metadata": {},
   "outputs": [
    {
     "data": {
      "image/png": "[encoded data removed]",
      "text/plain": [
       "<Figure size 1584x360 with 2 Axes>"
      ]
     },
     "metadata": {},
     "output_type": "display_data"
    }
   ],
   "source": [
    "fig = plt.figure(figsize=(22, 5))\n",
    "ax1 = fig.add_subplot(121)\n",
    "sns.distplot(df_full['Fatalities'].dropna(), fit=st.norm, kde=True,ax=ax1, bins=50)\n",
    "ax1.set_title('Плотность распределения переменной')\n",
    "ax2 = fig.add_subplot(122)\n",
    "prob = st.probplot(df_full['Fatalities'].dropna()), dist=st.norm, plot=ax2)\n",
    "ax2.set_title('Probabilyty plot')\n",
    "plt.show()"
   ]
  },
  {
   "cell_type": "markdown",
   "metadata": {},
   "source": [
    "### Ссылки:\n",
    "- Хороший [обзор основных функций Pandas](https://alexanderdyakonov.files.wordpress.com/2015/04/ama2015_pandas.pdf) от Александра Дьяконова (МГУ)\n",
    "- Открытый курс машинного обучения. [Тема 1. Первичный анализ данных с Pandas](https://habr.com/company/ods/blog/322626/)  \n",
    "- Подробная [Документация Pandas](http://pandas.pydata.org/pandas-docs/stable/api.html)\n",
    "\n",
    "### Литература: \n",
    "- Heydt Michael. Learning Pandas "
   ]
  }
 ],
 "metadata": {
  "kernelspec": {
   "display_name": "Python 3",
   "language": "python",
   "name": "python3"
  },
  "language_info": {
   "codemirror_mode": {
    "name": "ipython",
    "version": 3
   },
   "file_extension": ".py",
   "mimetype": "text/x-python",
   "name": "python",
   "nbconvert_exporter": "python",
   "pygments_lexer": "ipython3",
   "version": "3.5.2"
  }
 },
 "nbformat": 4,
 "nbformat_minor": 2
}
