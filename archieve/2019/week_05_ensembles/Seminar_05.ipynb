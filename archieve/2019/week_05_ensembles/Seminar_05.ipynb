{
 "cells": [
  {
   "cell_type": "markdown",
   "metadata": {},
   "source": [
    "# Семинар 5 - Композиции алгоритмов"
   ]
  },
  {
   "cell_type": "code",
   "execution_count": 63,
   "metadata": {
    "collapsed": true
   },
   "outputs": [],
   "source": [
    "import pandas as pd\n",
    "import numpy as np\n",
    "%matplotlib inline\n",
    "import seaborn as sns\n",
    "import matplotlib.pyplot as plt\n",
    "sns.set(palette='deep', style='darkgrid', rc={\"figure.figsize\": (15, 4)})\n",
    "import scipy.stats as st\n",
    "\n",
    "import warnings\n",
    "warnings.simplefilter('ignore')"
   ]
  },
  {
   "cell_type": "code",
   "execution_count": 64,
   "metadata": {},
   "outputs": [
    {
     "data": {
      "text/html": [
       "<div>\n",
       "<style scoped>\n",
       "    .dataframe tbody tr th:only-of-type {\n",
       "        vertical-align: middle;\n",
       "    }\n",
       "\n",
       "    .dataframe tbody tr th {\n",
       "        vertical-align: top;\n",
       "    }\n",
       "\n",
       "    .dataframe thead th {\n",
       "        text-align: right;\n",
       "    }\n",
       "</style>\n",
       "<table border=\"1\" class=\"dataframe\">\n",
       "  <thead>\n",
       "    <tr style=\"text-align: right;\">\n",
       "      <th></th>\n",
       "      <th>Month</th>\n",
       "      <th>DayofMonth</th>\n",
       "      <th>DayOfWeek</th>\n",
       "      <th>UniqueCarrier</th>\n",
       "      <th>Origin</th>\n",
       "      <th>Dest</th>\n",
       "      <th>Distance</th>\n",
       "      <th>dep_delayed_15min</th>\n",
       "      <th>DepTime_real</th>\n",
       "    </tr>\n",
       "  </thead>\n",
       "  <tbody>\n",
       "    <tr>\n",
       "      <th>0</th>\n",
       "      <td>8</td>\n",
       "      <td>21</td>\n",
       "      <td>7</td>\n",
       "      <td>0</td>\n",
       "      <td>0</td>\n",
       "      <td>0</td>\n",
       "      <td>732</td>\n",
       "      <td>0</td>\n",
       "      <td>19.576271</td>\n",
       "    </tr>\n",
       "    <tr>\n",
       "      <th>1</th>\n",
       "      <td>4</td>\n",
       "      <td>20</td>\n",
       "      <td>3</td>\n",
       "      <td>1</td>\n",
       "      <td>1</td>\n",
       "      <td>1</td>\n",
       "      <td>834</td>\n",
       "      <td>0</td>\n",
       "      <td>15.813559</td>\n",
       "    </tr>\n",
       "    <tr>\n",
       "      <th>2</th>\n",
       "      <td>9</td>\n",
       "      <td>2</td>\n",
       "      <td>5</td>\n",
       "      <td>2</td>\n",
       "      <td>2</td>\n",
       "      <td>2</td>\n",
       "      <td>416</td>\n",
       "      <td>0</td>\n",
       "      <td>14.372881</td>\n",
       "    </tr>\n",
       "    <tr>\n",
       "      <th>3</th>\n",
       "      <td>11</td>\n",
       "      <td>25</td>\n",
       "      <td>6</td>\n",
       "      <td>3</td>\n",
       "      <td>3</td>\n",
       "      <td>3</td>\n",
       "      <td>872</td>\n",
       "      <td>0</td>\n",
       "      <td>10.254237</td>\n",
       "    </tr>\n",
       "    <tr>\n",
       "      <th>4</th>\n",
       "      <td>10</td>\n",
       "      <td>7</td>\n",
       "      <td>6</td>\n",
       "      <td>4</td>\n",
       "      <td>4</td>\n",
       "      <td>4</td>\n",
       "      <td>423</td>\n",
       "      <td>1</td>\n",
       "      <td>18.474576</td>\n",
       "    </tr>\n",
       "  </tbody>\n",
       "</table>\n",
       "</div>"
      ],
      "text/plain": [
       "   Month  DayofMonth  DayOfWeek  UniqueCarrier  Origin  Dest  Distance  \\\n",
       "0      8          21          7              0       0     0       732   \n",
       "1      4          20          3              1       1     1       834   \n",
       "2      9           2          5              2       2     2       416   \n",
       "3     11          25          6              3       3     3       872   \n",
       "4     10           7          6              4       4     4       423   \n",
       "\n",
       "   dep_delayed_15min  DepTime_real  \n",
       "0                  0     19.576271  \n",
       "1                  0     15.813559  \n",
       "2                  0     14.372881  \n",
       "3                  0     10.254237  \n",
       "4                  1     18.474576  "
      ]
     },
     "execution_count": 64,
     "metadata": {},
     "output_type": "execute_result"
    }
   ],
   "source": [
    "# Загрузим данные и проведем предобработки: \n",
    "data = pd.read_csv('../data/flight_delays_train.csv')\n",
    "data['dep_delayed_15min'] = data['dep_delayed_15min'].apply(lambda x: 1 if x == 'Y' else 0)\n",
    "data['Month'] = data['Month'].str.replace('c-', '').astype('int16')\n",
    "data['DayofMonth'] = data['DayofMonth'].str.replace('c-', '').astype('int16')\n",
    "data['DayOfWeek'] = data['DayOfWeek'].str.replace('c-', '').astype('int16')\n",
    "data['UniqueCarrier'] = pd.factorize(data['UniqueCarrier'])[0]\n",
    "data['Origin'] = pd.factorize(data['Origin'])[0]\n",
    "data['Dest'] = pd.factorize(data['Dest'])[0]\n",
    "\n",
    "# DepTime пусть бдет более вещественным числом (так как 60 минут в часах)\n",
    "data['DepTime_real'] = data['DepTime'].apply(lambda x: int(x/100)+((x/100-int(x/100))*100)/59)\n",
    "data.drop('DepTime', axis=1, inplace=True)\n",
    "\n",
    "\n",
    "x = data.drop('dep_delayed_15min', axis=1)\n",
    "y = data['dep_delayed_15min'].values\n",
    "\n",
    "\n",
    "data.head()"
   ]
  },
  {
   "cell_type": "markdown",
   "metadata": {},
   "source": [
    "# Bootstrap\n",
    "Посмотрим плотности распредления переменной \"Время Вылета\" для задержки менее 15 минут и более"
   ]
  },
  {
   "cell_type": "code",
   "execution_count": 65,
   "metadata": {},
   "outputs": [
    {
     "data": {
      "image/png": "[encoded data removed]",
      "text/plain": [
       "<matplotlib.figure.Figure at 0x1271dd978>"
      ]
     },
     "metadata": {},
     "output_type": "display_data"
    }
   ],
   "source": [
    "sns.kdeplot(data[data['dep_delayed_15min'] == 0]['DepTime_real'], label='Задержка рейса менее 15 мин')\n",
    "sns.kdeplot(data[data['dep_delayed_15min'] == 1]['DepTime_real'], label='Задержка рейса более 15 мин')\n",
    "plt.legend()\n",
    "plt.show()"
   ]
  },
  {
   "cell_type": "code",
   "execution_count": 66,
   "metadata": {},
   "outputs": [
    {
     "name": "stdout",
     "output_type": "stream",
     "text": [
      "Среднее 16.011120545106937\n",
      "Среднее 13.058375924649887\n"
     ]
    }
   ],
   "source": [
    "print('Среднее', data[data['dep_delayed_15min'] == 1]['DepTime_real'].mean())\n",
    "print('Среднее', data[data['dep_delayed_15min'] == 0]['DepTime_real'].mean())"
   ]
  },
  {
   "cell_type": "code",
   "execution_count": 67,
   "metadata": {
    "collapsed": true
   },
   "outputs": [],
   "source": [
    "def get_bootstrap_samples(data, n_samples):\n",
    "    # функция для генерации подвыборок с помощью бутстрэпа\n",
    "    indices = np.random.randint(0, len(data), (n_samples, len(data)))\n",
    "    samples = data[indices]\n",
    "    return samples\n",
    "\n",
    "def stat_intervals(stat, alpha):\n",
    "    # функция для интервальной оценки\n",
    "    boundaries = np.percentile(stat, [100 * alpha / 2., 100 * (1 - alpha / 2.)])\n",
    "    return boundaries"
   ]
  },
  {
   "cell_type": "code",
   "execution_count": 68,
   "metadata": {
    "collapsed": true
   },
   "outputs": [],
   "source": [
    "# сохранение в отдельные numpy массивы данных по вылетам с задержками и без \n",
    "no_delayed = data[data['dep_delayed_15min'] == 0]['DepTime_real'].values\n",
    "delayed = data[data['dep_delayed_15min'] == 1]['DepTime_real'].values\n",
    "\n",
    "# ставим seed для воспроизводимости результатов\n",
    "np.random.seed(0)\n",
    "\n",
    "# генерируем 1000 выборок с помощью бутстрэпа и сразу считаем по каждой из них среднее\n",
    "no_delayed_mean_scores = [np.mean(sample) \n",
    "                       for sample in get_bootstrap_samples(no_delayed, 1000)]\n",
    "delayed_mean_scores = [np.mean(sample) \n",
    "                       for sample in get_bootstrap_samples(delayed, 1000)]"
   ]
  },
  {
   "cell_type": "code",
   "execution_count": 69,
   "metadata": {},
   "outputs": [
    {
     "name": "stdout",
     "output_type": "stream",
     "text": [
      "Среднее время вылета по рейсам без задержек в интервале: [13.02623288 13.08874223]\n",
      "Среднее время вылета по рейсам с задержками в интервале: [15.94721421 16.07553438]\n"
     ]
    }
   ],
   "source": [
    "#  выводим интервальную оценку среднего\n",
    "print(\"Среднее время вылета по рейсам без задержек в интервале:\",  stat_intervals(no_delayed_mean_scores, 0.05))\n",
    "print(\"Среднее время вылета по рейсам с задержками в интервале:\",  stat_intervals(delayed_mean_scores, 0.05))"
   ]
  },
  {
   "cell_type": "markdown",
   "metadata": {},
   "source": [
    "Sub-sampling (_pasting_) тоесть выборка без повторений - достойная альтернатива"
   ]
  },
  {
   "cell_type": "markdown",
   "metadata": {},
   "source": [
    "# Bagging (Bootstrap aggregating)"
   ]
  },
  {
   "cell_type": "code",
   "execution_count": 70,
   "metadata": {},
   "outputs": [],
   "source": [
    "from sklearn.ensemble import BaggingClassifier, BaggingRegressor, RandomForestClassifier\n",
    "from sklearn.model_selection import train_test_split, cross_val_score\n",
    "from sklearn.tree import DecisionTreeClassifier, DecisionTreeRegressor\n",
    "from sklearn.metrics import roc_auc_score, accuracy_score"
   ]
  },
  {
   "cell_type": "code",
   "execution_count": 71,
   "metadata": {
    "collapsed": true
   },
   "outputs": [],
   "source": [
    "tree = DecisionTreeClassifier()\n",
    "bag_of_trees = BaggingClassifier(tree, n_estimators=20)"
   ]
  },
  {
   "cell_type": "code",
   "execution_count": 72,
   "metadata": {},
   "outputs": [
    {
     "data": {
      "text/plain": [
       "0.7279800175454204"
      ]
     },
     "execution_count": 72,
     "metadata": {},
     "output_type": "execute_result"
    }
   ],
   "source": [
    "# Посчитаем значение метрики accuracy на кроссвалидаци для дерева\n",
    "np.mean(cross_val_score(tree, x, y, cv=3, scoring='accuracy'))"
   ]
  },
  {
   "cell_type": "code",
   "execution_count": 73,
   "metadata": {},
   "outputs": [
    {
     "data": {
      "text/plain": [
       "0.8148799931630443"
      ]
     },
     "execution_count": 73,
     "metadata": {},
     "output_type": "execute_result"
    }
   ],
   "source": [
    "# Посчитаем значение метрики accuracy на кроссвалидаци для композиции деревьев построенной на бутстрап выборке\n",
    "np.mean(cross_val_score(bag_of_trees, x, y, cv=3, scoring='accuracy'))"
   ]
  },
  {
   "cell_type": "markdown",
   "metadata": {},
   "source": [
    "### Out-of-bag error\n",
    "\n",
    "На каждом шаге все объекты попадают в подвыборку с возвращением равновероятно, значит:  \n",
    "Вероятность, что объект попадет в выборку: $ \\frac {1}{l}$   \n",
    "\n",
    "Вероятность, что объект не попадет в выборку: $ 1-\\frac {1}{l}$    \n",
    "  \n",
    "Так как мы тянем $l$ раз, то  вероятность, что объект не попадет во всю выборку: $ \\bigl( 1-\\frac {1}{l} \\bigr) ^l$ \n",
    "\n",
    "Значит, при  $l \\rightarrow \\infty$ что вероятность, что объект не поппадает в выборку: $ \\frac {1}{e} \\approx 0.37 $      \n",
    "  \n",
    "__Вывод:__ При формировании Bootstrap выборки в нее попадает только __63%__ объектов   \n",
    "__Свойство:__ Можно вычислять Out-of-bag error и не проводить кроссвалидацию"
   ]
  },
  {
   "cell_type": "code",
   "execution_count": 74,
   "metadata": {
    "collapsed": true
   },
   "outputs": [],
   "source": [
    "tree = DecisionTreeClassifier()\n",
    "bag_of_trees = BaggingClassifier(tree, n_estimators=20, oob_score=True, n_jobs=-1)"
   ]
  },
  {
   "cell_type": "code",
   "execution_count": 75,
   "metadata": {},
   "outputs": [
    {
     "data": {
      "text/plain": [
       "0.80315"
      ]
     },
     "execution_count": 75,
     "metadata": {},
     "output_type": "execute_result"
    }
   ],
   "source": [
    "bag_of_trees.fit(x,y)\n",
    "bag_of_trees.oob_score_"
   ]
  },
  {
   "cell_type": "markdown",
   "metadata": {},
   "source": [
    "## Как можно добавить случайности? \n",
    "\n",
    "Например: Ограничить кол-во признаков, по которым проводить разбиение"
   ]
  },
  {
   "cell_type": "code",
   "execution_count": 85,
   "metadata": {},
   "outputs": [
    {
     "data": {
      "text/plain": [
       "0.80437"
      ]
     },
     "execution_count": 85,
     "metadata": {},
     "output_type": "execute_result"
    }
   ],
   "source": [
    "tree = DecisionTreeClassifier(max_features=4)\n",
    "bag_of_trees = BaggingClassifier(tree, n_estimators=20, oob_score=True, n_jobs=-1)\n",
    "\n",
    "bag_of_trees.fit(x,y)\n",
    "bag_of_trees.oob_score_"
   ]
  },
  {
   "cell_type": "markdown",
   "metadata": {},
   "source": [
    "Почему это работает, и зачем нам нужна случайность?"
   ]
  },
  {
   "cell_type": "markdown",
   "metadata": {},
   "source": [
    "# Случайный лес"
   ]
  },
  {
   "cell_type": "code",
   "execution_count": 86,
   "metadata": {},
   "outputs": [
    {
     "data": {
      "text/plain": [
       "0.8139300022627634"
      ]
     },
     "execution_count": 86,
     "metadata": {},
     "output_type": "execute_result"
    }
   ],
   "source": [
    "forest = RandomForestClassifier(n_estimators=20, n_jobs=-1)\n",
    "np.mean(cross_val_score(forest, x,y, cv=3, n_jobs=-1, scoring='accuracy'))"
   ]
  },
  {
   "cell_type": "markdown",
   "metadata": {},
   "source": [
    "\n",
    "\n",
    "\n",
    "### Что будет, если ограничить глубину построенных деревьев? "
   ]
  },
  {
   "cell_type": "code",
   "execution_count": 78,
   "metadata": {
    "collapsed": true
   },
   "outputs": [],
   "source": [
    "#Разделим выборку на обущающую и тестовую\n",
    "x_train, x_test, y_train, y_test = train_test_split(x, y, train_size=0.7, test_size=0.3, \\\n",
    "                                                    shuffle=True, random_state=21)"
   ]
  },
  {
   "cell_type": "code",
   "execution_count": 118,
   "metadata": {},
   "outputs": [],
   "source": [
    "train_score = []\n",
    "test_score = []\n",
    "\n",
    "\n",
    "for i in range(1,16):\n",
    "    forest = RandomForestClassifier(n_estimators=10, n_jobs=-1, max_depth=i, min_samples_leaf=50)\n",
    "    forest.fit(x_train, y_train)\n",
    "    train_score = np.append(train_score, accuracy_score(y_train, forest.predict(x_train)))\n",
    "    test_score = np.append(test_score, accuracy_score(y_test, forest.predict(x_test)))"
   ]
  },
  {
   "cell_type": "code",
   "execution_count": 137,
   "metadata": {},
   "outputs": [
    {
     "data": {
      "image/png": "[encoded data removed]",
      "text/plain": [
       "<matplotlib.figure.Figure at 0x129db00b8>"
      ]
     },
     "metadata": {},
     "output_type": "display_data"
    }
   ],
   "source": [
    "plt.title('Зависимость качества алгоритма в зависимости от глубины деревьев')\n",
    "plt.plot(range(1,16), train_score, label=\"Качетство на обучении\")\n",
    "plt.plot(range(1,16), test_score, label=\"Качетство на тесте\")\n",
    "plt.legend()\n",
    "plt.ylabel('Доля правильных ответов')\n",
    "plt.xlabel('Глубина деревьев')\n",
    "plt.show()"
   ]
  },
  {
   "cell_type": "markdown",
   "metadata": {},
   "source": [
    "### Важность признкаов\n",
    "Одно из замечательных свойств, что можно посмотреть важность каждого признака, оценив вклад "
   ]
  },
  {
   "cell_type": "code",
   "execution_count": 139,
   "metadata": {},
   "outputs": [
    {
     "data": {
      "image/png": "[encoded data removed]",
      "text/plain": [
       "<matplotlib.figure.Figure at 0x12a55d080>"
      ]
     },
     "metadata": {},
     "output_type": "display_data"
    }
   ],
   "source": [
    "feature_importances = pd.DataFrame(forest.feature_importances_, index=x_train.columns, columns=['Importance']\n",
    "            ).sort_values('Importance', ascending=False)\n",
    "\n",
    "sns.barplot(y=feature_importances['Importance'], x=feature_importances.index, palette=\"rocket\")\n",
    "plt.ylabel('Важность')\n",
    "plt.xlabel('Признак')\n",
    "plt.show()"
   ]
  }
 ],
 "metadata": {
  "kernelspec": {
   "display_name": "Python 3",
   "language": "python",
   "name": "python3"
  },
  "language_info": {
   "codemirror_mode": {
    "name": "ipython",
    "version": 3
   },
   "file_extension": ".py",
   "mimetype": "text/x-python",
   "name": "python",
   "nbconvert_exporter": "python",
   "pygments_lexer": "ipython3",
   "version": "3.6.6"
  }
 },
 "nbformat": 4,
 "nbformat_minor": 2
}
