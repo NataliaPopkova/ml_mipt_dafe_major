{
 "cells": [
  {
   "cell_type": "markdown",
   "metadata": {},
   "source": [
    "# Задача Машинного перевода\n",
    "  \n",
    "Возьмем данные отсюда: [Lots of neat sentence pairs datasets.](http://www.manythings.org/anki/)\n"
   ]
  },
  {
   "cell_type": "code",
   "execution_count": 1,
   "metadata": {},
   "outputs": [
    {
     "name": "stderr",
     "output_type": "stream",
     "text": [
      "Using TensorFlow backend.\n"
     ]
    }
   ],
   "source": [
    "from keras.models import Model\n",
    "from keras.layers import Input, LSTM, Dense\n",
    "import numpy as np"
   ]
  },
  {
   "cell_type": "code",
   "execution_count": 2,
   "metadata": {},
   "outputs": [],
   "source": [
    "num_samples = 10000  # Укажем количество семплов для обучения \n",
    "data_path = 'rus.txt' # Путь до файла на диске "
   ]
  },
  {
   "cell_type": "code",
   "execution_count": 3,
   "metadata": {},
   "outputs": [],
   "source": [
    "with open(data_path, 'r', encoding='utf-8') as f:\n",
    "    lines = f.read().split('\\n')"
   ]
  },
  {
   "cell_type": "code",
   "execution_count": 4,
   "metadata": {},
   "outputs": [
    {
     "name": "stdout",
     "output_type": "stream",
     "text": [
      "Tom said he'd call tomorrow.\tТом сказал, что позвонит завтра.\n"
     ]
    }
   ],
   "source": [
    "# Выведем случайный пример:\n",
    "print(lines[np.random.randint(0,len(lines))])"
   ]
  },
  {
   "cell_type": "markdown",
   "metadata": {},
   "source": [
    "Мы будем решать задачу машинного перевода обученем seq2seq. "
   ]
  },
  {
   "cell_type": "markdown",
   "metadata": {},
   "source": [
    "# 1. Предобработка данных  \n",
    "Закодируем текст в три матрицы `encoder_input_data`, `decoder_input_data`, `decoder_target_data` вида:  \n",
    "- `encoder_input_data` трехмерный вектор  размерности `(кол-во семплов, максимальная длина предложения, количество символов)` содержащий OhE для английского текста.\n",
    "- `decoder_input_data` трехмерный вектор  размерности `(кол-во семплов, максимальная длина предложения, количество символов)` содержащий OhE для русского текста.\n",
    "- `decoder_target_data` это тот же самый массив `decoder_input_data`, но сдвинутый на один символ"
   ]
  },
  {
   "cell_type": "code",
   "execution_count": 5,
   "metadata": {},
   "outputs": [],
   "source": [
    "# Vectorize the data.\n",
    "input_texts = []\n",
    "target_texts = []\n",
    "input_characters = set()\n",
    "target_characters = set()\n",
    "\n",
    "for line in lines[: min(num_samples, len(lines) - 1)]:\n",
    "    input_text, target_text = line.split('\\t')\n",
    "    # We use \"tab\" as the \"start sequence\" character\n",
    "    # for the targets, and \"\\n\" as \"end sequence\" character.\n",
    "    target_text = '\\t' + target_text + '\\n'\n",
    "    input_texts.append(input_text)\n",
    "    target_texts.append(target_text)\n",
    "    for char in input_text:\n",
    "        if char not in input_characters:\n",
    "            input_characters.add(char)\n",
    "    for char in target_text:\n",
    "        if char not in target_characters:\n",
    "            target_characters.add(char)\n",
    "\n",
    "input_characters = sorted(list(input_characters))\n",
    "target_characters = sorted(list(target_characters))\n",
    "num_encoder_tokens = len(input_characters)\n",
    "num_decoder_tokens = len(target_characters)\n",
    "max_encoder_seq_length = max([len(txt) for txt in input_texts])\n",
    "max_decoder_seq_length = max([len(txt) for txt in target_texts])\n",
    "\n",
    "input_token_index = dict(\n",
    "    [(char, i) for i, char in enumerate(input_characters)])\n",
    "target_token_index = dict(\n",
    "    [(char, i) for i, char in enumerate(target_characters)])"
   ]
  },
  {
   "cell_type": "code",
   "execution_count": 6,
   "metadata": {},
   "outputs": [],
   "source": [
    "encoder_input_data = np.zeros(\n",
    "    (len(input_texts), max_encoder_seq_length, num_encoder_tokens),\n",
    "    dtype='float32')\n",
    "decoder_input_data = np.zeros(\n",
    "    (len(input_texts), max_decoder_seq_length, num_decoder_tokens),\n",
    "    dtype='float32')\n",
    "decoder_target_data = np.zeros(\n",
    "    (len(input_texts), max_decoder_seq_length, num_decoder_tokens),\n",
    "    dtype='float32')\n",
    "\n",
    "for i, (input_text, target_text) in enumerate(zip(input_texts, target_texts)):\n",
    "    for t, char in enumerate(input_text):\n",
    "        encoder_input_data[i, t, input_token_index[char]] = 1.\n",
    "    encoder_input_data[i, t + 1:, input_token_index[' ']] = 1.\n",
    "    for t, char in enumerate(target_text):\n",
    "        # decoder_target_data is ahead of decoder_input_data by one timestep\n",
    "        decoder_input_data[i, t, target_token_index[char]] = 1.\n",
    "        if t > 0:\n",
    "            # decoder_target_data will be ahead by one timestep\n",
    "            # and will not include the start character.\n",
    "            decoder_target_data[i, t - 1, target_token_index[char]] = 1.\n",
    "    decoder_input_data[i, t + 1:, target_token_index[' ']] = 1.\n",
    "    decoder_target_data[i, t:, target_token_index[' ']] = 1."
   ]
  },
  {
   "cell_type": "code",
   "execution_count": 7,
   "metadata": {},
   "outputs": [
    {
     "name": "stdout",
     "output_type": "stream",
     "text": [
      "Количество семплов 10000\n",
      "Количество уникальных токенов в английском тексте: 72\n",
      "Количество уникальных токенов в русском тексте: 92\n",
      "Максимальная длинна последовательности для английского текста: 14\n",
      "аксимальная длинна последовательности для русского текста: 60\n"
     ]
    }
   ],
   "source": [
    "print('Количество семплов', len(input_texts))\n",
    "print('Количество уникальных токенов в английском тексте:', num_encoder_tokens)\n",
    "print('Количество уникальных токенов в русском тексте:', num_decoder_tokens)\n",
    "print('Максимальная длинна последовательности для английского текста:', max_encoder_seq_length)\n",
    "print('аксимальная длинна последовательности для русского текста:', max_decoder_seq_length)"
   ]
  },
  {
   "cell_type": "markdown",
   "metadata": {},
   "source": [
    "# 2. Создание и обучение модели\n",
    "\n",
    "\n",
    "<img src='https://miro.medium.com/max/5736/1*1I2tTjCkMHlQ-r73eRn4ZQ.png' width='70%'>  \n",
    "  \n",
    "  \n",
    "  \n",
    "  \n",
    "  \n",
    "Обучим базовую LSTM Seq2Seq модель для предсказания `decoder_target_data` давая на вход `encoder_input_data` и `decoder_input_data`.\n",
    "\n"
   ]
  },
  {
   "cell_type": "code",
   "execution_count": 8,
   "metadata": {},
   "outputs": [],
   "source": [
    "batch_size = 64  # Batch size для обучения \n",
    "epochs = 100  # Зададим количество эпох\n",
    "latent_dim = 256  # количество нейронов (размер скрытого слоя закодированного пространства)"
   ]
  },
  {
   "cell_type": "markdown",
   "metadata": {},
   "source": [
    "## 2.1. Encoder\n",
    "Создайте `encoder` состоящий из:\n",
    "- входа размерностью `shape=(None, num_encoder_tokens)`\n",
    "- LSTM слоя с количеством нейронов `latent_dim` и не забудьте вывести внутренние состояния\n",
    "- выход: обычный выход и внутренние состояния "
   ]
  },
  {
   "cell_type": "code",
   "execution_count": 9,
   "metadata": {},
   "outputs": [],
   "source": [
    "encoder_inputs = # Ваш код здесь\n",
    "encoder = # Ваш код здесь\n",
    "encoder_outputs, state_h, state_c = # Ваш код здесь"
   ]
  },
  {
   "cell_type": "code",
   "execution_count": 10,
   "metadata": {},
   "outputs": [],
   "source": [
    "# Нам не интересен выход с сети, поэтому мы фиксируем только внутренние состояния \n",
    "encoder_states = [state_h, state_c]"
   ]
  },
  {
   "cell_type": "markdown",
   "metadata": {},
   "source": [
    "## 2.2. Decoder\n",
    "Создадим `decoder`состоящий из:\n",
    "- входа размерностью `shape=(None, num_decoder_tokens)`\n",
    "- слоя LSTM с количеством нейронов `latent_dim` возвращающий не только внутренние состояние, но и саму последовательность. Учтите так же то, что начальное состояние должен соответствовать внутренним состояниям из `encoder_states` (Используйте парамтер `initial_state`)\n",
    "- Каждый выход LSTM свяжите с `Dense` слоем с функцией активации `softmax` для предсказания вектора вероятностей появления каждого символа. "
   ]
  },
  {
   "cell_type": "code",
   "execution_count": 11,
   "metadata": {},
   "outputs": [],
   "source": [
    "decoder_inputs = # Ваш код здесь\n",
    "decoder_lstm = # Ваш код здесь\n",
    "\n",
    "decoder_outputs, _, _ = # Ваш код здесь\n",
    "\n",
    "decoder_dense = # Ваш код здесь\n",
    "decoder_outputs = decoder_dense(decoder_outputs)"
   ]
  },
  {
   "cell_type": "markdown",
   "metadata": {},
   "source": [
    "## 2.3. Сборка модели\n",
    "Соберем все кусочки нашей модели"
   ]
  },
  {
   "cell_type": "code",
   "execution_count": 12,
   "metadata": {},
   "outputs": [
    {
     "name": "stdout",
     "output_type": "stream",
     "text": [
      "__________________________________________________________________________________________________\n",
      "Layer (type)                    Output Shape         Param #     Connected to                     \n",
      "==================================================================================================\n",
      "input_1 (InputLayer)            (None, None, 72)     0                                            \n",
      "__________________________________________________________________________________________________\n",
      "input_2 (InputLayer)            (None, None, 92)     0                                            \n",
      "__________________________________________________________________________________________________\n",
      "lstm_1 (LSTM)                   [(None, 256), (None, 336896      input_1[0][0]                    \n",
      "__________________________________________________________________________________________________\n",
      "lstm_2 (LSTM)                   [(None, None, 256),  357376      input_2[0][0]                    \n",
      "                                                                 lstm_1[0][1]                     \n",
      "                                                                 lstm_1[0][2]                     \n",
      "__________________________________________________________________________________________________\n",
      "dense_1 (Dense)                 (None, None, 92)     23644       lstm_2[0][0]                     \n",
      "==================================================================================================\n",
      "Total params: 717,916\n",
      "Trainable params: 717,916\n",
      "Non-trainable params: 0\n",
      "__________________________________________________________________________________________________\n"
     ]
    }
   ],
   "source": [
    "model = # Ваш код здесь\n",
    "\n",
    "model.compile(optimizer='rmsprop', loss='categorical_crossentropy',\n",
    "              metrics=['accuracy'])\n",
    "\n",
    "model.summary()"
   ]
  },
  {
   "cell_type": "markdown",
   "metadata": {},
   "source": [
    "## 2.4. Обучение модели"
   ]
  },
  {
   "cell_type": "code",
   "execution_count": 13,
   "metadata": {},
   "outputs": [
    {
     "name": "stdout",
     "output_type": "stream",
     "text": [
      "Train on 8000 samples, validate on 2000 samples\n",
      "Epoch 1/100\n",
      "8000/8000 [==============================] - 13s 2ms/step - loss: 1.0017 - acc: 0.7770 - val_loss: 0.9239 - val_acc: 0.7587\n",
      "Epoch 2/100\n",
      "8000/8000 [==============================] - 12s 1ms/step - loss: 0.7151 - acc: 0.8144 - val_loss: 0.7396 - val_acc: 0.7994\n",
      "Epoch 3/100\n",
      "8000/8000 [==============================] - 12s 2ms/step - loss: 0.5956 - acc: 0.8407 - val_loss: 0.6582 - val_acc: 0.8162\n",
      "Epoch 4/100\n",
      "8000/8000 [==============================] - 13s 2ms/step - loss: 0.5213 - acc: 0.8522 - val_loss: 0.6094 - val_acc: 0.8252\n",
      "Epoch 5/100\n",
      "8000/8000 [==============================] - 13s 2ms/step - loss: 0.4784 - acc: 0.8624 - val_loss: 0.5627 - val_acc: 0.8381\n",
      "Epoch 6/100\n",
      "8000/8000 [==============================] - 13s 2ms/step - loss: 0.4467 - acc: 0.8702 - val_loss: 0.5455 - val_acc: 0.8428\n",
      "Epoch 7/100\n",
      "8000/8000 [==============================] - 13s 2ms/step - loss: 0.4230 - acc: 0.8768 - val_loss: 0.5243 - val_acc: 0.8486\n",
      "Epoch 8/100\n",
      "8000/8000 [==============================] - 13s 2ms/step - loss: 0.4013 - acc: 0.8828 - val_loss: 0.5049 - val_acc: 0.8543\n",
      "Epoch 9/100\n",
      "8000/8000 [==============================] - 13s 2ms/step - loss: 0.3822 - acc: 0.8884 - val_loss: 0.4894 - val_acc: 0.8597\n",
      "Epoch 10/100\n",
      "8000/8000 [==============================] - 13s 2ms/step - loss: 0.3645 - acc: 0.8930 - val_loss: 0.4795 - val_acc: 0.8625\n",
      "Epoch 11/100\n",
      "8000/8000 [==============================] - 13s 2ms/step - loss: 0.3479 - acc: 0.8979 - val_loss: 0.4710 - val_acc: 0.8652\n",
      "Epoch 12/100\n",
      "8000/8000 [==============================] - 13s 2ms/step - loss: 0.3331 - acc: 0.9024 - val_loss: 0.4637 - val_acc: 0.8676\n",
      "Epoch 13/100\n",
      "8000/8000 [==============================] - 13s 2ms/step - loss: 0.3190 - acc: 0.9060 - val_loss: 0.4574 - val_acc: 0.8698\n",
      "Epoch 14/100\n",
      "8000/8000 [==============================] - 13s 2ms/step - loss: 0.3063 - acc: 0.9100 - val_loss: 0.4525 - val_acc: 0.8710\n",
      "Epoch 15/100\n",
      "8000/8000 [==============================] - 13s 2ms/step - loss: 0.2939 - acc: 0.9133 - val_loss: 0.4513 - val_acc: 0.8726\n",
      "Epoch 16/100\n",
      "8000/8000 [==============================] - 13s 2ms/step - loss: 0.2822 - acc: 0.9168 - val_loss: 0.4511 - val_acc: 0.8733\n",
      "Epoch 17/100\n",
      "8000/8000 [==============================] - 13s 2ms/step - loss: 0.2712 - acc: 0.9200 - val_loss: 0.4432 - val_acc: 0.8761\n",
      "Epoch 18/100\n",
      "8000/8000 [==============================] - 13s 2ms/step - loss: 0.2607 - acc: 0.9233 - val_loss: 0.4434 - val_acc: 0.8751\n",
      "Epoch 19/100\n",
      "8000/8000 [==============================] - 13s 2ms/step - loss: 0.2510 - acc: 0.9260 - val_loss: 0.4482 - val_acc: 0.8757\n",
      "Epoch 20/100\n",
      "8000/8000 [==============================] - 13s 2ms/step - loss: 0.2417 - acc: 0.9283 - val_loss: 0.4433 - val_acc: 0.8767\n",
      "Epoch 21/100\n",
      "8000/8000 [==============================] - 13s 2ms/step - loss: 0.2325 - acc: 0.9312 - val_loss: 0.4418 - val_acc: 0.8777\n",
      "Epoch 22/100\n",
      "8000/8000 [==============================] - 12s 2ms/step - loss: 0.2241 - acc: 0.9335 - val_loss: 0.4457 - val_acc: 0.8779\n",
      "Epoch 23/100\n",
      "8000/8000 [==============================] - 12s 2ms/step - loss: 0.2160 - acc: 0.9359 - val_loss: 0.4464 - val_acc: 0.8786\n",
      "Epoch 24/100\n",
      "8000/8000 [==============================] - 12s 2ms/step - loss: 0.2083 - acc: 0.9382 - val_loss: 0.4511 - val_acc: 0.8779\n",
      "Epoch 25/100\n",
      "8000/8000 [==============================] - 13s 2ms/step - loss: 0.2010 - acc: 0.9401 - val_loss: 0.4529 - val_acc: 0.8783\n",
      "Epoch 26/100\n",
      "8000/8000 [==============================] - 13s 2ms/step - loss: 0.1944 - acc: 0.9422 - val_loss: 0.4554 - val_acc: 0.8784\n",
      "Epoch 27/100\n",
      "8000/8000 [==============================] - 13s 2ms/step - loss: 0.1875 - acc: 0.9442 - val_loss: 0.4605 - val_acc: 0.8779\n",
      "Epoch 28/100\n",
      "8000/8000 [==============================] - 13s 2ms/step - loss: 0.1815 - acc: 0.9460 - val_loss: 0.4610 - val_acc: 0.8793\n",
      "Epoch 29/100\n",
      "8000/8000 [==============================] - 13s 2ms/step - loss: 0.1754 - acc: 0.9472 - val_loss: 0.4654 - val_acc: 0.8792\n",
      "Epoch 30/100\n",
      "8000/8000 [==============================] - 13s 2ms/step - loss: 0.1695 - acc: 0.9492 - val_loss: 0.4718 - val_acc: 0.8791\n",
      "Epoch 31/100\n",
      "8000/8000 [==============================] - 13s 2ms/step - loss: 0.1642 - acc: 0.9508 - val_loss: 0.4737 - val_acc: 0.8783\n",
      "Epoch 32/100\n",
      "8000/8000 [==============================] - 13s 2ms/step - loss: 0.1589 - acc: 0.9523 - val_loss: 0.4761 - val_acc: 0.8791\n",
      "Epoch 33/100\n",
      "8000/8000 [==============================] - 13s 2ms/step - loss: 0.1538 - acc: 0.9538 - val_loss: 0.4842 - val_acc: 0.8776\n",
      "Epoch 34/100\n",
      "8000/8000 [==============================] - 13s 2ms/step - loss: 0.1492 - acc: 0.9549 - val_loss: 0.4927 - val_acc: 0.8781\n",
      "Epoch 35/100\n",
      "8000/8000 [==============================] - 13s 2ms/step - loss: 0.1445 - acc: 0.9561 - val_loss: 0.4935 - val_acc: 0.8776\n",
      "Epoch 36/100\n",
      "8000/8000 [==============================] - 13s 2ms/step - loss: 0.1400 - acc: 0.9576 - val_loss: 0.5007 - val_acc: 0.8788\n",
      "Epoch 37/100\n",
      "8000/8000 [==============================] - 13s 2ms/step - loss: 0.1356 - acc: 0.9588 - val_loss: 0.5050 - val_acc: 0.8774\n",
      "Epoch 38/100\n",
      "8000/8000 [==============================] - 13s 2ms/step - loss: 0.1314 - acc: 0.9603 - val_loss: 0.5129 - val_acc: 0.8778\n",
      "Epoch 39/100\n",
      "8000/8000 [==============================] - 13s 2ms/step - loss: 0.1277 - acc: 0.9611 - val_loss: 0.5173 - val_acc: 0.8773\n",
      "Epoch 40/100\n",
      "8000/8000 [==============================] - 13s 2ms/step - loss: 0.1242 - acc: 0.9618 - val_loss: 0.5241 - val_acc: 0.8770\n",
      "Epoch 41/100\n",
      "8000/8000 [==============================] - 13s 2ms/step - loss: 0.1204 - acc: 0.9630 - val_loss: 0.5260 - val_acc: 0.8775\n",
      "Epoch 42/100\n",
      "8000/8000 [==============================] - 13s 2ms/step - loss: 0.1169 - acc: 0.9639 - val_loss: 0.5274 - val_acc: 0.8782\n",
      "Epoch 43/100\n",
      "8000/8000 [==============================] - 13s 2ms/step - loss: 0.1136 - acc: 0.9650 - val_loss: 0.5357 - val_acc: 0.8774\n",
      "Epoch 44/100\n",
      "8000/8000 [==============================] - 13s 2ms/step - loss: 0.1101 - acc: 0.9661 - val_loss: 0.5437 - val_acc: 0.8770\n",
      "Epoch 45/100\n",
      "8000/8000 [==============================] - 13s 2ms/step - loss: 0.1072 - acc: 0.9669 - val_loss: 0.5473 - val_acc: 0.8769\n",
      "Epoch 46/100\n",
      "8000/8000 [==============================] - 13s 2ms/step - loss: 0.1045 - acc: 0.9677 - val_loss: 0.5505 - val_acc: 0.8776\n",
      "Epoch 47/100\n",
      "8000/8000 [==============================] - 13s 2ms/step - loss: 0.1011 - acc: 0.9688 - val_loss: 0.5612 - val_acc: 0.8768\n",
      "Epoch 48/100\n",
      "8000/8000 [==============================] - 13s 2ms/step - loss: 0.0984 - acc: 0.9695 - val_loss: 0.5671 - val_acc: 0.8767\n",
      "Epoch 49/100\n",
      "8000/8000 [==============================] - 13s 2ms/step - loss: 0.0959 - acc: 0.9700 - val_loss: 0.5734 - val_acc: 0.8763\n",
      "Epoch 50/100\n",
      "8000/8000 [==============================] - 13s 2ms/step - loss: 0.0932 - acc: 0.9707 - val_loss: 0.5769 - val_acc: 0.8762\n",
      "Epoch 51/100\n",
      "8000/8000 [==============================] - 13s 2ms/step - loss: 0.0907 - acc: 0.9715 - val_loss: 0.5759 - val_acc: 0.8775\n",
      "Epoch 52/100\n",
      "8000/8000 [==============================] - 12s 2ms/step - loss: 0.0883 - acc: 0.9721 - val_loss: 0.5892 - val_acc: 0.8761\n",
      "Epoch 53/100\n",
      "8000/8000 [==============================] - 12s 2ms/step - loss: 0.0862 - acc: 0.9729 - val_loss: 0.5895 - val_acc: 0.8769\n",
      "Epoch 54/100\n",
      "8000/8000 [==============================] - 12s 2ms/step - loss: 0.0839 - acc: 0.9735 - val_loss: 0.5973 - val_acc: 0.8759\n",
      "Epoch 55/100\n",
      "8000/8000 [==============================] - 13s 2ms/step - loss: 0.0818 - acc: 0.9740 - val_loss: 0.6004 - val_acc: 0.8765\n",
      "Epoch 56/100\n",
      "8000/8000 [==============================] - 13s 2ms/step - loss: 0.0796 - acc: 0.9747 - val_loss: 0.6091 - val_acc: 0.8763\n",
      "Epoch 57/100\n",
      "8000/8000 [==============================] - 13s 2ms/step - loss: 0.0777 - acc: 0.9750 - val_loss: 0.6162 - val_acc: 0.8759\n",
      "Epoch 58/100\n",
      "8000/8000 [==============================] - 13s 2ms/step - loss: 0.0759 - acc: 0.9757 - val_loss: 0.6088 - val_acc: 0.8761\n",
      "Epoch 59/100\n",
      "8000/8000 [==============================] - 13s 2ms/step - loss: 0.0742 - acc: 0.9761 - val_loss: 0.6174 - val_acc: 0.8750\n",
      "Epoch 60/100\n",
      "8000/8000 [==============================] - 13s 2ms/step - loss: 0.0724 - acc: 0.9765 - val_loss: 0.6246 - val_acc: 0.8752\n",
      "Epoch 61/100\n",
      "8000/8000 [==============================] - 13s 2ms/step - loss: 0.0705 - acc: 0.9771 - val_loss: 0.6287 - val_acc: 0.8756\n",
      "Epoch 62/100\n",
      "8000/8000 [==============================] - 13s 2ms/step - loss: 0.0691 - acc: 0.9774 - val_loss: 0.6354 - val_acc: 0.8758\n",
      "Epoch 63/100\n",
      "8000/8000 [==============================] - 13s 2ms/step - loss: 0.0672 - acc: 0.9781 - val_loss: 0.6404 - val_acc: 0.8756\n",
      "Epoch 64/100\n",
      "8000/8000 [==============================] - 13s 2ms/step - loss: 0.0660 - acc: 0.9782 - val_loss: 0.6407 - val_acc: 0.8759\n",
      "Epoch 65/100\n",
      "8000/8000 [==============================] - 13s 2ms/step - loss: 0.0643 - acc: 0.9788 - val_loss: 0.6404 - val_acc: 0.8764\n",
      "Epoch 66/100\n",
      "8000/8000 [==============================] - 13s 2ms/step - loss: 0.0630 - acc: 0.9791 - val_loss: 0.6497 - val_acc: 0.8757\n",
      "Epoch 67/100\n",
      "8000/8000 [==============================] - 13s 2ms/step - loss: 0.0614 - acc: 0.9798 - val_loss: 0.6591 - val_acc: 0.8748\n",
      "Epoch 68/100\n",
      "8000/8000 [==============================] - 13s 2ms/step - loss: 0.0602 - acc: 0.9800 - val_loss: 0.6603 - val_acc: 0.8759\n",
      "Epoch 69/100\n",
      "8000/8000 [==============================] - 13s 2ms/step - loss: 0.0589 - acc: 0.9803 - val_loss: 0.6599 - val_acc: 0.8758\n",
      "Epoch 70/100\n",
      "8000/8000 [==============================] - 13s 2ms/step - loss: 0.0576 - acc: 0.9807 - val_loss: 0.6661 - val_acc: 0.8751\n",
      "Epoch 71/100\n",
      "8000/8000 [==============================] - 13s 2ms/step - loss: 0.0565 - acc: 0.9810 - val_loss: 0.6733 - val_acc: 0.8743\n",
      "Epoch 72/100\n",
      "8000/8000 [==============================] - 13s 2ms/step - loss: 0.0556 - acc: 0.9812 - val_loss: 0.6723 - val_acc: 0.8763\n",
      "Epoch 73/100\n",
      "8000/8000 [==============================] - 13s 2ms/step - loss: 0.0544 - acc: 0.9816 - val_loss: 0.6814 - val_acc: 0.8751\n",
      "Epoch 74/100\n",
      "8000/8000 [==============================] - 13s 2ms/step - loss: 0.0536 - acc: 0.9818 - val_loss: 0.6775 - val_acc: 0.8757\n",
      "Epoch 75/100\n",
      "8000/8000 [==============================] - 13s 2ms/step - loss: 0.0525 - acc: 0.9820 - val_loss: 0.6855 - val_acc: 0.8751\n",
      "Epoch 76/100\n",
      "8000/8000 [==============================] - 13s 2ms/step - loss: 0.0511 - acc: 0.9826 - val_loss: 0.6844 - val_acc: 0.8760\n",
      "Epoch 77/100\n",
      "8000/8000 [==============================] - 13s 2ms/step - loss: 0.0508 - acc: 0.9825 - val_loss: 0.6938 - val_acc: 0.8750\n",
      "Epoch 78/100\n",
      "8000/8000 [==============================] - 13s 2ms/step - loss: 0.0495 - acc: 0.9830 - val_loss: 0.6896 - val_acc: 0.8754\n",
      "Epoch 79/100\n",
      "8000/8000 [==============================] - 13s 2ms/step - loss: 0.0485 - acc: 0.9831 - val_loss: 0.7095 - val_acc: 0.8747\n",
      "Epoch 80/100\n",
      "8000/8000 [==============================] - 13s 2ms/step - loss: 0.0478 - acc: 0.9834 - val_loss: 0.7018 - val_acc: 0.8745\n",
      "Epoch 81/100\n",
      "8000/8000 [==============================] - 13s 2ms/step - loss: 0.0469 - acc: 0.9835 - val_loss: 0.7018 - val_acc: 0.8760\n",
      "Epoch 82/100\n",
      "8000/8000 [==============================] - 12s 2ms/step - loss: 0.0462 - acc: 0.9838 - val_loss: 0.7080 - val_acc: 0.8749\n",
      "Epoch 83/100\n",
      "8000/8000 [==============================] - 12s 2ms/step - loss: 0.0455 - acc: 0.9840 - val_loss: 0.7065 - val_acc: 0.8752\n",
      "Epoch 84/100\n",
      "8000/8000 [==============================] - 13s 2ms/step - loss: 0.0451 - acc: 0.9841 - val_loss: 0.7118 - val_acc: 0.8748\n",
      "Epoch 85/100\n",
      "8000/8000 [==============================] - 12s 2ms/step - loss: 0.0446 - acc: 0.9841 - val_loss: 0.7178 - val_acc: 0.8743\n",
      "Epoch 86/100\n",
      "8000/8000 [==============================] - 13s 2ms/step - loss: 0.0435 - acc: 0.9846 - val_loss: 0.7168 - val_acc: 0.8754\n",
      "Epoch 87/100\n",
      "8000/8000 [==============================] - 13s 2ms/step - loss: 0.0430 - acc: 0.9846 - val_loss: 0.7150 - val_acc: 0.8752\n",
      "Epoch 88/100\n",
      "8000/8000 [==============================] - 13s 2ms/step - loss: 0.0426 - acc: 0.9846 - val_loss: 0.7293 - val_acc: 0.8747\n",
      "Epoch 89/100\n",
      "8000/8000 [==============================] - 13s 2ms/step - loss: 0.0420 - acc: 0.9848 - val_loss: 0.7187 - val_acc: 0.8759\n",
      "Epoch 90/100\n",
      "8000/8000 [==============================] - 13s 2ms/step - loss: 0.0416 - acc: 0.9850 - val_loss: 0.7242 - val_acc: 0.8755\n",
      "Epoch 91/100\n",
      "8000/8000 [==============================] - 13s 2ms/step - loss: 0.0409 - acc: 0.9850 - val_loss: 0.7293 - val_acc: 0.8747\n",
      "Epoch 92/100\n",
      "8000/8000 [==============================] - 13s 2ms/step - loss: 0.0405 - acc: 0.9852 - val_loss: 0.7351 - val_acc: 0.8747\n",
      "Epoch 93/100\n",
      "8000/8000 [==============================] - 13s 2ms/step - loss: 0.0399 - acc: 0.9853 - val_loss: 0.7396 - val_acc: 0.8756\n",
      "Epoch 94/100\n",
      "8000/8000 [==============================] - 13s 2ms/step - loss: 0.0394 - acc: 0.9856 - val_loss: 0.7373 - val_acc: 0.8750\n",
      "Epoch 95/100\n",
      "8000/8000 [==============================] - 13s 2ms/step - loss: 0.0390 - acc: 0.9856 - val_loss: 0.7391 - val_acc: 0.8754\n",
      "Epoch 96/100\n",
      "8000/8000 [==============================] - 13s 2ms/step - loss: 0.0385 - acc: 0.9857 - val_loss: 0.7405 - val_acc: 0.8750\n",
      "Epoch 97/100\n",
      "8000/8000 [==============================] - 13s 2ms/step - loss: 0.0383 - acc: 0.9857 - val_loss: 0.7461 - val_acc: 0.8753\n",
      "Epoch 98/100\n",
      "8000/8000 [==============================] - 13s 2ms/step - loss: 0.0381 - acc: 0.9858 - val_loss: 0.7454 - val_acc: 0.8758\n",
      "Epoch 99/100\n",
      "8000/8000 [==============================] - 13s 2ms/step - loss: 0.0374 - acc: 0.9859 - val_loss: 0.7511 - val_acc: 0.8749\n",
      "Epoch 100/100\n",
      "8000/8000 [==============================] - 13s 2ms/step - loss: 0.0371 - acc: 0.9861 - val_loss: 0.7538 - val_acc: 0.8747\n"
     ]
    },
    {
     "data": {
      "text/plain": [
       "<keras.callbacks.History at 0x7f391c225cf8>"
      ]
     },
     "execution_count": 13,
     "metadata": {},
     "output_type": "execute_result"
    }
   ],
   "source": [
    "model.fit([encoder_input_data, decoder_input_data], decoder_target_data,\n",
    "          batch_size=batch_size,\n",
    "          epochs=epochs,\n",
    "          validation_split=0.2)"
   ]
  },
  {
   "cell_type": "code",
   "execution_count": 14,
   "metadata": {},
   "outputs": [
    {
     "name": "stderr",
     "output_type": "stream",
     "text": [
      "/opt/conda/lib/python3.6/site-packages/keras/engine/network.py:888: UserWarning: Layer lstm_2 was passed non-serializable keyword arguments: {'initial_state': [<tf.Tensor 'lstm_1/while/Exit_2:0' shape=(?, 256) dtype=float32>, <tf.Tensor 'lstm_1/while/Exit_3:0' shape=(?, 256) dtype=float32>]}. They will not be included in the serialized model (and thus will be missing at deserialization time).\n",
      "  '. They will not be included '\n"
     ]
    }
   ],
   "source": [
    "# Сохраним модель\n",
    "model.save('s2.h5')"
   ]
  },
  {
   "cell_type": "markdown",
   "metadata": {},
   "source": [
    "# 3. Inference\n",
    "\n",
    "Перестроим нашу модель для инференса выполнив следующую последовательность шагов:\n",
    "1. Задайте модель энкодера Model(), на вход которой пойдет наш обученный `encoder_inputs`, а на выход `encoder_states`), тем саммым мы закодируем ввод и получим начальное состояние декодера\n",
    "2. Зададим входы для декодера (состояния `h` и `c`)\n",
    "3. Свяжем выход обученной ранее `decoder_lstm` c `decoder_dense`, заменив инициацию  на состояния `h` и `c`\n",
    "4. Соберем все вместе в Model()"
   ]
  },
  {
   "cell_type": "code",
   "execution_count": 15,
   "metadata": {},
   "outputs": [],
   "source": [
    "encoder_model = #Ваш код здесь\n",
    "\n",
    "decoder_state_input_h = #Ваш код здесь\n",
    "decoder_state_input_c = #Ваш код здесь\n",
    "\n",
    "decoder_states_inputs = [decoder_state_input_h, decoder_state_input_c]\n",
    "\n",
    "decoder_outputs, state_h, state_c = #Ваш код здесь\n",
    "\n",
    "decoder_states = [state_h, state_c]\n",
    "decoder_outputs = decoder_dense(decoder_outputs)\n",
    "decoder_model = #Ваш код здесь"
   ]
  },
  {
   "cell_type": "markdown",
   "metadata": {},
   "source": [
    "Логика очень простая: мы подаем на вход Encoder'a последоватьельность, делаем предсказание, и на его выходе получаем эмбединги (состояния `h` и `c`) всей строки. Затем эти инициации и ранее обученные веса используем для генерации текста."
   ]
  },
  {
   "cell_type": "code",
   "execution_count": 16,
   "metadata": {},
   "outputs": [],
   "source": [
    "# Сделаем инверсию наших словарей токенов, чтобы получать на выходе что-то более читаемое на выходе\n",
    "reverse_input_char_index = dict(\n",
    "    (i, char) for char, i in input_token_index.items())\n",
    "reverse_target_char_index = dict(\n",
    "    (i, char) for char, i in target_token_index.items())\n",
    "\n",
    "# Напишем функцию для векторизации текста\n",
    "def vectorizing_custom_word(string = 'some text'):\n",
    "    input_self_text = string\n",
    "    input_self_decoding = np.zeros(\n",
    "        (1, max_encoder_seq_length, num_encoder_tokens),\n",
    "        dtype='float32')\n",
    "    for t, char in enumerate(input_self_text):\n",
    "        input_self_decoding[0, t, input_token_index[char]] = 1.\n",
    "    input_self_decoding[0, t + 1:, input_token_index[' ']] = 1.\n",
    "    return input_self_decoding\n",
    "\n",
    "\n",
    "def decode_sequence(input_seq):\n",
    "    # Проверка на тип текста \n",
    "    if isinstance(input_seq, str):\n",
    "        input_seq = vectorizing_custom_word(input_seq)\n",
    "    # Еще бы сделать assert на Русский/английский (наличие токена в словаре)\n",
    "    \n",
    "    # Encode the input as state vectors.\n",
    "    states_value = encoder_model.predict(input_seq)\n",
    "\n",
    "    # Generate empty target sequence of length 1.\n",
    "    target_seq = np.zeros((1, 1, num_decoder_tokens))\n",
    "    # Populate the first character of target sequence with the start character.\n",
    "    target_seq[0, 0, target_token_index['\\t']] = 1.\n",
    "\n",
    "    # Sampling loop for a batch of sequences\n",
    "    # (to simplify, here we assume a batch of size 1).\n",
    "    stop_condition = False\n",
    "    decoded_sentence = ''\n",
    "    while not stop_condition:\n",
    "        output_tokens, h, c = decoder_model.predict(\n",
    "            [target_seq] + states_value)\n",
    "\n",
    "        # Sample a token\n",
    "        sampled_token_index = np.argmax(output_tokens[0, -1, :])\n",
    "        sampled_char = reverse_target_char_index[sampled_token_index]\n",
    "        decoded_sentence += sampled_char\n",
    "\n",
    "        # Exit condition: either hit max length\n",
    "        # or find stop character.\n",
    "        if (sampled_char == '\\n' or\n",
    "           len(decoded_sentence) > max_decoder_seq_length):\n",
    "            stop_condition = True\n",
    "\n",
    "        # Update the target sequence (of length 1).\n",
    "        target_seq = np.zeros((1, 1, num_decoder_tokens))\n",
    "        target_seq[0, 0, sampled_token_index] = 1.\n",
    "\n",
    "        # Update states\n",
    "        states_value = [h, c]\n",
    "\n",
    "    return decoded_sentence"
   ]
  },
  {
   "cell_type": "markdown",
   "metadata": {},
   "source": [
    "Выполним перевод для случайного семпла"
   ]
  },
  {
   "cell_type": "code",
   "execution_count": 17,
   "metadata": {},
   "outputs": [
    {
     "name": "stdout",
     "output_type": "stream",
     "text": [
      "Input sentence: Wake up.\n",
      "Decoded sentence: Просыпайся!\n",
      "\n"
     ]
    }
   ],
   "source": [
    "ind = np.random.randint(0,num_samples)\n",
    "input_seq = encoder_input_data[ind:ind+1]\n",
    "decoded_sentence = decode_sequence(input_seq)\n",
    "print('Input sentence:', input_texts[ind])\n",
    "print('Decoded sentence:', decoded_sentence)"
   ]
  },
  {
   "cell_type": "markdown",
   "metadata": {},
   "source": [
    "Попробуем \"свой\" текст: "
   ]
  },
  {
   "cell_type": "code",
   "execution_count": 18,
   "metadata": {},
   "outputs": [],
   "source": [
    "custom_string = 'Like a boss!'"
   ]
  },
  {
   "cell_type": "code",
   "execution_count": 19,
   "metadata": {},
   "outputs": [
    {
     "data": {
      "text/plain": [
       "'Поспавитесь за лек.\\n'"
      ]
     },
     "execution_count": 19,
     "metadata": {},
     "output_type": "execute_result"
    }
   ],
   "source": [
    "decode_sequence(custom_string)"
   ]
  }
 ],
 "metadata": {
  "kernelspec": {
   "display_name": "Python 3",
   "language": "python",
   "name": "python3"
  },
  "language_info": {
   "codemirror_mode": {
    "name": "ipython",
    "version": 3
   },
   "file_extension": ".py",
   "mimetype": "text/x-python",
   "name": "python",
   "nbconvert_exporter": "python",
   "pygments_lexer": "ipython3",
   "version": "3.6.6"
  }
 },
 "nbformat": 4,
 "nbformat_minor": 2
}
