{
  "nbformat": 4,
  "nbformat_minor": 0,
  "metadata": {
    "kernelspec": {
      "display_name": "Python 3",
      "language": "python",
      "name": "python3"
    },
    "language_info": {
      "codemirror_mode": {
        "name": "ipython",
        "version": 3
      },
      "file_extension": ".py",
      "mimetype": "text/x-python",
      "name": "python",
      "nbconvert_exporter": "python",
      "pygments_lexer": "ipython3",
      "version": "3.5.2"
    },
    "colab": {
      "name": "Seminar 00.ipynb",
      "provenance": [],
      "toc_visible": true
    }
  },
  "cells": [
    {
      "cell_type": "markdown",
      "metadata": {
        "id": "OVkl09sgHGj4"
      },
      "source": [
        "# Семинар 1 - Первичный анализ данных, визуализация, etc. "
      ]
    },
    {
      "cell_type": "markdown",
      "metadata": {
        "id": "GRm09mhjnFCF"
      },
      "source": [
        "# 0. Intro"
      ]
    },
    {
      "cell_type": "markdown",
      "metadata": {
        "id": "5BQC2v8qI_Tv"
      },
      "source": [
        "## 0.0. Keeping a fork up to date\n",
        "\n",
        "### 0. Нажмите кнопку fork в правом верънем углу интерфейса\n",
        "\n",
        "### 1. Клонируйте репозиторий к себе на локальную машину:\n",
        "\n",
        "> `git clone https://github.com/YOUR-USERNAME/ml_mipt_dafe_major.git`\n",
        "\n",
        "### 2. Связите вашу копию с оригинальным репозиторием:\n",
        "> `cd into/cloned/fork-repo`\n",
        "\n",
        "> `git remote add upstream https://github.com/ml-dafe/ml_mipt_dafe_major.git`\n",
        "\n",
        "> `git fetch upstream`\n",
        "### 3. Обновите ваш репозиторий, чтобы загрузить изменения оригинального репозитория:\n",
        "> `git pull upstream master`\n",
        "### 4. После внесения изменения в проект на локальной машине обновите свой репозиторий:\n",
        "> `git add *` - загрузить все изменения\n",
        "\n",
        "> `git commit -m \"comment\"` - сделать локальный коммит\n",
        "\n",
        "> `git push origin main` - загрузить локальный коммит в репозиторий\n",
        "\n",
        "! не забудьте про файлик .gitignore, чтобы не загружать лишнего.\n"
      ]
    },
    {
      "cell_type": "markdown",
      "metadata": {
        "id": "aCLU_xAZI_W4"
      },
      "source": [
        "## 0.1. Создание окружения\n",
        "\n",
        "### Вариант max:\n",
        "\n",
        " [Ubuntu](https://help.ubuntu.ru/wiki/%D0%BF%D0%B5%D1%80%D0%B5%D1%85%D0%BE%D0%B4%D0%B8%D0%BC_%D0%BD%D0%B0_ubuntu-linux_-_%D0%B8%D0%BD%D1%81%D1%82p%D1%83%D0%BA%D1%86%D0%B8%D1%8F_%D0%B4%D0%BB%D1%8F_%D0%BF%D0%BE%D0%BB%D1%8C%D0%B7%D0%BE%D0%B2%D0%B0%D1%82%D0%B5%D0%BB%D1%8F_windows)\n",
        "\n",
        "[Drivers](https://linuxconfig.org/how-to-install-the-nvidia-drivers-on-ubuntu-18-04-bionic-beaver-linux)\n",
        "\n",
        "[CUDA+CUDNN](https://medium.com/@sh.tsang/tutorial-cuda-v10-2-cudnn-v7-6-5-installation-ubuntu-18-04-3d24c157473f)\n",
        "\n",
        "[CUDA alternative](https://developer.nvidia.com/cuda-10.2-download-archive?target_os=Linux&target_arch=x86_64&target_distro=Ubuntu&target_version=1804&target_type=deblocal)\n",
        "\n",
        "[CUDA GUIDE](https://docs.nvidia.com/cuda/cuda-installation-guide-linux/index.html)\n",
        "\n",
        "Anaconda + pycharm (студентам бесплатно про версия)\n",
        "\n",
        "### Вариант min:\n",
        "\n",
        "Anaconda\n",
        "> `conda update conda`\n",
        "\n",
        "> `conda create -n ml_env python=3.7`\n",
        "\n",
        "> `conda activate ml_env`\n",
        "\n",
        "> `conda install -n ml_env numpy`\n",
        "\n",
        "> `conda list`\n",
        "\n",
        "> `pip freeze`\n",
        "\n",
        "> `conda env list`\n",
        "\n",
        "> `conda deactivate`\n",
        "\n",
        "> `conda env remove -n ml_env`\n",
        "\n",
        "### Вариант poor:\n",
        "\n",
        "Google drive -> загрузить файл -> открыть с помощью -> Google colaboratory"
      ]
    },
    {
      "cell_type": "code",
      "metadata": {
        "id": "8mThR6T5l6Vo",
        "outputId": "2264677a-07c5-4440-f5c5-a81334d7c056",
        "colab": {
          "base_uri": "https://localhost:8080/",
          "height": 34
        }
      },
      "source": [
        "from google.colab import drive\n",
        "drive.mount('/content/gdrive/')"
      ],
      "execution_count": null,
      "outputs": [
        {
          "output_type": "stream",
          "text": [
            "Mounted at /content/gdrive/\n"
          ],
          "name": "stdout"
        }
      ]
    },
    {
      "cell_type": "code",
      "metadata": {
        "id": "tIg2471lmBH3",
        "outputId": "29a56ad7-ba0c-4f54-af75-2325a061ff5b",
        "colab": {
          "base_uri": "https://localhost:8080/",
          "height": 34
        }
      },
      "source": [
        "!ls ./gdrive/My\\ Drive/Colab\\ Notebooks"
      ],
      "execution_count": 1,
      "outputs": [
        {
          "output_type": "stream",
          "text": [
            "ls: cannot access './gdrive/My Drive/Colab Notebooks': No such file or directory\n"
          ],
          "name": "stdout"
        }
      ]
    },
    {
      "cell_type": "markdown",
      "metadata": {
        "id": "A4YXIzSLnNtu"
      },
      "source": [
        "## 0.2. Jupyter notebook"
      ]
    },
    {
      "cell_type": "markdown",
      "metadata": {
        "id": "ApD-TqFbI_aA"
      },
      "source": [
        "### 0.2.1. Markdown\n",
        "[Здесь](https://athena.brynmawr.edu/jupyter/hub/dblank/public/Jupyter%20Notebook%20Users%20Manual.ipynb) представлено подробное руководство по Markdown, широко используемое в jupyter, github и т. д. Вкратце, это позволяет:\n",
        "\n",
        "0. Делать списки\n",
        "1. \n",
        "# Делать\n",
        "## заголовки\n",
        "### разных\n",
        "#### масштабов\n",
        "3. писать *текст* <s>самыми</s> **разными** способами\n",
        "4. добавлять [гиперссылки](http://imgs.xkcd.com/comics/the_universal_label.png)\n",
        "\n",
        "\n",
        "* Делать ненумерованные списки\n",
        "    * в \n",
        "    * том\n",
        "        * числе\n",
        "            * и\n",
        "                * вложенные\n",
        "\n",
        "<img src=lena.jpg> картиночки</img>\n",
        "\n",
        "использовать Markdown:\n",
        "    \n",
        "$\n",
        "\\left\\{\n",
        "\\begin{array}{ll}\n",
        "x = 16 \\sin^3 (t) \\\\ \n",
        "y = 13 \\cos (t) - 5 \\cos (2t) - 2 \\cos (3t) - \\cos (4t) \\\\\n",
        "t \\in [0, 2 \\pi]\n",
        "\\end{array}\n",
        "\\right.$\n",
        "\n",
        "а также писать такие символы как $pi$ внутри строки."
      ]
    },
    {
      "cell_type": "markdown",
      "metadata": {
        "id": "4bTwYmQgXa-1"
      },
      "source": [
        "### 0.2.2. Горячие клавиши\n",
        "\n",
        "Использование горячих клавиш позволяет очень cильно облегчить и ускорить работу с любой программой, особенно связанной со вводом текста. В плане горячих клавиш очень продвинутым является текстовый редактор vim. В нем существует отдельный режим, мозволяющий пользоваться горячими клавишами. В Jupyter notebook поддерживается та же концепция."
      ]
    },
    {
      "cell_type": "markdown",
      "metadata": {
        "id": "ZLUS9Bw3Xa-1"
      },
      "source": [
        "Существуют 2 режима работы: режим ввода и командный режим. Режим ввода отображается зеленой рамкой вокруг активной ячейки, командный режим -- синей. Для того, чтобы переключиться из режима ввода в командный режим необходимо нажать `Esc`, переход в режим редактирования осуществляется по нажатию клавиши `Enter`.\n",
        "\n",
        "**В командном режиме часто используются следующие горячие клавиши:**\n",
        "* `b` -- вставить пустую ячейку после текущей\n",
        "* `a` -- вставить пустую ячейку перед текучей\n",
        "-----\n",
        "* `ctrl + c` -- копировать текущую ячейку\n",
        "* `ctrl + x` -- вырезать ячейку\n",
        "* `ctrl + v` -- вставить ячейку из буфера после текущей\n",
        "-----\n",
        "* `dd` -- удалить текущую ячейку\n",
        "* `z` -- отменить предыдущее действие (в юпитере не последней версии можно отменить ТОЛЬКО ОДНО действие) \n",
        "-----\n",
        "* `m` -- перевести ячейку в режим Markdown\n",
        "* `y` -- перевести ячейку в режим кода\n",
        "* `l` -- отображать номера строк\n",
        "* `o` -- скрыть/показать вывод текущей ячейки\n",
        "-----\n",
        "* `ii` -- остановить выполнение текущей ячейки\n",
        "* `00` -- перезагрузить ядро\n",
        "* `s` -- сохранить notebook\n",
        "-----\n",
        "* `h` -- Показать справку по горячим клавишам\n",
        "\n",
        "**Некоторые сочетания используются в режиме редактирования:**\n",
        "* `Tab` (в  начале строки либо для выделенных строк) -- добавить отступ\n",
        "* `Shift+Tab` (в  начале строки либо для выделенных строк) -- убрать отступ\n",
        "-----\n",
        "* `Tab` -- автодополнение вводимой команды\n",
        "* `Shift+Tab` -- показать docstring введеннной команды\n",
        "-----\n",
        "* `Clrl+/` -- закомментировать выделеные строки\n",
        "\n",
        "-----\n",
        "* `Shift+Enter` -- выполнить текущую ячейку кода и перейти к следующей\n",
        "* `Ctrl+Enter` -- выполнить текущую ячейку кода и остаться на ней\n",
        "* `Alt+Enter` -- выполнить текущую ячейку кода и создать новую"
      ]
    },
    {
      "cell_type": "markdown",
      "metadata": {
        "id": "j8FpxWWaXa-2"
      },
      "source": [
        "Также Jupytr Notebook имеет большое количество встроенных \"магических\" функций. С некоторыми познакомимся в этом курсе, про другие стоит рассказать сразу."
      ]
    },
    {
      "cell_type": "code",
      "metadata": {
        "id": "7rLAKsryZh_4",
        "outputId": "34213bad-1f2d-41ad-bcb0-b125553c505d",
        "colab": {
          "base_uri": "https://localhost:8080/",
          "height": 156
        }
      },
      "source": [
        "%lsmagic"
      ],
      "execution_count": null,
      "outputs": [
        {
          "output_type": "execute_result",
          "data": {
            "application/json": {
              "cell": {
                "prun": "ExecutionMagics",
                "file": "Other",
                "!": "OSMagics",
                "capture": "ExecutionMagics",
                "timeit": "ExecutionMagics",
                "script": "ScriptMagics",
                "pypy": "Other",
                "system": "OSMagics",
                "perl": "Other",
                "html": "DisplayMagics",
                "bash": "Other",
                "shell": "Other",
                "HTML": "Other",
                "python": "Other",
                "SVG": "Other",
                "javascript": "DisplayMagics",
                "bigquery": "Other",
                "js": "DisplayMagics",
                "writefile": "OSMagics",
                "ruby": "Other",
                "python3": "Other",
                "python2": "Other",
                "latex": "DisplayMagics",
                "sx": "OSMagics",
                "svg": "DisplayMagics",
                "sh": "Other",
                "time": "ExecutionMagics",
                "debug": "ExecutionMagics"
              },
              "line": {
                "psource": "NamespaceMagics",
                "logstart": "LoggingMagics",
                "popd": "OSMagics",
                "tensorflow_version": "Other",
                "loadpy": "CodeMagics",
                "colors": "BasicMagics",
                "who_ls": "NamespaceMagics",
                "lf": "Other",
                "ll": "Other",
                "pprint": "BasicMagics",
                "lk": "Other",
                "ls": "Other",
                "save": "CodeMagics",
                "tb": "ExecutionMagics",
                "lx": "Other",
                "pylab": "PylabMagics",
                "killbgscripts": "ScriptMagics",
                "quickref": "BasicMagics",
                "magic": "BasicMagics",
                "dhist": "OSMagics",
                "edit": "KernelMagics",
                "logstop": "LoggingMagics",
                "gui": "BasicMagics",
                "prun": "ExecutionMagics",
                "debug": "ExecutionMagics",
                "page": "BasicMagics",
                "logstate": "LoggingMagics",
                "ed": "Other",
                "pushd": "OSMagics",
                "timeit": "ExecutionMagics",
                "set_env": "OSMagics",
                "rehashx": "OSMagics",
                "hist": "Other",
                "qtconsole": "KernelMagics",
                "rm": "Other",
                "dirs": "OSMagics",
                "run": "ExecutionMagics",
                "reset_selective": "NamespaceMagics",
                "pinfo2": "NamespaceMagics",
                "matplotlib": "PylabMagics",
                "unload_ext": "ExtensionMagics",
                "doctest_mode": "BasicMagics",
                "logoff": "LoggingMagics",
                "reload_ext": "ExtensionMagics",
                "pdb": "ExecutionMagics",
                "load": "CodeMagics",
                "lsmagic": "BasicMagics",
                "autosave": "KernelMagics",
                "cd": "OSMagics",
                "pastebin": "CodeMagics",
                "alias_magic": "BasicMagics",
                "cp": "Other",
                "autocall": "AutoMagics",
                "ldir": "Other",
                "bookmark": "OSMagics",
                "connect_info": "KernelMagics",
                "mkdir": "Other",
                "system": "OSMagics",
                "whos": "NamespaceMagics",
                "rmdir": "Other",
                "automagic": "AutoMagics",
                "store": "StoreMagics",
                "more": "KernelMagics",
                "shell": "Other",
                "pdef": "NamespaceMagics",
                "precision": "BasicMagics",
                "pinfo": "NamespaceMagics",
                "pwd": "OSMagics",
                "psearch": "NamespaceMagics",
                "reset": "NamespaceMagics",
                "recall": "HistoryMagics",
                "xdel": "NamespaceMagics",
                "xmode": "BasicMagics",
                "cat": "Other",
                "mv": "Other",
                "rerun": "HistoryMagics",
                "logon": "LoggingMagics",
                "history": "HistoryMagics",
                "pycat": "OSMagics",
                "pip": "Other",
                "unalias": "OSMagics",
                "env": "OSMagics",
                "load_ext": "ExtensionMagics",
                "config": "ConfigMagics",
                "profile": "BasicMagics",
                "pfile": "NamespaceMagics",
                "less": "KernelMagics",
                "who": "NamespaceMagics",
                "notebook": "BasicMagics",
                "man": "KernelMagics",
                "sx": "OSMagics",
                "macro": "ExecutionMagics",
                "clear": "KernelMagics",
                "alias": "OSMagics",
                "time": "ExecutionMagics",
                "sc": "OSMagics",
                "rep": "Other",
                "pdoc": "NamespaceMagics"
              }
            },
            "text/plain": [
              "Available line magics:\n",
              "%alias  %alias_magic  %autocall  %automagic  %autosave  %bookmark  %cat  %cd  %clear  %colors  %config  %connect_info  %cp  %debug  %dhist  %dirs  %doctest_mode  %ed  %edit  %env  %gui  %hist  %history  %killbgscripts  %ldir  %less  %lf  %lk  %ll  %load  %load_ext  %loadpy  %logoff  %logon  %logstart  %logstate  %logstop  %ls  %lsmagic  %lx  %macro  %magic  %man  %matplotlib  %mkdir  %more  %mv  %notebook  %page  %pastebin  %pdb  %pdef  %pdoc  %pfile  %pinfo  %pinfo2  %pip  %popd  %pprint  %precision  %profile  %prun  %psearch  %psource  %pushd  %pwd  %pycat  %pylab  %qtconsole  %quickref  %recall  %rehashx  %reload_ext  %rep  %rerun  %reset  %reset_selective  %rm  %rmdir  %run  %save  %sc  %set_env  %shell  %store  %sx  %system  %tb  %tensorflow_version  %time  %timeit  %unalias  %unload_ext  %who  %who_ls  %whos  %xdel  %xmode\n",
              "\n",
              "Available cell magics:\n",
              "%%!  %%HTML  %%SVG  %%bash  %%bigquery  %%capture  %%debug  %%file  %%html  %%javascript  %%js  %%latex  %%perl  %%prun  %%pypy  %%python  %%python2  %%python3  %%ruby  %%script  %%sh  %%shell  %%svg  %%sx  %%system  %%time  %%timeit  %%writefile\n",
              "\n",
              "Automagic is ON, % prefix IS NOT needed for line magics."
            ]
          },
          "metadata": {
            "tags": []
          },
          "execution_count": 5
        }
      ]
    },
    {
      "cell_type": "markdown",
      "metadata": {
        "id": "GBAIG6JaXa-2"
      },
      "source": [
        "Выполнение bat/bash комманд:"
      ]
    },
    {
      "cell_type": "code",
      "metadata": {
        "id": "597w6ouQXa-2",
        "outputId": "00f50a55-6267-48da-cf30-29e8d38b6f10",
        "colab": {
          "base_uri": "https://localhost:8080/",
          "height": 34
        }
      },
      "source": [
        "!ls"
      ],
      "execution_count": null,
      "outputs": [
        {
          "output_type": "stream",
          "text": [
            "sample_data\n"
          ],
          "name": "stdout"
        }
      ]
    },
    {
      "cell_type": "markdown",
      "metadata": {
        "id": "8sqCg8txXa-5"
      },
      "source": [
        "### 0.2.3. Замер времени выполнения кода"
      ]
    },
    {
      "cell_type": "markdown",
      "metadata": {
        "id": "ssocEdSFXa-5"
      },
      "source": [
        "Измерение времени выполнения ячейки кода:"
      ]
    },
    {
      "cell_type": "code",
      "metadata": {
        "id": "TtQHV0FgXa-6",
        "outputId": "1ad349f7-8106-4fe3-f94f-84cb125d9e0d"
      },
      "source": [
        "%%time\n",
        "a = 352e+11\n",
        "for i in range(10000):\n",
        "    a = math.sin(a)"
      ],
      "execution_count": null,
      "outputs": [
        {
          "output_type": "stream",
          "text": [
            "Wall time: 0 ns\n"
          ],
          "name": "stdout"
        }
      ]
    },
    {
      "cell_type": "markdown",
      "metadata": {
        "id": "A5W7l_L3Xa-8"
      },
      "source": [
        "Время выполнения конкретной строки из блока"
      ]
    },
    {
      "cell_type": "code",
      "metadata": {
        "id": "I-RVmK7nXa-9",
        "outputId": "004f863f-f86a-487c-e20d-ba265e1b9527"
      },
      "source": [
        "%time a = 352e+10\n",
        "for i in range(1000):\n",
        "    a = math.sin(a)"
      ],
      "execution_count": null,
      "outputs": [
        {
          "output_type": "stream",
          "text": [
            "Wall time: 0 ns\n"
          ],
          "name": "stdout"
        }
      ]
    },
    {
      "cell_type": "markdown",
      "metadata": {
        "id": "4qVQRT9gXa-_"
      },
      "source": [
        "Замер времени выполнения в цикле"
      ]
    },
    {
      "cell_type": "code",
      "metadata": {
        "id": "XEMat0auXa-_",
        "outputId": "c1a0d02b-dfa9-4024-b43c-249e41c78142"
      },
      "source": [
        "%timeit a = 352e+10\n",
        "for i in range(1000):\n",
        "    a = math.sin(a)"
      ],
      "execution_count": null,
      "outputs": [
        {
          "output_type": "stream",
          "text": [
            "18.5 ns ± 0.252 ns per loop (mean ± std. dev. of 7 runs, 100000000 loops each)\n"
          ],
          "name": "stdout"
        }
      ]
    },
    {
      "cell_type": "markdown",
      "metadata": {
        "id": "2wML2cKVZI3_"
      },
      "source": [
        "разные фишки jupyter notebook описаны [здесь](https://tproger.ru/translations/how-to-optimize-jupyter-notebook/)"
      ]
    },
    {
      "cell_type": "markdown",
      "metadata": {
        "id": "1cnGhhAkw9yw"
      },
      "source": [
        "# 1. Повторение"
      ]
    },
    {
      "cell_type": "markdown",
      "metadata": {
        "id": "_EVDc6u9TXH6"
      },
      "source": [
        "## 1.1. NumPy\n",
        "\n",
        "**NumPy** — great Python library for matrix computations. It allows to work [easily] with matrices, arrays, math etc. In addition, it allows (and encourage) vector operations, which are **much** quicker.\n",
        "\n",
        " - [numpy](http://www.numpy.org)\n",
        " - [numpy tutorial](http://cs231n.github.io/python-numpy-tutorial/)\n",
        " - [100 numpy exercises](http://www.labri.fr/perso/nrougier/teaching/numpy.100/)"
      ]
    },
    {
      "cell_type": "code",
      "metadata": {
        "id": "_cfrrnb4TXH6"
      },
      "source": [
        "import numpy as np"
      ],
      "execution_count": null,
      "outputs": []
    },
    {
      "cell_type": "markdown",
      "metadata": {
        "id": "oMZeErASTXH9"
      },
      "source": [
        "Основной тип  — [numpy.ndarray](http://docs.scipy.org/doc/numpy-1.10.0/reference/generated/numpy.array.html). \n",
        "Каждый `ndarray` имеет оси"
      ]
    },
    {
      "cell_type": "code",
      "metadata": {
        "id": "6OtT_WMlTXH9",
        "outputId": "a3e086fb-fbc2-4e2a-f649-898b44b4f7f1"
      },
      "source": [
        "vec = np.array([1, 2, 3])\n",
        "vec.ndim # number of axis"
      ],
      "execution_count": null,
      "outputs": [
        {
          "output_type": "execute_result",
          "data": {
            "text/plain": [
              "1"
            ]
          },
          "metadata": {
            "tags": []
          },
          "execution_count": 4
        }
      ]
    },
    {
      "cell_type": "code",
      "metadata": {
        "id": "pAkiq2cQTXIA",
        "outputId": "48700de9-430d-4a41-8be3-80be107e3fc0"
      },
      "source": [
        "mat = np.array([[1, 2, 3], [4, 5, 6]])\n",
        "mat.shape"
      ],
      "execution_count": null,
      "outputs": [
        {
          "output_type": "execute_result",
          "data": {
            "text/plain": [
              "(2, 3)"
            ]
          },
          "metadata": {
            "tags": []
          },
          "execution_count": 5
        }
      ]
    },
    {
      "cell_type": "markdown",
      "metadata": {
        "id": "lgSTz_PtTXIC"
      },
      "source": [
        "#### Создание матриц "
      ]
    },
    {
      "cell_type": "code",
      "metadata": {
        "id": "EOlQq-sXTXIC",
        "outputId": "dbb84d85-b2fb-40bd-df9f-50d74d201d38"
      },
      "source": [
        "np.zeros((3,)) # Создание матрицы из нулей "
      ],
      "execution_count": null,
      "outputs": [
        {
          "output_type": "execute_result",
          "data": {
            "text/plain": [
              "array([0., 0., 0.])"
            ]
          },
          "metadata": {
            "tags": []
          },
          "execution_count": 6
        }
      ]
    },
    {
      "cell_type": "code",
      "metadata": {
        "id": "I21QhYyKTXIF",
        "outputId": "b445ca4a-c4a4-4493-d661-3f4719951414"
      },
      "source": [
        "np.ones((3, 4)) # Создание матрицы из единиц"
      ],
      "execution_count": null,
      "outputs": [
        {
          "output_type": "execute_result",
          "data": {
            "text/plain": [
              "array([[1., 1., 1., 1.],\n",
              "       [1., 1., 1., 1.],\n",
              "       [1., 1., 1., 1.]])"
            ]
          },
          "metadata": {
            "tags": []
          },
          "execution_count": 7
        }
      ]
    },
    {
      "cell_type": "code",
      "metadata": {
        "id": "tRNntmPOTXIH",
        "outputId": "41b23d15-a2ca-405b-c81b-20b2ba41393e"
      },
      "source": [
        "np.identity(3) #Создание единичной матрицы"
      ],
      "execution_count": null,
      "outputs": [
        {
          "output_type": "execute_result",
          "data": {
            "text/plain": [
              "array([[1., 0., 0.],\n",
              "       [0., 1., 0.],\n",
              "       [0., 0., 1.]])"
            ]
          },
          "metadata": {
            "tags": []
          },
          "execution_count": 8
        }
      ]
    },
    {
      "cell_type": "code",
      "metadata": {
        "id": "4lsPKvzzTXIJ",
        "outputId": "63f0622e-df8b-433f-a626-5fc1a4781928"
      },
      "source": [
        "A = np.arange(2, 20, 3) # Создание вектора с указанием границ и шага\n",
        "A"
      ],
      "execution_count": null,
      "outputs": [
        {
          "output_type": "execute_result",
          "data": {
            "text/plain": [
              "array([ 2,  5,  8, 11, 14, 17])"
            ]
          },
          "metadata": {
            "tags": []
          },
          "execution_count": 9
        }
      ]
    },
    {
      "cell_type": "code",
      "metadata": {
        "id": "61Y2rk2dTXIM",
        "outputId": "fe54c6a0-4f52-4b5c-b68e-9d3153b09df2"
      },
      "source": [
        "A.reshape(2, 3) # Изменение формы "
      ],
      "execution_count": null,
      "outputs": [
        {
          "output_type": "execute_result",
          "data": {
            "text/plain": [
              "array([[ 2,  5,  8],\n",
              "       [11, 14, 17]])"
            ]
          },
          "metadata": {
            "tags": []
          },
          "execution_count": 10
        }
      ]
    },
    {
      "cell_type": "code",
      "metadata": {
        "id": "qkD4N50PTXIO",
        "outputId": "a74fdc12-6826-490a-b59c-ddc112c95d92"
      },
      "source": [
        "C = A.reshape(3, -1) # Автоматический подбор размеров матрицы\n",
        "C"
      ],
      "execution_count": null,
      "outputs": [
        {
          "output_type": "execute_result",
          "data": {
            "text/plain": [
              "array([[ 2,  5],\n",
              "       [ 8, 11],\n",
              "       [14, 17]])"
            ]
          },
          "metadata": {
            "tags": []
          },
          "execution_count": 11
        }
      ]
    },
    {
      "cell_type": "code",
      "metadata": {
        "id": "9GLSdfMHTXIR",
        "outputId": "ca178764-a0e5-44aa-de33-7337bae9ae67"
      },
      "source": [
        "C.T # Транспонирование"
      ],
      "execution_count": null,
      "outputs": [
        {
          "output_type": "execute_result",
          "data": {
            "text/plain": [
              "array([[ 2,  8, 14],\n",
              "       [ 5, 11, 17]])"
            ]
          },
          "metadata": {
            "tags": []
          },
          "execution_count": 12
        }
      ]
    },
    {
      "cell_type": "markdown",
      "metadata": {
        "id": "ijesPIkQTXIT"
      },
      "source": [
        "#### Базовые операции над матрицами"
      ]
    },
    {
      "cell_type": "code",
      "metadata": {
        "id": "5JzUXlQtTXIT",
        "outputId": "93d82ba5-b6f6-4f8d-b684-ef3aee17715c"
      },
      "source": [
        "A = np.arange(9).reshape(3, 3)\n",
        "B = np.arange(8, 17).reshape(3, 3)\n",
        "print(A)\n",
        "print(B)"
      ],
      "execution_count": null,
      "outputs": [
        {
          "output_type": "stream",
          "text": [
            "[[0 1 2]\n",
            " [3 4 5]\n",
            " [6 7 8]]\n",
            "[[ 8  9 10]\n",
            " [11 12 13]\n",
            " [14 15 16]]\n"
          ],
          "name": "stdout"
        }
      ]
    },
    {
      "cell_type": "code",
      "metadata": {
        "id": "G8gXFUvdTXIV",
        "outputId": "6056a722-d7ff-4e4b-ebd0-ed05a9819508"
      },
      "source": [
        "A+B*2 # Сложение и умножение на константу"
      ],
      "execution_count": null,
      "outputs": [
        {
          "output_type": "execute_result",
          "data": {
            "text/plain": [
              "array([[16, 19, 22],\n",
              "       [25, 28, 31],\n",
              "       [34, 37, 40]])"
            ]
          },
          "metadata": {
            "tags": []
          },
          "execution_count": 14
        }
      ]
    },
    {
      "cell_type": "code",
      "metadata": {
        "id": "_TCpG55XTXIY",
        "outputId": "b8f84597-0534-47b1-ca1d-d26f0576d4fd"
      },
      "source": [
        "A * B #Поэлементное умножение"
      ],
      "execution_count": null,
      "outputs": [
        {
          "output_type": "execute_result",
          "data": {
            "text/plain": [
              "array([[  0,   9,  20],\n",
              "       [ 33,  48,  65],\n",
              "       [ 84, 105, 128]])"
            ]
          },
          "metadata": {
            "tags": []
          },
          "execution_count": 15
        }
      ]
    },
    {
      "cell_type": "code",
      "metadata": {
        "id": "OANzABKsTXIa",
        "outputId": "8c819cd6-b3dd-4e0a-d482-105c987028b9"
      },
      "source": [
        "A.dot(B)"
      ],
      "execution_count": null,
      "outputs": [
        {
          "output_type": "execute_result",
          "data": {
            "text/plain": [
              "array([[ 39,  42,  45],\n",
              "       [138, 150, 162],\n",
              "       [237, 258, 279]])"
            ]
          },
          "metadata": {
            "tags": []
          },
          "execution_count": 16
        }
      ]
    },
    {
      "cell_type": "code",
      "metadata": {
        "id": "SwaIU_QfTXIc",
        "outputId": "9ff3d62e-6777-4c13-8677-3d61b79f179e"
      },
      "source": [
        "A.dot(B).max(axis=1)"
      ],
      "execution_count": null,
      "outputs": [
        {
          "output_type": "execute_result",
          "data": {
            "text/plain": [
              "array([ 45, 162, 279])"
            ]
          },
          "metadata": {
            "tags": []
          },
          "execution_count": 17
        }
      ]
    },
    {
      "cell_type": "markdown",
      "metadata": {
        "id": "1DEg0vYjTXIe"
      },
      "source": [
        "#### Индексирование"
      ]
    },
    {
      "cell_type": "code",
      "metadata": {
        "id": "MBiMed6fTXIf",
        "outputId": "00f03be1-6906-4717-8213-d61dc2afadbf"
      },
      "source": [
        "A[:]"
      ],
      "execution_count": null,
      "outputs": [
        {
          "output_type": "execute_result",
          "data": {
            "text/plain": [
              "array([[0, 1, 2],\n",
              "       [3, 4, 5],\n",
              "       [6, 7, 8]])"
            ]
          },
          "metadata": {
            "tags": []
          },
          "execution_count": 18
        }
      ]
    },
    {
      "cell_type": "code",
      "metadata": {
        "id": "iwlItr4qTXIg",
        "outputId": "846928f4-684f-4796-bd95-63a5010739c0"
      },
      "source": [
        "A[:, 1]"
      ],
      "execution_count": null,
      "outputs": [
        {
          "output_type": "execute_result",
          "data": {
            "text/plain": [
              "array([1, 4, 7])"
            ]
          },
          "metadata": {
            "tags": []
          },
          "execution_count": 19
        }
      ]
    },
    {
      "cell_type": "code",
      "metadata": {
        "id": "I6Av1ak0TXIi",
        "outputId": "b58c7886-fc07-4b22-b6aa-fd866314c5df"
      },
      "source": [
        "A[:, 1:3]"
      ],
      "execution_count": null,
      "outputs": [
        {
          "output_type": "execute_result",
          "data": {
            "text/plain": [
              "array([[1, 2],\n",
              "       [4, 5],\n",
              "       [7, 8]])"
            ]
          },
          "metadata": {
            "tags": []
          },
          "execution_count": 20
        }
      ]
    },
    {
      "cell_type": "code",
      "metadata": {
        "id": "GJmDwm02TXIk",
        "outputId": "e6081cf8-5ecc-46f3-b0eb-1f648f5dbd89"
      },
      "source": [
        "A = np.arange(81).reshape(9, -1)\n",
        "A"
      ],
      "execution_count": null,
      "outputs": [
        {
          "output_type": "execute_result",
          "data": {
            "text/plain": [
              "array([[ 0,  1,  2,  3,  4,  5,  6,  7,  8],\n",
              "       [ 9, 10, 11, 12, 13, 14, 15, 16, 17],\n",
              "       [18, 19, 20, 21, 22, 23, 24, 25, 26],\n",
              "       [27, 28, 29, 30, 31, 32, 33, 34, 35],\n",
              "       [36, 37, 38, 39, 40, 41, 42, 43, 44],\n",
              "       [45, 46, 47, 48, 49, 50, 51, 52, 53],\n",
              "       [54, 55, 56, 57, 58, 59, 60, 61, 62],\n",
              "       [63, 64, 65, 66, 67, 68, 69, 70, 71],\n",
              "       [72, 73, 74, 75, 76, 77, 78, 79, 80]])"
            ]
          },
          "metadata": {
            "tags": []
          },
          "execution_count": 21
        }
      ]
    },
    {
      "cell_type": "code",
      "metadata": {
        "id": "yUFvu6o_TXIm",
        "outputId": "ea9a9051-7e97-4151-d8ab-3e0a6f36674b"
      },
      "source": [
        "A[:, 2:6]"
      ],
      "execution_count": null,
      "outputs": [
        {
          "output_type": "execute_result",
          "data": {
            "text/plain": [
              "array([[ 2,  3,  4,  5],\n",
              "       [11, 12, 13, 14],\n",
              "       [20, 21, 22, 23],\n",
              "       [29, 30, 31, 32],\n",
              "       [38, 39, 40, 41],\n",
              "       [47, 48, 49, 50],\n",
              "       [56, 57, 58, 59],\n",
              "       [65, 66, 67, 68],\n",
              "       [74, 75, 76, 77]])"
            ]
          },
          "metadata": {
            "tags": []
          },
          "execution_count": 22
        }
      ]
    },
    {
      "cell_type": "code",
      "metadata": {
        "id": "Jq_5yQ3ATXIo",
        "outputId": "b00451e6-3aec-40d5-fdf2-26f7bdd5c46d"
      },
      "source": [
        "A[:, 2:6:3] #Можно добавлять шаг"
      ],
      "execution_count": null,
      "outputs": [
        {
          "output_type": "execute_result",
          "data": {
            "text/plain": [
              "array([[ 2,  5],\n",
              "       [11, 14],\n",
              "       [20, 23],\n",
              "       [29, 32],\n",
              "       [38, 41],\n",
              "       [47, 50],\n",
              "       [56, 59],\n",
              "       [65, 68],\n",
              "       [74, 77]])"
            ]
          },
          "metadata": {
            "tags": []
          },
          "execution_count": 23
        }
      ]
    },
    {
      "cell_type": "code",
      "metadata": {
        "id": "sLqZg_bcTXIq",
        "outputId": "ecc6e8b8-d156-46e9-ea59-a09785e39f51"
      },
      "source": [
        "A[A % 2 == 0]"
      ],
      "execution_count": null,
      "outputs": [
        {
          "output_type": "execute_result",
          "data": {
            "text/plain": [
              "array([ 0,  2,  4,  6,  8, 10, 12, 14, 16, 18, 20, 22, 24, 26, 28, 30, 32,\n",
              "       34, 36, 38, 40, 42, 44, 46, 48, 50, 52, 54, 56, 58, 60, 62, 64, 66,\n",
              "       68, 70, 72, 74, 76, 78, 80])"
            ]
          },
          "metadata": {
            "tags": []
          },
          "execution_count": 24
        }
      ]
    },
    {
      "cell_type": "code",
      "metadata": {
        "id": "3SeNsrPCskAf"
      },
      "source": [
        ""
      ],
      "execution_count": null,
      "outputs": []
    },
    {
      "cell_type": "code",
      "metadata": {
        "id": "ibv6fmMEskDy"
      },
      "source": [
        ""
      ],
      "execution_count": null,
      "outputs": []
    },
    {
      "cell_type": "code",
      "metadata": {
        "id": "M6C72QXcskHG"
      },
      "source": [
        ""
      ],
      "execution_count": null,
      "outputs": []
    },
    {
      "cell_type": "markdown",
      "metadata": {
        "id": "dZYk181dTXJY"
      },
      "source": [
        "## 1.2. Matplotlib\n",
        "* [matplotlib](http://matplotlib.org)\n",
        "* [matplotlib - 2D and 3D plotting in Python](http://nbviewer.jupyter.org/github/jrjohansson/scientific-python-lectures/blob/master/Lecture-4-Matplotlib.ipynb)\n",
        "* [visualization in pandas](http://pandas.pydata.org/pandas-docs/stable/visualization.html)\n",
        "\n",
        "**Matplotlib** — Great library for visualizations."
      ]
    },
    {
      "cell_type": "code",
      "metadata": {
        "id": "VO6vNDyvTXJZ"
      },
      "source": [
        "%matplotlib inline\n",
        "import matplotlib.pyplot as plt"
      ],
      "execution_count": null,
      "outputs": []
    },
    {
      "cell_type": "code",
      "metadata": {
        "id": "uF3W2Y53TXJa"
      },
      "source": [
        "x = np.linspace(1, 10, 20)"
      ],
      "execution_count": null,
      "outputs": []
    },
    {
      "cell_type": "code",
      "metadata": {
        "id": "zmVy6_WNTXJc",
        "outputId": "19aaf47c-5824-4b71-bf4d-648384c4f960",
        "colab": {
          "base_uri": "https://localhost:8080/",
          "height": 423
        }
      },
      "source": [
        "fig = plt.figure(figsize=(10, 6))\n",
        "\n",
        "axes = fig.add_axes([0.1, 0.1, 0.8, 0.8])\n",
        "\n",
        "axes.plot(x, x ** 2, 'r')\n",
        "axes.plot(x, x ** 3, 'b*--')\n",
        "\n",
        "axes.set_xlabel('x')\n",
        "axes.set_ylabel('y')\n",
        "axes.set_title('title')\n",
        "axes.legend([r'$x^2$', 'x^3'], loc = 0)\n",
        "\n",
        "plt.show()"
      ],
      "execution_count": null,
      "outputs": [
        {
          "output_type": "display_data",
          "data": {
            "image/png": "[encoded data removed]",
            "text/plain": [
              "<Figure size 720x432 with 1 Axes>"
            ]
          },
          "metadata": {
            "tags": [],
            "needs_background": "light"
          }
        }
      ]
    },
    {
      "cell_type": "code",
      "metadata": {
        "id": "58Ddx3QUTXJe",
        "outputId": "ae06471d-37d7-4526-d0a7-aead090b737b",
        "colab": {
          "base_uri": "https://localhost:8080/",
          "height": 369
        }
      },
      "source": [
        "fig, axes = plt.subplots(nrows=1, ncols=3, figsize = (16, 5))\n",
        "\n",
        "for pow_num, ax in enumerate(axes):\n",
        "    ax.plot(x, x ** (pow_num + 1), 'r')\n",
        "    ax.set_xlabel('x')\n",
        "    ax.set_ylabel('y')\n",
        "    ax.set_title(r'$y = x^' + str(pow_num + 1)+ r'$', fontsize = 18)\n",
        "fig.tight_layout() # dealing with intersecting figures"
      ],
      "execution_count": null,
      "outputs": [
        {
          "output_type": "display_data",
          "data": {
            "image/png": "[encoded data removed]",
            "text/plain": [
              "<Figure size 1152x360 with 3 Axes>"
            ]
          },
          "metadata": {
            "tags": [],
            "needs_background": "light"
          }
        }
      ]
    },
    {
      "cell_type": "code",
      "metadata": {
        "id": "fDYPab2qTXJf"
      },
      "source": [
        "alpha = 0.7\n",
        "phi_ext = 2 * np.pi * 0.5\n",
        "\n",
        "def flux_qubit_potential(phi_m, phi_p):\n",
        "    return 2 + alpha - 2 * np.cos(phi_p) * np.cos(phi_m) - alpha * np.cos(phi_ext - 2*phi_p)\n",
        "\n",
        "phi_m = np.linspace(0, 2 * np.pi, 100)\n",
        "phi_p = np.linspace(0, 2 * np.pi, 100)\n",
        "X, Y = np.meshgrid(phi_p, phi_m)\n",
        "Z = flux_qubit_potential(X, Y).T"
      ],
      "execution_count": null,
      "outputs": []
    },
    {
      "cell_type": "code",
      "metadata": {
        "id": "CnwU0iRcTXJh",
        "outputId": "813a7ac3-60b3-4766-cc75-d2e90b900942"
      },
      "source": [
        "from mpl_toolkits.mplot3d import Axes3D\n",
        "\n",
        "fig = plt.figure(figsize=(14, 6))\n",
        "\n",
        "ax = fig.add_subplot(111, projection='3d')\n",
        "\n",
        "p = ax.plot_surface(X, Y, Z, rstride=4, cstride=4, linewidth=0, cmap='jet')"
      ],
      "execution_count": null,
      "outputs": [
        {
          "output_type": "display_data",
          "data": {
            "image/png": "[encoded data removed]",
            "text/plain": [
              "<Figure size 1008x432 with 1 Axes>"
            ]
          },
          "metadata": {
            "tags": []
          }
        }
      ]
    },
    {
      "cell_type": "markdown",
      "metadata": {
        "id": "dC1qOchqHGj9"
      },
      "source": [
        "# 2. Работа с данными\n"
      ]
    },
    {
      "cell_type": "markdown",
      "metadata": {
        "id": "HXyYKe3LIgSe"
      },
      "source": [
        "\n",
        "__Источник данных:__ [https://opendata.socrata.com/](https://opendata.socrata.com/Government/Airplane-Crashes-and-Fatalities-Since-1908/q2te-8cvq)\n",
        "\n",
        "__Dataset:__ Airplane Crashes and Fatalities Since 1908\n",
        "\n",
        "Содержит полную историю авиакатастроф по всему миру, с 1908 года-по настоящее время.\n",
        "> `../data/Airplane_Crashes_and_Fatalities_Since_1908.csv`\n",
        "\n"
      ]
    },
    {
      "cell_type": "markdown",
      "metadata": {
        "id": "ar0XEFgonha2"
      },
      "source": [
        "## 2.1. Подготовка данных"
      ]
    },
    {
      "cell_type": "code",
      "metadata": {
        "id": "f_vQQw1YHGj5",
        "outputId": "70b04dd2-7441-4d5f-bd66-d0e04282e8b8",
        "colab": {
          "base_uri": "https://localhost:8080/",
          "height": 71
        }
      },
      "source": [
        "import pandas as pd\n",
        "import numpy as np\n",
        "\n",
        "import scipy.stats as st\n",
        "\n",
        "import seaborn as sns\n",
        "import matplotlib.pyplot as plt\n",
        "sns.set(palette='deep', style='darkgrid', rc={\"figure.figsize\": (15, 8)})\n",
        "\n",
        "\n",
        "import warnings\n",
        "warnings.simplefilter('ignore')\n",
        "\n",
        "%matplotlib inline"
      ],
      "execution_count": null,
      "outputs": [
        {
          "output_type": "stream",
          "text": [
            "/usr/local/lib/python3.6/dist-packages/statsmodels/tools/_testing.py:19: FutureWarning: pandas.util.testing is deprecated. Use the functions in the public API at pandas.testing instead.\n",
            "  import pandas.util.testing as tm\n"
          ],
          "name": "stderr"
        }
      ]
    },
    {
      "cell_type": "code",
      "metadata": {
        "id": "0rLSvE0ella6",
        "outputId": "d1ae03d8-1704-44b6-9d62-c64f5efd2de9",
        "colab": {
          "base_uri": "https://localhost:8080/",
          "height": 34
        }
      },
      "source": [
        " !ls"
      ],
      "execution_count": null,
      "outputs": [
        {
          "output_type": "stream",
          "text": [
            "sample_data\n"
          ],
          "name": "stdout"
        }
      ]
    },
    {
      "cell_type": "code",
      "metadata": {
        "id": "oLB01WusHGj9",
        "outputId": "41bbb63f-c32f-4640-c44d-5bd95bb7e03e",
        "colab": {
          "base_uri": "https://localhost:8080/",
          "height": 459
        }
      },
      "source": [
        "df = pd.read_csv(\"./gdrive/My Drive/Colab Notebooks/Airplane_Crashes_and_Fatalities_Since_1908.csv\")\n",
        "\n",
        "\n",
        "#Пока не смотрим на этот код: \n",
        "df['Time'] = df['Time'].str.replace('c:','')"
      ],
      "execution_count": null,
      "outputs": [
        {
          "output_type": "error",
          "ename": "FileNotFoundError",
          "evalue": "ignored",
          "traceback": [
            "\u001b[0;31m---------------------------------------------------------------------------\u001b[0m",
            "\u001b[0;31mFileNotFoundError\u001b[0m                         Traceback (most recent call last)",
            "\u001b[0;32m<ipython-input-3-d994f33929d2>\u001b[0m in \u001b[0;36m<module>\u001b[0;34m()\u001b[0m\n\u001b[0;32m----> 1\u001b[0;31m \u001b[0mdf\u001b[0m \u001b[0;34m=\u001b[0m \u001b[0mpd\u001b[0m\u001b[0;34m.\u001b[0m\u001b[0mread_csv\u001b[0m\u001b[0;34m(\u001b[0m\u001b[0;34m\"./gdrive/My Drive/Colab Notebooks/Airplane_Crashes_and_Fatalities_Since_1908.csv\"\u001b[0m\u001b[0;34m)\u001b[0m\u001b[0;34m\u001b[0m\u001b[0;34m\u001b[0m\u001b[0m\n\u001b[0m\u001b[1;32m      2\u001b[0m \u001b[0;34m\u001b[0m\u001b[0m\n\u001b[1;32m      3\u001b[0m \u001b[0;34m\u001b[0m\u001b[0m\n\u001b[1;32m      4\u001b[0m \u001b[0;31m#Пока не смотрим на этот код:\u001b[0m\u001b[0;34m\u001b[0m\u001b[0;34m\u001b[0m\u001b[0;34m\u001b[0m\u001b[0m\n\u001b[1;32m      5\u001b[0m \u001b[0mdf\u001b[0m\u001b[0;34m[\u001b[0m\u001b[0;34m'Time'\u001b[0m\u001b[0;34m]\u001b[0m \u001b[0;34m=\u001b[0m \u001b[0mdf\u001b[0m\u001b[0;34m[\u001b[0m\u001b[0;34m'Time'\u001b[0m\u001b[0;34m]\u001b[0m\u001b[0;34m.\u001b[0m\u001b[0mstr\u001b[0m\u001b[0;34m.\u001b[0m\u001b[0mreplace\u001b[0m\u001b[0;34m(\u001b[0m\u001b[0;34m'c:'\u001b[0m\u001b[0;34m,\u001b[0m\u001b[0;34m''\u001b[0m\u001b[0;34m)\u001b[0m\u001b[0;34m\u001b[0m\u001b[0;34m\u001b[0m\u001b[0m\n",
            "\u001b[0;32m/usr/local/lib/python3.6/dist-packages/pandas/io/parsers.py\u001b[0m in \u001b[0;36mparser_f\u001b[0;34m(filepath_or_buffer, sep, delimiter, header, names, index_col, usecols, squeeze, prefix, mangle_dupe_cols, dtype, engine, converters, true_values, false_values, skipinitialspace, skiprows, skipfooter, nrows, na_values, keep_default_na, na_filter, verbose, skip_blank_lines, parse_dates, infer_datetime_format, keep_date_col, date_parser, dayfirst, cache_dates, iterator, chunksize, compression, thousands, decimal, lineterminator, quotechar, quoting, doublequote, escapechar, comment, encoding, dialect, error_bad_lines, warn_bad_lines, delim_whitespace, low_memory, memory_map, float_precision)\u001b[0m\n\u001b[1;32m    674\u001b[0m         )\n\u001b[1;32m    675\u001b[0m \u001b[0;34m\u001b[0m\u001b[0m\n\u001b[0;32m--> 676\u001b[0;31m         \u001b[0;32mreturn\u001b[0m \u001b[0m_read\u001b[0m\u001b[0;34m(\u001b[0m\u001b[0mfilepath_or_buffer\u001b[0m\u001b[0;34m,\u001b[0m \u001b[0mkwds\u001b[0m\u001b[0;34m)\u001b[0m\u001b[0;34m\u001b[0m\u001b[0;34m\u001b[0m\u001b[0m\n\u001b[0m\u001b[1;32m    677\u001b[0m \u001b[0;34m\u001b[0m\u001b[0m\n\u001b[1;32m    678\u001b[0m     \u001b[0mparser_f\u001b[0m\u001b[0;34m.\u001b[0m\u001b[0m__name__\u001b[0m \u001b[0;34m=\u001b[0m \u001b[0mname\u001b[0m\u001b[0;34m\u001b[0m\u001b[0;34m\u001b[0m\u001b[0m\n",
            "\u001b[0;32m/usr/local/lib/python3.6/dist-packages/pandas/io/parsers.py\u001b[0m in \u001b[0;36m_read\u001b[0;34m(filepath_or_buffer, kwds)\u001b[0m\n\u001b[1;32m    446\u001b[0m \u001b[0;34m\u001b[0m\u001b[0m\n\u001b[1;32m    447\u001b[0m     \u001b[0;31m# Create the parser.\u001b[0m\u001b[0;34m\u001b[0m\u001b[0;34m\u001b[0m\u001b[0;34m\u001b[0m\u001b[0m\n\u001b[0;32m--> 448\u001b[0;31m     \u001b[0mparser\u001b[0m \u001b[0;34m=\u001b[0m \u001b[0mTextFileReader\u001b[0m\u001b[0;34m(\u001b[0m\u001b[0mfp_or_buf\u001b[0m\u001b[0;34m,\u001b[0m \u001b[0;34m**\u001b[0m\u001b[0mkwds\u001b[0m\u001b[0;34m)\u001b[0m\u001b[0;34m\u001b[0m\u001b[0;34m\u001b[0m\u001b[0m\n\u001b[0m\u001b[1;32m    449\u001b[0m \u001b[0;34m\u001b[0m\u001b[0m\n\u001b[1;32m    450\u001b[0m     \u001b[0;32mif\u001b[0m \u001b[0mchunksize\u001b[0m \u001b[0;32mor\u001b[0m \u001b[0miterator\u001b[0m\u001b[0;34m:\u001b[0m\u001b[0;34m\u001b[0m\u001b[0;34m\u001b[0m\u001b[0m\n",
            "\u001b[0;32m/usr/local/lib/python3.6/dist-packages/pandas/io/parsers.py\u001b[0m in \u001b[0;36m__init__\u001b[0;34m(self, f, engine, **kwds)\u001b[0m\n\u001b[1;32m    878\u001b[0m             \u001b[0mself\u001b[0m\u001b[0;34m.\u001b[0m\u001b[0moptions\u001b[0m\u001b[0;34m[\u001b[0m\u001b[0;34m\"has_index_names\"\u001b[0m\u001b[0;34m]\u001b[0m \u001b[0;34m=\u001b[0m \u001b[0mkwds\u001b[0m\u001b[0;34m[\u001b[0m\u001b[0;34m\"has_index_names\"\u001b[0m\u001b[0;34m]\u001b[0m\u001b[0;34m\u001b[0m\u001b[0;34m\u001b[0m\u001b[0m\n\u001b[1;32m    879\u001b[0m \u001b[0;34m\u001b[0m\u001b[0m\n\u001b[0;32m--> 880\u001b[0;31m         \u001b[0mself\u001b[0m\u001b[0;34m.\u001b[0m\u001b[0m_make_engine\u001b[0m\u001b[0;34m(\u001b[0m\u001b[0mself\u001b[0m\u001b[0;34m.\u001b[0m\u001b[0mengine\u001b[0m\u001b[0;34m)\u001b[0m\u001b[0;34m\u001b[0m\u001b[0;34m\u001b[0m\u001b[0m\n\u001b[0m\u001b[1;32m    881\u001b[0m \u001b[0;34m\u001b[0m\u001b[0m\n\u001b[1;32m    882\u001b[0m     \u001b[0;32mdef\u001b[0m \u001b[0mclose\u001b[0m\u001b[0;34m(\u001b[0m\u001b[0mself\u001b[0m\u001b[0;34m)\u001b[0m\u001b[0;34m:\u001b[0m\u001b[0;34m\u001b[0m\u001b[0;34m\u001b[0m\u001b[0m\n",
            "\u001b[0;32m/usr/local/lib/python3.6/dist-packages/pandas/io/parsers.py\u001b[0m in \u001b[0;36m_make_engine\u001b[0;34m(self, engine)\u001b[0m\n\u001b[1;32m   1112\u001b[0m     \u001b[0;32mdef\u001b[0m \u001b[0m_make_engine\u001b[0m\u001b[0;34m(\u001b[0m\u001b[0mself\u001b[0m\u001b[0;34m,\u001b[0m \u001b[0mengine\u001b[0m\u001b[0;34m=\u001b[0m\u001b[0;34m\"c\"\u001b[0m\u001b[0;34m)\u001b[0m\u001b[0;34m:\u001b[0m\u001b[0;34m\u001b[0m\u001b[0;34m\u001b[0m\u001b[0m\n\u001b[1;32m   1113\u001b[0m         \u001b[0;32mif\u001b[0m \u001b[0mengine\u001b[0m \u001b[0;34m==\u001b[0m \u001b[0;34m\"c\"\u001b[0m\u001b[0;34m:\u001b[0m\u001b[0;34m\u001b[0m\u001b[0;34m\u001b[0m\u001b[0m\n\u001b[0;32m-> 1114\u001b[0;31m             \u001b[0mself\u001b[0m\u001b[0;34m.\u001b[0m\u001b[0m_engine\u001b[0m \u001b[0;34m=\u001b[0m \u001b[0mCParserWrapper\u001b[0m\u001b[0;34m(\u001b[0m\u001b[0mself\u001b[0m\u001b[0;34m.\u001b[0m\u001b[0mf\u001b[0m\u001b[0;34m,\u001b[0m \u001b[0;34m**\u001b[0m\u001b[0mself\u001b[0m\u001b[0;34m.\u001b[0m\u001b[0moptions\u001b[0m\u001b[0;34m)\u001b[0m\u001b[0;34m\u001b[0m\u001b[0;34m\u001b[0m\u001b[0m\n\u001b[0m\u001b[1;32m   1115\u001b[0m         \u001b[0;32melse\u001b[0m\u001b[0;34m:\u001b[0m\u001b[0;34m\u001b[0m\u001b[0;34m\u001b[0m\u001b[0m\n\u001b[1;32m   1116\u001b[0m             \u001b[0;32mif\u001b[0m \u001b[0mengine\u001b[0m \u001b[0;34m==\u001b[0m \u001b[0;34m\"python\"\u001b[0m\u001b[0;34m:\u001b[0m\u001b[0;34m\u001b[0m\u001b[0;34m\u001b[0m\u001b[0m\n",
            "\u001b[0;32m/usr/local/lib/python3.6/dist-packages/pandas/io/parsers.py\u001b[0m in \u001b[0;36m__init__\u001b[0;34m(self, src, **kwds)\u001b[0m\n\u001b[1;32m   1889\u001b[0m         \u001b[0mkwds\u001b[0m\u001b[0;34m[\u001b[0m\u001b[0;34m\"usecols\"\u001b[0m\u001b[0;34m]\u001b[0m \u001b[0;34m=\u001b[0m \u001b[0mself\u001b[0m\u001b[0;34m.\u001b[0m\u001b[0musecols\u001b[0m\u001b[0;34m\u001b[0m\u001b[0;34m\u001b[0m\u001b[0m\n\u001b[1;32m   1890\u001b[0m \u001b[0;34m\u001b[0m\u001b[0m\n\u001b[0;32m-> 1891\u001b[0;31m         \u001b[0mself\u001b[0m\u001b[0;34m.\u001b[0m\u001b[0m_reader\u001b[0m \u001b[0;34m=\u001b[0m \u001b[0mparsers\u001b[0m\u001b[0;34m.\u001b[0m\u001b[0mTextReader\u001b[0m\u001b[0;34m(\u001b[0m\u001b[0msrc\u001b[0m\u001b[0;34m,\u001b[0m \u001b[0;34m**\u001b[0m\u001b[0mkwds\u001b[0m\u001b[0;34m)\u001b[0m\u001b[0;34m\u001b[0m\u001b[0;34m\u001b[0m\u001b[0m\n\u001b[0m\u001b[1;32m   1892\u001b[0m         \u001b[0mself\u001b[0m\u001b[0;34m.\u001b[0m\u001b[0munnamed_cols\u001b[0m \u001b[0;34m=\u001b[0m \u001b[0mself\u001b[0m\u001b[0;34m.\u001b[0m\u001b[0m_reader\u001b[0m\u001b[0;34m.\u001b[0m\u001b[0munnamed_cols\u001b[0m\u001b[0;34m\u001b[0m\u001b[0;34m\u001b[0m\u001b[0m\n\u001b[1;32m   1893\u001b[0m \u001b[0;34m\u001b[0m\u001b[0m\n",
            "\u001b[0;32mpandas/_libs/parsers.pyx\u001b[0m in \u001b[0;36mpandas._libs.parsers.TextReader.__cinit__\u001b[0;34m()\u001b[0m\n",
            "\u001b[0;32mpandas/_libs/parsers.pyx\u001b[0m in \u001b[0;36mpandas._libs.parsers.TextReader._setup_parser_source\u001b[0;34m()\u001b[0m\n",
            "\u001b[0;31mFileNotFoundError\u001b[0m: [Errno 2] File ./gdrive/My Drive/Colab Notebooks/Airplane_Crashes_and_Fatalities_Since_1908.csv does not exist: './gdrive/My Drive/Colab Notebooks/Airplane_Crashes_and_Fatalities_Since_1908.csv'"
          ]
        }
      ]
    },
    {
      "cell_type": "markdown",
      "metadata": {
        "id": "L0wv4EqfHGkA"
      },
      "source": [
        "- __Date__: Дата инцидента\n",
        "- __Time__: Время инцидента\n",
        "- __Location__: Локация инцидента\n",
        "- __Operator__: Авиакомпания\n",
        "- __Flight #__\n",
        "- __Route__\n",
        "- __Type__: Тип разбившегося самолета \n",
        "- __Registration__:\n",
        "- __cn/In__\n",
        "- __Aborad__: Сколько людей было на борту самолета\n",
        "- __Fatalities__: Число погибших (из тех, кто был на борту)\n",
        "- __Ground:__ Число погибших на земле (из тех, кто не был на борту)\n",
        "- __Summary__: Краткое описание инцидента\n",
        "\n"
      ]
    },
    {
      "cell_type": "code",
      "metadata": {
        "id": "9H1YQ_KhHGkB"
      },
      "source": [
        "# Посмотрим на наш датасет, а так же применим поочередно классы .head(), .tail(), .columns\n",
        "df.head()"
      ],
      "execution_count": null,
      "outputs": []
    },
    {
      "cell_type": "markdown",
      "metadata": {
        "id": "gNViojzcHGkE"
      },
      "source": [
        "По умолчанию Pandas выводит всего 20 столбцов и 60 строк, поэтому если ваш датафрейм больше, воспользуйтесь функцией set_option:\n",
        "> pd.set_option('display.max_columns', 100)  \n",
        "> pd.set_option('display.max_rows', 100)"
      ]
    },
    {
      "cell_type": "code",
      "metadata": {
        "id": "14n13tf2HGkF"
      },
      "source": [
        "# .shape позволяет выводить размер датасета.\n",
        "print(df.shape[0], 'строк')\n",
        "print(df.shape[1], 'столбцов')"
      ],
      "execution_count": null,
      "outputs": []
    },
    {
      "cell_type": "code",
      "metadata": {
        "id": "7yVCxp3iHGkI"
      },
      "source": [
        "#сформируем таблицу с типами данных с помощью класса .dtypes:\n",
        "df_info = pd.DataFrame(df.dtypes,columns=['Type'])\n",
        "df_info"
      ],
      "execution_count": null,
      "outputs": []
    },
    {
      "cell_type": "code",
      "metadata": {
        "id": "nrYE6xk4HGkK"
      },
      "source": [
        "# Посмотрим уникальные значения Авиаоператоров с помощью.unique() и их кол-во .nunique() \n",
        "df['Operator'].nunique()"
      ],
      "execution_count": null,
      "outputs": []
    },
    {
      "cell_type": "code",
      "metadata": {
        "id": "G1noCzxfHGkN"
      },
      "source": [
        "#Бывает удобнее воспользоваться классом .info()\n",
        "df.info()"
      ],
      "execution_count": null,
      "outputs": []
    },
    {
      "cell_type": "markdown",
      "metadata": {
        "id": "V4jSbD-wHGkP"
      },
      "source": [
        "## 2.2. Работа с данными\n",
        "Как мы видим колонка Date иммет тип \"object\", хотя pandas умеет работать с типом данных \"datetime64\""
      ]
    },
    {
      "cell_type": "code",
      "metadata": {
        "id": "fsDjiPIoHGkQ",
        "outputId": "284509f6-e5ec-4e43-c63f-49418480dc41",
        "colab": {
          "base_uri": "https://localhost:8080/",
          "height": 323
        }
      },
      "source": [
        "#смените тип данных для колонки \"Date\" с помощью .to_datetime(), обратите внимание на параметры (dayfirst, yearfirst)\n",
        "#\n",
        "# Ошибки можно проигнорировать параметром errors = 'coerce'\n",
        "\n",
        "df['Date'] = pd.to_datetime(df['Date'])\n",
        "df['Time'] = pd.to_datetime(df['Time'], errors = 'coerce')\n",
        "df.dtypes"
      ],
      "execution_count": null,
      "outputs": [
        {
          "output_type": "execute_result",
          "data": {
            "text/plain": [
              "Date            datetime64[ns]\n",
              "Time            datetime64[ns]\n",
              "Location                object\n",
              "Operator                object\n",
              "Flight #                object\n",
              "Route                   object\n",
              "Type                    object\n",
              "Registration            object\n",
              "cn/In                   object\n",
              "Aboard                 float64\n",
              "Fatalities             float64\n",
              "Ground                 float64\n",
              "Summary                 object\n",
              "year                     int64\n",
              "month                    int64\n",
              "day                      int64\n",
              "day of week              int64\n",
              "dtype: object"
            ]
          },
          "metadata": {
            "tags": []
          },
          "execution_count": 44
        }
      ]
    },
    {
      "cell_type": "markdown",
      "metadata": {
        "id": "xK_xdY_tHGkU"
      },
      "source": [
        "Что нам дало изменение типа? В частности теперь мы можем доставать значение года (.dt.year), месяца (.dt.month), дня (.dt.day) и даже дня недели(.dt.dayofweek, Понедельник – 0, Воскресенье – 6)\n",
        "\n",
        "Кстати, чтобы добавить колонку, достаточно просто присвоить значения к df['Название новой колонки']"
      ]
    },
    {
      "cell_type": "code",
      "metadata": {
        "id": "Ffbm8fUfHGkU",
        "outputId": "0fad3aca-5742-41f3-b18a-85998c9f23ad",
        "colab": {
          "base_uri": "https://localhost:8080/",
          "height": 349
        }
      },
      "source": [
        "#Достаньте из 'Date' - Год, месяц, день недели. \n",
        "\n",
        "df['year'] = df['Date'].dt.year\n",
        "df['month'] = df['Date'].dt.month\n",
        "df['day'] = df['Date'].dt.day\n",
        "df['day of week'] = df['Date'].dt.dayofweek # Monday = 0, Sunday = 6,\n",
        "\n",
        "df['Hours'] = df['Time'].dt.hour\n",
        "df.head(3)"
      ],
      "execution_count": null,
      "outputs": [
        {
          "output_type": "execute_result",
          "data": {
            "text/html": [
              "<div>\n",
              "<style scoped>\n",
              "    .dataframe tbody tr th:only-of-type {\n",
              "        vertical-align: middle;\n",
              "    }\n",
              "\n",
              "    .dataframe tbody tr th {\n",
              "        vertical-align: top;\n",
              "    }\n",
              "\n",
              "    .dataframe thead th {\n",
              "        text-align: right;\n",
              "    }\n",
              "</style>\n",
              "<table border=\"1\" class=\"dataframe\">\n",
              "  <thead>\n",
              "    <tr style=\"text-align: right;\">\n",
              "      <th></th>\n",
              "      <th>Date</th>\n",
              "      <th>Time</th>\n",
              "      <th>Location</th>\n",
              "      <th>Operator</th>\n",
              "      <th>Flight #</th>\n",
              "      <th>Route</th>\n",
              "      <th>Type</th>\n",
              "      <th>Registration</th>\n",
              "      <th>cn/In</th>\n",
              "      <th>Aboard</th>\n",
              "      <th>Fatalities</th>\n",
              "      <th>Ground</th>\n",
              "      <th>Summary</th>\n",
              "      <th>year</th>\n",
              "      <th>month</th>\n",
              "      <th>day</th>\n",
              "      <th>day of week</th>\n",
              "      <th>Hours</th>\n",
              "    </tr>\n",
              "  </thead>\n",
              "  <tbody>\n",
              "    <tr>\n",
              "      <th>0</th>\n",
              "      <td>1908-09-17</td>\n",
              "      <td>2020-09-22 17:18:00</td>\n",
              "      <td>Fort Myer, Virginia</td>\n",
              "      <td>Military - U.S. Army</td>\n",
              "      <td>NaN</td>\n",
              "      <td>Demonstration</td>\n",
              "      <td>Wright Flyer III</td>\n",
              "      <td>NaN</td>\n",
              "      <td>1</td>\n",
              "      <td>2.0</td>\n",
              "      <td>1.0</td>\n",
              "      <td>0.0</td>\n",
              "      <td>During a demonstration flight, a U.S. Army fly...</td>\n",
              "      <td>1908</td>\n",
              "      <td>9</td>\n",
              "      <td>17</td>\n",
              "      <td>3</td>\n",
              "      <td>17.0</td>\n",
              "    </tr>\n",
              "    <tr>\n",
              "      <th>1</th>\n",
              "      <td>1912-07-12</td>\n",
              "      <td>2020-09-22 06:30:00</td>\n",
              "      <td>AtlantiCity, New Jersey</td>\n",
              "      <td>Military - U.S. Navy</td>\n",
              "      <td>NaN</td>\n",
              "      <td>Test flight</td>\n",
              "      <td>Dirigible</td>\n",
              "      <td>NaN</td>\n",
              "      <td>NaN</td>\n",
              "      <td>5.0</td>\n",
              "      <td>5.0</td>\n",
              "      <td>0.0</td>\n",
              "      <td>First U.S. dirigible Akron exploded just offsh...</td>\n",
              "      <td>1912</td>\n",
              "      <td>7</td>\n",
              "      <td>12</td>\n",
              "      <td>4</td>\n",
              "      <td>6.0</td>\n",
              "    </tr>\n",
              "    <tr>\n",
              "      <th>2</th>\n",
              "      <td>1913-08-06</td>\n",
              "      <td>NaT</td>\n",
              "      <td>Victoria, British Columbia, Canada</td>\n",
              "      <td>Private</td>\n",
              "      <td>-</td>\n",
              "      <td>NaN</td>\n",
              "      <td>Curtiss seaplane</td>\n",
              "      <td>NaN</td>\n",
              "      <td>NaN</td>\n",
              "      <td>1.0</td>\n",
              "      <td>1.0</td>\n",
              "      <td>0.0</td>\n",
              "      <td>The first fatal airplane accident in Canada oc...</td>\n",
              "      <td>1913</td>\n",
              "      <td>8</td>\n",
              "      <td>6</td>\n",
              "      <td>2</td>\n",
              "      <td>NaN</td>\n",
              "    </tr>\n",
              "  </tbody>\n",
              "</table>\n",
              "</div>"
            ],
            "text/plain": [
              "        Date                Time  ... day of week Hours\n",
              "0 1908-09-17 2020-09-22 17:18:00  ...           3  17.0\n",
              "1 1912-07-12 2020-09-22 06:30:00  ...           4   6.0\n",
              "2 1913-08-06                 NaT  ...           2   NaN\n",
              "\n",
              "[3 rows x 18 columns]"
            ]
          },
          "metadata": {
            "tags": []
          },
          "execution_count": 45
        }
      ]
    },
    {
      "cell_type": "markdown",
      "metadata": {
        "id": "fLydUPzGHGkW"
      },
      "source": [
        "## 2.3. Обращение к данным, фильтрация и другое"
      ]
    },
    {
      "cell_type": "code",
      "metadata": {
        "id": "q2QQu2ABHGkX",
        "outputId": "f5485c4d-1666-4550-bedd-5a98f3caab39",
        "colab": {
          "base_uri": "https://localhost:8080/",
          "height": 34
        }
      },
      "source": [
        "#Посмотрите сколько инцидентов было в 2002 году: \n",
        "df[df['year'] == 2002].shape[0]"
      ],
      "execution_count": null,
      "outputs": [
        {
          "output_type": "execute_result",
          "data": {
            "text/plain": [
              "75"
            ]
          },
          "metadata": {
            "tags": []
          },
          "execution_count": 46
        }
      ]
    },
    {
      "cell_type": "code",
      "metadata": {
        "id": "nGvmr5MeHGkZ",
        "outputId": "fabd0794-5acb-4fa7-d880-b171d257bc8d",
        "colab": {
          "base_uri": "https://localhost:8080/",
          "height": 34
        }
      },
      "source": [
        "#Посмотрите сколько инцидентов было c кол-вом жертв (суммарно на земле и на борту) больше 200: \n",
        "df[df['Fatalities'] + df['Ground'] > 200].shape[0]"
      ],
      "execution_count": null,
      "outputs": [
        {
          "output_type": "execute_result",
          "data": {
            "text/plain": [
              "30"
            ]
          },
          "metadata": {
            "tags": []
          },
          "execution_count": 47
        }
      ]
    },
    {
      "cell_type": "code",
      "metadata": {
        "id": "08r0-AfxHGkc"
      },
      "source": [
        "# Кроме того мы можем производить любые операции со столбцами складывать/умножать/делить/логарифимировать etc.   \n",
        "df['all_victims'] = df['Fatalities'] + df['Ground']"
      ],
      "execution_count": null,
      "outputs": []
    },
    {
      "cell_type": "code",
      "metadata": {
        "id": "EqrdXNEgHGke",
        "outputId": "a9f7d7e3-e17d-44a0-d82e-86bd952faf71",
        "colab": {
          "base_uri": "https://localhost:8080/",
          "height": 34
        }
      },
      "source": [
        "# Посомтрите сколько инцидентов было c кол-вом жертв (суммарно на земле и на борту) больше 200 в 2002 году: \n",
        "df[(df['year'] == 2002) & (df['all_victims'] > 200)].shape[0]"
      ],
      "execution_count": null,
      "outputs": [
        {
          "output_type": "execute_result",
          "data": {
            "text/plain": [
              "1"
            ]
          },
          "metadata": {
            "tags": []
          },
          "execution_count": 49
        }
      ]
    },
    {
      "cell_type": "code",
      "metadata": {
        "id": "jjZtM0adHGkg",
        "outputId": "dee02f12-53f5-40fa-b5da-69d18ad5b4ce",
        "colab": {
          "base_uri": "https://localhost:8080/",
          "height": 34
        }
      },
      "source": [
        "# Где произошел инцидент? Какой был самолет? Сколько было жертв? \n",
        "print('В 2002 году в ', df[(df['year'] == 2002) & (df['all_victims'] > 200)]['Location'].values[0],\n",
        "      'разбился', df[(df['year'] == 2002) & (df['all_victims'] > 200)]['Type'].values[0], '. '\n",
        "      'Общее кол-во жертв', df[(df['year'] == 2002) & (df['all_victims'] > 200)]['all_victims'].values[0]\n",
        "     )"
      ],
      "execution_count": null,
      "outputs": [
        {
          "output_type": "stream",
          "text": [
            "В 2002 году в  Off Penghu Island, Taiwan разбился Boeing B-747-209B . Общее кол-во жертв 225.0\n"
          ],
          "name": "stdout"
        }
      ]
    },
    {
      "cell_type": "code",
      "metadata": {
        "id": "6WsxadZVHGkj"
      },
      "source": [
        "# Самостоятельно прочитать про .loc / .iloc"
      ],
      "execution_count": null,
      "outputs": []
    },
    {
      "cell_type": "markdown",
      "metadata": {
        "id": "jpo03kP9HGkl"
      },
      "source": [
        "## 2.4. Работа с текстом и пропусками, объединение таблиц"
      ]
    },
    {
      "cell_type": "code",
      "metadata": {
        "id": "no_mnLFtHGkl",
        "outputId": "9711cfad-d5e7-4c39-c75e-fbafa1b08366",
        "colab": {
          "base_uri": "https://localhost:8080/",
          "height": 119
        }
      },
      "source": [
        "# Посмотрим на столбец 'Location'\n",
        "df['Location'].head()"
      ],
      "execution_count": null,
      "outputs": [
        {
          "output_type": "execute_result",
          "data": {
            "text/plain": [
              "0                   Fort Myer, Virginia\n",
              "1               AtlantiCity, New Jersey\n",
              "2    Victoria, British Columbia, Canada\n",
              "3                    Over the North Sea\n",
              "4            Near Johannisthal, Germany\n",
              "Name: Location, dtype: object"
            ]
          },
          "metadata": {
            "tags": []
          },
          "execution_count": 51
        }
      ]
    },
    {
      "cell_type": "code",
      "metadata": {
        "id": "R-OmLr3zHGko",
        "outputId": "2be6e06d-89db-4061-9976-9e47c24c0128",
        "colab": {
          "base_uri": "https://localhost:8080/",
          "height": 204
        }
      },
      "source": [
        "# Как видим локация расписана через запятую, попробуем разбить название с помощью .str.split\n",
        "loc = df['Location'].str.split(',', expand=True)\n",
        "loc.head()\n",
        "\n",
        "#кстати в .str есть много всего полезного, например используемый ранее .replace()"
      ],
      "execution_count": null,
      "outputs": [
        {
          "output_type": "execute_result",
          "data": {
            "text/html": [
              "<div>\n",
              "<style scoped>\n",
              "    .dataframe tbody tr th:only-of-type {\n",
              "        vertical-align: middle;\n",
              "    }\n",
              "\n",
              "    .dataframe tbody tr th {\n",
              "        vertical-align: top;\n",
              "    }\n",
              "\n",
              "    .dataframe thead th {\n",
              "        text-align: right;\n",
              "    }\n",
              "</style>\n",
              "<table border=\"1\" class=\"dataframe\">\n",
              "  <thead>\n",
              "    <tr style=\"text-align: right;\">\n",
              "      <th></th>\n",
              "      <th>0</th>\n",
              "      <th>1</th>\n",
              "      <th>2</th>\n",
              "      <th>3</th>\n",
              "    </tr>\n",
              "  </thead>\n",
              "  <tbody>\n",
              "    <tr>\n",
              "      <th>0</th>\n",
              "      <td>Fort Myer</td>\n",
              "      <td>Virginia</td>\n",
              "      <td>None</td>\n",
              "      <td>None</td>\n",
              "    </tr>\n",
              "    <tr>\n",
              "      <th>1</th>\n",
              "      <td>AtlantiCity</td>\n",
              "      <td>New Jersey</td>\n",
              "      <td>None</td>\n",
              "      <td>None</td>\n",
              "    </tr>\n",
              "    <tr>\n",
              "      <th>2</th>\n",
              "      <td>Victoria</td>\n",
              "      <td>British Columbia</td>\n",
              "      <td>Canada</td>\n",
              "      <td>None</td>\n",
              "    </tr>\n",
              "    <tr>\n",
              "      <th>3</th>\n",
              "      <td>Over the North Sea</td>\n",
              "      <td>None</td>\n",
              "      <td>None</td>\n",
              "      <td>None</td>\n",
              "    </tr>\n",
              "    <tr>\n",
              "      <th>4</th>\n",
              "      <td>Near Johannisthal</td>\n",
              "      <td>Germany</td>\n",
              "      <td>None</td>\n",
              "      <td>None</td>\n",
              "    </tr>\n",
              "  </tbody>\n",
              "</table>\n",
              "</div>"
            ],
            "text/plain": [
              "                    0                  1        2     3\n",
              "0           Fort Myer           Virginia     None  None\n",
              "1         AtlantiCity         New Jersey     None  None\n",
              "2            Victoria   British Columbia   Canada  None\n",
              "3  Over the North Sea               None     None  None\n",
              "4   Near Johannisthal            Germany     None  None"
            ]
          },
          "metadata": {
            "tags": []
          },
          "execution_count": 52
        }
      ]
    },
    {
      "cell_type": "markdown",
      "metadata": {
        "id": "1uELyF7FHGkr"
      },
      "source": [
        "Видно, что у нас появились пропуски, однако чем правее тем более укрупненно можно посмотреть локацию. \n",
        "Пропуски можно удалить с помощью .drop(), однако нам более интересно заполнить их с помощью fillna()\n",
        "Не забывайте, что есть параметр inplace"
      ]
    },
    {
      "cell_type": "code",
      "metadata": {
        "id": "pNZ25ebOHGkr",
        "outputId": "f697f4e9-3af3-4e18-dd1a-368e20c93934",
        "colab": {
          "base_uri": "https://localhost:8080/",
          "height": 34
        }
      },
      "source": [
        "loc[3] = loc[3].fillna(loc[2])\n",
        "loc[3] = loc[3].fillna(loc[1])\n",
        "loc[3] = loc[3].fillna(loc[0])\n",
        "loc[3].nunique()"
      ],
      "execution_count": null,
      "outputs": [
        {
          "output_type": "execute_result",
          "data": {
            "text/plain": [
              "567"
            ]
          },
          "metadata": {
            "tags": []
          },
          "execution_count": 53
        }
      ]
    },
    {
      "cell_type": "code",
      "metadata": {
        "id": "x5haroMJpqj5",
        "outputId": "ad1c5ad8-288a-472b-fb89-6b6309e3bcec",
        "colab": {
          "base_uri": "https://localhost:8080/",
          "height": 204
        }
      },
      "source": [
        "loc.head()"
      ],
      "execution_count": null,
      "outputs": [
        {
          "output_type": "execute_result",
          "data": {
            "text/html": [
              "<div>\n",
              "<style scoped>\n",
              "    .dataframe tbody tr th:only-of-type {\n",
              "        vertical-align: middle;\n",
              "    }\n",
              "\n",
              "    .dataframe tbody tr th {\n",
              "        vertical-align: top;\n",
              "    }\n",
              "\n",
              "    .dataframe thead th {\n",
              "        text-align: right;\n",
              "    }\n",
              "</style>\n",
              "<table border=\"1\" class=\"dataframe\">\n",
              "  <thead>\n",
              "    <tr style=\"text-align: right;\">\n",
              "      <th></th>\n",
              "      <th>0</th>\n",
              "      <th>1</th>\n",
              "      <th>2</th>\n",
              "      <th>3</th>\n",
              "    </tr>\n",
              "  </thead>\n",
              "  <tbody>\n",
              "    <tr>\n",
              "      <th>0</th>\n",
              "      <td>Fort Myer</td>\n",
              "      <td>Virginia</td>\n",
              "      <td>None</td>\n",
              "      <td>Virginia</td>\n",
              "    </tr>\n",
              "    <tr>\n",
              "      <th>1</th>\n",
              "      <td>AtlantiCity</td>\n",
              "      <td>New Jersey</td>\n",
              "      <td>None</td>\n",
              "      <td>New Jersey</td>\n",
              "    </tr>\n",
              "    <tr>\n",
              "      <th>2</th>\n",
              "      <td>Victoria</td>\n",
              "      <td>British Columbia</td>\n",
              "      <td>Canada</td>\n",
              "      <td>Canada</td>\n",
              "    </tr>\n",
              "    <tr>\n",
              "      <th>3</th>\n",
              "      <td>Over the North Sea</td>\n",
              "      <td>None</td>\n",
              "      <td>None</td>\n",
              "      <td>Over the North Sea</td>\n",
              "    </tr>\n",
              "    <tr>\n",
              "      <th>4</th>\n",
              "      <td>Near Johannisthal</td>\n",
              "      <td>Germany</td>\n",
              "      <td>None</td>\n",
              "      <td>Germany</td>\n",
              "    </tr>\n",
              "  </tbody>\n",
              "</table>\n",
              "</div>"
            ],
            "text/plain": [
              "                    0                  1        2                   3\n",
              "0           Fort Myer           Virginia     None            Virginia\n",
              "1         AtlantiCity         New Jersey     None          New Jersey\n",
              "2            Victoria   British Columbia   Canada              Canada\n",
              "3  Over the North Sea               None     None  Over the North Sea\n",
              "4   Near Johannisthal            Germany     None             Germany"
            ]
          },
          "metadata": {
            "tags": []
          },
          "execution_count": 55
        }
      ]
    },
    {
      "cell_type": "code",
      "metadata": {
        "id": "F8c9tYGNHGku",
        "outputId": "f103985d-bedf-48dd-a065-fe1f50aafa76",
        "colab": {
          "base_uri": "https://localhost:8080/",
          "height": 267
        }
      },
      "source": [
        "# объединим таблицы с помощью pd.merge()\n",
        "df_full = pd.merge(df, loc, left_index=True, right_index=True)\n",
        "df_full.head(2)"
      ],
      "execution_count": null,
      "outputs": [
        {
          "output_type": "execute_result",
          "data": {
            "text/html": [
              "<div>\n",
              "<style scoped>\n",
              "    .dataframe tbody tr th:only-of-type {\n",
              "        vertical-align: middle;\n",
              "    }\n",
              "\n",
              "    .dataframe tbody tr th {\n",
              "        vertical-align: top;\n",
              "    }\n",
              "\n",
              "    .dataframe thead th {\n",
              "        text-align: right;\n",
              "    }\n",
              "</style>\n",
              "<table border=\"1\" class=\"dataframe\">\n",
              "  <thead>\n",
              "    <tr style=\"text-align: right;\">\n",
              "      <th></th>\n",
              "      <th>Date</th>\n",
              "      <th>Time</th>\n",
              "      <th>Location</th>\n",
              "      <th>Operator</th>\n",
              "      <th>Flight #</th>\n",
              "      <th>Route</th>\n",
              "      <th>Type</th>\n",
              "      <th>Registration</th>\n",
              "      <th>cn/In</th>\n",
              "      <th>Aboard</th>\n",
              "      <th>Fatalities</th>\n",
              "      <th>Ground</th>\n",
              "      <th>Summary</th>\n",
              "      <th>year</th>\n",
              "      <th>month</th>\n",
              "      <th>day</th>\n",
              "      <th>day of week</th>\n",
              "      <th>Hours</th>\n",
              "      <th>all_victims</th>\n",
              "      <th>0</th>\n",
              "      <th>1</th>\n",
              "      <th>2</th>\n",
              "      <th>3</th>\n",
              "    </tr>\n",
              "  </thead>\n",
              "  <tbody>\n",
              "    <tr>\n",
              "      <th>0</th>\n",
              "      <td>1908-09-17</td>\n",
              "      <td>2020-09-22 17:18:00</td>\n",
              "      <td>Fort Myer, Virginia</td>\n",
              "      <td>Military - U.S. Army</td>\n",
              "      <td>NaN</td>\n",
              "      <td>Demonstration</td>\n",
              "      <td>Wright Flyer III</td>\n",
              "      <td>NaN</td>\n",
              "      <td>1</td>\n",
              "      <td>2.0</td>\n",
              "      <td>1.0</td>\n",
              "      <td>0.0</td>\n",
              "      <td>During a demonstration flight, a U.S. Army fly...</td>\n",
              "      <td>1908</td>\n",
              "      <td>9</td>\n",
              "      <td>17</td>\n",
              "      <td>3</td>\n",
              "      <td>17.0</td>\n",
              "      <td>1.0</td>\n",
              "      <td>Fort Myer</td>\n",
              "      <td>Virginia</td>\n",
              "      <td>None</td>\n",
              "      <td>Virginia</td>\n",
              "    </tr>\n",
              "    <tr>\n",
              "      <th>1</th>\n",
              "      <td>1912-07-12</td>\n",
              "      <td>2020-09-22 06:30:00</td>\n",
              "      <td>AtlantiCity, New Jersey</td>\n",
              "      <td>Military - U.S. Navy</td>\n",
              "      <td>NaN</td>\n",
              "      <td>Test flight</td>\n",
              "      <td>Dirigible</td>\n",
              "      <td>NaN</td>\n",
              "      <td>NaN</td>\n",
              "      <td>5.0</td>\n",
              "      <td>5.0</td>\n",
              "      <td>0.0</td>\n",
              "      <td>First U.S. dirigible Akron exploded just offsh...</td>\n",
              "      <td>1912</td>\n",
              "      <td>7</td>\n",
              "      <td>12</td>\n",
              "      <td>4</td>\n",
              "      <td>6.0</td>\n",
              "      <td>5.0</td>\n",
              "      <td>AtlantiCity</td>\n",
              "      <td>New Jersey</td>\n",
              "      <td>None</td>\n",
              "      <td>New Jersey</td>\n",
              "    </tr>\n",
              "  </tbody>\n",
              "</table>\n",
              "</div>"
            ],
            "text/plain": [
              "        Date                Time  ...     2            3\n",
              "0 1908-09-17 2020-09-22 17:18:00  ...  None     Virginia\n",
              "1 1912-07-12 2020-09-22 06:30:00  ...  None   New Jersey\n",
              "\n",
              "[2 rows x 23 columns]"
            ]
          },
          "metadata": {
            "tags": []
          },
          "execution_count": 56
        }
      ]
    },
    {
      "cell_type": "code",
      "metadata": {
        "id": "XDbL6fy3HGkx",
        "outputId": "f2435c38-8983-4bfa-da40-3080838f8bfe",
        "colab": {
          "base_uri": "https://localhost:8080/",
          "height": 349
        }
      },
      "source": [
        "# Удалим колонки '0', '1', '2' с помощью .drop() \n",
        "# переименуем колонку '3' в  'Country' (по крайней мере мы надеемся, что там страна)\n",
        "df_full = df_full.drop([0,1,2], axis=1)\n",
        "df_full.columns.values[19] = 'Country'\n",
        "df_full.head(3)"
      ],
      "execution_count": null,
      "outputs": [
        {
          "output_type": "execute_result",
          "data": {
            "text/html": [
              "<div>\n",
              "<style scoped>\n",
              "    .dataframe tbody tr th:only-of-type {\n",
              "        vertical-align: middle;\n",
              "    }\n",
              "\n",
              "    .dataframe tbody tr th {\n",
              "        vertical-align: top;\n",
              "    }\n",
              "\n",
              "    .dataframe thead th {\n",
              "        text-align: right;\n",
              "    }\n",
              "</style>\n",
              "<table border=\"1\" class=\"dataframe\">\n",
              "  <thead>\n",
              "    <tr style=\"text-align: right;\">\n",
              "      <th></th>\n",
              "      <th>Date</th>\n",
              "      <th>Time</th>\n",
              "      <th>Location</th>\n",
              "      <th>Operator</th>\n",
              "      <th>Flight #</th>\n",
              "      <th>Route</th>\n",
              "      <th>Type</th>\n",
              "      <th>Registration</th>\n",
              "      <th>cn/In</th>\n",
              "      <th>Aboard</th>\n",
              "      <th>Fatalities</th>\n",
              "      <th>Ground</th>\n",
              "      <th>Summary</th>\n",
              "      <th>year</th>\n",
              "      <th>month</th>\n",
              "      <th>day</th>\n",
              "      <th>day of week</th>\n",
              "      <th>Hours</th>\n",
              "      <th>all_victims</th>\n",
              "      <th>Country</th>\n",
              "    </tr>\n",
              "  </thead>\n",
              "  <tbody>\n",
              "    <tr>\n",
              "      <th>0</th>\n",
              "      <td>1908-09-17</td>\n",
              "      <td>2020-09-22 17:18:00</td>\n",
              "      <td>Fort Myer, Virginia</td>\n",
              "      <td>Military - U.S. Army</td>\n",
              "      <td>NaN</td>\n",
              "      <td>Demonstration</td>\n",
              "      <td>Wright Flyer III</td>\n",
              "      <td>NaN</td>\n",
              "      <td>1</td>\n",
              "      <td>2.0</td>\n",
              "      <td>1.0</td>\n",
              "      <td>0.0</td>\n",
              "      <td>During a demonstration flight, a U.S. Army fly...</td>\n",
              "      <td>1908</td>\n",
              "      <td>9</td>\n",
              "      <td>17</td>\n",
              "      <td>3</td>\n",
              "      <td>17.0</td>\n",
              "      <td>1.0</td>\n",
              "      <td>Virginia</td>\n",
              "    </tr>\n",
              "    <tr>\n",
              "      <th>1</th>\n",
              "      <td>1912-07-12</td>\n",
              "      <td>2020-09-22 06:30:00</td>\n",
              "      <td>AtlantiCity, New Jersey</td>\n",
              "      <td>Military - U.S. Navy</td>\n",
              "      <td>NaN</td>\n",
              "      <td>Test flight</td>\n",
              "      <td>Dirigible</td>\n",
              "      <td>NaN</td>\n",
              "      <td>NaN</td>\n",
              "      <td>5.0</td>\n",
              "      <td>5.0</td>\n",
              "      <td>0.0</td>\n",
              "      <td>First U.S. dirigible Akron exploded just offsh...</td>\n",
              "      <td>1912</td>\n",
              "      <td>7</td>\n",
              "      <td>12</td>\n",
              "      <td>4</td>\n",
              "      <td>6.0</td>\n",
              "      <td>5.0</td>\n",
              "      <td>New Jersey</td>\n",
              "    </tr>\n",
              "    <tr>\n",
              "      <th>2</th>\n",
              "      <td>1913-08-06</td>\n",
              "      <td>NaT</td>\n",
              "      <td>Victoria, British Columbia, Canada</td>\n",
              "      <td>Private</td>\n",
              "      <td>-</td>\n",
              "      <td>NaN</td>\n",
              "      <td>Curtiss seaplane</td>\n",
              "      <td>NaN</td>\n",
              "      <td>NaN</td>\n",
              "      <td>1.0</td>\n",
              "      <td>1.0</td>\n",
              "      <td>0.0</td>\n",
              "      <td>The first fatal airplane accident in Canada oc...</td>\n",
              "      <td>1913</td>\n",
              "      <td>8</td>\n",
              "      <td>6</td>\n",
              "      <td>2</td>\n",
              "      <td>NaN</td>\n",
              "      <td>1.0</td>\n",
              "      <td>Canada</td>\n",
              "    </tr>\n",
              "  </tbody>\n",
              "</table>\n",
              "</div>"
            ],
            "text/plain": [
              "        Date                Time  ... all_victims      Country\n",
              "0 1908-09-17 2020-09-22 17:18:00  ...         1.0     Virginia\n",
              "1 1912-07-12 2020-09-22 06:30:00  ...         5.0   New Jersey\n",
              "2 1913-08-06                 NaT  ...         1.0       Canada\n",
              "\n",
              "[3 rows x 20 columns]"
            ]
          },
          "metadata": {
            "tags": []
          },
          "execution_count": 57
        }
      ]
    },
    {
      "cell_type": "code",
      "metadata": {
        "id": "AWuR8r4RHGkz"
      },
      "source": [
        "# Сделаем признаки: Day_period и Holiday с помощью .apply(lambda x: ...)\n",
        "\n",
        "def get_day_time(hour):\n",
        "    return {\n",
        "          0 <= hour < 6:   'Ночь',\n",
        "          6 <= hour < 11:  'Утро',\n",
        "         11 <= hour < 19:  'День',\n",
        "         19 <= hour < 23:  'Вечер',\n",
        "         23 <= hour < 25:  'Ночь'\n",
        "    }[True]\n",
        "        \n",
        "df_full['Day_period'] = df_full['Hours'].fillna(0).apply(lambda x: get_day_time(x))\n",
        "df_full['Holiday'] = df_full['day of week'].fillna(0).apply(lambda x: 1 if x >= 5 else 0) \n",
        "\n",
        "# .map на самостоятельное изучение"
      ],
      "execution_count": null,
      "outputs": []
    },
    {
      "cell_type": "markdown",
      "metadata": {
        "id": "Qn9_bSHIHGk1"
      },
      "source": [
        "## 2.5. Сводные таблицы, группировка и агрегация данных "
      ]
    },
    {
      "cell_type": "code",
      "metadata": {
        "id": "y58fNqMhHGk2",
        "outputId": "a82f740f-0f43-4384-a40d-cdf704b29811"
      },
      "source": [
        "# C помощью .groupby посчитайте сумму жертв по годам. Затем отсортируйте их по убыванию и сделайте топ-10 \n",
        "df_full.groupby('year').sum().sort_values('all_victims', ascending=False).head(10)"
      ],
      "execution_count": null,
      "outputs": [
        {
          "output_type": "execute_result",
          "data": {
            "text/html": [
              "<div>\n",
              "<style scoped>\n",
              "    .dataframe tbody tr th:only-of-type {\n",
              "        vertical-align: middle;\n",
              "    }\n",
              "\n",
              "    .dataframe tbody tr th {\n",
              "        vertical-align: top;\n",
              "    }\n",
              "\n",
              "    .dataframe thead th {\n",
              "        text-align: right;\n",
              "    }\n",
              "</style>\n",
              "<table border=\"1\" class=\"dataframe\">\n",
              "  <thead>\n",
              "    <tr style=\"text-align: right;\">\n",
              "      <th></th>\n",
              "      <th>Aboard</th>\n",
              "      <th>Fatalities</th>\n",
              "      <th>Ground</th>\n",
              "      <th>month</th>\n",
              "      <th>day</th>\n",
              "      <th>day of week</th>\n",
              "      <th>Hours</th>\n",
              "      <th>all_victims</th>\n",
              "      <th>Holiday</th>\n",
              "    </tr>\n",
              "    <tr>\n",
              "      <th>year</th>\n",
              "      <th></th>\n",
              "      <th></th>\n",
              "      <th></th>\n",
              "      <th></th>\n",
              "      <th></th>\n",
              "      <th></th>\n",
              "      <th></th>\n",
              "      <th></th>\n",
              "      <th></th>\n",
              "    </tr>\n",
              "  </thead>\n",
              "  <tbody>\n",
              "    <tr>\n",
              "      <th>2001</th>\n",
              "      <td>2111.0</td>\n",
              "      <td>1398.0</td>\n",
              "      <td>5641.0</td>\n",
              "      <td>486</td>\n",
              "      <td>1054</td>\n",
              "      <td>200</td>\n",
              "      <td>773.0</td>\n",
              "      <td>7039.0</td>\n",
              "      <td>18</td>\n",
              "    </tr>\n",
              "    <tr>\n",
              "      <th>1972</th>\n",
              "      <td>3635.0</td>\n",
              "      <td>2937.0</td>\n",
              "      <td>30.0</td>\n",
              "      <td>695</td>\n",
              "      <td>1690</td>\n",
              "      <td>319</td>\n",
              "      <td>810.0</td>\n",
              "      <td>2967.0</td>\n",
              "      <td>28</td>\n",
              "    </tr>\n",
              "    <tr>\n",
              "      <th>1985</th>\n",
              "      <td>3480.0</td>\n",
              "      <td>2670.0</td>\n",
              "      <td>1.0</td>\n",
              "      <td>451</td>\n",
              "      <td>1232</td>\n",
              "      <td>214</td>\n",
              "      <td>587.0</td>\n",
              "      <td>2671.0</td>\n",
              "      <td>15</td>\n",
              "    </tr>\n",
              "    <tr>\n",
              "      <th>1996</th>\n",
              "      <td>3058.0</td>\n",
              "      <td>2386.0</td>\n",
              "      <td>284.0</td>\n",
              "      <td>555</td>\n",
              "      <td>1192</td>\n",
              "      <td>230</td>\n",
              "      <td>894.0</td>\n",
              "      <td>2670.0</td>\n",
              "      <td>22</td>\n",
              "    </tr>\n",
              "    <tr>\n",
              "      <th>1973</th>\n",
              "      <td>3433.0</td>\n",
              "      <td>2485.0</td>\n",
              "      <td>16.0</td>\n",
              "      <td>581</td>\n",
              "      <td>1568</td>\n",
              "      <td>241</td>\n",
              "      <td>699.0</td>\n",
              "      <td>2501.0</td>\n",
              "      <td>23</td>\n",
              "    </tr>\n",
              "    <tr>\n",
              "      <th>1989</th>\n",
              "      <td>3643.0</td>\n",
              "      <td>2293.0</td>\n",
              "      <td>79.0</td>\n",
              "      <td>672</td>\n",
              "      <td>1729</td>\n",
              "      <td>270</td>\n",
              "      <td>763.0</td>\n",
              "      <td>2372.0</td>\n",
              "      <td>20</td>\n",
              "    </tr>\n",
              "    <tr>\n",
              "      <th>1974</th>\n",
              "      <td>3064.0</td>\n",
              "      <td>2318.0</td>\n",
              "      <td>0.0</td>\n",
              "      <td>543</td>\n",
              "      <td>1306</td>\n",
              "      <td>288</td>\n",
              "      <td>677.0</td>\n",
              "      <td>2318.0</td>\n",
              "      <td>29</td>\n",
              "    </tr>\n",
              "    <tr>\n",
              "      <th>1976</th>\n",
              "      <td>2629.0</td>\n",
              "      <td>2059.0</td>\n",
              "      <td>143.0</td>\n",
              "      <td>536</td>\n",
              "      <td>1224</td>\n",
              "      <td>271</td>\n",
              "      <td>567.0</td>\n",
              "      <td>2202.0</td>\n",
              "      <td>26</td>\n",
              "    </tr>\n",
              "    <tr>\n",
              "      <th>1992</th>\n",
              "      <td>2965.0</td>\n",
              "      <td>2122.0</td>\n",
              "      <td>69.0</td>\n",
              "      <td>593</td>\n",
              "      <td>1537</td>\n",
              "      <td>236</td>\n",
              "      <td>594.0</td>\n",
              "      <td>2191.0</td>\n",
              "      <td>20</td>\n",
              "    </tr>\n",
              "    <tr>\n",
              "      <th>1968</th>\n",
              "      <td>2928.0</td>\n",
              "      <td>2156.0</td>\n",
              "      <td>16.0</td>\n",
              "      <td>630</td>\n",
              "      <td>1501</td>\n",
              "      <td>261</td>\n",
              "      <td>812.0</td>\n",
              "      <td>2172.0</td>\n",
              "      <td>23</td>\n",
              "    </tr>\n",
              "  </tbody>\n",
              "</table>\n",
              "</div>"
            ],
            "text/plain": [
              "      Aboard  Fatalities  Ground  month   day  day of week  Hours  \\\n",
              "year                                                                \n",
              "2001  2111.0      1398.0  5641.0    486  1054          200  773.0   \n",
              "1972  3635.0      2937.0    30.0    695  1690          319  810.0   \n",
              "1985  3480.0      2670.0     1.0    451  1232          214  587.0   \n",
              "1996  3058.0      2386.0   284.0    555  1192          230  894.0   \n",
              "1973  3433.0      2485.0    16.0    581  1568          241  699.0   \n",
              "1989  3643.0      2293.0    79.0    672  1729          270  763.0   \n",
              "1974  3064.0      2318.0     0.0    543  1306          288  677.0   \n",
              "1976  2629.0      2059.0   143.0    536  1224          271  567.0   \n",
              "1992  2965.0      2122.0    69.0    593  1537          236  594.0   \n",
              "1968  2928.0      2156.0    16.0    630  1501          261  812.0   \n",
              "\n",
              "      all_victims  Holiday  \n",
              "year                        \n",
              "2001       7039.0       18  \n",
              "1972       2967.0       28  \n",
              "1985       2671.0       15  \n",
              "1996       2670.0       22  \n",
              "1973       2501.0       23  \n",
              "1989       2372.0       20  \n",
              "1974       2318.0       29  \n",
              "1976       2202.0       26  \n",
              "1992       2191.0       20  \n",
              "1968       2172.0       23  "
            ]
          },
          "metadata": {
            "tags": []
          },
          "execution_count": 68
        }
      ]
    },
    {
      "cell_type": "code",
      "metadata": {
        "id": "8LexwJoDHGk4",
        "outputId": "c18068d2-0816-4db7-e546-2804fd0d0868"
      },
      "source": [
        "# Нарисуйте график all_victims, Aboard, Fatalities для каждого года\n",
        "df.groupby('year').sum()[['all_victims', 'Ground', 'Fatalities']].plot(rot=45) #kind='bar'\n",
        "plt.title('Количество жерт по годам')\n",
        "plt.show()"
      ],
      "execution_count": null,
      "outputs": [
        {
          "output_type": "display_data",
          "data": {
            "image/png": "[encoded data removed]",
            "text/plain": [
              "<Figure size 1080x576 with 1 Axes>"
            ]
          },
          "metadata": {
            "tags": []
          }
        }
      ]
    },
    {
      "cell_type": "code",
      "metadata": {
        "id": "8o-XzFJOHGk7",
        "outputId": "1527a331-96a3-4bb1-e3e8-20f4a518084a"
      },
      "source": [
        "# Посчитайте кол-во Инцидентов и жертв по годам. На этот раз используйте .pivot_table()\n",
        "\n",
        "crashes_by_year = pd.pivot_table(df_full, index='year', values=['Aboard','Fatalities','Ground','all_victims'], aggfunc='sum')\n",
        "crashes_by_year['count'] =  pd.pivot_table(df_full, index='year', values=['all_victims'], aggfunc='count').values.T[0]\n",
        "crashes_by_year.tail()"
      ],
      "execution_count": null,
      "outputs": [
        {
          "output_type": "execute_result",
          "data": {
            "text/html": [
              "<div>\n",
              "<style scoped>\n",
              "    .dataframe tbody tr th:only-of-type {\n",
              "        vertical-align: middle;\n",
              "    }\n",
              "\n",
              "    .dataframe tbody tr th {\n",
              "        vertical-align: top;\n",
              "    }\n",
              "\n",
              "    .dataframe thead th {\n",
              "        text-align: right;\n",
              "    }\n",
              "</style>\n",
              "<table border=\"1\" class=\"dataframe\">\n",
              "  <thead>\n",
              "    <tr style=\"text-align: right;\">\n",
              "      <th></th>\n",
              "      <th>Aboard</th>\n",
              "      <th>Fatalities</th>\n",
              "      <th>Ground</th>\n",
              "      <th>all_victims</th>\n",
              "      <th>count</th>\n",
              "    </tr>\n",
              "    <tr>\n",
              "      <th>year</th>\n",
              "      <th></th>\n",
              "      <th></th>\n",
              "      <th></th>\n",
              "      <th></th>\n",
              "      <th></th>\n",
              "    </tr>\n",
              "  </thead>\n",
              "  <tbody>\n",
              "    <tr>\n",
              "      <th>2005</th>\n",
              "      <td>2164.0</td>\n",
              "      <td>1306.0</td>\n",
              "      <td>59.0</td>\n",
              "      <td>1365.0</td>\n",
              "      <td>51</td>\n",
              "    </tr>\n",
              "    <tr>\n",
              "      <th>2006</th>\n",
              "      <td>1413.0</td>\n",
              "      <td>1136.0</td>\n",
              "      <td>4.0</td>\n",
              "      <td>1140.0</td>\n",
              "      <td>49</td>\n",
              "    </tr>\n",
              "    <tr>\n",
              "      <th>2007</th>\n",
              "      <td>1364.0</td>\n",
              "      <td>931.0</td>\n",
              "      <td>57.0</td>\n",
              "      <td>988.0</td>\n",
              "      <td>54</td>\n",
              "    </tr>\n",
              "    <tr>\n",
              "      <th>2008</th>\n",
              "      <td>1463.0</td>\n",
              "      <td>820.0</td>\n",
              "      <td>60.0</td>\n",
              "      <td>880.0</td>\n",
              "      <td>62</td>\n",
              "    </tr>\n",
              "    <tr>\n",
              "      <th>2009</th>\n",
              "      <td>891.0</td>\n",
              "      <td>581.0</td>\n",
              "      <td>3.0</td>\n",
              "      <td>580.0</td>\n",
              "      <td>23</td>\n",
              "    </tr>\n",
              "  </tbody>\n",
              "</table>\n",
              "</div>"
            ],
            "text/plain": [
              "      Aboard  Fatalities  Ground  all_victims  count\n",
              "year                                                \n",
              "2005  2164.0      1306.0    59.0       1365.0     51\n",
              "2006  1413.0      1136.0     4.0       1140.0     49\n",
              "2007  1364.0       931.0    57.0        988.0     54\n",
              "2008  1463.0       820.0    60.0        880.0     62\n",
              "2009   891.0       581.0     3.0        580.0     23"
            ]
          },
          "metadata": {
            "tags": []
          },
          "execution_count": 70
        }
      ]
    },
    {
      "cell_type": "code",
      "metadata": {
        "id": "XnvA4jTsHGk-"
      },
      "source": [
        "# Сколько жертв на инцидент? \n",
        "crashes_by_year['victims_on_incident'] = crashes_by_year['all_victims']/crashes_by_year['count']"
      ],
      "execution_count": null,
      "outputs": []
    },
    {
      "cell_type": "code",
      "metadata": {
        "id": "i01Ly0VRHGlB",
        "outputId": "c4777097-8a60-4fcf-f371-a05f7ba2ffcc"
      },
      "source": [
        "# существует ли корреляция между всеми праметрами? \n",
        "crashes_by_year.corr()"
      ],
      "execution_count": null,
      "outputs": [
        {
          "output_type": "execute_result",
          "data": {
            "text/html": [
              "<div>\n",
              "<style scoped>\n",
              "    .dataframe tbody tr th:only-of-type {\n",
              "        vertical-align: middle;\n",
              "    }\n",
              "\n",
              "    .dataframe tbody tr th {\n",
              "        vertical-align: top;\n",
              "    }\n",
              "\n",
              "    .dataframe thead th {\n",
              "        text-align: right;\n",
              "    }\n",
              "</style>\n",
              "<table border=\"1\" class=\"dataframe\">\n",
              "  <thead>\n",
              "    <tr style=\"text-align: right;\">\n",
              "      <th></th>\n",
              "      <th>Aboard</th>\n",
              "      <th>Fatalities</th>\n",
              "      <th>Ground</th>\n",
              "      <th>all_victims</th>\n",
              "      <th>count</th>\n",
              "      <th>victims_on_incident</th>\n",
              "    </tr>\n",
              "  </thead>\n",
              "  <tbody>\n",
              "    <tr>\n",
              "      <th>Aboard</th>\n",
              "      <td>1.000000</td>\n",
              "      <td>0.971557</td>\n",
              "      <td>0.088475</td>\n",
              "      <td>0.809457</td>\n",
              "      <td>0.911233</td>\n",
              "      <td>0.638954</td>\n",
              "    </tr>\n",
              "    <tr>\n",
              "      <th>Fatalities</th>\n",
              "      <td>0.971557</td>\n",
              "      <td>1.000000</td>\n",
              "      <td>0.073032</td>\n",
              "      <td>0.822771</td>\n",
              "      <td>0.921589</td>\n",
              "      <td>0.649083</td>\n",
              "    </tr>\n",
              "    <tr>\n",
              "      <th>Ground</th>\n",
              "      <td>0.088475</td>\n",
              "      <td>0.073032</td>\n",
              "      <td>1.000000</td>\n",
              "      <td>0.626929</td>\n",
              "      <td>0.092734</td>\n",
              "      <td>0.722433</td>\n",
              "    </tr>\n",
              "    <tr>\n",
              "      <th>all_victims</th>\n",
              "      <td>0.809457</td>\n",
              "      <td>0.822771</td>\n",
              "      <td>0.626929</td>\n",
              "      <td>1.000000</td>\n",
              "      <td>0.772748</td>\n",
              "      <td>0.918634</td>\n",
              "    </tr>\n",
              "    <tr>\n",
              "      <th>count</th>\n",
              "      <td>0.911233</td>\n",
              "      <td>0.921589</td>\n",
              "      <td>0.092734</td>\n",
              "      <td>0.772748</td>\n",
              "      <td>1.000000</td>\n",
              "      <td>0.550019</td>\n",
              "    </tr>\n",
              "    <tr>\n",
              "      <th>victims_on_incident</th>\n",
              "      <td>0.638954</td>\n",
              "      <td>0.649083</td>\n",
              "      <td>0.722433</td>\n",
              "      <td>0.918634</td>\n",
              "      <td>0.550019</td>\n",
              "      <td>1.000000</td>\n",
              "    </tr>\n",
              "  </tbody>\n",
              "</table>\n",
              "</div>"
            ],
            "text/plain": [
              "                       Aboard  Fatalities    Ground  all_victims     count  \\\n",
              "Aboard               1.000000    0.971557  0.088475     0.809457  0.911233   \n",
              "Fatalities           0.971557    1.000000  0.073032     0.822771  0.921589   \n",
              "Ground               0.088475    0.073032  1.000000     0.626929  0.092734   \n",
              "all_victims          0.809457    0.822771  0.626929     1.000000  0.772748   \n",
              "count                0.911233    0.921589  0.092734     0.772748  1.000000   \n",
              "victims_on_incident  0.638954    0.649083  0.722433     0.918634  0.550019   \n",
              "\n",
              "                     victims_on_incident  \n",
              "Aboard                          0.638954  \n",
              "Fatalities                      0.649083  \n",
              "Ground                          0.722433  \n",
              "all_victims                     0.918634  \n",
              "count                           0.550019  \n",
              "victims_on_incident             1.000000  "
            ]
          },
          "metadata": {
            "tags": []
          },
          "execution_count": 72
        }
      ]
    },
    {
      "cell_type": "code",
      "metadata": {
        "id": "ZURioUJdHGlD",
        "outputId": "16de0866-bc4d-4273-f7fa-ed76a654ada8"
      },
      "source": [
        "#Отрисуйте heatmap корреляции для более хорошего визульного представления - используйте sns.heatmap() \n",
        "\n",
        "sns.heatmap(crashes_by_year.corr(), \n",
        "         vmin=-1, vmax=1,annot=True, cmap='RdBu',)\n",
        "plt.show()"
      ],
      "execution_count": null,
      "outputs": [
        {
          "output_type": "display_data",
          "data": {
            "image/png": "[encoded data removed]",
            "text/plain": [
              "<Figure size 1080x576 with 2 Axes>"
            ]
          },
          "metadata": {
            "tags": []
          }
        }
      ]
    },
    {
      "cell_type": "markdown",
      "metadata": {
        "id": "nyzJEmA3rFbL"
      },
      "source": [
        "## 2.6. Очистка данных\n",
        "\n",
        "Данные достаточно чистые, в них вряд ли есть какие-то ошибки и не получается с первого взгляда найти выбросы (outliers). Поэтому и очищать особо нечего. \n",
        "\n",
        "---\n",
        "Но в реальной жизни, ваши данные скорее всего будут полны мусора.\n",
        "Чаще всего нам пришлось бы убирать выбросы, исправлять очевидные ошибки итд."
      ]
    },
    {
      "cell_type": "markdown",
      "metadata": {
        "id": "NaBAX60Qkedi"
      },
      "source": [
        "## 2.7. Создание фичей\n",
        "\n",
        "Чем сложнее зависимость между фичей и таргетом, тем более сложная модель потребуется, чтобы эту зависимость использовать. Почему бы просто не выбрать семейство самых гибких моделей? Проблема в том, что без большого количества данных для обучения будет происходить overfit. Это значит, что модель выучит зависимости, которые случайно появились в обучающих из-за ограниченного размера выборки. Такая модель будет хорошо работать на обучающей выборке, но будет плохо справляться с реальной задачей.\n",
        "\n",
        "Используя человеческие знания об устройстве мира, мы можем упростить такую зависимость, создав новые фичи. На самом деле, можно даже не использовать человеческие знания, а просто применить какой-нибудь алгоритм. Например, если у нас есть фичи $x_1, x_2, ..., x_n$, то мы можем добавить новые фичи вида \n",
        "$$x_{newij} = x_i x_j, i \\ne j$$\n",
        "и понадеяться, что это улучшит предсказания\n",
        "\n",
        "---\n",
        "\n",
        "-- Порассуждаем! В данном примере какие фичи наиболее значимые?\n",
        "\n",
        "-- Пример с оценкой стоимости квартиры."
      ]
    },
    {
      "cell_type": "markdown",
      "metadata": {
        "id": "gJMjpLeky3fq"
      },
      "source": [
        "## 2.8. Работа с категориальными фичами\n",
        "\n",
        "Большинство алгоритмов не принимает категориальные фичи в чистом виде и нужно их как-то закодировать.\n",
        "\n",
        "С категориальными фичами в виде строк/булевых значений/etc умеет работать только catboost (библиотека от Яндекса, реализующая градиентный бустинг). Для xgboost и lightgbm же категориальные фичи нужно превратить в числа. Градиентный бустинг в sklearn вообще не умеет по-особенному обрабатывать категориальные фичи и их нужно кодировать как и для других алгоритмов."
      ]
    },
    {
      "cell_type": "markdown",
      "metadata": {
        "id": "aBUWujK4y3fr"
      },
      "source": [
        "### One-hot-encoding\n",
        "Самый простой способ закодировать категориальные фичи - one hot encoding. Представьте, что у нас есть категориальная фича day_of_week с возможными значениями \n",
        "> ['Mon', 'Tue', 'Wedn', 'thur', 'fri', 'sat', 'sun']\n",
        "\n",
        "мы можем создать 7 новых бинарные фичей для каждого из столбцов\n",
        "\n",
        "> 'Mon' -> [1, 0, 0, 0, 0, 0, 0]\n",
        "\n",
        "В pandas очень удобно использовать get_dummies для one-hot-encoding"
      ]
    },
    {
      "cell_type": "code",
      "metadata": {
        "id": "Zf7ueaAYy3fs",
        "outputId": "416b7210-5d80-4218-86fd-799481a173ed",
        "colab": {
          "base_uri": "https://localhost:8080/",
          "height": 266
        }
      },
      "source": [
        "a = pd.DataFrame.from_dict({'categorical': ['Mon', 'Tue', 'Wedn', 'thur', 'fri', 'sat', 'sun']})\n",
        "a"
      ],
      "execution_count": null,
      "outputs": [
        {
          "output_type": "execute_result",
          "data": {
            "text/html": [
              "<div>\n",
              "<style scoped>\n",
              "    .dataframe tbody tr th:only-of-type {\n",
              "        vertical-align: middle;\n",
              "    }\n",
              "\n",
              "    .dataframe tbody tr th {\n",
              "        vertical-align: top;\n",
              "    }\n",
              "\n",
              "    .dataframe thead th {\n",
              "        text-align: right;\n",
              "    }\n",
              "</style>\n",
              "<table border=\"1\" class=\"dataframe\">\n",
              "  <thead>\n",
              "    <tr style=\"text-align: right;\">\n",
              "      <th></th>\n",
              "      <th>categorical</th>\n",
              "    </tr>\n",
              "  </thead>\n",
              "  <tbody>\n",
              "    <tr>\n",
              "      <th>0</th>\n",
              "      <td>Mon</td>\n",
              "    </tr>\n",
              "    <tr>\n",
              "      <th>1</th>\n",
              "      <td>Tue</td>\n",
              "    </tr>\n",
              "    <tr>\n",
              "      <th>2</th>\n",
              "      <td>Wedn</td>\n",
              "    </tr>\n",
              "    <tr>\n",
              "      <th>3</th>\n",
              "      <td>thur</td>\n",
              "    </tr>\n",
              "    <tr>\n",
              "      <th>4</th>\n",
              "      <td>fri</td>\n",
              "    </tr>\n",
              "    <tr>\n",
              "      <th>5</th>\n",
              "      <td>sat</td>\n",
              "    </tr>\n",
              "    <tr>\n",
              "      <th>6</th>\n",
              "      <td>sun</td>\n",
              "    </tr>\n",
              "  </tbody>\n",
              "</table>\n",
              "</div>"
            ],
            "text/plain": [
              "  categorical\n",
              "0         Mon\n",
              "1         Tue\n",
              "2        Wedn\n",
              "3        thur\n",
              "4         fri\n",
              "5         sat\n",
              "6         sun"
            ]
          },
          "metadata": {
            "tags": []
          },
          "execution_count": 60
        }
      ]
    },
    {
      "cell_type": "code",
      "metadata": {
        "id": "7TZRKn-Xy3fv",
        "outputId": "b1fc6b60-02c3-4781-de74-88bd2b74d56b",
        "colab": {
          "base_uri": "https://localhost:8080/",
          "height": 266
        }
      },
      "source": [
        "pd.get_dummies(a)"
      ],
      "execution_count": null,
      "outputs": [
        {
          "output_type": "execute_result",
          "data": {
            "text/html": [
              "<div>\n",
              "<style scoped>\n",
              "    .dataframe tbody tr th:only-of-type {\n",
              "        vertical-align: middle;\n",
              "    }\n",
              "\n",
              "    .dataframe tbody tr th {\n",
              "        vertical-align: top;\n",
              "    }\n",
              "\n",
              "    .dataframe thead th {\n",
              "        text-align: right;\n",
              "    }\n",
              "</style>\n",
              "<table border=\"1\" class=\"dataframe\">\n",
              "  <thead>\n",
              "    <tr style=\"text-align: right;\">\n",
              "      <th></th>\n",
              "      <th>categorical_Mon</th>\n",
              "      <th>categorical_Tue</th>\n",
              "      <th>categorical_Wedn</th>\n",
              "      <th>categorical_fri</th>\n",
              "      <th>categorical_sat</th>\n",
              "      <th>categorical_sun</th>\n",
              "      <th>categorical_thur</th>\n",
              "    </tr>\n",
              "  </thead>\n",
              "  <tbody>\n",
              "    <tr>\n",
              "      <th>0</th>\n",
              "      <td>1</td>\n",
              "      <td>0</td>\n",
              "      <td>0</td>\n",
              "      <td>0</td>\n",
              "      <td>0</td>\n",
              "      <td>0</td>\n",
              "      <td>0</td>\n",
              "    </tr>\n",
              "    <tr>\n",
              "      <th>1</th>\n",
              "      <td>0</td>\n",
              "      <td>1</td>\n",
              "      <td>0</td>\n",
              "      <td>0</td>\n",
              "      <td>0</td>\n",
              "      <td>0</td>\n",
              "      <td>0</td>\n",
              "    </tr>\n",
              "    <tr>\n",
              "      <th>2</th>\n",
              "      <td>0</td>\n",
              "      <td>0</td>\n",
              "      <td>1</td>\n",
              "      <td>0</td>\n",
              "      <td>0</td>\n",
              "      <td>0</td>\n",
              "      <td>0</td>\n",
              "    </tr>\n",
              "    <tr>\n",
              "      <th>3</th>\n",
              "      <td>0</td>\n",
              "      <td>0</td>\n",
              "      <td>0</td>\n",
              "      <td>0</td>\n",
              "      <td>0</td>\n",
              "      <td>0</td>\n",
              "      <td>1</td>\n",
              "    </tr>\n",
              "    <tr>\n",
              "      <th>4</th>\n",
              "      <td>0</td>\n",
              "      <td>0</td>\n",
              "      <td>0</td>\n",
              "      <td>1</td>\n",
              "      <td>0</td>\n",
              "      <td>0</td>\n",
              "      <td>0</td>\n",
              "    </tr>\n",
              "    <tr>\n",
              "      <th>5</th>\n",
              "      <td>0</td>\n",
              "      <td>0</td>\n",
              "      <td>0</td>\n",
              "      <td>0</td>\n",
              "      <td>1</td>\n",
              "      <td>0</td>\n",
              "      <td>0</td>\n",
              "    </tr>\n",
              "    <tr>\n",
              "      <th>6</th>\n",
              "      <td>0</td>\n",
              "      <td>0</td>\n",
              "      <td>0</td>\n",
              "      <td>0</td>\n",
              "      <td>0</td>\n",
              "      <td>1</td>\n",
              "      <td>0</td>\n",
              "    </tr>\n",
              "  </tbody>\n",
              "</table>\n",
              "</div>"
            ],
            "text/plain": [
              "   categorical_Mon  categorical_Tue  ...  categorical_sun  categorical_thur\n",
              "0                1                0  ...                0                 0\n",
              "1                0                1  ...                0                 0\n",
              "2                0                0  ...                0                 0\n",
              "3                0                0  ...                0                 1\n",
              "4                0                0  ...                0                 0\n",
              "5                0                0  ...                0                 0\n",
              "6                0                0  ...                1                 0\n",
              "\n",
              "[7 rows x 7 columns]"
            ]
          },
          "metadata": {
            "tags": []
          },
          "execution_count": 61
        }
      ]
    },
    {
      "cell_type": "markdown",
      "metadata": {
        "id": "XSTjcIE7HGlF"
      },
      "source": [
        "## Бонус! Давайте порисуем еще! "
      ]
    },
    {
      "cell_type": "code",
      "metadata": {
        "id": "m4-xaqEHHGlF",
        "outputId": "01b1c655-7377-4b6a-e84f-479662637127"
      },
      "source": [
        "_, axes = plt.subplots(1, 2, sharey=True, figsize=(16,6))\n",
        "\n",
        "sns.boxplot(x=\"Day_period\", y=\"Fatalities\", data=df_full[df_full['Fatalities'] < 100],  ax=axes[0]);\n",
        "sns.violinplot(x=\"Day_period\", y=\"Fatalities\", data=df_full[df_full['Fatalities'] < 100], ax=axes[1],\n",
        "              hue='Holiday');"
      ],
      "execution_count": null,
      "outputs": [
        {
          "output_type": "display_data",
          "data": {
            "image/png": "[encoded data removed]",
            "text/plain": [
              "<Figure size 1152x432 with 2 Axes>"
            ]
          },
          "metadata": {
            "tags": []
          }
        }
      ]
    },
    {
      "cell_type": "markdown",
      "metadata": {
        "id": "inGgrMvMHGlH"
      },
      "source": [
        "### Разберём части Boxplot ###\n",
        "\n",
        "__Черта__ – Медиана  \n",
        "__Коробка__ – Интерквартильный размах (IQR или разница 25% (Q1) и 75% (Q3) перцентили)   \n",
        "__Усы__ – Это интервал $\\bigl[ Q_1 - 1.5 \\times IQR$, $Q_3 + 1.5 \\times IQR \\bigr]$  \n",
        "__Точки__ – Выбросы\n",
        "\n",
        "<img src=\"../pic/Boxplot.png\" width=\"500\">\n",
        "Подообнее на [Wikipedia]('https://en.wikipedia.org/wiki/Box_plot')"
      ]
    },
    {
      "cell_type": "code",
      "metadata": {
        "id": "WFmY14N9HGlI",
        "outputId": "ee0ea611-9443-4803-89da-5615f7c41022"
      },
      "source": [
        "fig = plt.figure(figsize=(22, 5))\n",
        "ax1 = fig.add_subplot(121)\n",
        "sns.distplot(df_full['Fatalities'].dropna(), fit=st.norm, kde=True,ax=ax1, bins=50)\n",
        "ax1.set_title('Плотность распределения переменной')\n",
        "ax2 = fig.add_subplot(122)\n",
        "prob = st.probplot(df_full['Fatalities'].dropna()), dist=st.norm, plot=ax2)\n",
        "ax2.set_title('Probabilyty plot')\n",
        "plt.show()"
      ],
      "execution_count": null,
      "outputs": [
        {
          "output_type": "display_data",
          "data": {
            "image/png": "[encoded data removed]",
            "text/plain": [
              "<Figure size 1584x360 with 2 Axes>"
            ]
          },
          "metadata": {
            "tags": []
          }
        }
      ]
    },
    {
      "cell_type": "markdown",
      "metadata": {
        "id": "ObtsdJSkTXJj"
      },
      "source": [
        "# kNN - метод ближайших соседей"
      ]
    },
    {
      "cell_type": "code",
      "metadata": {
        "id": "T1OigmyZA3W0"
      },
      "source": [
        "from sklearn.datasets import load_digits"
      ],
      "execution_count": null,
      "outputs": []
    },
    {
      "cell_type": "markdown",
      "metadata": {
        "id": "XrHfx2WpA3W3"
      },
      "source": [
        "## Загрузим данные"
      ]
    },
    {
      "cell_type": "code",
      "metadata": {
        "id": "ZTbbEpwjA3W3",
        "outputId": "e6948a3d-76db-4ebb-efb6-35326d8ef749",
        "colab": {
          "base_uri": "https://localhost:8080/",
          "height": 799
        }
      },
      "source": [
        "data = load_digits()\n",
        "print(data['DESCR'])"
      ],
      "execution_count": null,
      "outputs": [
        {
          "output_type": "stream",
          "text": [
            ".. _digits_dataset:\n",
            "\n",
            "Optical recognition of handwritten digits dataset\n",
            "--------------------------------------------------\n",
            "\n",
            "**Data Set Characteristics:**\n",
            "\n",
            "    :Number of Instances: 5620\n",
            "    :Number of Attributes: 64\n",
            "    :Attribute Information: 8x8 image of integer pixels in the range 0..16.\n",
            "    :Missing Attribute Values: None\n",
            "    :Creator: E. Alpaydin (alpaydin '@' boun.edu.tr)\n",
            "    :Date: July; 1998\n",
            "\n",
            "This is a copy of the test set of the UCI ML hand-written digits datasets\n",
            "https://archive.ics.uci.edu/ml/datasets/Optical+Recognition+of+Handwritten+Digits\n",
            "\n",
            "The data set contains images of hand-written digits: 10 classes where\n",
            "each class refers to a digit.\n",
            "\n",
            "Preprocessing programs made available by NIST were used to extract\n",
            "normalized bitmaps of handwritten digits from a preprinted form. From a\n",
            "total of 43 people, 30 contributed to the training set and different 13\n",
            "to the test set. 32x32 bitmaps are divided into nonoverlapping blocks of\n",
            "4x4 and the number of on pixels are counted in each block. This generates\n",
            "an input matrix of 8x8 where each element is an integer in the range\n",
            "0..16. This reduces dimensionality and gives invariance to small\n",
            "distortions.\n",
            "\n",
            "For info on NIST preprocessing routines, see M. D. Garris, J. L. Blue, G.\n",
            "T. Candela, D. L. Dimmick, J. Geist, P. J. Grother, S. A. Janet, and C.\n",
            "L. Wilson, NIST Form-Based Handprint Recognition System, NISTIR 5469,\n",
            "1994.\n",
            "\n",
            ".. topic:: References\n",
            "\n",
            "  - C. Kaynak (1995) Methods of Combining Multiple Classifiers and Their\n",
            "    Applications to Handwritten Digit Recognition, MSc Thesis, Institute of\n",
            "    Graduate Studies in Science and Engineering, Bogazici University.\n",
            "  - E. Alpaydin, C. Kaynak (1998) Cascading Classifiers, Kybernetika.\n",
            "  - Ken Tang and Ponnuthurai N. Suganthan and Xi Yao and A. Kai Qin.\n",
            "    Linear dimensionalityreduction using relevance weighted LDA. School of\n",
            "    Electrical and Electronic Engineering Nanyang Technological University.\n",
            "    2005.\n",
            "  - Claudio Gentile. A New Approximate Maximal Margin Classification\n",
            "    Algorithm. NIPS. 2000.\n"
          ],
          "name": "stdout"
        }
      ]
    },
    {
      "cell_type": "code",
      "metadata": {
        "id": "R1jpuSF7A3W6"
      },
      "source": [
        "X, y = data.data, data.target"
      ],
      "execution_count": null,
      "outputs": []
    },
    {
      "cell_type": "code",
      "metadata": {
        "id": "q1QZBhfPA3W_",
        "outputId": "8d699b72-11f2-476f-9bf9-28337a34addf",
        "colab": {
          "base_uri": "https://localhost:8080/",
          "height": 34
        }
      },
      "source": [
        "print('В датасете {} объектов и {} признака'.format(X.shape[0], X.shape[1]))"
      ],
      "execution_count": null,
      "outputs": [
        {
          "output_type": "stream",
          "text": [
            "В датасете 1797 объектов и 64 признака\n"
          ],
          "name": "stdout"
        }
      ]
    },
    {
      "cell_type": "markdown",
      "metadata": {
        "id": "O2W8MYQnA3XC"
      },
      "source": [
        "### Посмотрим на объекты:"
      ]
    },
    {
      "cell_type": "code",
      "metadata": {
        "id": "H_I5K7mbA3XC",
        "outputId": "fab2ec9d-cefe-4bfc-9d42-5548637bab73",
        "colab": {
          "base_uri": "https://localhost:8080/",
          "height": 421
        }
      },
      "source": [
        "i = np.random.randint(0, X.shape[0])\n",
        "print('Class name: {}'.format(y[i]))\n",
        "print(X[i].reshape(8,8))\n",
        "\n",
        "X[i]\n",
        "plt.imshow(X[i].reshape(8,8), cmap='gray_r')\n",
        "plt.show()"
      ],
      "execution_count": null,
      "outputs": [
        {
          "output_type": "stream",
          "text": [
            "Class name: 2\n",
            "[[ 0.  0.  2. 12. 16. 10.  0.  0.]\n",
            " [ 0.  2. 15. 10.  6. 15.  0.  0.]\n",
            " [ 0.  2.  7.  1.  4. 14.  0.  0.]\n",
            " [ 0.  0.  0.  0.  9. 10.  0.  0.]\n",
            " [ 0.  0.  0.  0. 12.  3.  0.  0.]\n",
            " [ 0.  0.  0.  8. 14.  0.  0.  0.]\n",
            " [ 0.  0. 15. 16. 15. 10.  5.  0.]\n",
            " [ 0.  0.  1.  8.  8. 11. 16.  6.]]\n"
          ],
          "name": "stdout"
        },
        {
          "output_type": "display_data",
          "data": {
            "image/png": "[encoded data removed]",
            "text/plain": [
              "<Figure size 432x288 with 1 Axes>"
            ]
          },
          "metadata": {
            "tags": [],
            "needs_background": "light"
          }
        }
      ]
    },
    {
      "cell_type": "markdown",
      "metadata": {
        "id": "pbQmOAHrA3XF"
      },
      "source": [
        "Посмотрим на баланс классов:"
      ]
    },
    {
      "cell_type": "code",
      "metadata": {
        "id": "5f9WvFM3A3XG"
      },
      "source": [
        "counts = np.unique(y, return_counts=True)\n",
        "pd.DataFrame(counts[1], counts[0], columns=['counts']);\n",
        "# sns.barplot(counts[0], counts[1])\n",
        "# plt.show()"
      ],
      "execution_count": null,
      "outputs": []
    },
    {
      "cell_type": "code",
      "metadata": {
        "id": "Hr_lUgubA3XI",
        "outputId": "5ca42eed-1298-4d3f-8afc-42da4b0ed7e0",
        "colab": {
          "base_uri": "https://localhost:8080/",
          "height": 338
        }
      },
      "source": [
        "fig = plt.figure()\n",
        "ax = fig.add_axes([0,0,1,1])\n",
        "ax.bar(counts[0], counts[1])\n",
        "plt.show()"
      ],
      "execution_count": null,
      "outputs": [
        {
          "output_type": "display_data",
          "data": {
            "image/png": "[encoded data removed]",
            "text/plain": [
              "<Figure size 432x288 with 1 Axes>"
            ]
          },
          "metadata": {
            "tags": [],
            "needs_background": "light"
          }
        }
      ]
    },
    {
      "cell_type": "markdown",
      "metadata": {
        "id": "B0FWjkg0A3XK"
      },
      "source": [
        "Разделим выборку на две части: обучающую и тестовую"
      ]
    },
    {
      "cell_type": "code",
      "metadata": {
        "id": "Jv-_k73lA3XK"
      },
      "source": [
        "from sklearn.model_selection import train_test_split"
      ],
      "execution_count": null,
      "outputs": []
    },
    {
      "cell_type": "code",
      "metadata": {
        "id": "LPnAuqZAA3XM",
        "outputId": "9736280b-e0d2-43f3-f329-20e1cda8d074",
        "colab": {
          "base_uri": "https://localhost:8080/",
          "height": 34
        }
      },
      "source": [
        "X_train, X_test, y_train, y_test = train_test_split(X, y, \n",
        "                                                    train_size=0.5,\n",
        "                                                    test_size=0.5, \n",
        "                                                    shuffle=True,\n",
        "                                                   random_state=18)\n",
        "X_train.shape, X_test.shape, y_train.shape, y_test.shape  "
      ],
      "execution_count": null,
      "outputs": [
        {
          "output_type": "execute_result",
          "data": {
            "text/plain": [
              "((898, 64), (899, 64), (898,), (899,))"
            ]
          },
          "metadata": {
            "tags": []
          },
          "execution_count": 121
        }
      ]
    },
    {
      "cell_type": "markdown",
      "metadata": {
        "id": "vPY3a6wOA3XP"
      },
      "source": [
        "## Метод ближайших соседей"
      ]
    },
    {
      "cell_type": "code",
      "metadata": {
        "id": "_CMsIzw7A3XP"
      },
      "source": [
        "from sklearn.neighbors import KNeighborsClassifier"
      ],
      "execution_count": null,
      "outputs": []
    },
    {
      "cell_type": "markdown",
      "metadata": {
        "id": "COoieQ2MA3XR"
      },
      "source": [
        "Зададим классификатор:"
      ]
    },
    {
      "cell_type": "code",
      "metadata": {
        "id": "XOx-hiNVA3XS"
      },
      "source": [
        "knn = KNeighborsClassifier(n_neighbors=5)"
      ],
      "execution_count": null,
      "outputs": []
    },
    {
      "cell_type": "code",
      "metadata": {
        "id": "j5ec_5nEA3XT"
      },
      "source": [
        "knn.fit(X_train, y_train)\n",
        "knn_predictons = knn.predict(X_test)"
      ],
      "execution_count": null,
      "outputs": []
    },
    {
      "cell_type": "code",
      "metadata": {
        "id": "Hu04KvGEA3XW"
      },
      "source": [
        "preds = pd.DataFrame(y_test, columns=['True'])\n",
        "preds['knn_pred'] = knn_predictons"
      ],
      "execution_count": null,
      "outputs": []
    },
    {
      "cell_type": "code",
      "metadata": {
        "id": "VHEz4InXA3XY",
        "outputId": "2cc72a48-79d8-4d41-acdf-937660810c8d",
        "colab": {
          "base_uri": "https://localhost:8080/",
          "height": 204
        }
      },
      "source": [
        "preds.head()"
      ],
      "execution_count": null,
      "outputs": [
        {
          "output_type": "execute_result",
          "data": {
            "text/html": [
              "<div>\n",
              "<style scoped>\n",
              "    .dataframe tbody tr th:only-of-type {\n",
              "        vertical-align: middle;\n",
              "    }\n",
              "\n",
              "    .dataframe tbody tr th {\n",
              "        vertical-align: top;\n",
              "    }\n",
              "\n",
              "    .dataframe thead th {\n",
              "        text-align: right;\n",
              "    }\n",
              "</style>\n",
              "<table border=\"1\" class=\"dataframe\">\n",
              "  <thead>\n",
              "    <tr style=\"text-align: right;\">\n",
              "      <th></th>\n",
              "      <th>True</th>\n",
              "      <th>knn_pred</th>\n",
              "    </tr>\n",
              "  </thead>\n",
              "  <tbody>\n",
              "    <tr>\n",
              "      <th>0</th>\n",
              "      <td>0</td>\n",
              "      <td>0</td>\n",
              "    </tr>\n",
              "    <tr>\n",
              "      <th>1</th>\n",
              "      <td>3</td>\n",
              "      <td>3</td>\n",
              "    </tr>\n",
              "    <tr>\n",
              "      <th>2</th>\n",
              "      <td>4</td>\n",
              "      <td>4</td>\n",
              "    </tr>\n",
              "    <tr>\n",
              "      <th>3</th>\n",
              "      <td>4</td>\n",
              "      <td>4</td>\n",
              "    </tr>\n",
              "    <tr>\n",
              "      <th>4</th>\n",
              "      <td>8</td>\n",
              "      <td>8</td>\n",
              "    </tr>\n",
              "  </tbody>\n",
              "</table>\n",
              "</div>"
            ],
            "text/plain": [
              "   True  knn_pred\n",
              "0     0         0\n",
              "1     3         3\n",
              "2     4         4\n",
              "3     4         4\n",
              "4     8         8"
            ]
          },
          "metadata": {
            "tags": []
          },
          "execution_count": 126
        }
      ]
    },
    {
      "cell_type": "code",
      "metadata": {
        "id": "BUj2vteGA3Xa",
        "outputId": "9f6e98b1-8a98-45df-e5e2-c0c28e55c8cf",
        "colab": {
          "base_uri": "https://localhost:8080/",
          "height": 34
        }
      },
      "source": [
        "# Посмотрим долю правильных ответов:\n",
        "def accuracy(true, predictions):\n",
        "    acc = predictions[true == predictions].shape[0]/true.shape[0]\n",
        "    return acc\n",
        "accuracy(y_test, knn_predictons)"
      ],
      "execution_count": null,
      "outputs": [
        {
          "output_type": "execute_result",
          "data": {
            "text/plain": [
              "0.9866518353726362"
            ]
          },
          "metadata": {
            "tags": []
          },
          "execution_count": 127
        }
      ]
    },
    {
      "cell_type": "code",
      "metadata": {
        "id": "07d2-N1BA3Xc",
        "outputId": "520340dd-6fe0-41fa-ae75-ece9b32e0f2f",
        "colab": {
          "base_uri": "https://localhost:8080/",
          "height": 34
        }
      },
      "source": [
        "#Тоже самое средставми sklearn:\n",
        "from sklearn.metrics import accuracy_score\n",
        "accuracy_score(y_test, knn_predictons)"
      ],
      "execution_count": null,
      "outputs": [
        {
          "output_type": "execute_result",
          "data": {
            "text/plain": [
              "0.9866518353726362"
            ]
          },
          "metadata": {
            "tags": []
          },
          "execution_count": 128
        }
      ]
    },
    {
      "cell_type": "markdown",
      "metadata": {
        "id": "HD1SeAA7A3Xe"
      },
      "source": [
        "Постройте график зависимости доли верных ответов на тесте от количества соседей (от 1 до 100):"
      ]
    },
    {
      "cell_type": "code",
      "metadata": {
        "id": "WPPMFMwFA3Xe"
      },
      "source": [
        "# Ваш код здесь: "
      ],
      "execution_count": null,
      "outputs": []
    },
    {
      "cell_type": "markdown",
      "metadata": {
        "id": "Cerpg8c_A3YN"
      },
      "source": [
        "## Поиск оптимальных параметров по сетке"
      ]
    },
    {
      "cell_type": "code",
      "metadata": {
        "id": "fIfuyzGVA3YN"
      },
      "source": [
        "from sklearn.model_selection import GridSearchCV"
      ],
      "execution_count": null,
      "outputs": []
    },
    {
      "cell_type": "code",
      "metadata": {
        "id": "XazV6tE_A3YQ"
      },
      "source": [
        "n = np.linspace(1, 21, 21, dtype=int)"
      ],
      "execution_count": null,
      "outputs": []
    },
    {
      "cell_type": "code",
      "metadata": {
        "scrolled": true,
        "id": "-2RjFLRxA3YS",
        "outputId": "d5961599-68cc-4a63-8abc-18b8dc5d2731",
        "colab": {
          "base_uri": "https://localhost:8080/",
          "height": 221
        }
      },
      "source": [
        "kNN_cv = KNeighborsClassifier(n_neighbors=5)\n",
        "params = { \n",
        "    'metric':['minkowski', 'manhattan'],\n",
        "    'n_neighbors': n,\n",
        "         }\n",
        "\n",
        "gcv = GridSearchCV(kNN_cv, param_grid=params, cv=5, scoring='accuracy')\n",
        "gcv.fit(X_train, y_train)"
      ],
      "execution_count": null,
      "outputs": [
        {
          "output_type": "execute_result",
          "data": {
            "text/plain": [
              "GridSearchCV(cv=5, error_score=nan,\n",
              "             estimator=KNeighborsClassifier(algorithm='auto', leaf_size=30,\n",
              "                                            metric='minkowski',\n",
              "                                            metric_params=None, n_jobs=None,\n",
              "                                            n_neighbors=5, p=2,\n",
              "                                            weights='uniform'),\n",
              "             iid='deprecated', n_jobs=None,\n",
              "             param_grid={'metric': ['minkowski', 'manhattan'],\n",
              "                         'n_neighbors': array([ 1,  2,  3,  4,  5,  6,  7,  8,  9, 10, 11, 12, 13, 14, 15, 16, 17,\n",
              "       18, 19, 20, 21])},\n",
              "             pre_dispatch='2*n_jobs', refit=True, return_train_score=False,\n",
              "             scoring='accuracy', verbose=0)"
            ]
          },
          "metadata": {
            "tags": []
          },
          "execution_count": 132
        }
      ]
    },
    {
      "cell_type": "code",
      "metadata": {
        "id": "inWaX4gPA3YU"
      },
      "source": [
        "def print_cv_results(a, len_gs, params, param_r, param_sep): \n",
        "    d = len(params['param_grid'][param_sep])\n",
        "    ar=np.array(a).reshape(d,len_gs).T\n",
        "    df=pd.DataFrame(ar)\n",
        "\n",
        "    pen_par=params['param_grid'][param_sep]\n",
        "    c_par=params['param_grid'][param_r]\n",
        "    if type(c_par) != list: \n",
        "        c_par = c_par.tolist()\n",
        "    columns_mapper=dict(zip(range(0, len(pen_par)),pen_par))\n",
        "    row_mapper=dict(zip(range(0, len(c_par)), c_par))\n",
        "\n",
        "    df.rename(columns=columns_mapper, index=row_mapper, inplace=True)\n",
        "\n",
        "    plot = df.plot(title='Mean accuracy rating',grid=True)\n",
        "    plot.set_xlabel(param_r, fontsize=13)\n",
        "    plot.set_ylabel('acc', rotation=0, fontsize=13, labelpad=15)"
      ],
      "execution_count": null,
      "outputs": []
    },
    {
      "cell_type": "code",
      "metadata": {
        "id": "VU1wrde9A3YV",
        "outputId": "d9b94dfa-c375-438b-99a0-bc99aae45f4f",
        "colab": {
          "base_uri": "https://localhost:8080/",
          "height": 408
        }
      },
      "source": [
        "gcv.get_params()"
      ],
      "execution_count": null,
      "outputs": [
        {
          "output_type": "execute_result",
          "data": {
            "text/plain": [
              "{'cv': 5,\n",
              " 'error_score': nan,\n",
              " 'estimator': KNeighborsClassifier(algorithm='auto', leaf_size=30, metric='minkowski',\n",
              "                      metric_params=None, n_jobs=None, n_neighbors=5, p=2,\n",
              "                      weights='uniform'),\n",
              " 'estimator__algorithm': 'auto',\n",
              " 'estimator__leaf_size': 30,\n",
              " 'estimator__metric': 'minkowski',\n",
              " 'estimator__metric_params': None,\n",
              " 'estimator__n_jobs': None,\n",
              " 'estimator__n_neighbors': 5,\n",
              " 'estimator__p': 2,\n",
              " 'estimator__weights': 'uniform',\n",
              " 'iid': 'deprecated',\n",
              " 'n_jobs': None,\n",
              " 'param_grid': {'metric': ['minkowski', 'manhattan'],\n",
              "  'n_neighbors': array([ 1,  2,  3,  4,  5,  6,  7,  8,  9, 10, 11, 12, 13, 14, 15, 16, 17,\n",
              "         18, 19, 20, 21])},\n",
              " 'pre_dispatch': '2*n_jobs',\n",
              " 'refit': True,\n",
              " 'return_train_score': False,\n",
              " 'scoring': 'accuracy',\n",
              " 'verbose': 0}"
            ]
          },
          "metadata": {
            "tags": []
          },
          "execution_count": 134
        }
      ]
    },
    {
      "cell_type": "code",
      "metadata": {
        "id": "7T9nrU3kA3YX",
        "outputId": "1c90fe00-5f73-4d46-ad7e-5f735ad7c112",
        "colab": {
          "base_uri": "https://localhost:8080/",
          "height": 318
        }
      },
      "source": [
        "print_cv_results(gcv.cv_results_['mean_test_score'],\n",
        "                 21, gcv.get_params(), 'n_neighbors','metric')\n",
        "gcv.best_params_"
      ],
      "execution_count": null,
      "outputs": [
        {
          "output_type": "execute_result",
          "data": {
            "text/plain": [
              "{'metric': 'minkowski', 'n_neighbors': 1}"
            ]
          },
          "metadata": {
            "tags": []
          },
          "execution_count": 135
        },
        {
          "output_type": "display_data",
          "data": {
            "image/png": "[encoded data removed]",
            "text/plain": [
              "<Figure size 432x288 with 1 Axes>"
            ]
          },
          "metadata": {
            "tags": [],
            "needs_background": "light"
          }
        }
      ]
    },
    {
      "cell_type": "code",
      "metadata": {
        "id": "2W7YawmTA3YY",
        "outputId": "4aa68f20-a1ae-496e-9bea-f48a5af54f16",
        "colab": {
          "base_uri": "https://localhost:8080/",
          "height": 51
        }
      },
      "source": [
        "print('Лучший скор %.4f' % gcv.best_score_)\n",
        "print('при метрике %(metric)s и %(n_neighbors)s соседей' % gcv.best_params_)"
      ],
      "execution_count": null,
      "outputs": [
        {
          "output_type": "stream",
          "text": [
            "Лучший скор 0.9833\n",
            "при метрике minkowski и 1 соседей\n"
          ],
          "name": "stdout"
        }
      ]
    },
    {
      "cell_type": "markdown",
      "metadata": {
        "id": "HAN_NbOJA3Ya"
      },
      "source": [
        "#### Что получится на тесте?"
      ]
    },
    {
      "cell_type": "code",
      "metadata": {
        "id": "c8Uc888lA3Yb",
        "outputId": "b10185ed-5341-46a3-ce7e-fd3b85cf5fd8",
        "colab": {
          "base_uri": "https://localhost:8080/",
          "height": 34
        }
      },
      "source": [
        "accuracy_score(y_test, gcv.predict(X_test))"
      ],
      "execution_count": null,
      "outputs": [
        {
          "output_type": "execute_result",
          "data": {
            "text/plain": [
              "0.9844271412680756"
            ]
          },
          "metadata": {
            "tags": []
          },
          "execution_count": 137
        }
      ]
    },
    {
      "cell_type": "code",
      "metadata": {
        "id": "ln6pagOYA3Yd"
      },
      "source": [
        "gcv_preds = pd.DataFrame(gcv.predict(X_test), columns=['kNN'])"
      ],
      "execution_count": null,
      "outputs": []
    },
    {
      "cell_type": "code",
      "metadata": {
        "id": "UcmYKdkCA3Ye"
      },
      "source": [
        "gcv_preds['True'] = y_test"
      ],
      "execution_count": null,
      "outputs": []
    },
    {
      "cell_type": "code",
      "metadata": {
        "id": "OhDjXEP6A3Yi",
        "outputId": "5738edeb-9071-4f7e-af13-6ed714ff2d16",
        "colab": {
          "base_uri": "https://localhost:8080/",
          "height": 419
        }
      },
      "source": [
        "gcv_preds"
      ],
      "execution_count": null,
      "outputs": [
        {
          "output_type": "execute_result",
          "data": {
            "text/html": [
              "<div>\n",
              "<style scoped>\n",
              "    .dataframe tbody tr th:only-of-type {\n",
              "        vertical-align: middle;\n",
              "    }\n",
              "\n",
              "    .dataframe tbody tr th {\n",
              "        vertical-align: top;\n",
              "    }\n",
              "\n",
              "    .dataframe thead th {\n",
              "        text-align: right;\n",
              "    }\n",
              "</style>\n",
              "<table border=\"1\" class=\"dataframe\">\n",
              "  <thead>\n",
              "    <tr style=\"text-align: right;\">\n",
              "      <th></th>\n",
              "      <th>kNN</th>\n",
              "      <th>True</th>\n",
              "    </tr>\n",
              "  </thead>\n",
              "  <tbody>\n",
              "    <tr>\n",
              "      <th>0</th>\n",
              "      <td>0</td>\n",
              "      <td>0</td>\n",
              "    </tr>\n",
              "    <tr>\n",
              "      <th>1</th>\n",
              "      <td>3</td>\n",
              "      <td>3</td>\n",
              "    </tr>\n",
              "    <tr>\n",
              "      <th>2</th>\n",
              "      <td>4</td>\n",
              "      <td>4</td>\n",
              "    </tr>\n",
              "    <tr>\n",
              "      <th>3</th>\n",
              "      <td>4</td>\n",
              "      <td>4</td>\n",
              "    </tr>\n",
              "    <tr>\n",
              "      <th>4</th>\n",
              "      <td>8</td>\n",
              "      <td>8</td>\n",
              "    </tr>\n",
              "    <tr>\n",
              "      <th>...</th>\n",
              "      <td>...</td>\n",
              "      <td>...</td>\n",
              "    </tr>\n",
              "    <tr>\n",
              "      <th>894</th>\n",
              "      <td>0</td>\n",
              "      <td>0</td>\n",
              "    </tr>\n",
              "    <tr>\n",
              "      <th>895</th>\n",
              "      <td>1</td>\n",
              "      <td>1</td>\n",
              "    </tr>\n",
              "    <tr>\n",
              "      <th>896</th>\n",
              "      <td>8</td>\n",
              "      <td>8</td>\n",
              "    </tr>\n",
              "    <tr>\n",
              "      <th>897</th>\n",
              "      <td>0</td>\n",
              "      <td>0</td>\n",
              "    </tr>\n",
              "    <tr>\n",
              "      <th>898</th>\n",
              "      <td>6</td>\n",
              "      <td>6</td>\n",
              "    </tr>\n",
              "  </tbody>\n",
              "</table>\n",
              "<p>899 rows × 2 columns</p>\n",
              "</div>"
            ],
            "text/plain": [
              "     kNN  True\n",
              "0      0     0\n",
              "1      3     3\n",
              "2      4     4\n",
              "3      4     4\n",
              "4      8     8\n",
              "..   ...   ...\n",
              "894    0     0\n",
              "895    1     1\n",
              "896    8     8\n",
              "897    0     0\n",
              "898    6     6\n",
              "\n",
              "[899 rows x 2 columns]"
            ]
          },
          "metadata": {
            "tags": []
          },
          "execution_count": 140
        }
      ]
    },
    {
      "cell_type": "markdown",
      "metadata": {
        "id": "-O0B1AZ5A3Yk"
      },
      "source": [
        "Посмотрим на те цифры, которые \"путает\" наш классификатор"
      ]
    },
    {
      "cell_type": "code",
      "metadata": {
        "id": "x2WZ4dBSA3Yk",
        "outputId": "faf336ff-10e6-432a-a2b1-d6439033153d",
        "colab": {
          "base_uri": "https://localhost:8080/",
          "height": 483
        }
      },
      "source": [
        "gcv_preds[gcv_preds['True'] != gcv_preds['kNN']]"
      ],
      "execution_count": null,
      "outputs": [
        {
          "output_type": "execute_result",
          "data": {
            "text/html": [
              "<div>\n",
              "<style scoped>\n",
              "    .dataframe tbody tr th:only-of-type {\n",
              "        vertical-align: middle;\n",
              "    }\n",
              "\n",
              "    .dataframe tbody tr th {\n",
              "        vertical-align: top;\n",
              "    }\n",
              "\n",
              "    .dataframe thead th {\n",
              "        text-align: right;\n",
              "    }\n",
              "</style>\n",
              "<table border=\"1\" class=\"dataframe\">\n",
              "  <thead>\n",
              "    <tr style=\"text-align: right;\">\n",
              "      <th></th>\n",
              "      <th>kNN</th>\n",
              "      <th>True</th>\n",
              "    </tr>\n",
              "  </thead>\n",
              "  <tbody>\n",
              "    <tr>\n",
              "      <th>8</th>\n",
              "      <td>5</td>\n",
              "      <td>3</td>\n",
              "    </tr>\n",
              "    <tr>\n",
              "      <th>78</th>\n",
              "      <td>1</td>\n",
              "      <td>8</td>\n",
              "    </tr>\n",
              "    <tr>\n",
              "      <th>107</th>\n",
              "      <td>5</td>\n",
              "      <td>1</td>\n",
              "    </tr>\n",
              "    <tr>\n",
              "      <th>252</th>\n",
              "      <td>4</td>\n",
              "      <td>9</td>\n",
              "    </tr>\n",
              "    <tr>\n",
              "      <th>308</th>\n",
              "      <td>9</td>\n",
              "      <td>3</td>\n",
              "    </tr>\n",
              "    <tr>\n",
              "      <th>324</th>\n",
              "      <td>1</td>\n",
              "      <td>8</td>\n",
              "    </tr>\n",
              "    <tr>\n",
              "      <th>477</th>\n",
              "      <td>8</td>\n",
              "      <td>6</td>\n",
              "    </tr>\n",
              "    <tr>\n",
              "      <th>572</th>\n",
              "      <td>8</td>\n",
              "      <td>9</td>\n",
              "    </tr>\n",
              "    <tr>\n",
              "      <th>579</th>\n",
              "      <td>4</td>\n",
              "      <td>0</td>\n",
              "    </tr>\n",
              "    <tr>\n",
              "      <th>611</th>\n",
              "      <td>1</td>\n",
              "      <td>6</td>\n",
              "    </tr>\n",
              "    <tr>\n",
              "      <th>651</th>\n",
              "      <td>1</td>\n",
              "      <td>8</td>\n",
              "    </tr>\n",
              "    <tr>\n",
              "      <th>872</th>\n",
              "      <td>9</td>\n",
              "      <td>3</td>\n",
              "    </tr>\n",
              "    <tr>\n",
              "      <th>874</th>\n",
              "      <td>9</td>\n",
              "      <td>5</td>\n",
              "    </tr>\n",
              "    <tr>\n",
              "      <th>879</th>\n",
              "      <td>5</td>\n",
              "      <td>3</td>\n",
              "    </tr>\n",
              "  </tbody>\n",
              "</table>\n",
              "</div>"
            ],
            "text/plain": [
              "     kNN  True\n",
              "8      5     3\n",
              "78     1     8\n",
              "107    5     1\n",
              "252    4     9\n",
              "308    9     3\n",
              "324    1     8\n",
              "477    8     6\n",
              "572    8     9\n",
              "579    4     0\n",
              "611    1     6\n",
              "651    1     8\n",
              "872    9     3\n",
              "874    9     5\n",
              "879    5     3"
            ]
          },
          "metadata": {
            "tags": []
          },
          "execution_count": 141
        }
      ]
    },
    {
      "cell_type": "markdown",
      "metadata": {
        "id": "DB3rpCgNA3Yp"
      },
      "source": [
        "# Нормализация"
      ]
    },
    {
      "cell_type": "markdown",
      "metadata": {
        "id": "so_A_3W6A3Yp"
      },
      "source": [
        "Так как мы работаем с пикселями изображения - все признаки имеют \"одинаковую\" значимость.\n",
        "\n",
        "P.S. Проводить нормализацию можно как для всего изображения (матрицы), так и для каждого пикселя отдельно."
      ]
    },
    {
      "cell_type": "markdown",
      "metadata": {
        "id": "cIbWYGZgA3Yp"
      },
      "source": [
        "Проведите нормировку признаков, вычислите точность, сделайте выводы"
      ]
    },
    {
      "cell_type": "code",
      "metadata": {
        "id": "tOfZJtgMA3Yq"
      },
      "source": [
        "# Ваш код здесь: "
      ],
      "execution_count": null,
      "outputs": []
    },
    {
      "cell_type": "markdown",
      "metadata": {
        "id": "DdFaMSuiA3Yr"
      },
      "source": [
        "Проведите стандартизацию признаков, вычислите точность, сделайте выводы"
      ]
    },
    {
      "cell_type": "code",
      "metadata": {
        "id": "kaBgFXqQA3Ys"
      },
      "source": [
        "# Ваш код здесь: "
      ],
      "execution_count": null,
      "outputs": []
    },
    {
      "cell_type": "markdown",
      "metadata": {
        "id": "-DPDGEfeFaYK"
      },
      "source": [
        "# Реализация kNN"
      ]
    },
    {
      "cell_type": "code",
      "metadata": {
        "id": "c85MEY_fEKwr"
      },
      "source": [
        "class KNN:\n",
        "\n",
        "    def __init__(self, k=1):\n",
        "        self.k = k\n",
        "\n",
        "    def fit(self, X, y):\n",
        "        self.train_X = X\n",
        "        self.train_y = y\n",
        "\n",
        "    def predict(self, X, num_loops=2):\n",
        "  \n",
        "        if num_loops == 0:\n",
        "            dists = self.compute_distances_no_loops(X)\n",
        "        elif num_loops == 1:\n",
        "            dists = self.compute_distances_one_loop(X)\n",
        "        else:\n",
        "            dists = self.compute_distances_two_loops(X)\n",
        "\n",
        "        if self.train_y.dtype == np.bool:\n",
        "            return self.predict_labels_binary(dists)\n",
        "        else:\n",
        "            return self.predict_labels_multiclass(dists)\n",
        "\n",
        "    def compute_distances_two_loops(self, X):\n",
        "        \n",
        "        num_train = self.train_X.shape[0]\n",
        "        num_test = X.shape[0]\n",
        "        dists = np.zeros((num_test, num_train), np.float32)\n",
        "        for i_test in range(num_test):\n",
        "            for i_train in range(num_train):\n",
        "                dists[i_test][i_train] = np.sum(abs(self.train_X[i_train] - X[i_test]))\n",
        "        return dists\n",
        "    \n",
        "    def compute_distances_one_loop(self, X):\n",
        "        \n",
        "        num_train = self.train_X.shape[0]\n",
        "        num_test = X.shape[0]\n",
        "        dists = np.zeros((num_test, num_train), np.float32)\n",
        "        for i_test in range(num_test):\n",
        "            dists[i_test] = np.sum(abs(self.train_X - X[i_test]), axis=1)\n",
        "        return dists\n",
        "\n",
        "    def compute_distances_no_loops(self, X):\n",
        "        \n",
        "        num_train = self.train_X.shape[0]\n",
        "        num_test = X.shape[0]\n",
        "        # Using float32 to to save memory - the default is float64\n",
        "        dists = np.zeros((num_test, num_train), np.float32)\n",
        "        train_3d = np.transpose(np.tile(self.train_X, (num_test, 1, 1)), (1, 0, 2))\n",
        "        dists = np.sum(abs(train_3d - X), axis=2)\n",
        "        return dists.T\n",
        "\n",
        "    def predict_labels_binary(self, dists):\n",
        "        \n",
        "        num_test = dists.shape[0]\n",
        "        pred = np.zeros(num_test, np.bool)\n",
        "        for i in range(num_test):\n",
        "            unique, counts = np.unique(np.take(self.train_y, np.argsort(dists[i])[:self.k]), return_counts=True)\n",
        "            pred[i] = unique[np.argmax(counts)]\n",
        "        return pred\n",
        "\n",
        "    def predict_labels_multiclass(self, dists):\n",
        "        \n",
        "        num_test = dists.shape[0]\n",
        "        num_test = dists.shape[0]\n",
        "        pred = np.zeros(num_test, np.int)\n",
        "        for i in range(num_test):            \n",
        "            unique, counts = np.unique(np.take(self.train_y, np.argsort(dists[i])[:self.k]), return_counts=True)\n",
        "            pred[i] = unique[np.argmax(counts)]\n",
        "        return pred"
      ],
      "execution_count": null,
      "outputs": []
    },
    {
      "cell_type": "code",
      "metadata": {
        "id": "tC1LncCaEK0t"
      },
      "source": [
        "knn = KNN(k=5)"
      ],
      "execution_count": null,
      "outputs": []
    },
    {
      "cell_type": "code",
      "metadata": {
        "id": "Q5-Muwh7Eyd0"
      },
      "source": [
        "knn.fit(X_train, y_train)\n",
        "knn_predictons = knn.predict(X_test)"
      ],
      "execution_count": null,
      "outputs": []
    },
    {
      "cell_type": "code",
      "metadata": {
        "id": "YtDFx17VEyhJ",
        "outputId": "d0895128-3860-462b-ade5-6e9d194f247b",
        "colab": {
          "base_uri": "https://localhost:8080/",
          "height": 34
        }
      },
      "source": [
        "accuracy_score(y_test, knn_predictons)"
      ],
      "execution_count": null,
      "outputs": [
        {
          "output_type": "execute_result",
          "data": {
            "text/plain": [
              "0.9866518353726362"
            ]
          },
          "metadata": {
            "tags": []
          },
          "execution_count": 146
        }
      ]
    },
    {
      "cell_type": "markdown",
      "metadata": {
        "id": "zbvOQ9KcHGlK"
      },
      "source": [
        "# Ссылки:\n",
        "- Хороший [обзор основных функций Pandas](https://alexanderdyakonov.files.wordpress.com/2015/04/ama2015_pandas.pdf) от Александра Дьяконова (МГУ)\n",
        "- Открытый курс машинного обучения. [Тема 1. Первичный анализ данных с Pandas](https://habr.com/company/ods/blog/322626/)  \n",
        "- Подробная [Документация Pandas](http://pandas.pydata.org/pandas-docs/stable/api.html)\n",
        "- Материал коллеги [PythonNpCourse](https://github.com/Erhil/PythonNpCourse)\n",
        "- Прикладной курс по машинному обучению от ODS [dlcourse.ai](https://dlcourse.ai/)\n",
        "- Deep Learning School [dlschool](\n",
        "https://www.dlschool.org/)\n",
        "\n",
        "### Литература: \n",
        "- Heydt Michael. Learning Pandas "
      ]
    },
    {
      "cell_type": "code",
      "metadata": {
        "id": "FyNByvFOkIiT"
      },
      "source": [
        ""
      ],
      "execution_count": null,
      "outputs": []
    }
  ]
}