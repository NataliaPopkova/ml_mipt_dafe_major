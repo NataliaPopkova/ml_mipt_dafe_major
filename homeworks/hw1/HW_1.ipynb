{
  "nbformat": 4,
  "nbformat_minor": 0,
  "metadata": {
    "_change_revision": 0,
    "_is_fork": false,
    "kernelspec": {
      "display_name": "Python 3",
      "language": "python",
      "name": "python3"
    },
    "language_info": {
      "codemirror_mode": {
        "name": "ipython",
        "version": 3
      },
      "file_extension": ".py",
      "mimetype": "text/x-python",
      "name": "python",
      "nbconvert_exporter": "python",
      "pygments_lexer": "ipython3",
      "version": "3.5.2"
    },
    "colab": {
      "name": "HW 1.ipynb",
      "provenance": [],
      "toc_visible": true
    }
  },
  "cells": [
    {
      "cell_type": "markdown",
      "metadata": {
        "id": "AGf_xvZiT0Ww"
      },
      "source": [
        "# Домашнее задание № 1\n",
        "Вам необходимо провести анализ данных и сделать предсказание"
      ]
    },
    {
      "cell_type": "code",
      "metadata": {
        "_cell_guid": "87372d85-e9ac-b3b3-c25d-33dfb357ccd8",
        "id": "pQ5OrqpATtVl"
      },
      "source": [
        "import pandas as pd\n",
        "import numpy as np\n",
        "\n",
        "import matplotlib.pyplot as plt\n",
        "import seaborn as sns\n",
        "from sklearn.model_selection import train_test_split, GridSearchCV\n",
        "sns.set(style=\"whitegrid\")\n",
        "sns.set_color_codes(\"pastel\")\n",
        "%matplotlib inline"
      ],
      "execution_count": null,
      "outputs": []
    },
    {
      "cell_type": "markdown",
      "metadata": {
        "_cell_guid": "d2034be1-8579-d4b9-9b18-b7bf2c6fc651",
        "id": "rWc3WRD0TtVq"
      },
      "source": [
        "# Data Overview\n",
        "Ознакомить с данными можно в [источнике](https://www.kaggle.com/uciml/student-alcohol-consumption?select=student-por.csv)\n",
        "\n",
        "Если вкратце, то у вас есть 30 параметров и одна целевая переменная G3\n",
        "\n",
        "Данные случайным образом разделены на train и test, для train у вас есть ответы, а для test - нет. Необходимо построить такой алгоритм, который будет хорошо предсказывать на test-овых данных."
      ]
    },
    {
      "cell_type": "code",
      "metadata": {
        "id": "cE9FdACVcBHd"
      },
      "source": [
        "# Читаем данные\n",
        "\n",
        "train = pd.read_csv('./gdrive/My Drive/Colab Notebooks/HW 1/data/train_features_with_answers.csv')\n",
        "X_test = pd.read_csv('./gdrive/My Drive/Colab Notebooks/HW 1/data/X_test.csv')"
      ],
      "execution_count": null,
      "outputs": []
    },
    {
      "cell_type": "code",
      "metadata": {
        "id": "i1j9Yn9Jhz-S",
        "outputId": "e61cc914-5a06-4d7e-aafb-c9f4fdbf9072",
        "colab": {
          "base_uri": "https://localhost:8080/",
          "height": 379
        }
      },
      "source": [
        "# Про параметры почитайте в источнике\n",
        "\n",
        "train.head(10)"
      ],
      "execution_count": null,
      "outputs": [
        {
          "output_type": "execute_result",
          "data": {
            "text/html": [
              "<div>\n",
              "<style scoped>\n",
              "    .dataframe tbody tr th:only-of-type {\n",
              "        vertical-align: middle;\n",
              "    }\n",
              "\n",
              "    .dataframe tbody tr th {\n",
              "        vertical-align: top;\n",
              "    }\n",
              "\n",
              "    .dataframe thead th {\n",
              "        text-align: right;\n",
              "    }\n",
              "</style>\n",
              "<table border=\"1\" class=\"dataframe\">\n",
              "  <thead>\n",
              "    <tr style=\"text-align: right;\">\n",
              "      <th></th>\n",
              "      <th>school</th>\n",
              "      <th>sex</th>\n",
              "      <th>age</th>\n",
              "      <th>address</th>\n",
              "      <th>famsize</th>\n",
              "      <th>Pstatus</th>\n",
              "      <th>Medu</th>\n",
              "      <th>Fedu</th>\n",
              "      <th>Mjob</th>\n",
              "      <th>Fjob</th>\n",
              "      <th>reason</th>\n",
              "      <th>guardian</th>\n",
              "      <th>traveltime</th>\n",
              "      <th>studytime</th>\n",
              "      <th>failures</th>\n",
              "      <th>schoolsup</th>\n",
              "      <th>famsup</th>\n",
              "      <th>paid</th>\n",
              "      <th>activities</th>\n",
              "      <th>nursery</th>\n",
              "      <th>higher</th>\n",
              "      <th>internet</th>\n",
              "      <th>romantic</th>\n",
              "      <th>famrel</th>\n",
              "      <th>freetime</th>\n",
              "      <th>goout</th>\n",
              "      <th>Dalc</th>\n",
              "      <th>Walc</th>\n",
              "      <th>health</th>\n",
              "      <th>absences</th>\n",
              "      <th>G3</th>\n",
              "    </tr>\n",
              "  </thead>\n",
              "  <tbody>\n",
              "    <tr>\n",
              "      <th>0</th>\n",
              "      <td>MS</td>\n",
              "      <td>M</td>\n",
              "      <td>NaN</td>\n",
              "      <td>U</td>\n",
              "      <td>LE3</td>\n",
              "      <td>T</td>\n",
              "      <td>1</td>\n",
              "      <td>3</td>\n",
              "      <td>at_home</td>\n",
              "      <td>services</td>\n",
              "      <td>course</td>\n",
              "      <td>mother</td>\n",
              "      <td>1</td>\n",
              "      <td>1</td>\n",
              "      <td>0</td>\n",
              "      <td>no</td>\n",
              "      <td>no</td>\n",
              "      <td>no</td>\n",
              "      <td>no</td>\n",
              "      <td>yes</td>\n",
              "      <td>no</td>\n",
              "      <td>yes</td>\n",
              "      <td>yes</td>\n",
              "      <td>4</td>\n",
              "      <td>3</td>\n",
              "      <td>3</td>\n",
              "      <td>2</td>\n",
              "      <td>3</td>\n",
              "      <td>3</td>\n",
              "      <td>0</td>\n",
              "      <td>9</td>\n",
              "    </tr>\n",
              "    <tr>\n",
              "      <th>1</th>\n",
              "      <td>GP</td>\n",
              "      <td>M</td>\n",
              "      <td>NaN</td>\n",
              "      <td>R</td>\n",
              "      <td>LE3</td>\n",
              "      <td>T</td>\n",
              "      <td>3</td>\n",
              "      <td>3</td>\n",
              "      <td>teacher</td>\n",
              "      <td>other</td>\n",
              "      <td>home</td>\n",
              "      <td>father</td>\n",
              "      <td>3</td>\n",
              "      <td>1</td>\n",
              "      <td>0</td>\n",
              "      <td>no</td>\n",
              "      <td>yes</td>\n",
              "      <td>no</td>\n",
              "      <td>yes</td>\n",
              "      <td>yes</td>\n",
              "      <td>yes</td>\n",
              "      <td>yes</td>\n",
              "      <td>no</td>\n",
              "      <td>3</td>\n",
              "      <td>3</td>\n",
              "      <td>4</td>\n",
              "      <td>3</td>\n",
              "      <td>5</td>\n",
              "      <td>3</td>\n",
              "      <td>16</td>\n",
              "      <td>12</td>\n",
              "    </tr>\n",
              "    <tr>\n",
              "      <th>2</th>\n",
              "      <td>GP</td>\n",
              "      <td>M</td>\n",
              "      <td>15.0</td>\n",
              "      <td>U</td>\n",
              "      <td>GT3</td>\n",
              "      <td>T</td>\n",
              "      <td>3</td>\n",
              "      <td>4</td>\n",
              "      <td>other</td>\n",
              "      <td>other</td>\n",
              "      <td>home</td>\n",
              "      <td>mother</td>\n",
              "      <td>1</td>\n",
              "      <td>2</td>\n",
              "      <td>0</td>\n",
              "      <td>no</td>\n",
              "      <td>yes</td>\n",
              "      <td>no</td>\n",
              "      <td>yes</td>\n",
              "      <td>yes</td>\n",
              "      <td>yes</td>\n",
              "      <td>yes</td>\n",
              "      <td>no</td>\n",
              "      <td>5</td>\n",
              "      <td>5</td>\n",
              "      <td>1</td>\n",
              "      <td>1</td>\n",
              "      <td>1</td>\n",
              "      <td>5</td>\n",
              "      <td>0</td>\n",
              "      <td>13</td>\n",
              "    </tr>\n",
              "    <tr>\n",
              "      <th>3</th>\n",
              "      <td>MS</td>\n",
              "      <td>M</td>\n",
              "      <td>17.0</td>\n",
              "      <td>R</td>\n",
              "      <td>GT3</td>\n",
              "      <td>T</td>\n",
              "      <td>4</td>\n",
              "      <td>3</td>\n",
              "      <td>services</td>\n",
              "      <td>other</td>\n",
              "      <td>home</td>\n",
              "      <td>mother</td>\n",
              "      <td>2</td>\n",
              "      <td>2</td>\n",
              "      <td>1</td>\n",
              "      <td>no</td>\n",
              "      <td>yes</td>\n",
              "      <td>yes</td>\n",
              "      <td>yes</td>\n",
              "      <td>no</td>\n",
              "      <td>yes</td>\n",
              "      <td>yes</td>\n",
              "      <td>yes</td>\n",
              "      <td>4</td>\n",
              "      <td>5</td>\n",
              "      <td>5</td>\n",
              "      <td>1</td>\n",
              "      <td>3</td>\n",
              "      <td>2</td>\n",
              "      <td>4</td>\n",
              "      <td>11</td>\n",
              "    </tr>\n",
              "    <tr>\n",
              "      <th>4</th>\n",
              "      <td>GP</td>\n",
              "      <td>F</td>\n",
              "      <td>20.0</td>\n",
              "      <td>R</td>\n",
              "      <td>GT3</td>\n",
              "      <td>T</td>\n",
              "      <td>2</td>\n",
              "      <td>1</td>\n",
              "      <td>other</td>\n",
              "      <td>other</td>\n",
              "      <td>course</td>\n",
              "      <td>other</td>\n",
              "      <td>2</td>\n",
              "      <td>2</td>\n",
              "      <td>0</td>\n",
              "      <td>no</td>\n",
              "      <td>yes</td>\n",
              "      <td>yes</td>\n",
              "      <td>yes</td>\n",
              "      <td>yes</td>\n",
              "      <td>no</td>\n",
              "      <td>yes</td>\n",
              "      <td>yes</td>\n",
              "      <td>1</td>\n",
              "      <td>2</td>\n",
              "      <td>3</td>\n",
              "      <td>1</td>\n",
              "      <td>2</td>\n",
              "      <td>2</td>\n",
              "      <td>8</td>\n",
              "      <td>12</td>\n",
              "    </tr>\n",
              "    <tr>\n",
              "      <th>5</th>\n",
              "      <td>GP</td>\n",
              "      <td>F</td>\n",
              "      <td>17.0</td>\n",
              "      <td>U</td>\n",
              "      <td>GT3</td>\n",
              "      <td>T</td>\n",
              "      <td>2</td>\n",
              "      <td>3</td>\n",
              "      <td>other</td>\n",
              "      <td>other</td>\n",
              "      <td>course</td>\n",
              "      <td>father</td>\n",
              "      <td>2</td>\n",
              "      <td>2</td>\n",
              "      <td>0</td>\n",
              "      <td>no</td>\n",
              "      <td>no</td>\n",
              "      <td>no</td>\n",
              "      <td>yes</td>\n",
              "      <td>yes</td>\n",
              "      <td>yes</td>\n",
              "      <td>yes</td>\n",
              "      <td>yes</td>\n",
              "      <td>4</td>\n",
              "      <td>2</td>\n",
              "      <td>1</td>\n",
              "      <td>1</td>\n",
              "      <td>1</td>\n",
              "      <td>3</td>\n",
              "      <td>2</td>\n",
              "      <td>14</td>\n",
              "    </tr>\n",
              "    <tr>\n",
              "      <th>6</th>\n",
              "      <td>MS</td>\n",
              "      <td>F</td>\n",
              "      <td>18.0</td>\n",
              "      <td>U</td>\n",
              "      <td>GT3</td>\n",
              "      <td>T</td>\n",
              "      <td>3</td>\n",
              "      <td>3</td>\n",
              "      <td>other</td>\n",
              "      <td>other</td>\n",
              "      <td>home</td>\n",
              "      <td>mother</td>\n",
              "      <td>1</td>\n",
              "      <td>2</td>\n",
              "      <td>0</td>\n",
              "      <td>no</td>\n",
              "      <td>no</td>\n",
              "      <td>no</td>\n",
              "      <td>no</td>\n",
              "      <td>yes</td>\n",
              "      <td>yes</td>\n",
              "      <td>yes</td>\n",
              "      <td>yes</td>\n",
              "      <td>4</td>\n",
              "      <td>1</td>\n",
              "      <td>3</td>\n",
              "      <td>1</td>\n",
              "      <td>2</td>\n",
              "      <td>1</td>\n",
              "      <td>1</td>\n",
              "      <td>16</td>\n",
              "    </tr>\n",
              "    <tr>\n",
              "      <th>7</th>\n",
              "      <td>MS</td>\n",
              "      <td>F</td>\n",
              "      <td>17.0</td>\n",
              "      <td>U</td>\n",
              "      <td>GT3</td>\n",
              "      <td>T</td>\n",
              "      <td>1</td>\n",
              "      <td>1</td>\n",
              "      <td>other</td>\n",
              "      <td>at_home</td>\n",
              "      <td>course</td>\n",
              "      <td>mother</td>\n",
              "      <td>1</td>\n",
              "      <td>1</td>\n",
              "      <td>0</td>\n",
              "      <td>no</td>\n",
              "      <td>yes</td>\n",
              "      <td>no</td>\n",
              "      <td>yes</td>\n",
              "      <td>yes</td>\n",
              "      <td>yes</td>\n",
              "      <td>no</td>\n",
              "      <td>no</td>\n",
              "      <td>4</td>\n",
              "      <td>3</td>\n",
              "      <td>2</td>\n",
              "      <td>1</td>\n",
              "      <td>2</td>\n",
              "      <td>5</td>\n",
              "      <td>9</td>\n",
              "      <td>10</td>\n",
              "    </tr>\n",
              "    <tr>\n",
              "      <th>8</th>\n",
              "      <td>GP</td>\n",
              "      <td>F</td>\n",
              "      <td>15.0</td>\n",
              "      <td>U</td>\n",
              "      <td>GT3</td>\n",
              "      <td>T</td>\n",
              "      <td>1</td>\n",
              "      <td>1</td>\n",
              "      <td>other</td>\n",
              "      <td>other</td>\n",
              "      <td>home</td>\n",
              "      <td>father</td>\n",
              "      <td>1</td>\n",
              "      <td>2</td>\n",
              "      <td>0</td>\n",
              "      <td>no</td>\n",
              "      <td>yes</td>\n",
              "      <td>no</td>\n",
              "      <td>yes</td>\n",
              "      <td>no</td>\n",
              "      <td>yes</td>\n",
              "      <td>yes</td>\n",
              "      <td>no</td>\n",
              "      <td>4</td>\n",
              "      <td>3</td>\n",
              "      <td>2</td>\n",
              "      <td>2</td>\n",
              "      <td>3</td>\n",
              "      <td>4</td>\n",
              "      <td>2</td>\n",
              "      <td>12</td>\n",
              "    </tr>\n",
              "    <tr>\n",
              "      <th>9</th>\n",
              "      <td>GP</td>\n",
              "      <td>M</td>\n",
              "      <td>18.0</td>\n",
              "      <td>U</td>\n",
              "      <td>GT3</td>\n",
              "      <td>T</td>\n",
              "      <td>2</td>\n",
              "      <td>1</td>\n",
              "      <td>other</td>\n",
              "      <td>other</td>\n",
              "      <td>home</td>\n",
              "      <td>mother</td>\n",
              "      <td>1</td>\n",
              "      <td>2</td>\n",
              "      <td>0</td>\n",
              "      <td>no</td>\n",
              "      <td>no</td>\n",
              "      <td>no</td>\n",
              "      <td>yes</td>\n",
              "      <td>yes</td>\n",
              "      <td>yes</td>\n",
              "      <td>yes</td>\n",
              "      <td>no</td>\n",
              "      <td>5</td>\n",
              "      <td>2</td>\n",
              "      <td>4</td>\n",
              "      <td>1</td>\n",
              "      <td>2</td>\n",
              "      <td>4</td>\n",
              "      <td>2</td>\n",
              "      <td>16</td>\n",
              "    </tr>\n",
              "  </tbody>\n",
              "</table>\n",
              "</div>"
            ],
            "text/plain": [
              "  school sex   age address famsize  ... Dalc  Walc  health absences  G3\n",
              "0     MS   M   NaN       U     LE3  ...    2     3       3        0   9\n",
              "1     GP   M   NaN       R     LE3  ...    3     5       3       16  12\n",
              "2     GP   M  15.0       U     GT3  ...    1     1       5        0  13\n",
              "3     MS   M  17.0       R     GT3  ...    1     3       2        4  11\n",
              "4     GP   F  20.0       R     GT3  ...    1     2       2        8  12\n",
              "5     GP   F  17.0       U     GT3  ...    1     1       3        2  14\n",
              "6     MS   F  18.0       U     GT3  ...    1     2       1        1  16\n",
              "7     MS   F  17.0       U     GT3  ...    1     2       5        9  10\n",
              "8     GP   F  15.0       U     GT3  ...    2     3       4        2  12\n",
              "9     GP   M  18.0       U     GT3  ...    1     2       4        2  16\n",
              "\n",
              "[10 rows x 31 columns]"
            ]
          },
          "metadata": {
            "tags": []
          },
          "execution_count": 186
        }
      ]
    },
    {
      "cell_type": "code",
      "metadata": {
        "_cell_guid": "59eb5f69-14c4-8fda-9831-2173747d8d45",
        "id": "Q_PaBFE2TtVr",
        "outputId": "27959cae-6d96-4e95-b220-7a1e86dcb2c5",
        "colab": {
          "base_uri": "https://localhost:8080/",
          "height": 224
        }
      },
      "source": [
        "X_test.head(5)"
      ],
      "execution_count": null,
      "outputs": [
        {
          "output_type": "execute_result",
          "data": {
            "text/html": [
              "<div>\n",
              "<style scoped>\n",
              "    .dataframe tbody tr th:only-of-type {\n",
              "        vertical-align: middle;\n",
              "    }\n",
              "\n",
              "    .dataframe tbody tr th {\n",
              "        vertical-align: top;\n",
              "    }\n",
              "\n",
              "    .dataframe thead th {\n",
              "        text-align: right;\n",
              "    }\n",
              "</style>\n",
              "<table border=\"1\" class=\"dataframe\">\n",
              "  <thead>\n",
              "    <tr style=\"text-align: right;\">\n",
              "      <th></th>\n",
              "      <th>school</th>\n",
              "      <th>sex</th>\n",
              "      <th>age</th>\n",
              "      <th>address</th>\n",
              "      <th>famsize</th>\n",
              "      <th>Pstatus</th>\n",
              "      <th>Medu</th>\n",
              "      <th>Fedu</th>\n",
              "      <th>Mjob</th>\n",
              "      <th>Fjob</th>\n",
              "      <th>reason</th>\n",
              "      <th>guardian</th>\n",
              "      <th>traveltime</th>\n",
              "      <th>studytime</th>\n",
              "      <th>failures</th>\n",
              "      <th>schoolsup</th>\n",
              "      <th>famsup</th>\n",
              "      <th>paid</th>\n",
              "      <th>activities</th>\n",
              "      <th>nursery</th>\n",
              "      <th>higher</th>\n",
              "      <th>internet</th>\n",
              "      <th>romantic</th>\n",
              "      <th>famrel</th>\n",
              "      <th>freetime</th>\n",
              "      <th>goout</th>\n",
              "      <th>Dalc</th>\n",
              "      <th>Walc</th>\n",
              "      <th>health</th>\n",
              "      <th>absences</th>\n",
              "    </tr>\n",
              "  </thead>\n",
              "  <tbody>\n",
              "    <tr>\n",
              "      <th>0</th>\n",
              "      <td>MS</td>\n",
              "      <td>M</td>\n",
              "      <td>18</td>\n",
              "      <td>U</td>\n",
              "      <td>GT3</td>\n",
              "      <td>T</td>\n",
              "      <td>4</td>\n",
              "      <td>4</td>\n",
              "      <td>teacher</td>\n",
              "      <td>teacher</td>\n",
              "      <td>home</td>\n",
              "      <td>father</td>\n",
              "      <td>1</td>\n",
              "      <td>2</td>\n",
              "      <td>0</td>\n",
              "      <td>no</td>\n",
              "      <td>no</td>\n",
              "      <td>no</td>\n",
              "      <td>yes</td>\n",
              "      <td>no</td>\n",
              "      <td>yes</td>\n",
              "      <td>yes</td>\n",
              "      <td>no</td>\n",
              "      <td>3</td>\n",
              "      <td>2</td>\n",
              "      <td>4</td>\n",
              "      <td>1</td>\n",
              "      <td>4</td>\n",
              "      <td>2</td>\n",
              "      <td>4</td>\n",
              "    </tr>\n",
              "    <tr>\n",
              "      <th>1</th>\n",
              "      <td>GP</td>\n",
              "      <td>F</td>\n",
              "      <td>16</td>\n",
              "      <td>U</td>\n",
              "      <td>GT3</td>\n",
              "      <td>A</td>\n",
              "      <td>3</td>\n",
              "      <td>1</td>\n",
              "      <td>services</td>\n",
              "      <td>other</td>\n",
              "      <td>course</td>\n",
              "      <td>mother</td>\n",
              "      <td>1</td>\n",
              "      <td>2</td>\n",
              "      <td>0</td>\n",
              "      <td>no</td>\n",
              "      <td>yes</td>\n",
              "      <td>no</td>\n",
              "      <td>no</td>\n",
              "      <td>yes</td>\n",
              "      <td>yes</td>\n",
              "      <td>yes</td>\n",
              "      <td>no</td>\n",
              "      <td>2</td>\n",
              "      <td>3</td>\n",
              "      <td>3</td>\n",
              "      <td>2</td>\n",
              "      <td>2</td>\n",
              "      <td>4</td>\n",
              "      <td>2</td>\n",
              "    </tr>\n",
              "    <tr>\n",
              "      <th>2</th>\n",
              "      <td>MS</td>\n",
              "      <td>F</td>\n",
              "      <td>18</td>\n",
              "      <td>U</td>\n",
              "      <td>GT3</td>\n",
              "      <td>T</td>\n",
              "      <td>4</td>\n",
              "      <td>4</td>\n",
              "      <td>teacher</td>\n",
              "      <td>teacher</td>\n",
              "      <td>reputation</td>\n",
              "      <td>mother</td>\n",
              "      <td>2</td>\n",
              "      <td>2</td>\n",
              "      <td>0</td>\n",
              "      <td>no</td>\n",
              "      <td>no</td>\n",
              "      <td>no</td>\n",
              "      <td>yes</td>\n",
              "      <td>no</td>\n",
              "      <td>yes</td>\n",
              "      <td>yes</td>\n",
              "      <td>no</td>\n",
              "      <td>4</td>\n",
              "      <td>3</td>\n",
              "      <td>5</td>\n",
              "      <td>1</td>\n",
              "      <td>2</td>\n",
              "      <td>1</td>\n",
              "      <td>0</td>\n",
              "    </tr>\n",
              "    <tr>\n",
              "      <th>3</th>\n",
              "      <td>MS</td>\n",
              "      <td>M</td>\n",
              "      <td>16</td>\n",
              "      <td>R</td>\n",
              "      <td>LE3</td>\n",
              "      <td>A</td>\n",
              "      <td>4</td>\n",
              "      <td>4</td>\n",
              "      <td>at_home</td>\n",
              "      <td>other</td>\n",
              "      <td>home</td>\n",
              "      <td>mother</td>\n",
              "      <td>1</td>\n",
              "      <td>2</td>\n",
              "      <td>0</td>\n",
              "      <td>no</td>\n",
              "      <td>yes</td>\n",
              "      <td>no</td>\n",
              "      <td>no</td>\n",
              "      <td>yes</td>\n",
              "      <td>yes</td>\n",
              "      <td>no</td>\n",
              "      <td>no</td>\n",
              "      <td>5</td>\n",
              "      <td>3</td>\n",
              "      <td>2</td>\n",
              "      <td>1</td>\n",
              "      <td>3</td>\n",
              "      <td>2</td>\n",
              "      <td>5</td>\n",
              "    </tr>\n",
              "    <tr>\n",
              "      <th>4</th>\n",
              "      <td>GP</td>\n",
              "      <td>F</td>\n",
              "      <td>15</td>\n",
              "      <td>R</td>\n",
              "      <td>GT3</td>\n",
              "      <td>T</td>\n",
              "      <td>1</td>\n",
              "      <td>1</td>\n",
              "      <td>other</td>\n",
              "      <td>other</td>\n",
              "      <td>reputation</td>\n",
              "      <td>mother</td>\n",
              "      <td>1</td>\n",
              "      <td>2</td>\n",
              "      <td>0</td>\n",
              "      <td>yes</td>\n",
              "      <td>yes</td>\n",
              "      <td>no</td>\n",
              "      <td>no</td>\n",
              "      <td>no</td>\n",
              "      <td>yes</td>\n",
              "      <td>yes</td>\n",
              "      <td>yes</td>\n",
              "      <td>3</td>\n",
              "      <td>3</td>\n",
              "      <td>4</td>\n",
              "      <td>2</td>\n",
              "      <td>4</td>\n",
              "      <td>5</td>\n",
              "      <td>2</td>\n",
              "    </tr>\n",
              "  </tbody>\n",
              "</table>\n",
              "</div>"
            ],
            "text/plain": [
              "  school sex  age address famsize  ... goout  Dalc  Walc health absences\n",
              "0     MS   M   18       U     GT3  ...     4     1     4      2        4\n",
              "1     GP   F   16       U     GT3  ...     3     2     2      4        2\n",
              "2     MS   F   18       U     GT3  ...     5     1     2      1        0\n",
              "3     MS   M   16       R     LE3  ...     2     1     3      2        5\n",
              "4     GP   F   15       R     GT3  ...     4     2     4      5        2\n",
              "\n",
              "[5 rows x 30 columns]"
            ]
          },
          "metadata": {
            "tags": []
          },
          "execution_count": 113
        }
      ]
    },
    {
      "cell_type": "code",
      "metadata": {
        "_cell_guid": "abe61152-23b7-52d0-8b33-8b186e517f5c",
        "id": "1qSFvr5XTtVt",
        "outputId": "a44c5176-7c18-471d-bec1-f4a2b1852865",
        "colab": {
          "base_uri": "https://localhost:8080/",
          "height": 663
        }
      },
      "source": [
        "train.info()"
      ],
      "execution_count": null,
      "outputs": [
        {
          "output_type": "stream",
          "text": [
            "<class 'pandas.core.frame.DataFrame'>\n",
            "RangeIndex: 454 entries, 0 to 453\n",
            "Data columns (total 31 columns):\n",
            " #   Column      Non-Null Count  Dtype \n",
            "---  ------      --------------  ----- \n",
            " 0   school      454 non-null    object\n",
            " 1   sex         454 non-null    object\n",
            " 2   age         454 non-null    int64 \n",
            " 3   address     454 non-null    object\n",
            " 4   famsize     454 non-null    object\n",
            " 5   Pstatus     454 non-null    object\n",
            " 6   Medu        454 non-null    int64 \n",
            " 7   Fedu        454 non-null    int64 \n",
            " 8   Mjob        454 non-null    object\n",
            " 9   Fjob        454 non-null    object\n",
            " 10  reason      454 non-null    object\n",
            " 11  guardian    454 non-null    object\n",
            " 12  traveltime  454 non-null    int64 \n",
            " 13  studytime   454 non-null    int64 \n",
            " 14  failures    454 non-null    int64 \n",
            " 15  schoolsup   454 non-null    object\n",
            " 16  famsup      454 non-null    object\n",
            " 17  paid        454 non-null    object\n",
            " 18  activities  454 non-null    object\n",
            " 19  nursery     454 non-null    object\n",
            " 20  higher      454 non-null    object\n",
            " 21  internet    454 non-null    object\n",
            " 22  romantic    454 non-null    object\n",
            " 23  famrel      454 non-null    int64 \n",
            " 24  freetime    454 non-null    int64 \n",
            " 25  goout       454 non-null    int64 \n",
            " 26  Dalc        454 non-null    int64 \n",
            " 27  Walc        454 non-null    int64 \n",
            " 28  health      454 non-null    int64 \n",
            " 29  absences    454 non-null    int64 \n",
            " 30  G3          454 non-null    int64 \n",
            "dtypes: int64(14), object(17)\n",
            "memory usage: 110.1+ KB\n"
          ],
          "name": "stdout"
        }
      ]
    },
    {
      "cell_type": "markdown",
      "metadata": {
        "_cell_guid": "53fc3115-7d2e-0eb5-6ead-5fbd5120473a",
        "id": "pKDbk4r4TtVv"
      },
      "source": [
        "# Визуальный анализ данных (Exploratory Data Analysis) [25 %]"
      ]
    },
    {
      "cell_type": "markdown",
      "metadata": {
        "_cell_guid": "daf6f291-b7aa-d184-39f8-6278cc04f0ee",
        "id": "fxkflheLTtVv"
      },
      "source": [
        "Данных не так много как хотелось бы. Можно попробовать упростить задачу алгоритму и самим выделить значимые признаки. Для этого нужно разобраться со структурой данных."
      ]
    },
    {
      "cell_type": "markdown",
      "metadata": {
        "_cell_guid": "fb96b9d3-8775-35ba-fe16-b4f7b9c22fb1",
        "id": "pYExy5sqTtVw"
      },
      "source": [
        "Отобразите каждый (ну или почти каждый) из параметров удобным для визуального восприятия способом:\n",
        "- Гистограммы\n",
        "- Круговые диаграмм\n",
        "- Графики\n",
        "- Таблицы\n",
        "- 3D диаграммы\n",
        "\n",
        "Основной критерий оценивания - читаемость данных"
      ]
    },
    {
      "cell_type": "markdown",
      "metadata": {
        "id": "FA0btFcmmpAG"
      },
      "source": [
        "## Sex"
      ]
    },
    {
      "cell_type": "code",
      "metadata": {
        "_cell_guid": "74f8d40e-415f-9e29-03ca-aa1e75714c11",
        "id": "QElGbkh1TtVw"
      },
      "source": [
        ""
      ],
      "execution_count": null,
      "outputs": []
    },
    {
      "cell_type": "markdown",
      "metadata": {
        "_cell_guid": "fe453992-94f6-ae3b-b1fd-63027e71729f",
        "id": "eOkuFjVRTtVy"
      },
      "source": [
        "## Age"
      ]
    },
    {
      "cell_type": "code",
      "metadata": {
        "_cell_guid": "1051bfb6-f29e-0c40-1666-c97827578ad3",
        "id": "i9a_yujdTtVy"
      },
      "source": [
        ""
      ],
      "execution_count": null,
      "outputs": []
    },
    {
      "cell_type": "markdown",
      "metadata": {
        "_cell_guid": "7febeef3-e6b0-a18a-5705-7ee3876c1965",
        "id": "vgfL_e8lTtV0"
      },
      "source": [
        "## Weekly study time"
      ]
    },
    {
      "cell_type": "code",
      "metadata": {
        "_cell_guid": "12f1d266-9efa-4bd9-a3c1-48ea880080be",
        "id": "e3UTlpoMTtV1"
      },
      "source": [
        ""
      ],
      "execution_count": null,
      "outputs": []
    },
    {
      "cell_type": "markdown",
      "metadata": {
        "_cell_guid": "a0732dfe-165e-3c44-319c-bb7bf890fe9b",
        "id": "QmcAzPipTtV3"
      },
      "source": [
        "## Romantic Relationship"
      ]
    },
    {
      "cell_type": "code",
      "metadata": {
        "_cell_guid": "048c1de0-e55c-6e2f-09db-1263e9fbac76",
        "id": "yICND3ynTtV3"
      },
      "source": [
        ""
      ],
      "execution_count": null,
      "outputs": []
    },
    {
      "cell_type": "markdown",
      "metadata": {
        "_cell_guid": "21ae96ef-7925-4a81-1f1d-54d4ed018ec3",
        "id": "cJTillXMTtV5"
      },
      "source": [
        "## Alcohol Consumption"
      ]
    },
    {
      "cell_type": "code",
      "metadata": {
        "id": "JqQAOOUom82l"
      },
      "source": [
        ""
      ],
      "execution_count": null,
      "outputs": []
    },
    {
      "cell_type": "markdown",
      "metadata": {
        "id": "a_LwoS61m-rc"
      },
      "source": [
        "## Прочее"
      ]
    },
    {
      "cell_type": "code",
      "metadata": {
        "id": "e4KynL-GnIrc"
      },
      "source": [
        ""
      ],
      "execution_count": null,
      "outputs": []
    },
    {
      "cell_type": "markdown",
      "metadata": {
        "_cell_guid": "21ae96ef-7925-4a81-1f1d-54d4ed018ec3",
        "id": "JL7MDeVBnDBw"
      },
      "source": [
        "## Final Grade"
      ]
    },
    {
      "cell_type": "code",
      "metadata": {
        "id": "zYBWdQKjnDB1"
      },
      "source": [
        ""
      ],
      "execution_count": null,
      "outputs": []
    },
    {
      "cell_type": "markdown",
      "metadata": {
        "_cell_guid": "21ae96ef-7925-4a81-1f1d-54d4ed018ec3",
        "id": "dDiTs21MnRYu"
      },
      "source": [
        "## Постройте матрицу корреляции между признаками"
      ]
    },
    {
      "cell_type": "code",
      "metadata": {
        "id": "KagTTs4mnRYv"
      },
      "source": [
        ""
      ],
      "execution_count": null,
      "outputs": []
    },
    {
      "cell_type": "markdown",
      "metadata": {
        "_cell_guid": "21ae96ef-7925-4a81-1f1d-54d4ed018ec3",
        "id": "HU8fL_6GtGWV"
      },
      "source": [
        "## Посчитайте число уникальных значений для каждого признака"
      ]
    },
    {
      "cell_type": "code",
      "metadata": {
        "id": "MnBcttm5tGWW"
      },
      "source": [
        ""
      ],
      "execution_count": null,
      "outputs": []
    },
    {
      "cell_type": "markdown",
      "metadata": {
        "_cell_guid": "21ae96ef-7925-4a81-1f1d-54d4ed018ec3",
        "id": "Iuzd7U9KqE9g"
      },
      "source": [
        "## Оцените важность фичей c помощью алгоритма мл [+10% к ДЗ]"
      ]
    },
    {
      "cell_type": "markdown",
      "metadata": {
        "id": "6IknZI9qqT5q"
      },
      "source": [
        "Можно использовать деревья из sklearn. Вам поможет метод: $ tree.feature_importances_ $"
      ]
    },
    {
      "cell_type": "code",
      "metadata": {
        "id": "FVxHUq2zqE9g"
      },
      "source": [
        ""
      ],
      "execution_count": null,
      "outputs": []
    },
    {
      "cell_type": "markdown",
      "metadata": {
        "_cell_guid": "0e9fb698-c819-074d-26ee-7a6afe00ad62",
        "id": "ZnrLrANOTtWC"
      },
      "source": [
        "# Предобработка данных [25%]"
      ]
    },
    {
      "cell_type": "markdown",
      "metadata": {
        "id": "sk0b1Qnln0ic"
      },
      "source": [
        "Теперь перейдем непосредственно к подготовке данных для работы. Не все из описанного ниже нужно делать. Подумайте."
      ]
    },
    {
      "cell_type": "markdown",
      "metadata": {
        "_cell_guid": "21ae96ef-7925-4a81-1f1d-54d4ed018ec3",
        "id": "lY0qoZnQ90NO"
      },
      "source": [
        "## Найдите и исправьте ошибки в данных"
      ]
    },
    {
      "cell_type": "code",
      "metadata": {
        "id": "Xt4J1g5l90NP"
      },
      "source": [
        ""
      ],
      "execution_count": null,
      "outputs": []
    },
    {
      "cell_type": "markdown",
      "metadata": {
        "_cell_guid": "21ae96ef-7925-4a81-1f1d-54d4ed018ec3",
        "id": "JCVXK7Wsnuf0"
      },
      "source": [
        "## Попробуйте удалить скоррелированные данные"
      ]
    },
    {
      "cell_type": "code",
      "metadata": {
        "id": "KJAfBn9znuf1"
      },
      "source": [
        ""
      ],
      "execution_count": null,
      "outputs": []
    },
    {
      "cell_type": "markdown",
      "metadata": {
        "id": "qF81qsInnuf4"
      },
      "source": [
        "## Заполните пропуски в данных"
      ]
    },
    {
      "cell_type": "markdown",
      "metadata": {
        "id": "S6tXPUeLoHQr"
      },
      "source": [
        "Напоминание!\n",
        "Это можно сделать следующими способами:\n",
        "- Заполнить нулями\n",
        "- Выбросить данные с нулями (не рекомендуется)\n",
        "- Заполнить средним для данного параметра\n",
        "- Заполнить наиболее соответствующим данному прецеденту [+10% за дз]"
      ]
    },
    {
      "cell_type": "code",
      "metadata": {
        "id": "yaCEkU9anuf4"
      },
      "source": [
        ""
      ],
      "execution_count": null,
      "outputs": []
    },
    {
      "cell_type": "markdown",
      "metadata": {
        "_cell_guid": "21ae96ef-7925-4a81-1f1d-54d4ed018ec3",
        "id": "_p3_0Is6nuf6"
      },
      "source": [
        "## Сделайте признаки категориальными (ну без этого просто не заработает)"
      ]
    },
    {
      "cell_type": "code",
      "metadata": {
        "id": "TTzs_qcqnuf6"
      },
      "source": [
        ""
      ],
      "execution_count": null,
      "outputs": []
    },
    {
      "cell_type": "markdown",
      "metadata": {
        "_cell_guid": "21ae96ef-7925-4a81-1f1d-54d4ed018ec3",
        "id": "TQGQtLdynuf8"
      },
      "source": [
        "## Придумайте сложные признаки"
      ]
    },
    {
      "cell_type": "markdown",
      "metadata": {
        "id": "zfNb79T-o7db"
      },
      "source": [
        "Сложные признаки = комбинации существующих.\n",
        "Это нужно для того, чтобы самостоятельно добавить нелинейность в алгоритм.\n",
        "Не менее 2х (это для практики, в обучении можете их не использовать, но это будет означать, что вы плохо их сконструировали)."
      ]
    },
    {
      "cell_type": "markdown",
      "metadata": {
        "_cell_guid": "21ae96ef-7925-4a81-1f1d-54d4ed018ec3",
        "id": "0SggPaJtpN21"
      },
      "source": [
        "## Сделайте баллансировку классов"
      ]
    },
    {
      "cell_type": "markdown",
      "metadata": {
        "id": "uRPZQORrpN23"
      },
      "source": [
        "Вот это из категории необязательных.\n",
        "В данном случае можно сделать ее так:\n",
        "- Выкинуть те, которых много.\n",
        "- Дублировать примеры для случаев, которых мало (наиболее адекватный).\n",
        "- Увеличить lr (вес) тех случаев, которых мало."
      ]
    },
    {
      "cell_type": "code",
      "metadata": {
        "id": "GWGQxi0Dnuf8"
      },
      "source": [
        ""
      ],
      "execution_count": null,
      "outputs": []
    },
    {
      "cell_type": "markdown",
      "metadata": {
        "_cell_guid": "9d8e5350-8caa-ab7d-834c-bbaf3e30c2b1",
        "id": "B1ejqsVNTtWC"
      },
      "source": [
        "# Выбор стратегии валидации [10%]"
      ]
    },
    {
      "cell_type": "markdown",
      "metadata": {
        "id": "Kau5T_kBrOEJ"
      },
      "source": [
        "Итак, у вас есть данные для обучения и данные, на которых необходимо сделать предсказание. Для оценки точности необходимо проводить валидацию (так как мало данных, можно проводить кросс валидацию).\n",
        "Валидацию проще всего реализовать методами sklearn, например:\n",
        "- KFold\n",
        "- ShuffleSplit\n",
        "- StratifiedKFold\n",
        "- StratifiedShuffleSplit\n",
        "- GroupKFold\n",
        "- GroupShuffleSplit"
      ]
    },
    {
      "cell_type": "markdown",
      "metadata": {
        "id": "VzubJKIYtP8u"
      },
      "source": [
        "## Разделите данные и объясните выбор стратегии"
      ]
    },
    {
      "cell_type": "code",
      "metadata": {
        "_cell_guid": "35d7b6ae-6a83-d93d-0fa3-8502b8f9bee0",
        "id": "mHzvEErXTtWD"
      },
      "source": [
        ""
      ],
      "execution_count": null,
      "outputs": []
    },
    {
      "cell_type": "markdown",
      "metadata": {
        "id": "Fq3f92ANsvZ3"
      },
      "source": [
        "## Состязательная валидация (Adversarial Validation) [+30% к ДЗ]"
      ]
    },
    {
      "cell_type": "markdown",
      "metadata": {
        "id": "IPvFGp92s4Fv"
      },
      "source": [
        "Данная стратегия часто применяется в соревнованиях по машинному обучению. Так как проверить свой алгоритм можем на одних данных, а результат нужен на других, то мы можем оценить степень похожести наших данных на тестовые и выбрать наиболее похожие.\n",
        "Алгоритм реализации AV:\n",
        "1. Удаляем ответы из тренировочных данных.\n",
        "2. Добавляем специальные метки (is_test) для классов: тренировочные данные и тестовые.\n",
        "То есть у тестовых данных будет значение is_test = 1, а у тренировочных is_test = 0.\n",
        "4. Учим алгоритм классификации предсказывать данную метку.\n",
        "5. Делим тренировочные данные на N фолдов и проводим кросс валидацию.\n",
        "Обучаем N алгоритмов классификации: Каждый учим на всех тестовых данных и на N-1 наборов тренировочных. Предсказываем на 1 тренировочном фолде.\n",
        "Для каждого примера в каждом фолде тренировочных данных предсказываем вероятность принадлежности тестовой выборке.\n",
        "6. Сортируем тренировочные данные по вероятности принадлежности тестовой выборке.\n",
        "7. Делим данные по вероятности и валидируемся на данных, наиболее похожих на тестовые.\n",
        "8. Обучаемся для итогового предсказания на всех данных."
      ]
    },
    {
      "cell_type": "code",
      "metadata": {
        "_cell_guid": "03e74d0f-a241-a724-8b95-215bf4369d90",
        "id": "eE55xV0wTtWF"
      },
      "source": [
        ""
      ],
      "execution_count": null,
      "outputs": []
    },
    {
      "cell_type": "markdown",
      "metadata": {
        "_cell_guid": "3013b854-7aaa-4ad6-7952-1d188121ea25",
        "id": "FOASQBPeTtWR"
      },
      "source": [
        "# Обучение алгоритма"
      ]
    },
    {
      "cell_type": "markdown",
      "metadata": {
        "id": "0mY4P-3KwCxe"
      },
      "source": [
        "Целевая переменная принимает дискретные значения [0; 20], поэтому вы можете поставить как задачу классификации, так и задачу регрессии. Выберите. Обоснуйте. \n",
        "\n",
        "!Не забудьте про оптимизацию параметров алгоритмов, у вас же уже есть данные для валидации."
      ]
    },
    {
      "cell_type": "markdown",
      "metadata": {
        "id": "hafTgm1ew4tL"
      },
      "source": [
        "Тут обоснование"
      ]
    },
    {
      "cell_type": "markdown",
      "metadata": {
        "id": "hSzT-UXuwc0K"
      },
      "source": [
        "## KNN [10%]"
      ]
    },
    {
      "cell_type": "code",
      "metadata": {
        "_cell_guid": "74f8d40e-415f-9e29-03ca-aa1e75714c11",
        "id": "ZYbJ_BsSwc0L"
      },
      "source": [
        ""
      ],
      "execution_count": null,
      "outputs": []
    },
    {
      "cell_type": "markdown",
      "metadata": {
        "_cell_guid": "7febeef3-e6b0-a18a-5705-7ee3876c1965",
        "id": "Udr6RqDEwc0P"
      },
      "source": [
        "## Регрессия [10%]"
      ]
    },
    {
      "cell_type": "code",
      "metadata": {
        "_cell_guid": "12f1d266-9efa-4bd9-a3c1-48ea880080be",
        "id": "crF6j8Qwwc0Q"
      },
      "source": [
        ""
      ],
      "execution_count": null,
      "outputs": []
    },
    {
      "cell_type": "markdown",
      "metadata": {
        "_cell_guid": "21ae96ef-7925-4a81-1f1d-54d4ed018ec3",
        "id": "toMehliKwc0V"
      },
      "source": [
        "## Деревья [20%]"
      ]
    },
    {
      "cell_type": "code",
      "metadata": {
        "id": "ib3249jQwc0V"
      },
      "source": [
        ""
      ],
      "execution_count": null,
      "outputs": []
    },
    {
      "cell_type": "markdown",
      "metadata": {
        "_cell_guid": "3013b854-7aaa-4ad6-7952-1d188121ea25",
        "id": "Jesi9XuFxDC4"
      },
      "source": [
        "# Сделайте итоговое предсказание"
      ]
    },
    {
      "cell_type": "markdown",
      "metadata": {
        "id": "o1RKHAMMxDC5"
      },
      "source": [
        "Решением домашнего задания является данный ноутбук + .csv файл с предсказанием.\n",
        "\n",
        "За лучшее предсказание 5 человек получат +10% к домашке. \n",
        "Ваши предсказания должны быть !!!!!!ЦЕЛЫМИ!!!!!\n",
        "Но мерить будем по MSE."
      ]
    },
    {
      "cell_type": "code",
      "metadata": {
        "_cell_guid": "74f8d40e-415f-9e29-03ca-aa1e75714c11",
        "id": "4jjz8kfUxDC7"
      },
      "source": [
        "# Для jupyter notebook\n",
        "\n",
        "submission = pd.read_csv('submission.csv', index_col='id')\n",
        "submission['G3'] = 1 # ваше предсказание\n",
        "submission.to_csv('submission.csv', index=False) "
      ],
      "execution_count": null,
      "outputs": []
    },
    {
      "cell_type": "code",
      "metadata": {
        "id": "x-6G4MNLyfl9",
        "outputId": "15ad1b0f-2e4a-4783-f41c-1993ca53157e",
        "colab": {
          "base_uri": "https://localhost:8080/",
          "height": 17
        }
      },
      "source": [
        "# Для colab notebook\n",
        "\n",
        "from google.colab import files\n",
        "\n",
        "pd.read_csv('./gdrive/My Drive/Colab Notebooks/HW 1/data/submission.csv', index_col='id')\n",
        "submission['G3'] = 1 # ваше предсказание\n",
        "submission.to_csv('submission.csv', index=False)\n",
        "files.download('submission.csv')"
      ],
      "execution_count": null,
      "outputs": [
        {
          "output_type": "display_data",
          "data": {
            "application/javascript": [
              "\n",
              "    async function download(id, filename, size) {\n",
              "      if (!google.colab.kernel.accessAllowed) {\n",
              "        return;\n",
              "      }\n",
              "      const div = document.createElement('div');\n",
              "      const label = document.createElement('label');\n",
              "      label.textContent = `Downloading \"${filename}\": `;\n",
              "      div.appendChild(label);\n",
              "      const progress = document.createElement('progress');\n",
              "      progress.max = size;\n",
              "      div.appendChild(progress);\n",
              "      document.body.appendChild(div);\n",
              "\n",
              "      const buffers = [];\n",
              "      let downloaded = 0;\n",
              "\n",
              "      const channel = await google.colab.kernel.comms.open(id);\n",
              "      // Send a message to notify the kernel that we're ready.\n",
              "      channel.send({})\n",
              "\n",
              "      for await (const message of channel.messages) {\n",
              "        // Send a message to notify the kernel that we're ready.\n",
              "        channel.send({})\n",
              "        if (message.buffers) {\n",
              "          for (const buffer of message.buffers) {\n",
              "            buffers.push(buffer);\n",
              "            downloaded += buffer.byteLength;\n",
              "            progress.value = downloaded;\n",
              "          }\n",
              "        }\n",
              "      }\n",
              "      const blob = new Blob(buffers, {type: 'application/binary'});\n",
              "      const a = document.createElement('a');\n",
              "      a.href = window.URL.createObjectURL(blob);\n",
              "      a.download = filename;\n",
              "      div.appendChild(a);\n",
              "      a.click();\n",
              "      div.remove();\n",
              "    }\n",
              "  "
            ],
            "text/plain": [
              "<IPython.core.display.Javascript object>"
            ]
          },
          "metadata": {
            "tags": []
          }
        },
        {
          "output_type": "display_data",
          "data": {
            "application/javascript": [
              "download(\"download_0573a230-a8eb-4229-9573-b95801a49dd3\", \"submission.csv\", 393)"
            ],
            "text/plain": [
              "<IPython.core.display.Javascript object>"
            ]
          },
          "metadata": {
            "tags": []
          }
        }
      ]
    }
  ]
}