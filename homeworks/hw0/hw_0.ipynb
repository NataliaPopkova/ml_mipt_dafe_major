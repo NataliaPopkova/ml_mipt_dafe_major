{
  "nbformat": 4,
  "nbformat_minor": 0,
  "metadata": {
    "kernelspec": {
      "display_name": "Python 3",
      "language": "python",
      "name": "python3"
    },
    "language_info": {
      "codemirror_mode": {
        "name": "ipython",
        "version": 3
      },
      "file_extension": ".py",
      "mimetype": "text/x-python",
      "name": "python",
      "nbconvert_exporter": "python",
      "pygments_lexer": "ipython3",
      "version": "3.6.6"
    },
    "colab": {
      "name": "hw_0.ipynb",
      "provenance": [],
      "toc_visible": true
    }
  },
  "cells": [
    {
      "cell_type": "markdown",
      "metadata": {
        "id": "pA3kv-qv8VZD"
      },
      "source": [
        "# Домашнее задание № 0\n"
      ]
    },
    {
      "cell_type": "code",
      "metadata": {
        "id": "tsZ0BYr48VZE"
      },
      "source": [
        "import numpy as np\n",
        "import pandas as pd\n",
        "from matplotlib import pyplot as plt\n",
        "%matplotlib inline"
      ],
      "execution_count": null,
      "outputs": []
    },
    {
      "cell_type": "markdown",
      "metadata": {
        "id": "xqTRySxB8VZJ"
      },
      "source": [
        "### Самостоятельное написание дерева решений\n",
        "Источник: [mlcourse.ai](https://mlcourse.ai) от [Юрия Кашницкого](https://yorko.github.io) и [OpenDataScience](https://ods.ai)"
      ]
    },
    {
      "cell_type": "markdown",
      "metadata": {
        "id": "2LCRsrdD8VZK"
      },
      "source": [
        "Рассмотрим следующую одномерную задачу восстановления регрессии. Неформально, нужно построить функцию $a(x)$, приближающую искомую зависимость $y = f(x)$ в терминах среднеквадратичной ошибки: $min \\sum_i {(a(x_i) - f(x_i))}^2$. "
      ]
    },
    {
      "cell_type": "code",
      "metadata": {
        "id": "cgMF2uxk8VZK"
      },
      "source": [
        "X = np.linspace(-2, 2, 7)\n",
        "y = X ** 3\n",
        "\n",
        "plt.scatter(X, y)\n",
        "plt.xlabel(r'$x$')\n",
        "plt.plot(np.linspace(-2,2,50), np.linspace(np.mean(y),np.mean(y),50))\n",
        "plt.ylabel(r'$y$');"
      ],
      "execution_count": null,
      "outputs": []
    },
    {
      "cell_type": "markdown",
      "metadata": {
        "id": "LjlGqtIH8VZN"
      },
      "source": [
        "Проделаем несколько шагов в построении дерева решений. Исходя из соображений симметрии, выберем пороги для разбиения равными соответственно 0, 1.5 и -1.5. Напомним, что в случае задачи восстановления регрессии листовая вершина выдает среднее значение ответа по всем объектам обучающей выборки, попавшим в эту вершину.\n",
        "\n",
        "Итак, начнём. Дерево глубины 0 состоит из одного корня, который содержит всю обучающую выборку. Как будут выглядеть предсказания данного дерева для $x \\in [-2, 2]$? Постройте соответствующий график."
      ]
    },
    {
      "cell_type": "code",
      "metadata": {
        "id": "CfUzm6_78VZO"
      },
      "source": [
        "# Ваш Код здесь"
      ],
      "execution_count": null,
      "outputs": []
    },
    {
      "cell_type": "markdown",
      "metadata": {
        "id": "KaLoP_XD8VZR"
      },
      "source": [
        "Произведем первое разбиение выборки по предикату $[x < 0]$. Получим дерево глубины 1 с двумя листьями. Постройте аналогичный график предсказаний для этого дерева."
      ]
    },
    {
      "cell_type": "code",
      "metadata": {
        "id": "AwkRInO08VZR"
      },
      "source": [
        "# Ваш Код здесь"
      ],
      "execution_count": null,
      "outputs": []
    },
    {
      "cell_type": "markdown",
      "metadata": {
        "id": "XrBAT0YQ8VZU"
      },
      "source": [
        "В алгоритме построения дерева решений признак и значение порога, по которым происходит разбиение выборки, выбираются исходя из некоторого критерия. Для регрессии обычно используется дисперсионный критерий: $$Q(X, j, t) = D(X) - \\dfrac{|X_l|}{|X|} D(X_l) - \\dfrac{|X_r|}{|X|} D(X_r),$$ где $X$ – выборка, находящаяся в текущей вершине, $X_l$ и $X_r$ – разбиение выборки $X$ на две части по предикату $[xj < t]$ (то есть по $j$-ому признаку и порогу $t$), а $D(X)$ – дисперсия ответов на выборке $X$: $$D(X) = \\dfrac{1}{|X|} \\sum\\limits_{{x_j \\in X}}[y_j – \\dfrac{1}{|X|}\\sum\\limits_{{x_j \\in X}}y_i]^2,$$ где $y_i = y(x_i)$ – ответ на объекте $x_i$. При каждом разбиении вершины выбираются признак $j$ и значение порога $t$, максимизирующие значение функционала $Q(X, j, t)$.\n",
        "\n",
        "В нашем случае признак всего один, поэтому $Q$ зависит только от значения порога $t$ (и ответов выборки в данной вершине).\n",
        "\n",
        "Постройте график функции $Q(X, t)$ в корне в зависимости от значения порога $t$ на отрезке $[-1.9, 1.9]$."
      ]
    },
    {
      "cell_type": "code",
      "metadata": {
        "id": "qgFjPVz_8VZU"
      },
      "source": [
        "# Ваш Код здесь"
      ],
      "execution_count": null,
      "outputs": []
    },
    {
      "cell_type": "markdown",
      "metadata": {
        "id": "Z0DnupQvu2R1"
      },
      "source": [
        "А теперь на основе значений полученной функции постройте дерево глубины 1."
      ]
    },
    {
      "cell_type": "code",
      "metadata": {
        "id": "JXAmMKQ8u-ri"
      },
      "source": [
        "# Ваш Код здесь"
      ],
      "execution_count": null,
      "outputs": []
    }
  ]
}